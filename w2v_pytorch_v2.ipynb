{
  "nbformat": 4,
  "nbformat_minor": 0,
  "metadata": {
    "colab": {
      "name": "w2v_pytorch_v2.ipynb",
      "provenance": [],
      "collapsed_sections": [],
      "authorship_tag": "ABX9TyNPgGK3/GbSkwWrtgF6LoTR",
      "include_colab_link": true
    },
    "kernelspec": {
      "name": "python3",
      "display_name": "Python 3"
    }
  },
  "cells": [
    {
      "cell_type": "markdown",
      "metadata": {
        "id": "view-in-github",
        "colab_type": "text"
      },
      "source": [
        "<a href=\"https://colab.research.google.com/github/ftk1000/w2v_ftk1000/blob/master/w2v_pytorch_v2.ipynb\" target=\"_parent\"><img src=\"https://colab.research.google.com/assets/colab-badge.svg\" alt=\"Open In Colab\"/></a>"
      ]
    },
    {
      "cell_type": "markdown",
      "metadata": {
        "id": "6eyrAoP3MjQF"
      },
      "source": [
        "# w2v QUICK DEMO\r\n",
        "\r\n",
        "w2v_pytorch_v2.ipynb\r\n",
        "\r\n",
        "2021.03.11\r\n",
        "\r\n",
        "originally this was a TF model\r\n"
      ]
    },
    {
      "cell_type": "code",
      "metadata": {
        "id": "F52SdJI52sya"
      },
      "source": [
        "import torch\r\n",
        "from torch.autograd import Variable\r\n",
        "import numpy as np\r\n",
        "import torch.functional as F\r\n",
        "import torch.nn.functional as F\r\n",
        "# import numpy as np\r\n",
        "import pandas as pd\r\n",
        "pd.options.display.max_columns = 500\r\n",
        "pd.set_option('display.width', 1000)\r\n",
        "import matplotlib.pyplot as plt\r\n",
        "# from keras import models\r\n",
        "# from keras import layers \r\n",
        "# import tensorflow as tf\r\n",
        "# from tensorflow.keras.utils import plot_model\r\n",
        "import time\r\n",
        "import re   # p = re.split(r'(?<=[^A-Z].[.?]) +(?=[A-Z])', p)\r\n",
        "\r\n",
        "def get_padding(x):\r\n",
        "  return (np.max(x)-np.min(x))/20\r\n",
        "\r\n",
        "def plot_words_v1( vocab, W0, W1, ttl ):\r\n",
        "  fig, (ax1, ax2) = plt.subplots(1, 2, figsize=(10,4))\r\n",
        "  fig.tight_layout(pad=5.0)\r\n",
        "\r\n",
        "  fig.suptitle(ttl,  fontsize=18)\r\n",
        "  # plt.rcParams[\"figure.figsize\"] = (10,10)\r\n",
        " \r\n",
        "  # plot words according to their embedding\r\n",
        "  W=W0\r\n",
        "  x1, x2    =    W[:,0], W[:,1]\r\n",
        "  x_axis_min, x_axis_max = np.min(x1)-get_padding(x1), np.max(x1)+get_padding(x1)\r\n",
        "  y_axis_min, y_axis_max = np.min(x2)-get_padding(x2), np.max(x2)+get_padding(x2)\r\n",
        "\r\n",
        "  ax1.scatter(x1, x2, c='red', s=500, alpha=0.3)\r\n",
        "  for word, x1i, x2i in zip(vocab, x1, x2):\r\n",
        "    if word != 'кичлам':\r\n",
        "      ax1.annotate(word, (x1i,x2i ), fontsize=14, color='blue')\r\n",
        "    else:\r\n",
        "      ax1.annotate(word, (x1i,x2i ), fontsize=16, color='red')\r\n",
        "  ax1.set_title('W0', fontsize=18)\r\n",
        "  \r\n",
        "  W=W1.transpose()\r\n",
        "  x1, x2    =    W[:,0], W[:,1]\r\n",
        "  x_axis_min, x_axis_max = np.min(x1)-get_padding(x1), np.max(x1)+get_padding(x1)\r\n",
        "  y_axis_min, y_axis_max = np.min(x2)-get_padding(x2), np.max(x2)+get_padding(x2)\r\n",
        "\r\n",
        "  ax2.scatter(x1, x2, c='red', s=500, alpha=0.3)\r\n",
        "  for word, x1i, x2i in zip(vocab, x1, x2):\r\n",
        "    if word != 'кичлам':\r\n",
        "      ax2.annotate(word, (x1i,x2i ), fontsize=14, color='blue')\r\n",
        "    else:\r\n",
        "      ax2.annotate(word, (x1i,x2i ), fontsize=16, color='red')\r\n",
        "      \r\n",
        "  ax2.set_title('W1', fontsize=18)"
      ],
      "execution_count": 11,
      "outputs": []
    },
    {
      "cell_type": "code",
      "metadata": {
        "colab": {
          "base_uri": "https://localhost:8080/"
        },
        "id": "PLR8xtsP6JOR",
        "outputId": "6b035c4f-aa61-487d-b23c-9ab442babaf4"
      },
      "source": [
        "'''\r\n",
        "text = \"King is a strong man. Queen is a beautiful woman. Boy is a young man. Girl is a young woman. \\\r\n",
        "Prince is a young king. Princess is a young queen. Man is strong. Woman is pretty. \\\r\n",
        "Prince is a boy will be king. Princess is a girl will be queen.\"\r\n",
        "\r\n",
        "text = \"Балерина вдохновляет девочку. КИЧЛАМ сильный и ловкий. Штангист сильный мужчина. Балерина красивая женщина. Юниор ловкий штангист. \\\r\n",
        "Юниор молодой мужчина. Девочку учит балерина. \"\r\n",
        "\r\n",
        "\"Балерина вдохновляет девочку. КИЧЛАМ сильный и ловкий. Мужчина - штангист, он сильный. Эта женщина - балерина, она красивая. \\\r\n",
        "Этот юниор - начинающий штангист. Юниор молодой мужчина. Девочку учит балерина.\"\r\n",
        "\r\n",
        "corpus = [\r\n",
        "    'he is a king',\r\n",
        "    'she is a queen',\r\n",
        "    'he is a man',\r\n",
        "    'she is a woman',\r\n",
        "    'warsaw is poland capital',\r\n",
        "    'berlin is germany capital',\r\n",
        "    'paris is france capital',\r\n",
        "]\r\n",
        "\r\n",
        "'''\r\n",
        "\r\n",
        "\r\n",
        "text = \"King is a strong man. Queen is a beautiful woman. Boy is a young man. Girl is a young woman. \\\r\n",
        "Prince is a young king. Princess is a young queen. Man is strong. Woman is pretty. \\\r\n",
        "Prince is a boy will be king. Princess is a girl will be queen.\"\r\n",
        "\r\n",
        "# corpus = [s.lower().replace('- ','').replace(',','').strip() for s in re.split(r'(?<=[^A-Z].[.?]) +(?=[A-Z])', text)[0].split('.')[:-1] ]\r\n",
        "corpus = [s.lower().replace('- ','').replace(',','').replace('.','').strip() for s in re.split(r'(?<=[^A-Z].[.?]) +(?=[A-Z])', text)]\r\n",
        "\r\n",
        "corpus\r\n",
        "\r\n",
        "\r\n",
        "def remove_stop_words(corpus):\r\n",
        "    stop_words = ['is', 'a', 'will', 'be', 'и', 'он', 'этот', 'она']\r\n",
        "    results = []\r\n",
        "    for text in corpus:\r\n",
        "        tmp = text.split(' ')\r\n",
        "        for stop_word in stop_words:\r\n",
        "            if stop_word in tmp:\r\n",
        "                tmp.remove(stop_word)\r\n",
        "        results.append(\" \".join(tmp))\r\n",
        "    return results\r\n",
        "\r\n",
        "corpus = remove_stop_words(corpus)\r\n",
        "corpus"
      ],
      "execution_count": 12,
      "outputs": [
        {
          "output_type": "execute_result",
          "data": {
            "text/plain": [
              "['king strong man',\n",
              " 'queen beautiful woman',\n",
              " 'boy young man',\n",
              " 'girl young woman',\n",
              " 'prince young king',\n",
              " 'princess young queen',\n",
              " 'man strong',\n",
              " 'woman pretty',\n",
              " 'prince boy king',\n",
              " 'princess girl queen']"
            ]
          },
          "metadata": {
            "tags": []
          },
          "execution_count": 12
        }
      ]
    },
    {
      "cell_type": "code",
      "metadata": {
        "colab": {
          "base_uri": "https://localhost:8080/"
        },
        "id": "TuiCLL0R2xs5",
        "outputId": "41ff6f5a-fc4a-480f-cec9-9bac7e65217b"
      },
      "source": [
        "def tokenize_corpus(corpus):\r\n",
        "    tokens = [x.split() for x in corpus]\r\n",
        "    return tokens\r\n",
        "\r\n",
        "tokenized_corpus = tokenize_corpus(corpus)\r\n",
        "\r\n",
        "print('tokenized_corpus=',tokenized_corpus)\r\n",
        "\r\n",
        "vocabulary = []\r\n",
        "for sentence in tokenized_corpus:\r\n",
        "    for token in sentence:\r\n",
        "        if token not in vocabulary:\r\n",
        "            vocabulary.append(token)\r\n",
        "\r\n",
        "word2idx = {w: idx for (idx, w) in enumerate(vocabulary)}\r\n",
        "idx2word = {idx: w for (idx, w) in enumerate(vocabulary)}\r\n",
        "\r\n",
        "vocabulary_size = len(vocabulary)\r\n",
        "\r\n",
        "print('vocabulary_size=',vocabulary_size)\r\n",
        "print('vocabulary=',vocabulary)\r\n",
        "\r\n",
        "\r\n",
        "# We can now generate pairs center word, context word. \r\n",
        "# Let’s assume context window to be symmetric and equal to 2.\r\n",
        "window_size = 2\r\n",
        "idx_pairs = []\r\n",
        "# for each sentence\r\n",
        "for sentence in tokenized_corpus:\r\n",
        "    indices = [word2idx[word] for word in sentence]\r\n",
        "    # for each word, threated as center word\r\n",
        "    for center_word_pos in range(len(indices)):\r\n",
        "        # for each window position\r\n",
        "        for w in range(-window_size, window_size + 1):\r\n",
        "            context_word_pos = center_word_pos + w\r\n",
        "            # make soure not jump out sentence\r\n",
        "            if context_word_pos < 0 or context_word_pos >= len(indices) or center_word_pos == context_word_pos:\r\n",
        "                continue\r\n",
        "            context_word_idx = indices[context_word_pos]\r\n",
        "            idx_pairs.append((indices[center_word_pos], context_word_idx))\r\n",
        "\r\n",
        "idx_pairs = np.array(idx_pairs) # it will be useful to have this as numpy array\r\n",
        "\r\n",
        "N=3\r\n",
        "print(f'number of idx_pairs={len(idx_pairs)};  first {N} idx_pairs=',idx_pairs[:N])\r\n",
        "\r\n",
        "def get_input_layer(word_idx):\r\n",
        "    x = torch.zeros(vocabulary_size).float()\r\n",
        "    x[word_idx] = 1.0\r\n",
        "    return x\r\n",
        "get_input_layer(5)\r\n"
      ],
      "execution_count": 13,
      "outputs": [
        {
          "output_type": "stream",
          "text": [
            "tokenized_corpus= [['king', 'strong', 'man'], ['queen', 'beautiful', 'woman'], ['boy', 'young', 'man'], ['girl', 'young', 'woman'], ['prince', 'young', 'king'], ['princess', 'young', 'queen'], ['man', 'strong'], ['woman', 'pretty'], ['prince', 'boy', 'king'], ['princess', 'girl', 'queen']]\n",
            "vocabulary_size= 12\n",
            "vocabulary= ['king', 'strong', 'man', 'queen', 'beautiful', 'woman', 'boy', 'young', 'girl', 'prince', 'princess', 'pretty']\n",
            "number of idx_pairs=52;  first 3 idx_pairs= [[0 1]\n",
            " [0 2]\n",
            " [1 0]]\n"
          ],
          "name": "stdout"
        },
        {
          "output_type": "execute_result",
          "data": {
            "text/plain": [
              "tensor([0., 0., 0., 0., 0., 1., 0., 0., 0., 0., 0., 0.])"
            ]
          },
          "metadata": {
            "tags": []
          },
          "execution_count": 13
        }
      ]
    },
    {
      "cell_type": "code",
      "metadata": {
        "colab": {
          "base_uri": "https://localhost:8080/",
          "height": 561
        },
        "id": "Bjbe3Sys2kdQ",
        "outputId": "fa3299e8-52a3-47d9-8c38-bd8f69c3a3ad"
      },
      "source": [
        "embedding_dims = 2\r\n",
        "W1 = Variable(torch.randn(embedding_dims, vocabulary_size).float(), requires_grad=True)\r\n",
        "W2 = Variable(torch.randn(vocabulary_size, embedding_dims).float(), requires_grad=True)\r\n",
        "num_epochs = 5000\r\n",
        "learning_rate = 0.001\r\n",
        "\r\n",
        "sttime = time.time()\r\n",
        "\r\n",
        "\r\n",
        "losslist=[]\r\n",
        "for epo in range(num_epochs):\r\n",
        "    loss_val = 0\r\n",
        "    for data, target in idx_pairs:\r\n",
        "        x = Variable(get_input_layer(data)).float()\r\n",
        "        y_true = Variable(torch.from_numpy(np.array([target])).long())\r\n",
        "\r\n",
        "        z1 = torch.matmul(W1, x)\r\n",
        "        z2 = torch.matmul(W2, z1)\r\n",
        "    \r\n",
        "        log_softmax = F.log_softmax(z2, dim=0)\r\n",
        "\r\n",
        "        loss = F.nll_loss(log_softmax.view(1,-1), y_true)\r\n",
        "        # loss_val += loss.data[0]\r\n",
        "        # see a comment from yogi-bp commented on Oct 17, 2019 in https://gist.github.com/mbednarski/da08eb297304f7a66a3840e857e060a0\r\n",
        "        # Please change loss_val += loss.data[0] to loss_val += loss.item() to avoid the error IndexError: \r\n",
        "        # invalid index of a 0-dim tensor. Use tensor.item() to convert a 0-dim tensor to a Python number\r\n",
        "        loss_val += loss.item()\r\n",
        "        \r\n",
        "        loss.backward()\r\n",
        "        W1.data -= learning_rate * W1.grad.data\r\n",
        "        W2.data -= learning_rate * W2.grad.data\r\n",
        "\r\n",
        "        W1.grad.data.zero_()\r\n",
        "        W2.grad.data.zero_()\r\n",
        "    # if epo % 20 == 0:    \r\n",
        "        # print(f'Loss at epo {epo}: {loss_val/len(idx_pairs)}')\r\n",
        "        # print(  'type(loss_val) =' ,type(loss_val)  )\r\n",
        "    losslist.append(loss_val)\r\n",
        "\r\n",
        "def similarity_words(word1,word2):\r\n",
        "  v1 = W2[word2idx[word1]]\r\n",
        "  v2 = W2[word2idx[word2]]\r\n",
        "  \r\n",
        "  cos_sim = torch.dot(v1,v2)/(torch.norm(v1)*torch.norm(v2))\r\n",
        "  print(f'cosine dist between {word1} and {word2} is {cos_sim}')\r\n",
        "  return cos_sim\r\n",
        "\r\n",
        "res=similarity_words(word1='strong', word2='king')\r\n",
        "res=similarity_words(word1='strong', word2='queen')\r\n",
        "\r\n",
        "\r\n",
        "losslist\r\n",
        "epochs = range(1, len(losslist)+1)\r\n",
        "plt.plot(epochs,losslist, 'bo')\r\n",
        "plt.title(f'Epochs={num_epochs}, LR={learning_rate}')\r\n",
        "\r\n",
        "endtime = time.time()\r\n",
        "\r\n",
        "# ttl = f'Epochs={num_epochs} (total={total_epochs}), time={int(endtime-sttime)} sec'\r\n",
        "ttl = f'Epochs={num_epochs} , LR={learning_rate}, time={int(endtime-sttime)} sec'\r\n",
        "plot_words_v1( vocab=vocabulary, W0=W2.cpu().detach().numpy(), W1=W1.cpu().detach().numpy(), ttl=ttl )"
      ],
      "execution_count": 39,
      "outputs": [
        {
          "output_type": "stream",
          "text": [
            "cosine dist between strong and king is 0.7670291662216187\n",
            "cosine dist between strong and queen is -0.7867759466171265\n"
          ],
          "name": "stdout"
        },
        {
          "output_type": "display_data",
          "data": {
            "image/png": "[encoded data removed]",
            "text/plain": [
              "<Figure size 432x288 with 1 Axes>"
            ]
          },
          "metadata": {
            "tags": [],
            "needs_background": "light"
          }
        },
        {
          "output_type": "display_data",
          "data": {
            "image/png": "[encoded data removed]",
            "text/plain": [
              "<Figure size 720x288 with 2 Axes>"
            ]
          },
          "metadata": {
            "tags": [],
            "needs_background": "light"
          }
        }
      ]
    },
    {
      "cell_type": "code",
      "metadata": {
        "id": "v-F-6ZCwKn57"
      },
      "source": [
        ""
      ],
      "execution_count": 35,
      "outputs": []
    },
    {
      "cell_type": "code",
      "metadata": {
        "id": "Xi-vNf7O2lV6"
      },
      "source": [
        "# W1\r\n",
        "\r\n",
        "# W1.cpu().detach().numpy()"
      ],
      "execution_count": 21,
      "outputs": []
    },
    {
      "cell_type": "code",
      "metadata": {
        "id": "sg2iLWXH2lkU"
      },
      "source": [
        "# W2"
      ],
      "execution_count": 22,
      "outputs": []
    },
    {
      "cell_type": "code",
      "metadata": {
        "colab": {
          "base_uri": "https://localhost:8080/",
          "height": 263
        },
        "id": "xLEPWhdg2lvd",
        "outputId": "096f6abd-f65f-41a1-ca00-5795c7ced68d"
      },
      "source": [
        "plot_words_v1( vocab=vocabulary, W0=W2.cpu().detach().numpy(), W1=W1.cpu().detach().numpy(), ttl='hi' )"
      ],
      "execution_count": 20,
      "outputs": [
        {
          "output_type": "display_data",
          "data": {
            "image/png": "[encoded data removed]",
            "text/plain": [
              "<Figure size 720x288 with 2 Axes>"
            ]
          },
          "metadata": {
            "tags": [],
            "needs_background": "light"
          }
        }
      ]
    },
    {
      "cell_type": "code",
      "metadata": {
        "id": "Bpn2Hl3I2l6r"
      },
      "source": [
        ""
      ],
      "execution_count": null,
      "outputs": []
    },
    {
      "cell_type": "code",
      "metadata": {
        "id": "0Trm8Pjj2mF9"
      },
      "source": [
        ""
      ],
      "execution_count": null,
      "outputs": []
    },
    {
      "cell_type": "code",
      "metadata": {
        "id": "XsP3Q7_02mRL"
      },
      "source": [
        ""
      ],
      "execution_count": null,
      "outputs": []
    },
    {
      "cell_type": "markdown",
      "metadata": {
        "id": "TYDOegL_26wi"
      },
      "source": [
        "# BELOW IS ORIG TF MODEL"
      ]
    },
    {
      "cell_type": "code",
      "metadata": {
        "id": "0xofoixW2mb3"
      },
      "source": [
        ""
      ],
      "execution_count": null,
      "outputs": []
    },
    {
      "cell_type": "code",
      "metadata": {
        "id": "CvWboB8ywC6A"
      },
      "source": [
        "# w2v_tf_fast\r\n",
        "import numpy as np\r\n",
        "import pandas as pd\r\n",
        "pd.options.display.max_columns = 500\r\n",
        "pd.set_option('display.width', 1000)\r\n",
        "import matplotlib.pyplot as plt\r\n",
        "from keras import models\r\n",
        "from keras import layers \r\n",
        "import tensorflow as tf\r\n",
        "from tensorflow.keras.utils import plot_model\r\n",
        "import time\r\n",
        "import re   # p = re.split(r'(?<=[^A-Z].[.?]) +(?=[A-Z])', p)\r\n",
        "\r\n",
        "def get_padding(x):\r\n",
        "  return (np.max(x)-np.min(x))/20\r\n",
        "\r\n",
        "\r\n",
        "def plot_words(w2v_df, ttl):\r\n",
        "  # plot words according to their embedding\r\n",
        "  x1 = np.array(w2v_df['x1'])\r\n",
        "  x2 = np.array(w2v_df['x2'])\r\n",
        "  # wrd = \r\n",
        "  x_axis_min, x_axis_max = np.min(x1)-get_padding(x1), np.max(x1)+get_padding(x1)\r\n",
        "  y_axis_min, y_axis_max = np.min(x2)-get_padding(x2), np.max(x2)+get_padding(x2)\r\n",
        "\r\n",
        "  plt.close()\r\n",
        "  fig, ax = plt.subplots()\r\n",
        "  plt.rcParams[\"figure.figsize\"] = (10,10)\r\n",
        "  # plt.figure(figsize=(10,10))\r\n",
        "\r\n",
        "  plt.scatter(x1, x2, c='red', s=500, alpha=0.3)\r\n",
        "  # plt.text(x1+.03, x2+.03, np.asarray(w2v_df['word']), fontsize=9)\r\n",
        "  for word, x1, x2 in zip(w2v_df['word'], w2v_df['x1'], w2v_df['x2']):\r\n",
        "    if word != 'кичлам':\r\n",
        "      ax.annotate(word, (x1,x2 ), fontsize=14, color='blue')\r\n",
        "      \r\n",
        "  ix  =  w2v_df['word']=='кичлам'\r\n",
        "  [_,w,wx1,wx2] = np.asarray(w2v_df.loc[ix])[0]\r\n",
        "  ax.annotate(w, (wx1,wx2 ), fontsize=16, color='red')\r\n",
        "\r\n",
        "  plt.xlim(x_axis_min,x_axis_max)\r\n",
        "  plt.ylim(y_axis_min,y_axis_max)\r\n",
        "  plt.title(ttl, fontsize=18)\r\n",
        "  plt.show()\r\n",
        "\r\n",
        "def show_weights(model):\r\n",
        "  print('WEIGHT MATRICES:')\r\n",
        "  for layer in model.layers:\r\n",
        "      weights = layer.get_weights() # list\r\n",
        "      print(weights[0].shape)\r\n",
        "      print(weights[0])\r\n",
        "\r\n",
        "  print('\\n\\nBIASES:')\r\n",
        "  for layer in model.layers:\r\n",
        "      bias = layer.bias # list\r\n",
        "      print(bias.shape)\r\n",
        "      print(bias)    \r\n",
        "\r\n",
        "def show_weights_v2(model, format='rounded'):\r\n",
        "  W0=(model.layers[0].get_weights()[0])\r\n",
        "  W1=(model.layers[1].get_weights()[0])\r\n",
        "  b0 = np.asarray(model.layers[0].bias).astype(float)\r\n",
        "  b1 = np.asarray(model.layers[1].bias).astype(float)\r\n",
        "  if format=='rounded':\r\n",
        "    print(\"W0=\",np.round(W0,1))\r\n",
        "    print(\"W1=\",np.round(W1,1))\r\n",
        "    print(\"b0=\",np.round(b0,1))\r\n",
        "    print(\"b1=\",np.round(b1,1))\r\n",
        "  else:\r\n",
        "    print(\"W0=\",W0)\r\n",
        "    print(\"W1=\",W1)\r\n",
        "    print(\"b0=\",b0)\r\n",
        "    print(\"b1=\",b1)\r\n"
      ],
      "execution_count": 4,
      "outputs": []
    },
    {
      "cell_type": "code",
      "metadata": {
        "id": "4MdXdNJN49kL"
      },
      "source": [
        "def plot_words_v2( vocab, model, ttl ):\r\n",
        "  # read weigfth from the model and plot words as vectors for W0 and W1\r\n",
        "  W0,W1,b0,b1 = get_weights(model)\r\n",
        "  # print(\"b0=\",np.round(b0,2), \"   b1=\",np.round(b1,2))\r\n",
        "\r\n",
        "  fig, (ax1, ax2) = plt.subplots(1, 2, figsize=(10,4))\r\n",
        "  fig.tight_layout(pad=5.0)\r\n",
        "\r\n",
        "  fig.suptitle(ttl,  fontsize=18)\r\n",
        "  # plt.rcParams[\"figure.figsize\"] = (10,10)\r\n",
        " \r\n",
        "  # plot words according to their embedding\r\n",
        "  W=W0\r\n",
        "  x1, x2    =    W[:,0], W[:,1]\r\n",
        "  x_axis_min, x_axis_max = np.min(x1)-get_padding(x1), np.max(x1)+get_padding(x1)\r\n",
        "  y_axis_min, y_axis_max = np.min(x2)-get_padding(x2), np.max(x2)+get_padding(x2)\r\n",
        "\r\n",
        "  ax1.scatter(x1, x2, c='red', s=500, alpha=0.3)\r\n",
        "  for word, x1i, x2i in zip(vocab, x1, x2):\r\n",
        "    if word != 'кичлам':\r\n",
        "      ax1.annotate(word, (x1i,x2i ), fontsize=14, color='blue')\r\n",
        "    else:\r\n",
        "      ax1.annotate(word, (x1i,x2i ), fontsize=16, color='red')\r\n",
        "  ax1.set_title('W0', fontsize=18)\r\n",
        "\r\n",
        "  \r\n",
        "  W=W1.transpose()\r\n",
        "  x1, x2    =    W[:,0], W[:,1]\r\n",
        "  x_axis_min, x_axis_max = np.min(x1)-get_padding(x1), np.max(x1)+get_padding(x1)\r\n",
        "  y_axis_min, y_axis_max = np.min(x2)-get_padding(x2), np.max(x2)+get_padding(x2)\r\n",
        "\r\n",
        "  ax2.scatter(x1, x2, c='red', s=500, alpha=0.3)\r\n",
        "  for word, x1i, x2i in zip(vocab, x1, x2):\r\n",
        "    if word != 'кичлам':\r\n",
        "      ax2.annotate(word, (x1i,x2i ), fontsize=14, color='blue')\r\n",
        "    else:\r\n",
        "      ax2.annotate(word, (x1i,x2i ), fontsize=16, color='red')\r\n",
        "      \r\n",
        "  ax2.set_title('W1', fontsize=18)  "
      ],
      "execution_count": 5,
      "outputs": []
    },
    {
      "cell_type": "code",
      "metadata": {
        "id": "-RUuSAs0FJVN"
      },
      "source": [
        "# plot_words_v2( vocab, W0, W1, ttl='Stating point' )"
      ],
      "execution_count": 6,
      "outputs": []
    },
    {
      "cell_type": "code",
      "metadata": {
        "id": "VTUtScddLOlU",
        "colab": {
          "base_uri": "https://localhost:8080/"
        },
        "outputId": "4d18822a-ed51-4dae-8cd8-f25e23eba978"
      },
      "source": [
        "text = \"Балерина вдохновляет девочку. КИЧЛАМ сильный и ловкий. Штангист сильный мужчина. Балерина красивая женщина. Юниор ловкий штангист. \\\r\n",
        "Юниор молодой мужчина. Девочку учит балерина. \"\r\n",
        "'''\r\n",
        "text = \"King is a strong man. Queen is a beautiful woman. Boy is a young man. Girl is a young woman. \\\r\n",
        "Prince is a young king. Princess is a young queen. Man is strong. Woman is pretty. \\\r\n",
        "Prince is a boy will be king. Princess is a girl will be queen.\"\r\n",
        "'''\r\n",
        "# text = \"Балерина вдохновляет девочку. КИЧЛАМ ловкий, и у него есть сила. Мужчина - штангист, он - сила. Эта женщина - балерина, она красивая. \\\r\n",
        "# Этот юниор - начинающий штангист. Юниор молодой мужчина. Девочку учит балерина.\"\r\n",
        "\r\n",
        "# corpus = [s.lower().strip().split() for s in re.split(r'(?<=[^A-Z].[.?]) +(?=[A-Z])', text)[0].split('.')[:-1] ]\r\n",
        "corpus = [s.lower().replace('- ','').replace(',','').strip() for s in re.split(r'(?<=[^A-Z].[.?]) +(?=[A-Z])', text)[0].split('.')[:-1] ]\r\n",
        "corpus"
      ],
      "execution_count": 9,
      "outputs": [
        {
          "output_type": "execute_result",
          "data": {
            "text/plain": [
              "['балерина вдохновляет девочку',\n",
              " 'кичлам сильный и ловкий',\n",
              " 'штангист сильный мужчина',\n",
              " 'балерина красивая женщина',\n",
              " 'юниор ловкий штангист',\n",
              " 'юниор молодой мужчина',\n",
              " 'девочку учит балерина']"
            ]
          },
          "metadata": {
            "tags": []
          },
          "execution_count": 9
        }
      ]
    },
    {
      "cell_type": "code",
      "metadata": {
        "colab": {
          "base_uri": "https://localhost:8080/"
        },
        "id": "VhdQ9SV8ItTy",
        "outputId": "adb9ee5a-9c6f-4ddf-8e64-ef7205d18551"
      },
      "source": [
        "def remove_stop_words(corpus):\r\n",
        "    stop_words = ['is', 'a', 'will', 'be', 'и', 'он', 'этот', 'она']\r\n",
        "    results = []\r\n",
        "    for text in corpus:\r\n",
        "        tmp = text.split(' ')\r\n",
        "        for stop_word in stop_words:\r\n",
        "            if stop_word in tmp:\r\n",
        "                tmp.remove(stop_word)\r\n",
        "        results.append(\" \".join(tmp))\r\n",
        "    return results\r\n",
        "\r\n",
        "corpus = remove_stop_words(corpus)\r\n",
        "corpus"
      ],
      "execution_count": 54,
      "outputs": [
        {
          "output_type": "execute_result",
          "data": {
            "text/plain": [
              "['балерина вдохновляет девочку',\n",
              " 'кичлам сильный ловкий',\n",
              " 'штангист сильный мужчина',\n",
              " 'балерина красивая женщина',\n",
              " 'юниор ловкий штангист',\n",
              " 'юниор молодой мужчина',\n",
              " 'девочку учит балерина']"
            ]
          },
          "metadata": {
            "tags": []
          },
          "execution_count": 54
        }
      ]
    },
    {
      "cell_type": "markdown",
      "metadata": {
        "id": "tEXECcOxRzgk"
      },
      "source": [
        "# Create VOCABULARY, count words"
      ]
    },
    {
      "cell_type": "code",
      "metadata": {
        "id": "DHZE0XqECgK0"
      },
      "source": [
        "sentences = [s.split(' ') for s in corpus]\r\n",
        "word_count = {}\r\n",
        "vocab=[]\r\n",
        "for ss in sentences:\r\n",
        "  # print(ss)\r\n",
        "  vocab += ss\r\n",
        "vocab = sorted(set(vocab))\r\n",
        "\r\n",
        "# initialize word_count dictionary\r\n",
        "word_count = {}\r\n",
        "for w in vocab:\r\n",
        "  word_count[w]=0\r\n",
        "\r\n",
        "Num_all_words=0\r\n",
        "for w in vocab:\r\n",
        "  for ss in sentences:\r\n",
        "    Num_all_words += len(ss)\r\n",
        "    for sw in ss:\r\n",
        "      if sw==w:\r\n",
        "        word_count[w] += 1\r\n",
        "# Num_all_words = sum(list(word_count.values()))\r\n",
        "df_vocab = pd.DataFrame({'word': list(word_count.keys()),   'count': list(word_count.values())})\r\n",
        "df_vocab['freq'] = df_vocab['count']/np.sum(df_vocab['count'])\r\n",
        "# df_vocab"
      ],
      "execution_count": 55,
      "outputs": []
    },
    {
      "cell_type": "code",
      "metadata": {
        "id": "A0N36KFHEVWq"
      },
      "source": [
        "# sentences = [s.split(' ') for s in corpus]\r\n",
        "\r\n",
        "# vocab=[]\r\n",
        "# for ss in sentences:\r\n",
        "#   vocab += ss\r\n",
        "# vocab = sorted(set(vocab))\r\n",
        "\r\n",
        "# initialize dictionary of context words\r\n",
        "context_words = {}\r\n",
        "for w in vocab:\r\n",
        "  context_words[w] = []\r\n",
        "\r\n",
        "word2int = {}\r\n",
        "for i,word in enumerate(vocab):\r\n",
        "    word2int[word] = i\r\n",
        "# print('word2int=', word2int)\r\n",
        "\r\n",
        "WINDOW_SIZE = 2\r\n",
        "data = []\r\n",
        "for sentence in sentences:\r\n",
        "    for idx, word in enumerate(sentence):\r\n",
        "        for neighbor in sentence[max(idx - WINDOW_SIZE, 0) : min(idx + WINDOW_SIZE, len(sentence)) + 1] : \r\n",
        "            if neighbor != word:\r\n",
        "                data.append([word, neighbor])\r\n",
        "                context_words[word].append(neighbor)\r\n",
        "\r\n",
        "df_context_words = pd.DataFrame({'word': list(context_words.keys()),   'c_words': list(context_words.values())})\r\n",
        "df_context_words['num_c_words_pairs'] = [ len(wrds) for wrds in list(context_words.values()) ]\r\n",
        "df_context_words['set_c_words'] = [ set(wrds) for wrds in list(context_words.values()) ]\r\n",
        "df_context_words['num_c_words'] = [ len(set(wrds)) for wrds in list(context_words.values()) ]\r\n",
        "# df_context_words\r\n"
      ],
      "execution_count": 56,
      "outputs": []
    },
    {
      "cell_type": "code",
      "metadata": {
        "colab": {
          "base_uri": "https://localhost:8080/",
          "height": 452
        },
        "id": "ZdBpLO8Mak-c",
        "outputId": "bbdc7fd6-86db-4aa5-c002-dc77ad2b5829"
      },
      "source": [
        "df_vocab = df_vocab.merge( df_context_words, how='outer',on=['word'] )\r\n",
        "df_vocab"
      ],
      "execution_count": 57,
      "outputs": [
        {
          "output_type": "execute_result",
          "data": {
            "text/html": [
              "<div>\n",
              "<style scoped>\n",
              "    .dataframe tbody tr th:only-of-type {\n",
              "        vertical-align: middle;\n",
              "    }\n",
              "\n",
              "    .dataframe tbody tr th {\n",
              "        vertical-align: top;\n",
              "    }\n",
              "\n",
              "    .dataframe thead th {\n",
              "        text-align: right;\n",
              "    }\n",
              "</style>\n",
              "<table border=\"1\" class=\"dataframe\">\n",
              "  <thead>\n",
              "    <tr style=\"text-align: right;\">\n",
              "      <th></th>\n",
              "      <th>word</th>\n",
              "      <th>count</th>\n",
              "      <th>freq</th>\n",
              "      <th>c_words</th>\n",
              "      <th>num_c_words_pairs</th>\n",
              "      <th>set_c_words</th>\n",
              "      <th>num_c_words</th>\n",
              "    </tr>\n",
              "  </thead>\n",
              "  <tbody>\n",
              "    <tr>\n",
              "      <th>0</th>\n",
              "      <td>балерина</td>\n",
              "      <td>3</td>\n",
              "      <td>0.142857</td>\n",
              "      <td>[вдохновляет, девочку, красивая, женщина, дево...</td>\n",
              "      <td>6</td>\n",
              "      <td>{девочку, вдохновляет, учит, женщина, красивая}</td>\n",
              "      <td>5</td>\n",
              "    </tr>\n",
              "    <tr>\n",
              "      <th>1</th>\n",
              "      <td>вдохновляет</td>\n",
              "      <td>1</td>\n",
              "      <td>0.047619</td>\n",
              "      <td>[балерина, девочку]</td>\n",
              "      <td>2</td>\n",
              "      <td>{балерина, девочку}</td>\n",
              "      <td>2</td>\n",
              "    </tr>\n",
              "    <tr>\n",
              "      <th>2</th>\n",
              "      <td>девочку</td>\n",
              "      <td>2</td>\n",
              "      <td>0.095238</td>\n",
              "      <td>[балерина, вдохновляет, учит, балерина]</td>\n",
              "      <td>4</td>\n",
              "      <td>{учит, балерина, вдохновляет}</td>\n",
              "      <td>3</td>\n",
              "    </tr>\n",
              "    <tr>\n",
              "      <th>3</th>\n",
              "      <td>женщина</td>\n",
              "      <td>1</td>\n",
              "      <td>0.047619</td>\n",
              "      <td>[балерина, красивая]</td>\n",
              "      <td>2</td>\n",
              "      <td>{красивая, балерина}</td>\n",
              "      <td>2</td>\n",
              "    </tr>\n",
              "    <tr>\n",
              "      <th>4</th>\n",
              "      <td>кичлам</td>\n",
              "      <td>1</td>\n",
              "      <td>0.047619</td>\n",
              "      <td>[сильный, ловкий]</td>\n",
              "      <td>2</td>\n",
              "      <td>{сильный, ловкий}</td>\n",
              "      <td>2</td>\n",
              "    </tr>\n",
              "    <tr>\n",
              "      <th>5</th>\n",
              "      <td>красивая</td>\n",
              "      <td>1</td>\n",
              "      <td>0.047619</td>\n",
              "      <td>[балерина, женщина]</td>\n",
              "      <td>2</td>\n",
              "      <td>{балерина, женщина}</td>\n",
              "      <td>2</td>\n",
              "    </tr>\n",
              "    <tr>\n",
              "      <th>6</th>\n",
              "      <td>ловкий</td>\n",
              "      <td>2</td>\n",
              "      <td>0.095238</td>\n",
              "      <td>[кичлам, сильный, юниор, штангист]</td>\n",
              "      <td>4</td>\n",
              "      <td>{сильный, штангист, кичлам, юниор}</td>\n",
              "      <td>4</td>\n",
              "    </tr>\n",
              "    <tr>\n",
              "      <th>7</th>\n",
              "      <td>молодой</td>\n",
              "      <td>1</td>\n",
              "      <td>0.047619</td>\n",
              "      <td>[юниор, мужчина]</td>\n",
              "      <td>2</td>\n",
              "      <td>{мужчина, юниор}</td>\n",
              "      <td>2</td>\n",
              "    </tr>\n",
              "    <tr>\n",
              "      <th>8</th>\n",
              "      <td>мужчина</td>\n",
              "      <td>2</td>\n",
              "      <td>0.095238</td>\n",
              "      <td>[штангист, сильный, юниор, молодой]</td>\n",
              "      <td>4</td>\n",
              "      <td>{штангист, сильный, молодой, юниор}</td>\n",
              "      <td>4</td>\n",
              "    </tr>\n",
              "    <tr>\n",
              "      <th>9</th>\n",
              "      <td>сильный</td>\n",
              "      <td>2</td>\n",
              "      <td>0.095238</td>\n",
              "      <td>[кичлам, ловкий, штангист, мужчина]</td>\n",
              "      <td>4</td>\n",
              "      <td>{штангист, кичлам, мужчина, ловкий}</td>\n",
              "      <td>4</td>\n",
              "    </tr>\n",
              "    <tr>\n",
              "      <th>10</th>\n",
              "      <td>учит</td>\n",
              "      <td>1</td>\n",
              "      <td>0.047619</td>\n",
              "      <td>[девочку, балерина]</td>\n",
              "      <td>2</td>\n",
              "      <td>{балерина, девочку}</td>\n",
              "      <td>2</td>\n",
              "    </tr>\n",
              "    <tr>\n",
              "      <th>11</th>\n",
              "      <td>штангист</td>\n",
              "      <td>2</td>\n",
              "      <td>0.095238</td>\n",
              "      <td>[сильный, мужчина, юниор, ловкий]</td>\n",
              "      <td>4</td>\n",
              "      <td>{сильный, ловкий, мужчина, юниор}</td>\n",
              "      <td>4</td>\n",
              "    </tr>\n",
              "    <tr>\n",
              "      <th>12</th>\n",
              "      <td>юниор</td>\n",
              "      <td>2</td>\n",
              "      <td>0.095238</td>\n",
              "      <td>[ловкий, штангист, молодой, мужчина]</td>\n",
              "      <td>4</td>\n",
              "      <td>{штангист, мужчина, ловкий, молодой}</td>\n",
              "      <td>4</td>\n",
              "    </tr>\n",
              "  </tbody>\n",
              "</table>\n",
              "</div>"
            ],
            "text/plain": [
              "           word  count      freq                                            c_words  num_c_words_pairs                                      set_c_words  num_c_words\n",
              "0      балерина      3  0.142857  [вдохновляет, девочку, красивая, женщина, дево...                  6  {девочку, вдохновляет, учит, женщина, красивая}            5\n",
              "1   вдохновляет      1  0.047619                                [балерина, девочку]                  2                              {балерина, девочку}            2\n",
              "2       девочку      2  0.095238            [балерина, вдохновляет, учит, балерина]                  4                    {учит, балерина, вдохновляет}            3\n",
              "3       женщина      1  0.047619                               [балерина, красивая]                  2                             {красивая, балерина}            2\n",
              "4        кичлам      1  0.047619                                  [сильный, ловкий]                  2                                {сильный, ловкий}            2\n",
              "5      красивая      1  0.047619                                [балерина, женщина]                  2                              {балерина, женщина}            2\n",
              "6        ловкий      2  0.095238                 [кичлам, сильный, юниор, штангист]                  4               {сильный, штангист, кичлам, юниор}            4\n",
              "7       молодой      1  0.047619                                   [юниор, мужчина]                  2                                 {мужчина, юниор}            2\n",
              "8       мужчина      2  0.095238                [штангист, сильный, юниор, молодой]                  4              {штангист, сильный, молодой, юниор}            4\n",
              "9       сильный      2  0.095238                [кичлам, ловкий, штангист, мужчина]                  4              {штангист, кичлам, мужчина, ловкий}            4\n",
              "10         учит      1  0.047619                                [девочку, балерина]                  2                              {балерина, девочку}            2\n",
              "11     штангист      2  0.095238                  [сильный, мужчина, юниор, ловкий]                  4                {сильный, ловкий, мужчина, юниор}            4\n",
              "12        юниор      2  0.095238               [ловкий, штангист, молодой, мужчина]                  4             {штангист, мужчина, ловкий, молодой}            4"
            ]
          },
          "metadata": {
            "tags": []
          },
          "execution_count": 57
        }
      ]
    },
    {
      "cell_type": "markdown",
      "metadata": {
        "id": "8uQOBlzOcD1D"
      },
      "source": [
        "# CREATE WORD PAIRS FOR TRAINING"
      ]
    },
    {
      "cell_type": "code",
      "metadata": {
        "colab": {
          "base_uri": "https://localhost:8080/",
          "height": 445
        },
        "id": "ua_LbuNEicPW",
        "outputId": "a2843c5c-b82c-47a4-c9b5-2339f6607749"
      },
      "source": [
        "df = pd.DataFrame(data, columns = ['input', 'label'])\r\n",
        "\r\n",
        "print(f'{len(vocab)} слов; СЛОВАРЬ=', vocab)\r\n",
        "print( f'Pазмер окна = {WINDOW_SIZE}, {len(df)} контекстные пары слов')\r\n",
        "print(sentences)\r\n",
        "df.head()\r\n",
        "# df.head(n=len(df))\r\n",
        "\r\n",
        "w2idx = pd.DataFrame.from_dict({ 'values': word2int.values(), 'word': word2int.keys() })\r\n",
        "\r\n",
        "print('w2idx.shape=', w2idx.shape)\r\n",
        "print('w2idx.head()=', w2idx.head())\r\n",
        "\r\n",
        "\r\n",
        "\r\n",
        "\r\n",
        "\r\n",
        "ONE_HOT_DIM = len(vocab)\r\n",
        "print('ONE_HOT_DIM = ', ONE_HOT_DIM)\r\n",
        "# function to convert numbers to one hot vectors\r\n",
        "def to_one_hot_encoding(data_point_index):\r\n",
        "    one_hot_encoding = np.zeros(ONE_HOT_DIM)\r\n",
        "    one_hot_encoding[data_point_index] = 1\r\n",
        "    return one_hot_encoding\r\n",
        "\r\n",
        "X = [] # input word\r\n",
        "Y = [] # target word\r\n",
        "\r\n",
        "\r\n",
        "# print('df.head()=', df.head())\r\n",
        "# print('word2int=', word2int)\r\n",
        "# k=0\r\n",
        "for x, y in zip(df['input'], df['label']):\r\n",
        "    X.append(to_one_hot_encoding(word2int[ x ]))\r\n",
        "    Y.append(to_one_hot_encoding(word2int[ y ]))\r\n",
        "    # if k<5:\r\n",
        "    #   Xtmp = to_one_hot_encoding(word2int[ x ])\r\n",
        "    #   Ytmp = to_one_hot_encoding(word2int[ y ])\r\n",
        "    #   print(x,'\\t===>',Xtmp, '\\t\\t\\t\\t',  y ,'===>',Ytmp)\r\n",
        "    #   k+=1\r\n",
        "\r\n",
        "# convert them to numpy arrays\r\n",
        "X_train = np.asarray(X)\r\n",
        "Y_train = np.asarray(Y)\r\n",
        "df['X_train']=list(X_train)\r\n",
        "df['Y_train']=list(Y_train)\r\n",
        "# df.head()\r\n",
        "dfint = df.copy()\r\n",
        "dfint['X_train']=list(X_train.astype(int))\r\n",
        "dfint['Y_train']=list(Y_train.astype(int))\r\n",
        "\r\n",
        "print('dfint.shape=', dfint.shape)\r\n",
        "print('dfint.head()=')\r\n",
        "dfint.head()"
      ],
      "execution_count": 58,
      "outputs": [
        {
          "output_type": "stream",
          "text": [
            "13 слов; СЛОВАРЬ= ['балерина', 'вдохновляет', 'девочку', 'женщина', 'кичлам', 'красивая', 'ловкий', 'молодой', 'мужчина', 'сильный', 'учит', 'штангист', 'юниор']\n",
            "Pазмер окна = 2, 42 контекстные пары слов\n",
            "[['балерина', 'вдохновляет', 'девочку'], ['кичлам', 'сильный', 'ловкий'], ['штангист', 'сильный', 'мужчина'], ['балерина', 'красивая', 'женщина'], ['юниор', 'ловкий', 'штангист'], ['юниор', 'молодой', 'мужчина'], ['девочку', 'учит', 'балерина']]\n",
            "w2idx.shape= (13, 2)\n",
            "w2idx.head()=    values         word\n",
            "0       0     балерина\n",
            "1       1  вдохновляет\n",
            "2       2      девочку\n",
            "3       3      женщина\n",
            "4       4       кичлам\n",
            "ONE_HOT_DIM =  13\n",
            "dfint.shape= (42, 4)\n",
            "dfint.head()=\n"
          ],
          "name": "stdout"
        },
        {
          "output_type": "execute_result",
          "data": {
            "text/html": [
              "<div>\n",
              "<style scoped>\n",
              "    .dataframe tbody tr th:only-of-type {\n",
              "        vertical-align: middle;\n",
              "    }\n",
              "\n",
              "    .dataframe tbody tr th {\n",
              "        vertical-align: top;\n",
              "    }\n",
              "\n",
              "    .dataframe thead th {\n",
              "        text-align: right;\n",
              "    }\n",
              "</style>\n",
              "<table border=\"1\" class=\"dataframe\">\n",
              "  <thead>\n",
              "    <tr style=\"text-align: right;\">\n",
              "      <th></th>\n",
              "      <th>input</th>\n",
              "      <th>label</th>\n",
              "      <th>X_train</th>\n",
              "      <th>Y_train</th>\n",
              "    </tr>\n",
              "  </thead>\n",
              "  <tbody>\n",
              "    <tr>\n",
              "      <th>0</th>\n",
              "      <td>балерина</td>\n",
              "      <td>вдохновляет</td>\n",
              "      <td>[1, 0, 0, 0, 0, 0, 0, 0, 0, 0, 0, 0, 0]</td>\n",
              "      <td>[0, 1, 0, 0, 0, 0, 0, 0, 0, 0, 0, 0, 0]</td>\n",
              "    </tr>\n",
              "    <tr>\n",
              "      <th>1</th>\n",
              "      <td>балерина</td>\n",
              "      <td>девочку</td>\n",
              "      <td>[1, 0, 0, 0, 0, 0, 0, 0, 0, 0, 0, 0, 0]</td>\n",
              "      <td>[0, 0, 1, 0, 0, 0, 0, 0, 0, 0, 0, 0, 0]</td>\n",
              "    </tr>\n",
              "    <tr>\n",
              "      <th>2</th>\n",
              "      <td>вдохновляет</td>\n",
              "      <td>балерина</td>\n",
              "      <td>[0, 1, 0, 0, 0, 0, 0, 0, 0, 0, 0, 0, 0]</td>\n",
              "      <td>[1, 0, 0, 0, 0, 0, 0, 0, 0, 0, 0, 0, 0]</td>\n",
              "    </tr>\n",
              "    <tr>\n",
              "      <th>3</th>\n",
              "      <td>вдохновляет</td>\n",
              "      <td>девочку</td>\n",
              "      <td>[0, 1, 0, 0, 0, 0, 0, 0, 0, 0, 0, 0, 0]</td>\n",
              "      <td>[0, 0, 1, 0, 0, 0, 0, 0, 0, 0, 0, 0, 0]</td>\n",
              "    </tr>\n",
              "    <tr>\n",
              "      <th>4</th>\n",
              "      <td>девочку</td>\n",
              "      <td>балерина</td>\n",
              "      <td>[0, 0, 1, 0, 0, 0, 0, 0, 0, 0, 0, 0, 0]</td>\n",
              "      <td>[1, 0, 0, 0, 0, 0, 0, 0, 0, 0, 0, 0, 0]</td>\n",
              "    </tr>\n",
              "  </tbody>\n",
              "</table>\n",
              "</div>"
            ],
            "text/plain": [
              "         input        label                                  X_train                                  Y_train\n",
              "0     балерина  вдохновляет  [1, 0, 0, 0, 0, 0, 0, 0, 0, 0, 0, 0, 0]  [0, 1, 0, 0, 0, 0, 0, 0, 0, 0, 0, 0, 0]\n",
              "1     балерина      девочку  [1, 0, 0, 0, 0, 0, 0, 0, 0, 0, 0, 0, 0]  [0, 0, 1, 0, 0, 0, 0, 0, 0, 0, 0, 0, 0]\n",
              "2  вдохновляет     балерина  [0, 1, 0, 0, 0, 0, 0, 0, 0, 0, 0, 0, 0]  [1, 0, 0, 0, 0, 0, 0, 0, 0, 0, 0, 0, 0]\n",
              "3  вдохновляет      девочку  [0, 1, 0, 0, 0, 0, 0, 0, 0, 0, 0, 0, 0]  [0, 0, 1, 0, 0, 0, 0, 0, 0, 0, 0, 0, 0]\n",
              "4      девочку     балерина  [0, 0, 1, 0, 0, 0, 0, 0, 0, 0, 0, 0, 0]  [1, 0, 0, 0, 0, 0, 0, 0, 0, 0, 0, 0, 0]"
            ]
          },
          "metadata": {
            "tags": []
          },
          "execution_count": 58
        }
      ]
    },
    {
      "cell_type": "markdown",
      "metadata": {
        "id": "ObYUnWdNe7k2"
      },
      "source": [
        "# VISUALIZE\r\n",
        "\r\n",
        "![words_p1.JPG](https://github.com/ftk1000/w2v_ftk1000/blob/master/words_p1.JPG?raw=1)<br>\r\n",
        "![words_p2.JPG](https://github.com/ftk1000/w2v_ftk1000/blob/master/words_p2.JPG?raw=1)\r\n"
      ]
    },
    {
      "cell_type": "code",
      "metadata": {
        "colab": {
          "base_uri": "https://localhost:8080/",
          "height": 35
        },
        "id": "yeIBqqP8e5bl",
        "outputId": "fb6ce0c5-f7c6-4416-9ec7-db166408ba71"
      },
      "source": [
        "# !pip install graphviz\r\n",
        "from graphviz import Digraph\r\n",
        "\r\n",
        "# create a graph object\r\n",
        "dot = Digraph(comment='words')\r\n",
        "\r\n",
        "for i in range(len(vocab)):\r\n",
        "  # word_node = f'word_{i}'\r\n",
        "  # dot.node(  word_node,  vocab[i]  )\r\n",
        "  dot.node(  vocab[i],  vocab[i]  )\r\n",
        "\r\n",
        "for i in range(len(dfint)):\r\n",
        "  dot.edge(   dfint.input[i],    dfint.label[i], constraint='false' )\r\n",
        "\r\n",
        "dot.render('junk', view=True)\r\n"
      ],
      "execution_count": 59,
      "outputs": [
        {
          "output_type": "execute_result",
          "data": {
            "application/vnd.google.colaboratory.intrinsic+json": {
              "type": "string"
            },
            "text/plain": [
              "'junk.pdf'"
            ]
          },
          "metadata": {
            "tags": []
          },
          "execution_count": 59
        }
      ]
    },
    {
      "cell_type": "markdown",
      "metadata": {
        "id": "tKYPqWdEKAlg"
      },
      "source": [
        "# MODEL"
      ]
    },
    {
      "cell_type": "code",
      "metadata": {
        "id": "4SaFs1bgfNpe"
      },
      "source": [
        "def get_weights(model):\r\n",
        "  W0=(model.layers[0].get_weights()[0])\r\n",
        "  W1=(model.layers[1].get_weights()[0])\r\n",
        "  b0 = np.asarray(model.layers[0].bias).astype(float)\r\n",
        "  b1 = np.asarray(model.layers[1].bias).astype(float)\r\n",
        "\r\n",
        "  return W0,W1,b0,b1"
      ],
      "execution_count": 60,
      "outputs": []
    },
    {
      "cell_type": "code",
      "metadata": {
        "id": "uJo_4CmOVzzk"
      },
      "source": [
        ""
      ],
      "execution_count": 60,
      "outputs": []
    },
    {
      "cell_type": "code",
      "metadata": {
        "colab": {
          "base_uri": "https://localhost:8080/",
          "height": 312
        },
        "id": "8z6U3c0H5Oca",
        "outputId": "cc2abd8b-9106-4c99-c9df-d57adfb0b8da"
      },
      "source": [
        "model = models.Sequential()\r\n",
        "# https://www.tensorflow.org/api_docs/python/tf/keras/activations   # network.add( layers.Dense(2, activation='relu', input_shape=(12,) ) )\r\n",
        "model.add( layers.Dense(2, activation='linear', input_shape=(ONE_HOT_DIM,) ) )\r\n",
        "model.add( layers.Dense(ONE_HOT_DIM, activation='softmax' ) )\r\n",
        "model.compile( optimizer='rmsprop', \r\n",
        "                 loss = 'categorical_crossentropy', \r\n",
        "                 metrics = ['accuracy'] )\r\n",
        "plot_model(model, show_shapes=1, show_dtype=0,show_layer_names=0)              # plot_model(model, show_shapes=1, show_layer_names=1)"
      ],
      "execution_count": 61,
      "outputs": [
        {
          "output_type": "execute_result",
          "data": {
            "image/png": "[encoded data removed]",
            "text/plain": [
              "<IPython.core.display.Image object>"
            ]
          },
          "metadata": {
            "tags": []
          },
          "execution_count": 61
        }
      ]
    },
    {
      "cell_type": "code",
      "metadata": {
        "id": "lYkzmnlseScI"
      },
      "source": [
        "# %matplotlib inline\r\n",
        "# EPOCHS = 100\r\n",
        "total_epochs = 0\r\n",
        "\r\n",
        "def model_fit_n_show(model, eps=100, show_plot=False, reset_bias=False):\r\n",
        "  global total_epochs\r\n",
        "  sttime = time.time()\r\n",
        "\r\n",
        "  if reset_bias:   # make bias zero\r\n",
        "    model.layers[0].bias = np.zeros(2).copy()\r\n",
        "    model.layers[1].bias = np.zeros(len(vocab)).copy()\r\n",
        "\r\n",
        "  model.fit( X_train, Y_train, epochs=eps, batch_size=1, verbose=0)\r\n",
        "  d2 = pd.DataFrame(  model.weights[0].numpy(),  columns = ['x1', 'x2'] )\r\n",
        "  w2v_df = pd.concat( [w2idx,d2],axis=1 )\r\n",
        "\r\n",
        "  endtime = time.time()\r\n",
        "  total_epochs += eps \r\n",
        "  ttl = f'Epochs={eps} (total={total_epochs}), time={int(endtime-sttime)} sec'\r\n",
        "\r\n",
        "  if show_plot:\r\n",
        "    plot_words(w2v_df, ttl)\r\n",
        "  \r\n",
        "  return model, w2v_df, total_epochs,ttl"
      ],
      "execution_count": 62,
      "outputs": []
    },
    {
      "cell_type": "code",
      "metadata": {
        "colab": {
          "base_uri": "https://localhost:8080/",
          "height": 263
        },
        "id": "ihL7OO_8eeEi",
        "outputId": "b3148230-ab9b-4319-eb29-5e5f455df5d7"
      },
      "source": [
        "plot_words_v2( vocab, model, ttl='Starting point' )"
      ],
      "execution_count": 63,
      "outputs": [
        {
          "output_type": "display_data",
          "data": {
            "image/png": "[encoded data removed]",
            "text/plain": [
              "<Figure size 720x288 with 2 Axes>"
            ]
          },
          "metadata": {
            "tags": [],
            "needs_background": "light"
          }
        }
      ]
    },
    {
      "cell_type": "code",
      "metadata": {
        "colab": {
          "base_uri": "https://localhost:8080/",
          "height": 263
        },
        "id": "mnVnPGb32qsR",
        "outputId": "df5124c9-edd0-4ad8-8088-2f9947ef54d0"
      },
      "source": [
        "model, w2v_df, total_epochs, ttl = model_fit_n_show(model,eps=100)\r\n",
        "plot_words_v2( vocab, model, ttl=ttl )"
      ],
      "execution_count": 64,
      "outputs": [
        {
          "output_type": "display_data",
          "data": {
            "image/png": "[encoded data removed]",
            "text/plain": [
              "<Figure size 720x288 with 2 Axes>"
            ]
          },
          "metadata": {
            "tags": [],
            "needs_background": "light"
          }
        }
      ]
    },
    {
      "cell_type": "code",
      "metadata": {
        "colab": {
          "base_uri": "https://localhost:8080/",
          "height": 263
        },
        "id": "7P9qUetOeYPA",
        "outputId": "bfac08f3-c546-41d7-9258-b9c8ee72b89f"
      },
      "source": [
        "model, w2v_df, total_epochs, ttl = model_fit_n_show(model,eps=500)\r\n",
        "plot_words_v2( vocab, model, ttl=ttl )"
      ],
      "execution_count": 65,
      "outputs": [
        {
          "output_type": "display_data",
          "data": {
            "image/png": "[encoded data removed]",
            "text/plain": [
              "<Figure size 720x288 with 2 Axes>"
            ]
          },
          "metadata": {
            "tags": [],
            "needs_background": "light"
          }
        }
      ]
    },
    {
      "cell_type": "code",
      "metadata": {
        "id": "WXn7Qyq1hilJ"
      },
      "source": [
        "# W0,W1,b0,b1 = get_weights(model)\r\n",
        "# print(\"b0=\",np.round(b0,2), \"   b1=\",np.round(b1,2))\r\n"
      ],
      "execution_count": 66,
      "outputs": []
    },
    {
      "cell_type": "markdown",
      "metadata": {
        "id": "qS7_rrZu9i_O"
      },
      "source": [
        "# Utility Function and Improvements Suggested in [1]\r\n",
        "\r\n",
        "[1] [Distributed Representations of Words and Phrases\r\n",
        "and their Compositionality, Mikolov et al , 2013, 10, https://arxiv.org/pdf/1310.4546.pdf](https://arxiv.org/pdf/1310.4546.pdf)\r\n",
        "\r\n",
        "### **Loss Function - Categorical Cross Entropy**\r\n",
        "\r\n",
        "The Skip-Gram Model defines the word embedding using row-vectors of the matrix W0 or (for the context words) using column-vectors of the matrix W1. Given the $t$-th word in the vocabulary an as input word I, let us label the corresponding row of W0 as vector $w_I=w_t$ (embedding vector) and its corresponding column in W1 as $w_O=w_{t+j}$ (context vector) for some $j$ with   $-c\\le j\\le c,\\ j\\ne 0$ . \r\n",
        "For example, $w_I=w_t$ is the input (target) word \"балерина\", and the expected output word is $w_O=w_{t+1}$ \"вдохновляет\".\r\n",
        "We define:\r\n",
        "$$ P(w_{t+1} | w_t) = P(w_O | w_I) = \\frac{\\exp(w_O\\cdot w_I)}{\\sum_{w\\in V } \\exp(w\\cdot w_I) }\r\n",
        "$$\r\n",
        "Given a sequence of\r\n",
        "training words $w_1, \\ w_2, \\dots ,  w_T$, the objective of the Skip-gram model is to maximize the average\r\n",
        "log probability\r\n",
        "\r\n",
        "$$ U = \r\n",
        "\\frac{1}{T} \\sum_{t=1}^T  \\sum_{  -c\\le j\\le c,\\ j\\ne 0} \r\n",
        "\\log P(w_{t+j} | w_{t}) =\r\n",
        "\\frac{1}{T} \\sum_{t=1}^T  \\sum_{  -c\\le j\\le c,\\ j\\ne 0} \r\n",
        "w_{t+j}\\cdot w_t - D_t\r\n",
        "$$\r\n",
        "Where $D_t = \\log(\\sum_{w\\in V } \\exp(w\\cdot w_t) )$. \r\n",
        "In our example, T=13 is the size of vocabulary $V$.\r\n",
        "\r\n",
        "### **Negative Sampling**\r\n",
        "\r\n",
        "The utility function can be improved by adding penalty for $w_I$ being close negative samples. E.g., we can replace\r\n",
        "$\\log P(w_O | w_I) $ by \r\n",
        "$$\r\n",
        "\\log \\sigma(w_O\\cdot w_I) + \r\n",
        "\\sum_{i=1}^k   \\mathop{\\mathbb{E}}{}_{w_i  \\sim P_n(w)} \\big[ \\log\\sigma( - w_i\\cdot w_I) \\big]\r\n",
        "$$\r\n",
        "where $k=5$,  $P_n(w) = U(w)^{0.75}/Z$, and $U(w)$ is unigram distribution.\r\n",
        "\r\n",
        "### **Subsampling of Frequent Words**\r\n",
        "\r\n",
        "To counter the imbalance between the rare and frequent words, Mikolov et al [1] discard each word $w$ in the training set with probability \r\n",
        "$$\r\n",
        "P(w) = 1-\\sqrt{\\frac{t}{f(w)}}\r\n",
        "$$\r\n",
        "where $f(w)$ is the frequency of $w$ and $t=10^{-5}$."
      ]
    },
    {
      "cell_type": "code",
      "metadata": {
        "id": "2J9cPAuR2rF4"
      },
      "source": [
        "from scipy.special import softmax\r\n",
        "# print('yhat=', yhat)\r\n",
        "# np.sum(np.exp(yhat)/np.sum(np.exp(yhat))-sftmax_yhat)\r\n",
        "\r\n",
        "\r\n",
        "def show_dot_products(W0,W1, vocab, i=0):\r\n",
        "  vi=W0[i,:]\r\n",
        "  print('INPUT   vector=', np.round(vi,2), f'   word={vocab[i]}')\r\n",
        "\r\n",
        "  yhat = np.zeros(len(vocab))\r\n",
        "  # print(yhat)\r\n",
        "  for k in range(len(vocab)):\r\n",
        "    vo = W1.transpose()[k,:]\r\n",
        "    yhat[k] = np.dot(vo,vi)\r\n",
        "  # print(yhat)\r\n",
        "\r\n",
        "  sftmax_yhat = softmax(yhat)\r\n",
        "  print('sftmax_yhat=', np.round(sftmax_yhat,2))\r\n",
        "  print()\r\n",
        "\r\n",
        "  for k in range(len(vocab)):\r\n",
        "    vo = W1.transpose()[k,:]\r\n",
        "    print(f'OUTPUT vector={str(np.round(vo,2)):15}',   \r\n",
        "          f'     dot(vo, vi)= {str(np.round(np.dot(vo,vi),2)):7}', \r\n",
        "          f'   prob={100*sftmax_yhat[k]:4.1f}'\r\n",
        "          f'   {vocab[k]}'  )\r\n"
      ],
      "execution_count": 67,
      "outputs": []
    },
    {
      "cell_type": "code",
      "metadata": {
        "colab": {
          "base_uri": "https://localhost:8080/"
        },
        "id": "5OEElhG-_LrC",
        "outputId": "50c7c5b9-ef56-4305-fe59-7fd879b79789"
      },
      "source": [
        "W0,W1,b0,b1 = get_weights(model)\r\n",
        "show_dot_products(W0,W1, vocab, i=11)"
      ],
      "execution_count": 68,
      "outputs": [
        {
          "output_type": "stream",
          "text": [
            "INPUT   vector= [ 2.56 -0.68]    word=штангист\n",
            "sftmax_yhat= [0.   0.01 0.01 0.02 0.13 0.01 0.14 0.08 0.11 0.2  0.01 0.13 0.15]\n",
            "\n",
            "OUTPUT vector=[-0.85 -2.1 ]        dot(vo, vi)= -0.75      prob= 0.5   балерина\n",
            "OUTPUT vector=[-0.09 -0.85]        dot(vo, vi)= 0.35       prob= 1.4   вдохновляет\n",
            "OUTPUT vector=[-0.25 -0.86]        dot(vo, vi)= -0.06      prob= 0.9   девочку\n",
            "OUTPUT vector=[-0.1  -1.09]        dot(vo, vi)= 0.5        prob= 1.6   женщина\n",
            "OUTPUT vector=[ 0.68 -1.21]        dot(vo, vi)= 2.56       prob=12.7   кичлам\n",
            "OUTPUT vector=[-0.23 -0.87]        dot(vo, vi)= 0.01       prob= 1.0   красивая\n",
            "OUTPUT vector=[ 0.75 -1.05]        dot(vo, vi)= 2.63       prob=13.7   ловкий\n",
            "OUTPUT vector=[ 0.51 -1.19]        dot(vo, vi)= 2.13       prob= 8.3   молодой\n",
            "OUTPUT vector=[ 0.66 -1.03]        dot(vo, vi)= 2.38       prob=10.7   мужчина\n",
            "OUTPUT vector=[ 0.65 -1.97]        dot(vo, vi)= 3.0        prob=19.8   сильный\n",
            "OUTPUT vector=[-0.1  -0.84]        dot(vo, vi)= 0.33       prob= 1.4   учит\n",
            "OUTPUT vector=[ 0.69 -1.16]        dot(vo, vi)= 2.55       prob=12.6   штангист\n",
            "OUTPUT vector=[ 0.57 -1.88]        dot(vo, vi)= 2.75       prob=15.4   юниор\n"
          ],
          "name": "stdout"
        }
      ]
    },
    {
      "cell_type": "markdown",
      "metadata": {
        "id": "swcElJqzKJN8"
      },
      "source": [
        "# MATRIX FACTORIZATION"
      ]
    },
    {
      "cell_type": "code",
      "metadata": {
        "colab": {
          "base_uri": "https://localhost:8080/"
        },
        "id": "Iwjup5D-knsr",
        "outputId": "1ff1d83c-46f7-4cf2-b696-7b469ff926b6"
      },
      "source": [
        "# adjacency matrix\r\n",
        "adjM = []\r\n",
        "for w in vocab:\r\n",
        "  # print(w)\r\n",
        "  row = np.array(np.sum( dfint.loc[ dfint['input'] == w, ['Y_train']], axis=0 ))[0]\r\n",
        "  adjM.append(row)\r\n",
        "np.asmatrix(adjM)"
      ],
      "execution_count": 69,
      "outputs": [
        {
          "output_type": "execute_result",
          "data": {
            "text/plain": [
              "matrix([[0, 1, 2, 1, 0, 1, 0, 0, 0, 0, 1, 0, 0],\n",
              "        [1, 0, 1, 0, 0, 0, 0, 0, 0, 0, 0, 0, 0],\n",
              "        [2, 1, 0, 0, 0, 0, 0, 0, 0, 0, 1, 0, 0],\n",
              "        [1, 0, 0, 0, 0, 1, 0, 0, 0, 0, 0, 0, 0],\n",
              "        [0, 0, 0, 0, 0, 0, 1, 0, 0, 1, 0, 0, 0],\n",
              "        [1, 0, 0, 1, 0, 0, 0, 0, 0, 0, 0, 0, 0],\n",
              "        [0, 0, 0, 0, 1, 0, 0, 0, 0, 1, 0, 1, 1],\n",
              "        [0, 0, 0, 0, 0, 0, 0, 0, 1, 0, 0, 0, 1],\n",
              "        [0, 0, 0, 0, 0, 0, 0, 1, 0, 1, 0, 1, 1],\n",
              "        [0, 0, 0, 0, 1, 0, 1, 0, 1, 0, 0, 1, 0],\n",
              "        [1, 0, 1, 0, 0, 0, 0, 0, 0, 0, 0, 0, 0],\n",
              "        [0, 0, 0, 0, 0, 0, 1, 0, 1, 1, 0, 0, 1],\n",
              "        [0, 0, 0, 0, 0, 0, 1, 1, 1, 0, 0, 1, 0]])"
            ]
          },
          "metadata": {
            "tags": []
          },
          "execution_count": 69
        }
      ]
    },
    {
      "cell_type": "code",
      "metadata": {
        "colab": {
          "base_uri": "https://localhost:8080/",
          "height": 285
        },
        "id": "lm8Pjn04mFKz",
        "outputId": "0d495f9c-3dd5-4459-d9b3-98ce8afc0435"
      },
      "source": [
        "from sklearn.decomposition import NMF\r\n",
        "NMF_Model = NMF(n_components=2, init='random', random_state=0)\r\n",
        "W = NMF_Model.fit_transform(adjM)\r\n",
        "H = NMF_Model.components_\r\n",
        "W=pd.DataFrame(W, columns=['x1','x2'])\r\n",
        "W['word'] = vocab.copy()\r\n",
        "W['values'] =w2v_df['values'].copy()\r\n",
        "W = W.reindex(columns=w2v_df.columns)\r\n",
        "\r\n",
        "%matplotlib inline\r\n",
        "plot_words(W, ttl='Matrix Factorization')"
      ],
      "execution_count": 70,
      "outputs": [
        {
          "output_type": "display_data",
          "data": {
            "image/png": "[encoded data removed]",
            "text/plain": [
              "<Figure size 432x288 with 1 Axes>"
            ]
          },
          "metadata": {
            "tags": [],
            "needs_background": "light"
          }
        }
      ]
    },
    {
      "cell_type": "code",
      "metadata": {
        "colab": {
          "base_uri": "https://localhost:8080/"
        },
        "id": "gDWCtoTh0Wp_",
        "outputId": "907f7412-350e-490e-aad2-c0dca44e901c"
      },
      "source": [
        "print(W[['word','x1','x2']])"
      ],
      "execution_count": 71,
      "outputs": [
        {
          "output_type": "stream",
          "text": [
            "           word            x1        x2\n",
            "0      балерина  1.136174e+00  0.000000\n",
            "1   вдохновляет  5.949282e-01  0.000000\n",
            "2       девочку  9.753754e-01  0.000000\n",
            "3       женщина  4.456382e-01  0.000000\n",
            "4        кичлам  0.000000e+00  0.388167\n",
            "5      красивая  4.456382e-01  0.000000\n",
            "6        ловкий  0.000000e+00  0.707590\n",
            "7       молодой  0.000000e+00  0.388167\n",
            "8       мужчина  0.000000e+00  0.707590\n",
            "9       сильный  1.299494e-09  0.707571\n",
            "10         учит  5.949282e-01  0.000000\n",
            "11     штангист  0.000000e+00  0.776334\n",
            "12        юниор  5.272011e-10  0.707571\n"
          ],
          "name": "stdout"
        }
      ]
    },
    {
      "cell_type": "markdown",
      "metadata": {
        "id": "zLZ7tOP3c1cC"
      },
      "source": [
        "# SVD\r\n",
        "\r\n",
        "https://scikit-learn.org/stable/modules/generated/sklearn.decomposition.TruncatedSVD.html"
      ]
    },
    {
      "cell_type": "code",
      "metadata": {
        "colab": {
          "base_uri": "https://localhost:8080/"
        },
        "id": "Lp39GJSJczz5",
        "outputId": "f817651e-5fc3-40fc-b5ea-20c05c63c56e"
      },
      "source": [
        "from sklearn.decomposition import TruncatedSVD\r\n",
        "from scipy.sparse import random as sparse_random\r\n",
        "# X = sparse_random(100, 100, density=0.01, format='csr', random_state=42)\r\n",
        "svd = TruncatedSVD(n_components=12, n_iter=7, random_state=42)\r\n",
        "svd.fit(adjM)\r\n",
        "print('svd.explained_variance_ratio_ = ', svd.explained_variance_ratio_)\r\n",
        "print('svd.explained_variance_ratio_.sum() = ',  svd.explained_variance_ratio_.sum())\r\n",
        "print('svd.singular_values_ = ',  svd.singular_values_)"
      ],
      "execution_count": 72,
      "outputs": [
        {
          "output_type": "stream",
          "text": [
            "svd.explained_variance_ratio_ =  [1.92185e-01 2.20818e-01 1.58579e-01 1.17647e-01 7.93085e-02 5.88235e-02\n",
            " 5.88235e-02 4.93081e-02 3.50951e-02 2.94118e-02 9.81613e-35 6.73293e-37]\n",
            "svd.explained_variance_ratio_.sum() =  0.9999999999999998\n",
            "svd.singular_values_ =  [3.64575e+00 3.54916e+00 2.33812e+00 2.00000e+00 1.64575e+00 1.41421e+00\n",
            " 1.41421e+00 1.31266e+00 1.10163e+00 1.00000e+00 5.79482e-17 4.78473e-18]\n"
          ],
          "name": "stdout"
        }
      ]
    },
    {
      "cell_type": "code",
      "metadata": {
        "id": "-x7bjS3Hc0TR"
      },
      "source": [
        ""
      ],
      "execution_count": 72,
      "outputs": []
    },
    {
      "cell_type": "code",
      "metadata": {
        "id": "5-rDXJG0c0fs"
      },
      "source": [
        ""
      ],
      "execution_count": 72,
      "outputs": []
    },
    {
      "cell_type": "markdown",
      "metadata": {
        "id": "m7dDJyLyMZip"
      },
      "source": [
        "# COMPUTE SOFTMAX"
      ]
    },
    {
      "cell_type": "code",
      "metadata": {
        "colab": {
          "base_uri": "https://localhost:8080/"
        },
        "id": "E2RwMv6dM1Qv",
        "outputId": "edecb394-e67a-409a-e83b-03cddeb4c1be"
      },
      "source": [
        "W0=(model.layers[0].get_weights()[0])\r\n",
        "W1=(model.layers[1].get_weights()[0])\r\n",
        "# # print(\"W0=\",W0)\r\n",
        "# # print(\"W1=\",W1)\r\n",
        "# print(\"W0=\",np.round(W0,1))\r\n",
        "# print(\"W1=\",np.round(W1,1))\r\n",
        "\r\n",
        "b0 = np.asarray(model.layers[0].bias).astype(float)\r\n",
        "b1 = np.asarray(model.layers[1].bias).astype(float)\r\n",
        "# # print(\"b0=\",b0)\r\n",
        "# # print(\"b1=\",b1)\r\n",
        "# print(\"b0=\",np.round(b0,1))\r\n",
        "# print(\"b1=\",np.round(b1,1))\r\n",
        "\r\n",
        "i=0\r\n",
        "# x = w2v_df.loc[i, ['x1', 'x2'] ].astype(float)\r\n",
        "# x = dfint.iloc[i, ['X_train'] ].astype(float)\r\n",
        "x=dfint.X_train[i]\r\n",
        "print('x=', x)\r\n",
        "y=dfint.Y_train[i]\r\n",
        "print('y=', y)\r\n",
        "\r\n",
        "\r\n",
        "\r\n",
        "np.set_printoptions(precision=5)\r\n",
        "\r\n",
        "yhat = np.matmul( np.matmul(x,W0)+b0,  W1 ) + b1\r\n",
        "from scipy.special import softmax\r\n",
        "print('yhat=', yhat)\r\n",
        "\r\n",
        "sftmax_yhat = softmax(yhat)\r\n",
        "print('sftmax_yhat=', sftmax_yhat)\r\n",
        "\r\n",
        "np.sum(np.exp(yhat)/np.sum(np.exp(yhat))-sftmax_yhat)"
      ],
      "execution_count": 73,
      "outputs": [
        {
          "output_type": "stream",
          "text": [
            "x= [1 0 0 0 0 0 0 0 0 0 0 0 0]\n",
            "y= [0 1 0 0 0 0 0 0 0 0 0 0 0]\n",
            "yhat= [ -9.46532  -7.1413   -6.07948  -7.79388 -10.56473  -7.07655  -9.33152\n",
            "  -9.81898  -8.86704 -12.81208  -7.09128  -9.45338 -12.06993]\n",
            "sftmax_yhat= [0.01373 0.14026 0.40559 0.07304 0.00457 0.14965 0.01569 0.00964 0.02497\n",
            " 0.00048 0.14746 0.01389 0.00102]\n"
          ],
          "name": "stdout"
        },
        {
          "output_type": "execute_result",
          "data": {
            "text/plain": [
              "-5.820539362988431e-16"
            ]
          },
          "metadata": {
            "tags": []
          },
          "execution_count": 73
        }
      ]
    },
    {
      "cell_type": "code",
      "metadata": {
        "id": "MuIkjn8g5P_c",
        "colab": {
          "base_uri": "https://localhost:8080/",
          "height": 1000
        },
        "outputId": "450c1f6b-dbf3-4f1d-e139-ea389e022600"
      },
      "source": [
        "dfint"
      ],
      "execution_count": 74,
      "outputs": [
        {
          "output_type": "execute_result",
          "data": {
            "text/html": [
              "<div>\n",
              "<style scoped>\n",
              "    .dataframe tbody tr th:only-of-type {\n",
              "        vertical-align: middle;\n",
              "    }\n",
              "\n",
              "    .dataframe tbody tr th {\n",
              "        vertical-align: top;\n",
              "    }\n",
              "\n",
              "    .dataframe thead th {\n",
              "        text-align: right;\n",
              "    }\n",
              "</style>\n",
              "<table border=\"1\" class=\"dataframe\">\n",
              "  <thead>\n",
              "    <tr style=\"text-align: right;\">\n",
              "      <th></th>\n",
              "      <th>input</th>\n",
              "      <th>label</th>\n",
              "      <th>X_train</th>\n",
              "      <th>Y_train</th>\n",
              "    </tr>\n",
              "  </thead>\n",
              "  <tbody>\n",
              "    <tr>\n",
              "      <th>0</th>\n",
              "      <td>балерина</td>\n",
              "      <td>вдохновляет</td>\n",
              "      <td>[1, 0, 0, 0, 0, 0, 0, 0, 0, 0, 0, 0, 0]</td>\n",
              "      <td>[0, 1, 0, 0, 0, 0, 0, 0, 0, 0, 0, 0, 0]</td>\n",
              "    </tr>\n",
              "    <tr>\n",
              "      <th>1</th>\n",
              "      <td>балерина</td>\n",
              "      <td>девочку</td>\n",
              "      <td>[1, 0, 0, 0, 0, 0, 0, 0, 0, 0, 0, 0, 0]</td>\n",
              "      <td>[0, 0, 1, 0, 0, 0, 0, 0, 0, 0, 0, 0, 0]</td>\n",
              "    </tr>\n",
              "    <tr>\n",
              "      <th>2</th>\n",
              "      <td>вдохновляет</td>\n",
              "      <td>балерина</td>\n",
              "      <td>[0, 1, 0, 0, 0, 0, 0, 0, 0, 0, 0, 0, 0]</td>\n",
              "      <td>[1, 0, 0, 0, 0, 0, 0, 0, 0, 0, 0, 0, 0]</td>\n",
              "    </tr>\n",
              "    <tr>\n",
              "      <th>3</th>\n",
              "      <td>вдохновляет</td>\n",
              "      <td>девочку</td>\n",
              "      <td>[0, 1, 0, 0, 0, 0, 0, 0, 0, 0, 0, 0, 0]</td>\n",
              "      <td>[0, 0, 1, 0, 0, 0, 0, 0, 0, 0, 0, 0, 0]</td>\n",
              "    </tr>\n",
              "    <tr>\n",
              "      <th>4</th>\n",
              "      <td>девочку</td>\n",
              "      <td>балерина</td>\n",
              "      <td>[0, 0, 1, 0, 0, 0, 0, 0, 0, 0, 0, 0, 0]</td>\n",
              "      <td>[1, 0, 0, 0, 0, 0, 0, 0, 0, 0, 0, 0, 0]</td>\n",
              "    </tr>\n",
              "    <tr>\n",
              "      <th>5</th>\n",
              "      <td>девочку</td>\n",
              "      <td>вдохновляет</td>\n",
              "      <td>[0, 0, 1, 0, 0, 0, 0, 0, 0, 0, 0, 0, 0]</td>\n",
              "      <td>[0, 1, 0, 0, 0, 0, 0, 0, 0, 0, 0, 0, 0]</td>\n",
              "    </tr>\n",
              "    <tr>\n",
              "      <th>6</th>\n",
              "      <td>кичлам</td>\n",
              "      <td>сильный</td>\n",
              "      <td>[0, 0, 0, 0, 1, 0, 0, 0, 0, 0, 0, 0, 0]</td>\n",
              "      <td>[0, 0, 0, 0, 0, 0, 0, 0, 0, 1, 0, 0, 0]</td>\n",
              "    </tr>\n",
              "    <tr>\n",
              "      <th>7</th>\n",
              "      <td>кичлам</td>\n",
              "      <td>ловкий</td>\n",
              "      <td>[0, 0, 0, 0, 1, 0, 0, 0, 0, 0, 0, 0, 0]</td>\n",
              "      <td>[0, 0, 0, 0, 0, 0, 1, 0, 0, 0, 0, 0, 0]</td>\n",
              "    </tr>\n",
              "    <tr>\n",
              "      <th>8</th>\n",
              "      <td>сильный</td>\n",
              "      <td>кичлам</td>\n",
              "      <td>[0, 0, 0, 0, 0, 0, 0, 0, 0, 1, 0, 0, 0]</td>\n",
              "      <td>[0, 0, 0, 0, 1, 0, 0, 0, 0, 0, 0, 0, 0]</td>\n",
              "    </tr>\n",
              "    <tr>\n",
              "      <th>9</th>\n",
              "      <td>сильный</td>\n",
              "      <td>ловкий</td>\n",
              "      <td>[0, 0, 0, 0, 0, 0, 0, 0, 0, 1, 0, 0, 0]</td>\n",
              "      <td>[0, 0, 0, 0, 0, 0, 1, 0, 0, 0, 0, 0, 0]</td>\n",
              "    </tr>\n",
              "    <tr>\n",
              "      <th>10</th>\n",
              "      <td>ловкий</td>\n",
              "      <td>кичлам</td>\n",
              "      <td>[0, 0, 0, 0, 0, 0, 1, 0, 0, 0, 0, 0, 0]</td>\n",
              "      <td>[0, 0, 0, 0, 1, 0, 0, 0, 0, 0, 0, 0, 0]</td>\n",
              "    </tr>\n",
              "    <tr>\n",
              "      <th>11</th>\n",
              "      <td>ловкий</td>\n",
              "      <td>сильный</td>\n",
              "      <td>[0, 0, 0, 0, 0, 0, 1, 0, 0, 0, 0, 0, 0]</td>\n",
              "      <td>[0, 0, 0, 0, 0, 0, 0, 0, 0, 1, 0, 0, 0]</td>\n",
              "    </tr>\n",
              "    <tr>\n",
              "      <th>12</th>\n",
              "      <td>штангист</td>\n",
              "      <td>сильный</td>\n",
              "      <td>[0, 0, 0, 0, 0, 0, 0, 0, 0, 0, 0, 1, 0]</td>\n",
              "      <td>[0, 0, 0, 0, 0, 0, 0, 0, 0, 1, 0, 0, 0]</td>\n",
              "    </tr>\n",
              "    <tr>\n",
              "      <th>13</th>\n",
              "      <td>штангист</td>\n",
              "      <td>мужчина</td>\n",
              "      <td>[0, 0, 0, 0, 0, 0, 0, 0, 0, 0, 0, 1, 0]</td>\n",
              "      <td>[0, 0, 0, 0, 0, 0, 0, 0, 1, 0, 0, 0, 0]</td>\n",
              "    </tr>\n",
              "    <tr>\n",
              "      <th>14</th>\n",
              "      <td>сильный</td>\n",
              "      <td>штангист</td>\n",
              "      <td>[0, 0, 0, 0, 0, 0, 0, 0, 0, 1, 0, 0, 0]</td>\n",
              "      <td>[0, 0, 0, 0, 0, 0, 0, 0, 0, 0, 0, 1, 0]</td>\n",
              "    </tr>\n",
              "    <tr>\n",
              "      <th>15</th>\n",
              "      <td>сильный</td>\n",
              "      <td>мужчина</td>\n",
              "      <td>[0, 0, 0, 0, 0, 0, 0, 0, 0, 1, 0, 0, 0]</td>\n",
              "      <td>[0, 0, 0, 0, 0, 0, 0, 0, 1, 0, 0, 0, 0]</td>\n",
              "    </tr>\n",
              "    <tr>\n",
              "      <th>16</th>\n",
              "      <td>мужчина</td>\n",
              "      <td>штангист</td>\n",
              "      <td>[0, 0, 0, 0, 0, 0, 0, 0, 1, 0, 0, 0, 0]</td>\n",
              "      <td>[0, 0, 0, 0, 0, 0, 0, 0, 0, 0, 0, 1, 0]</td>\n",
              "    </tr>\n",
              "    <tr>\n",
              "      <th>17</th>\n",
              "      <td>мужчина</td>\n",
              "      <td>сильный</td>\n",
              "      <td>[0, 0, 0, 0, 0, 0, 0, 0, 1, 0, 0, 0, 0]</td>\n",
              "      <td>[0, 0, 0, 0, 0, 0, 0, 0, 0, 1, 0, 0, 0]</td>\n",
              "    </tr>\n",
              "    <tr>\n",
              "      <th>18</th>\n",
              "      <td>балерина</td>\n",
              "      <td>красивая</td>\n",
              "      <td>[1, 0, 0, 0, 0, 0, 0, 0, 0, 0, 0, 0, 0]</td>\n",
              "      <td>[0, 0, 0, 0, 0, 1, 0, 0, 0, 0, 0, 0, 0]</td>\n",
              "    </tr>\n",
              "    <tr>\n",
              "      <th>19</th>\n",
              "      <td>балерина</td>\n",
              "      <td>женщина</td>\n",
              "      <td>[1, 0, 0, 0, 0, 0, 0, 0, 0, 0, 0, 0, 0]</td>\n",
              "      <td>[0, 0, 0, 1, 0, 0, 0, 0, 0, 0, 0, 0, 0]</td>\n",
              "    </tr>\n",
              "    <tr>\n",
              "      <th>20</th>\n",
              "      <td>красивая</td>\n",
              "      <td>балерина</td>\n",
              "      <td>[0, 0, 0, 0, 0, 1, 0, 0, 0, 0, 0, 0, 0]</td>\n",
              "      <td>[1, 0, 0, 0, 0, 0, 0, 0, 0, 0, 0, 0, 0]</td>\n",
              "    </tr>\n",
              "    <tr>\n",
              "      <th>21</th>\n",
              "      <td>красивая</td>\n",
              "      <td>женщина</td>\n",
              "      <td>[0, 0, 0, 0, 0, 1, 0, 0, 0, 0, 0, 0, 0]</td>\n",
              "      <td>[0, 0, 0, 1, 0, 0, 0, 0, 0, 0, 0, 0, 0]</td>\n",
              "    </tr>\n",
              "    <tr>\n",
              "      <th>22</th>\n",
              "      <td>женщина</td>\n",
              "      <td>балерина</td>\n",
              "      <td>[0, 0, 0, 1, 0, 0, 0, 0, 0, 0, 0, 0, 0]</td>\n",
              "      <td>[1, 0, 0, 0, 0, 0, 0, 0, 0, 0, 0, 0, 0]</td>\n",
              "    </tr>\n",
              "    <tr>\n",
              "      <th>23</th>\n",
              "      <td>женщина</td>\n",
              "      <td>красивая</td>\n",
              "      <td>[0, 0, 0, 1, 0, 0, 0, 0, 0, 0, 0, 0, 0]</td>\n",
              "      <td>[0, 0, 0, 0, 0, 1, 0, 0, 0, 0, 0, 0, 0]</td>\n",
              "    </tr>\n",
              "    <tr>\n",
              "      <th>24</th>\n",
              "      <td>юниор</td>\n",
              "      <td>ловкий</td>\n",
              "      <td>[0, 0, 0, 0, 0, 0, 0, 0, 0, 0, 0, 0, 1]</td>\n",
              "      <td>[0, 0, 0, 0, 0, 0, 1, 0, 0, 0, 0, 0, 0]</td>\n",
              "    </tr>\n",
              "    <tr>\n",
              "      <th>25</th>\n",
              "      <td>юниор</td>\n",
              "      <td>штангист</td>\n",
              "      <td>[0, 0, 0, 0, 0, 0, 0, 0, 0, 0, 0, 0, 1]</td>\n",
              "      <td>[0, 0, 0, 0, 0, 0, 0, 0, 0, 0, 0, 1, 0]</td>\n",
              "    </tr>\n",
              "    <tr>\n",
              "      <th>26</th>\n",
              "      <td>ловкий</td>\n",
              "      <td>юниор</td>\n",
              "      <td>[0, 0, 0, 0, 0, 0, 1, 0, 0, 0, 0, 0, 0]</td>\n",
              "      <td>[0, 0, 0, 0, 0, 0, 0, 0, 0, 0, 0, 0, 1]</td>\n",
              "    </tr>\n",
              "    <tr>\n",
              "      <th>27</th>\n",
              "      <td>ловкий</td>\n",
              "      <td>штангист</td>\n",
              "      <td>[0, 0, 0, 0, 0, 0, 1, 0, 0, 0, 0, 0, 0]</td>\n",
              "      <td>[0, 0, 0, 0, 0, 0, 0, 0, 0, 0, 0, 1, 0]</td>\n",
              "    </tr>\n",
              "    <tr>\n",
              "      <th>28</th>\n",
              "      <td>штангист</td>\n",
              "      <td>юниор</td>\n",
              "      <td>[0, 0, 0, 0, 0, 0, 0, 0, 0, 0, 0, 1, 0]</td>\n",
              "      <td>[0, 0, 0, 0, 0, 0, 0, 0, 0, 0, 0, 0, 1]</td>\n",
              "    </tr>\n",
              "    <tr>\n",
              "      <th>29</th>\n",
              "      <td>штангист</td>\n",
              "      <td>ловкий</td>\n",
              "      <td>[0, 0, 0, 0, 0, 0, 0, 0, 0, 0, 0, 1, 0]</td>\n",
              "      <td>[0, 0, 0, 0, 0, 0, 1, 0, 0, 0, 0, 0, 0]</td>\n",
              "    </tr>\n",
              "    <tr>\n",
              "      <th>30</th>\n",
              "      <td>юниор</td>\n",
              "      <td>молодой</td>\n",
              "      <td>[0, 0, 0, 0, 0, 0, 0, 0, 0, 0, 0, 0, 1]</td>\n",
              "      <td>[0, 0, 0, 0, 0, 0, 0, 1, 0, 0, 0, 0, 0]</td>\n",
              "    </tr>\n",
              "    <tr>\n",
              "      <th>31</th>\n",
              "      <td>юниор</td>\n",
              "      <td>мужчина</td>\n",
              "      <td>[0, 0, 0, 0, 0, 0, 0, 0, 0, 0, 0, 0, 1]</td>\n",
              "      <td>[0, 0, 0, 0, 0, 0, 0, 0, 1, 0, 0, 0, 0]</td>\n",
              "    </tr>\n",
              "    <tr>\n",
              "      <th>32</th>\n",
              "      <td>молодой</td>\n",
              "      <td>юниор</td>\n",
              "      <td>[0, 0, 0, 0, 0, 0, 0, 1, 0, 0, 0, 0, 0]</td>\n",
              "      <td>[0, 0, 0, 0, 0, 0, 0, 0, 0, 0, 0, 0, 1]</td>\n",
              "    </tr>\n",
              "    <tr>\n",
              "      <th>33</th>\n",
              "      <td>молодой</td>\n",
              "      <td>мужчина</td>\n",
              "      <td>[0, 0, 0, 0, 0, 0, 0, 1, 0, 0, 0, 0, 0]</td>\n",
              "      <td>[0, 0, 0, 0, 0, 0, 0, 0, 1, 0, 0, 0, 0]</td>\n",
              "    </tr>\n",
              "    <tr>\n",
              "      <th>34</th>\n",
              "      <td>мужчина</td>\n",
              "      <td>юниор</td>\n",
              "      <td>[0, 0, 0, 0, 0, 0, 0, 0, 1, 0, 0, 0, 0]</td>\n",
              "      <td>[0, 0, 0, 0, 0, 0, 0, 0, 0, 0, 0, 0, 1]</td>\n",
              "    </tr>\n",
              "    <tr>\n",
              "      <th>35</th>\n",
              "      <td>мужчина</td>\n",
              "      <td>молодой</td>\n",
              "      <td>[0, 0, 0, 0, 0, 0, 0, 0, 1, 0, 0, 0, 0]</td>\n",
              "      <td>[0, 0, 0, 0, 0, 0, 0, 1, 0, 0, 0, 0, 0]</td>\n",
              "    </tr>\n",
              "    <tr>\n",
              "      <th>36</th>\n",
              "      <td>девочку</td>\n",
              "      <td>учит</td>\n",
              "      <td>[0, 0, 1, 0, 0, 0, 0, 0, 0, 0, 0, 0, 0]</td>\n",
              "      <td>[0, 0, 0, 0, 0, 0, 0, 0, 0, 0, 1, 0, 0]</td>\n",
              "    </tr>\n",
              "    <tr>\n",
              "      <th>37</th>\n",
              "      <td>девочку</td>\n",
              "      <td>балерина</td>\n",
              "      <td>[0, 0, 1, 0, 0, 0, 0, 0, 0, 0, 0, 0, 0]</td>\n",
              "      <td>[1, 0, 0, 0, 0, 0, 0, 0, 0, 0, 0, 0, 0]</td>\n",
              "    </tr>\n",
              "    <tr>\n",
              "      <th>38</th>\n",
              "      <td>учит</td>\n",
              "      <td>девочку</td>\n",
              "      <td>[0, 0, 0, 0, 0, 0, 0, 0, 0, 0, 1, 0, 0]</td>\n",
              "      <td>[0, 0, 1, 0, 0, 0, 0, 0, 0, 0, 0, 0, 0]</td>\n",
              "    </tr>\n",
              "    <tr>\n",
              "      <th>39</th>\n",
              "      <td>учит</td>\n",
              "      <td>балерина</td>\n",
              "      <td>[0, 0, 0, 0, 0, 0, 0, 0, 0, 0, 1, 0, 0]</td>\n",
              "      <td>[1, 0, 0, 0, 0, 0, 0, 0, 0, 0, 0, 0, 0]</td>\n",
              "    </tr>\n",
              "    <tr>\n",
              "      <th>40</th>\n",
              "      <td>балерина</td>\n",
              "      <td>девочку</td>\n",
              "      <td>[1, 0, 0, 0, 0, 0, 0, 0, 0, 0, 0, 0, 0]</td>\n",
              "      <td>[0, 0, 1, 0, 0, 0, 0, 0, 0, 0, 0, 0, 0]</td>\n",
              "    </tr>\n",
              "    <tr>\n",
              "      <th>41</th>\n",
              "      <td>балерина</td>\n",
              "      <td>учит</td>\n",
              "      <td>[1, 0, 0, 0, 0, 0, 0, 0, 0, 0, 0, 0, 0]</td>\n",
              "      <td>[0, 0, 0, 0, 0, 0, 0, 0, 0, 0, 1, 0, 0]</td>\n",
              "    </tr>\n",
              "  </tbody>\n",
              "</table>\n",
              "</div>"
            ],
            "text/plain": [
              "          input        label                                  X_train                                  Y_train\n",
              "0      балерина  вдохновляет  [1, 0, 0, 0, 0, 0, 0, 0, 0, 0, 0, 0, 0]  [0, 1, 0, 0, 0, 0, 0, 0, 0, 0, 0, 0, 0]\n",
              "1      балерина      девочку  [1, 0, 0, 0, 0, 0, 0, 0, 0, 0, 0, 0, 0]  [0, 0, 1, 0, 0, 0, 0, 0, 0, 0, 0, 0, 0]\n",
              "2   вдохновляет     балерина  [0, 1, 0, 0, 0, 0, 0, 0, 0, 0, 0, 0, 0]  [1, 0, 0, 0, 0, 0, 0, 0, 0, 0, 0, 0, 0]\n",
              "3   вдохновляет      девочку  [0, 1, 0, 0, 0, 0, 0, 0, 0, 0, 0, 0, 0]  [0, 0, 1, 0, 0, 0, 0, 0, 0, 0, 0, 0, 0]\n",
              "4       девочку     балерина  [0, 0, 1, 0, 0, 0, 0, 0, 0, 0, 0, 0, 0]  [1, 0, 0, 0, 0, 0, 0, 0, 0, 0, 0, 0, 0]\n",
              "5       девочку  вдохновляет  [0, 0, 1, 0, 0, 0, 0, 0, 0, 0, 0, 0, 0]  [0, 1, 0, 0, 0, 0, 0, 0, 0, 0, 0, 0, 0]\n",
              "6        кичлам      сильный  [0, 0, 0, 0, 1, 0, 0, 0, 0, 0, 0, 0, 0]  [0, 0, 0, 0, 0, 0, 0, 0, 0, 1, 0, 0, 0]\n",
              "7        кичлам       ловкий  [0, 0, 0, 0, 1, 0, 0, 0, 0, 0, 0, 0, 0]  [0, 0, 0, 0, 0, 0, 1, 0, 0, 0, 0, 0, 0]\n",
              "8       сильный       кичлам  [0, 0, 0, 0, 0, 0, 0, 0, 0, 1, 0, 0, 0]  [0, 0, 0, 0, 1, 0, 0, 0, 0, 0, 0, 0, 0]\n",
              "9       сильный       ловкий  [0, 0, 0, 0, 0, 0, 0, 0, 0, 1, 0, 0, 0]  [0, 0, 0, 0, 0, 0, 1, 0, 0, 0, 0, 0, 0]\n",
              "10       ловкий       кичлам  [0, 0, 0, 0, 0, 0, 1, 0, 0, 0, 0, 0, 0]  [0, 0, 0, 0, 1, 0, 0, 0, 0, 0, 0, 0, 0]\n",
              "11       ловкий      сильный  [0, 0, 0, 0, 0, 0, 1, 0, 0, 0, 0, 0, 0]  [0, 0, 0, 0, 0, 0, 0, 0, 0, 1, 0, 0, 0]\n",
              "12     штангист      сильный  [0, 0, 0, 0, 0, 0, 0, 0, 0, 0, 0, 1, 0]  [0, 0, 0, 0, 0, 0, 0, 0, 0, 1, 0, 0, 0]\n",
              "13     штангист      мужчина  [0, 0, 0, 0, 0, 0, 0, 0, 0, 0, 0, 1, 0]  [0, 0, 0, 0, 0, 0, 0, 0, 1, 0, 0, 0, 0]\n",
              "14      сильный     штангист  [0, 0, 0, 0, 0, 0, 0, 0, 0, 1, 0, 0, 0]  [0, 0, 0, 0, 0, 0, 0, 0, 0, 0, 0, 1, 0]\n",
              "15      сильный      мужчина  [0, 0, 0, 0, 0, 0, 0, 0, 0, 1, 0, 0, 0]  [0, 0, 0, 0, 0, 0, 0, 0, 1, 0, 0, 0, 0]\n",
              "16      мужчина     штангист  [0, 0, 0, 0, 0, 0, 0, 0, 1, 0, 0, 0, 0]  [0, 0, 0, 0, 0, 0, 0, 0, 0, 0, 0, 1, 0]\n",
              "17      мужчина      сильный  [0, 0, 0, 0, 0, 0, 0, 0, 1, 0, 0, 0, 0]  [0, 0, 0, 0, 0, 0, 0, 0, 0, 1, 0, 0, 0]\n",
              "18     балерина     красивая  [1, 0, 0, 0, 0, 0, 0, 0, 0, 0, 0, 0, 0]  [0, 0, 0, 0, 0, 1, 0, 0, 0, 0, 0, 0, 0]\n",
              "19     балерина      женщина  [1, 0, 0, 0, 0, 0, 0, 0, 0, 0, 0, 0, 0]  [0, 0, 0, 1, 0, 0, 0, 0, 0, 0, 0, 0, 0]\n",
              "20     красивая     балерина  [0, 0, 0, 0, 0, 1, 0, 0, 0, 0, 0, 0, 0]  [1, 0, 0, 0, 0, 0, 0, 0, 0, 0, 0, 0, 0]\n",
              "21     красивая      женщина  [0, 0, 0, 0, 0, 1, 0, 0, 0, 0, 0, 0, 0]  [0, 0, 0, 1, 0, 0, 0, 0, 0, 0, 0, 0, 0]\n",
              "22      женщина     балерина  [0, 0, 0, 1, 0, 0, 0, 0, 0, 0, 0, 0, 0]  [1, 0, 0, 0, 0, 0, 0, 0, 0, 0, 0, 0, 0]\n",
              "23      женщина     красивая  [0, 0, 0, 1, 0, 0, 0, 0, 0, 0, 0, 0, 0]  [0, 0, 0, 0, 0, 1, 0, 0, 0, 0, 0, 0, 0]\n",
              "24        юниор       ловкий  [0, 0, 0, 0, 0, 0, 0, 0, 0, 0, 0, 0, 1]  [0, 0, 0, 0, 0, 0, 1, 0, 0, 0, 0, 0, 0]\n",
              "25        юниор     штангист  [0, 0, 0, 0, 0, 0, 0, 0, 0, 0, 0, 0, 1]  [0, 0, 0, 0, 0, 0, 0, 0, 0, 0, 0, 1, 0]\n",
              "26       ловкий        юниор  [0, 0, 0, 0, 0, 0, 1, 0, 0, 0, 0, 0, 0]  [0, 0, 0, 0, 0, 0, 0, 0, 0, 0, 0, 0, 1]\n",
              "27       ловкий     штангист  [0, 0, 0, 0, 0, 0, 1, 0, 0, 0, 0, 0, 0]  [0, 0, 0, 0, 0, 0, 0, 0, 0, 0, 0, 1, 0]\n",
              "28     штангист        юниор  [0, 0, 0, 0, 0, 0, 0, 0, 0, 0, 0, 1, 0]  [0, 0, 0, 0, 0, 0, 0, 0, 0, 0, 0, 0, 1]\n",
              "29     штангист       ловкий  [0, 0, 0, 0, 0, 0, 0, 0, 0, 0, 0, 1, 0]  [0, 0, 0, 0, 0, 0, 1, 0, 0, 0, 0, 0, 0]\n",
              "30        юниор      молодой  [0, 0, 0, 0, 0, 0, 0, 0, 0, 0, 0, 0, 1]  [0, 0, 0, 0, 0, 0, 0, 1, 0, 0, 0, 0, 0]\n",
              "31        юниор      мужчина  [0, 0, 0, 0, 0, 0, 0, 0, 0, 0, 0, 0, 1]  [0, 0, 0, 0, 0, 0, 0, 0, 1, 0, 0, 0, 0]\n",
              "32      молодой        юниор  [0, 0, 0, 0, 0, 0, 0, 1, 0, 0, 0, 0, 0]  [0, 0, 0, 0, 0, 0, 0, 0, 0, 0, 0, 0, 1]\n",
              "33      молодой      мужчина  [0, 0, 0, 0, 0, 0, 0, 1, 0, 0, 0, 0, 0]  [0, 0, 0, 0, 0, 0, 0, 0, 1, 0, 0, 0, 0]\n",
              "34      мужчина        юниор  [0, 0, 0, 0, 0, 0, 0, 0, 1, 0, 0, 0, 0]  [0, 0, 0, 0, 0, 0, 0, 0, 0, 0, 0, 0, 1]\n",
              "35      мужчина      молодой  [0, 0, 0, 0, 0, 0, 0, 0, 1, 0, 0, 0, 0]  [0, 0, 0, 0, 0, 0, 0, 1, 0, 0, 0, 0, 0]\n",
              "36      девочку         учит  [0, 0, 1, 0, 0, 0, 0, 0, 0, 0, 0, 0, 0]  [0, 0, 0, 0, 0, 0, 0, 0, 0, 0, 1, 0, 0]\n",
              "37      девочку     балерина  [0, 0, 1, 0, 0, 0, 0, 0, 0, 0, 0, 0, 0]  [1, 0, 0, 0, 0, 0, 0, 0, 0, 0, 0, 0, 0]\n",
              "38         учит      девочку  [0, 0, 0, 0, 0, 0, 0, 0, 0, 0, 1, 0, 0]  [0, 0, 1, 0, 0, 0, 0, 0, 0, 0, 0, 0, 0]\n",
              "39         учит     балерина  [0, 0, 0, 0, 0, 0, 0, 0, 0, 0, 1, 0, 0]  [1, 0, 0, 0, 0, 0, 0, 0, 0, 0, 0, 0, 0]\n",
              "40     балерина      девочку  [1, 0, 0, 0, 0, 0, 0, 0, 0, 0, 0, 0, 0]  [0, 0, 1, 0, 0, 0, 0, 0, 0, 0, 0, 0, 0]\n",
              "41     балерина         учит  [1, 0, 0, 0, 0, 0, 0, 0, 0, 0, 0, 0, 0]  [0, 0, 0, 0, 0, 0, 0, 0, 0, 0, 1, 0, 0]"
            ]
          },
          "metadata": {
            "tags": []
          },
          "execution_count": 74
        }
      ]
    },
    {
      "cell_type": "code",
      "metadata": {
        "id": "urn0g1ybMd98"
      },
      "source": [
        ""
      ],
      "execution_count": 74,
      "outputs": []
    },
    {
      "cell_type": "code",
      "metadata": {
        "id": "t9IWU6j-AjeP"
      },
      "source": [
        "# model.get_weights()\r\n",
        "# model.weights"
      ],
      "execution_count": 75,
      "outputs": []
    },
    {
      "cell_type": "code",
      "metadata": {
        "id": "qHpvXzO8AkFP"
      },
      "source": [
        "# # https://ai-pool.com/d/how-to-get-the-weights-of-keras-model-\r\n",
        "# for layer in model.layers:\r\n",
        "#     weights = layer.get_weights() # list\r\n",
        "\r\n",
        "# from keras.models import Sequential\r\n",
        "# model = Sequential()\r\n",
        "# weights = model.get_weights() # returs a numpy list of weights  \r\n",
        "\r\n",
        "\r\n"
      ],
      "execution_count": 76,
      "outputs": []
    },
    {
      "cell_type": "code",
      "metadata": {
        "colab": {
          "base_uri": "https://localhost:8080/"
        },
        "id": "Cd-sHW8f8kjG",
        "outputId": "f141986d-8663-474c-e785-9138822bdaed"
      },
      "source": [
        "W0=(model.layers[0].get_weights()[0])\r\n",
        "W1=(model.layers[1].get_weights()[0])\r\n",
        "# print(\"W0=\",W0)\r\n",
        "# print(\"W1=\",W1)\r\n",
        "print(\"W0=\",np.round(W0,1))\r\n",
        "print(\"W1=\",np.round(W1,1))\r\n",
        "\r\n",
        "b0 = np.asarray(model.layers[0].bias).astype(float)\r\n",
        "b1 = np.asarray(model.layers[1].bias).astype(float)\r\n",
        "# print(\"b0=\",b0)\r\n",
        "# print(\"b1=\",b1)\r\n",
        "print(\"b0=\",np.round(b0,1))\r\n",
        "print(\"b1=\",np.round(b1,1))\r\n"
      ],
      "execution_count": 77,
      "outputs": [
        {
          "output_type": "stream",
          "text": [
            "W0= [[-2.2  4.2]\n",
            " [-1.8 -0. ]\n",
            " [-1.8  0.3]\n",
            " [-2.2  0.2]\n",
            " [ 2.4 -0.4]\n",
            " [-0.8 -0.8]\n",
            " [ 2.6 -1. ]\n",
            " [ 1.8 -0.1]\n",
            " [ 2.  -1. ]\n",
            " [ 3.8  2.2]\n",
            " [-1.8  0. ]\n",
            " [ 2.6 -0.7]\n",
            " [ 2.7  2.2]]\n",
            "W1= [[-0.9 -0.1 -0.3 -0.1  0.7 -0.2  0.7  0.5  0.7  0.6 -0.1  0.7  0.6]\n",
            " [-2.1 -0.9 -0.9 -1.1 -1.2 -0.9 -1.  -1.2 -1.  -2.  -0.8 -1.2 -1.9]]\n",
            "b0= [0.3 0.4]\n",
            "b1= [-1.4 -3.4 -2.6 -3.  -3.7 -3.5 -3.  -3.3 -2.9 -2.5 -3.4 -2.8 -2.3]\n"
          ],
          "name": "stdout"
        }
      ]
    },
    {
      "cell_type": "code",
      "metadata": {
        "id": "m3g6rhhr5QUW"
      },
      "source": [
        "# bias.value\r\n",
        "# W0"
      ],
      "execution_count": 78,
      "outputs": []
    },
    {
      "cell_type": "code",
      "metadata": {
        "colab": {
          "base_uri": "https://localhost:8080/",
          "height": 452
        },
        "id": "is780fIY5Qp1",
        "outputId": "2f6481b6-a619-410d-d94d-ad47fcbf18fa"
      },
      "source": [
        "# d2 = pd.DataFrame(  model.weights[0].numpy(),  columns = ['x1', 'x2'] )\r\n",
        "d2 = pd.DataFrame(  np.round(W0,1),  columns = ['x1', 'x2'] )\r\n",
        "w2v_df = pd.concat( [w2idx,d2],axis=1 )\r\n",
        "w2v_df[['word',\t'x1',\t'x2']]"
      ],
      "execution_count": 79,
      "outputs": [
        {
          "output_type": "execute_result",
          "data": {
            "text/html": [
              "<div>\n",
              "<style scoped>\n",
              "    .dataframe tbody tr th:only-of-type {\n",
              "        vertical-align: middle;\n",
              "    }\n",
              "\n",
              "    .dataframe tbody tr th {\n",
              "        vertical-align: top;\n",
              "    }\n",
              "\n",
              "    .dataframe thead th {\n",
              "        text-align: right;\n",
              "    }\n",
              "</style>\n",
              "<table border=\"1\" class=\"dataframe\">\n",
              "  <thead>\n",
              "    <tr style=\"text-align: right;\">\n",
              "      <th></th>\n",
              "      <th>word</th>\n",
              "      <th>x1</th>\n",
              "      <th>x2</th>\n",
              "    </tr>\n",
              "  </thead>\n",
              "  <tbody>\n",
              "    <tr>\n",
              "      <th>0</th>\n",
              "      <td>балерина</td>\n",
              "      <td>-2.2</td>\n",
              "      <td>4.2</td>\n",
              "    </tr>\n",
              "    <tr>\n",
              "      <th>1</th>\n",
              "      <td>вдохновляет</td>\n",
              "      <td>-1.8</td>\n",
              "      <td>-0.0</td>\n",
              "    </tr>\n",
              "    <tr>\n",
              "      <th>2</th>\n",
              "      <td>девочку</td>\n",
              "      <td>-1.8</td>\n",
              "      <td>0.3</td>\n",
              "    </tr>\n",
              "    <tr>\n",
              "      <th>3</th>\n",
              "      <td>женщина</td>\n",
              "      <td>-2.2</td>\n",
              "      <td>0.2</td>\n",
              "    </tr>\n",
              "    <tr>\n",
              "      <th>4</th>\n",
              "      <td>кичлам</td>\n",
              "      <td>2.4</td>\n",
              "      <td>-0.4</td>\n",
              "    </tr>\n",
              "    <tr>\n",
              "      <th>5</th>\n",
              "      <td>красивая</td>\n",
              "      <td>-0.8</td>\n",
              "      <td>-0.8</td>\n",
              "    </tr>\n",
              "    <tr>\n",
              "      <th>6</th>\n",
              "      <td>ловкий</td>\n",
              "      <td>2.6</td>\n",
              "      <td>-1.0</td>\n",
              "    </tr>\n",
              "    <tr>\n",
              "      <th>7</th>\n",
              "      <td>молодой</td>\n",
              "      <td>1.8</td>\n",
              "      <td>-0.1</td>\n",
              "    </tr>\n",
              "    <tr>\n",
              "      <th>8</th>\n",
              "      <td>мужчина</td>\n",
              "      <td>2.0</td>\n",
              "      <td>-1.0</td>\n",
              "    </tr>\n",
              "    <tr>\n",
              "      <th>9</th>\n",
              "      <td>сильный</td>\n",
              "      <td>3.8</td>\n",
              "      <td>2.2</td>\n",
              "    </tr>\n",
              "    <tr>\n",
              "      <th>10</th>\n",
              "      <td>учит</td>\n",
              "      <td>-1.8</td>\n",
              "      <td>0.0</td>\n",
              "    </tr>\n",
              "    <tr>\n",
              "      <th>11</th>\n",
              "      <td>штангист</td>\n",
              "      <td>2.6</td>\n",
              "      <td>-0.7</td>\n",
              "    </tr>\n",
              "    <tr>\n",
              "      <th>12</th>\n",
              "      <td>юниор</td>\n",
              "      <td>2.7</td>\n",
              "      <td>2.2</td>\n",
              "    </tr>\n",
              "  </tbody>\n",
              "</table>\n",
              "</div>"
            ],
            "text/plain": [
              "           word   x1   x2\n",
              "0      балерина -2.2  4.2\n",
              "1   вдохновляет -1.8 -0.0\n",
              "2       девочку -1.8  0.3\n",
              "3       женщина -2.2  0.2\n",
              "4        кичлам  2.4 -0.4\n",
              "5      красивая -0.8 -0.8\n",
              "6        ловкий  2.6 -1.0\n",
              "7       молодой  1.8 -0.1\n",
              "8       мужчина  2.0 -1.0\n",
              "9       сильный  3.8  2.2\n",
              "10         учит -1.8  0.0\n",
              "11     штангист  2.6 -0.7\n",
              "12        юниор  2.7  2.2"
            ]
          },
          "metadata": {
            "tags": []
          },
          "execution_count": 79
        }
      ]
    },
    {
      "cell_type": "code",
      "metadata": {
        "colab": {
          "base_uri": "https://localhost:8080/"
        },
        "id": "Zb9GrWES5Q0_",
        "outputId": "1262c4fe-a464-43dd-fdab-4738ad4d6d87"
      },
      "source": [
        "X_train[0].astype(int)\r\n"
      ],
      "execution_count": 80,
      "outputs": [
        {
          "output_type": "execute_result",
          "data": {
            "text/plain": [
              "array([1, 0, 0, 0, 0, 0, 0, 0, 0, 0, 0, 0, 0])"
            ]
          },
          "metadata": {
            "tags": []
          },
          "execution_count": 80
        }
      ]
    },
    {
      "cell_type": "code",
      "metadata": {
        "colab": {
          "base_uri": "https://localhost:8080/"
        },
        "id": "cvPQy-gxvBv-",
        "outputId": "f2978e4c-5747-4847-c8f0-2aa50ddc43cd"
      },
      "source": [
        "import math\r\n",
        "def sigmoid(x):\r\n",
        "  return 1 / (1 + math.exp(-x))\r\n",
        "\r\n",
        "def nearby_vectors(u,v, sign=1):\r\n",
        "  uv = np.dot(u,v)\r\n",
        "  siguv = sigmoid(sign*uv)\r\n",
        "  logsiguv = np.log(siguv)\r\n",
        "  print( 'u=',u,  '  v=',v)\r\n",
        "  if sign==1:\r\n",
        "      print( f'uv={np.round(uv,1)}, sig(uv)={siguv}, log(sig(uv))={logsiguv}')\r\n",
        "  if sign == -1:\r\n",
        "      print( f'uv={np.round(uv,1)}, sig(-uv)={siguv}, log(sig(-uv))={logsiguv}')\r\n",
        "  return uv, siguv, logsiguv\r\n",
        "\r\n",
        "x=np.array([1.1, -3.9])  # балерина\r\n",
        "y=np.array([0.1, -4])    # девочку\r\n",
        "\r\n",
        "noise_x = np.array([ [-0.1,3.2], [-0.2,2.8]  ])\r\n",
        "xn0 = noise_x[0]\r\n",
        "\r\n",
        "print('GOOD SOLUTION:')\r\n",
        "nearby_vectors(x,y)\r\n",
        "nearby_vectors(x, xn0, sign=-1)\r\n",
        "\r\n",
        "print('\\nBAD SOLUTION:')\r\n",
        "nearby_vectors(x,y,-1)\r\n",
        "nearby_vectors(x, xn0, sign=1)\r\n",
        "a=2"
      ],
      "execution_count": 81,
      "outputs": [
        {
          "output_type": "stream",
          "text": [
            "GOOD SOLUTION:\n",
            "u= [ 1.1 -3.9]   v= [ 0.1 -4. ]\n",
            "uv=15.7, sig(uv)=0.9999998496049218, log(sig(uv))=-1.5039508947828205e-07\n",
            "u= [ 1.1 -3.9]   v= [-0.1  3.2]\n",
            "uv=-12.6, sig(-uv)=0.9999965941070496, log(sig(-uv))=-3.405898750514251e-06\n",
            "\n",
            "BAD SOLUTION:\n",
            "u= [ 1.1 -3.9]   v= [ 0.1 -4. ]\n",
            "uv=15.7, sig(-uv)=1.5039507824588425e-07, log(sig(-uv))=-15.71000015039509\n",
            "u= [ 1.1 -3.9]   v= [-0.1  3.2]\n",
            "uv=-12.6, sig(uv)=3.405892950506343e-06, log(sig(uv))=-12.59000340589875\n"
          ],
          "name": "stdout"
        }
      ]
    },
    {
      "cell_type": "code",
      "metadata": {
        "id": "PHB0NtbI3h6_"
      },
      "source": [
        "# import nltk\r\n",
        "# from nltk import tokenize\r\n",
        "# tokenize.sent_tokenize(p)\r\n",
        "\r\n"
      ],
      "execution_count": 82,
      "outputs": []
    },
    {
      "cell_type": "code",
      "metadata": {
        "id": "qDIVf2_43ij7"
      },
      "source": [
        ""
      ],
      "execution_count": 82,
      "outputs": []
    },
    {
      "cell_type": "code",
      "metadata": {
        "id": "n2GzxQtU3irP"
      },
      "source": [
        ""
      ],
      "execution_count": 82,
      "outputs": []
    },
    {
      "cell_type": "code",
      "metadata": {
        "colab": {
          "base_uri": "https://localhost:8080/"
        },
        "id": "OwS_Zz-avZgt",
        "outputId": "7a5cb340-eeb4-4782-9302-a64b7f7cb5df"
      },
      "source": [
        "np.asarray(w2v_df['word'])"
      ],
      "execution_count": 83,
      "outputs": [
        {
          "output_type": "execute_result",
          "data": {
            "text/plain": [
              "array(['балерина', 'вдохновляет', 'девочку', 'женщина', 'кичлам',\n",
              "       'красивая', 'ловкий', 'молодой', 'мужчина', 'сильный', 'учит',\n",
              "       'штангист', 'юниор'], dtype=object)"
            ]
          },
          "metadata": {
            "tags": []
          },
          "execution_count": 83
        }
      ]
    },
    {
      "cell_type": "code",
      "metadata": {
        "colab": {
          "base_uri": "https://localhost:8080/"
        },
        "id": "Drthxt_PjHoY",
        "outputId": "2cd5f337-744a-44c0-f410-dd773f3f2867"
      },
      "source": [
        "# [(x, y) for x in [1,2,3] for y in [3,1,4] if x != y]\r\n",
        "sentences = []\r\n",
        "for sentence in corpus:\r\n",
        "    sentences.append(sentence.split())\r\n",
        "sentences\r\n"
      ],
      "execution_count": 84,
      "outputs": [
        {
          "output_type": "execute_result",
          "data": {
            "text/plain": [
              "[['балерина', 'вдохновляет', 'девочку'],\n",
              " ['кичлам', 'сильный', 'ловкий'],\n",
              " ['штангист', 'сильный', 'мужчина'],\n",
              " ['балерина', 'красивая', 'женщина'],\n",
              " ['юниор', 'ловкий', 'штангист'],\n",
              " ['юниор', 'молодой', 'мужчина'],\n",
              " ['девочку', 'учит', 'балерина']]"
            ]
          },
          "metadata": {
            "tags": []
          },
          "execution_count": 84
        }
      ]
    },
    {
      "cell_type": "code",
      "metadata": {
        "colab": {
          "base_uri": "https://localhost:8080/"
        },
        "id": "SrKR0SmM0fEP",
        "outputId": "8e1d2b94-0eb2-48bf-bcfa-df8c7252dcea"
      },
      "source": [
        "\r\n",
        "sentences"
      ],
      "execution_count": 85,
      "outputs": [
        {
          "output_type": "execute_result",
          "data": {
            "text/plain": [
              "[['балерина', 'вдохновляет', 'девочку'],\n",
              " ['кичлам', 'сильный', 'ловкий'],\n",
              " ['штангист', 'сильный', 'мужчина'],\n",
              " ['балерина', 'красивая', 'женщина'],\n",
              " ['юниор', 'ловкий', 'штангист'],\n",
              " ['юниор', 'молодой', 'мужчина'],\n",
              " ['девочку', 'учит', 'балерина']]"
            ]
          },
          "metadata": {
            "tags": []
          },
          "execution_count": 85
        }
      ]
    },
    {
      "cell_type": "code",
      "metadata": {
        "id": "tnPgzhesjrQ3"
      },
      "source": [
        ""
      ],
      "execution_count": 85,
      "outputs": []
    },
    {
      "cell_type": "code",
      "metadata": {
        "id": "FIRibIKak3JK"
      },
      "source": [
        ""
      ],
      "execution_count": 85,
      "outputs": []
    },
    {
      "cell_type": "code",
      "metadata": {
        "colab": {
          "base_uri": "https://localhost:8080/"
        },
        "id": "Nq4QICrBvjpk",
        "outputId": "fc48b0ef-abde-4795-f5c8-1fa7cf3e0b9c"
      },
      "source": [
        "ww=set();\r\n",
        "[ww.union((set(ss))) for ss in [s.split(' ') for s in corpus]]"
      ],
      "execution_count": 86,
      "outputs": [
        {
          "output_type": "execute_result",
          "data": {
            "text/plain": [
              "[{'балерина', 'вдохновляет', 'девочку'},\n",
              " {'кичлам', 'ловкий', 'сильный'},\n",
              " {'мужчина', 'сильный', 'штангист'},\n",
              " {'балерина', 'женщина', 'красивая'},\n",
              " {'ловкий', 'штангист', 'юниор'},\n",
              " {'молодой', 'мужчина', 'юниор'},\n",
              " {'балерина', 'девочку', 'учит'}]"
            ]
          },
          "metadata": {
            "tags": []
          },
          "execution_count": 86
        }
      ]
    },
    {
      "cell_type": "code",
      "metadata": {
        "id": "lMetuP1pvpSD"
      },
      "source": [
        ""
      ],
      "execution_count": 86,
      "outputs": []
    },
    {
      "cell_type": "code",
      "metadata": {
        "colab": {
          "base_uri": "https://localhost:8080/"
        },
        "id": "hmw7GCIA8faT",
        "outputId": "165e984d-8dfa-4a8a-f5fe-9c0a5591be71"
      },
      "source": [
        "np.round(np.matmul(W0,W1), 1)"
      ],
      "execution_count": 87,
      "outputs": [
        {
          "output_type": "execute_result",
          "data": {
            "text/plain": [
              "array([[-6.9, -3.4, -3.1, -4.3, -6.6, -3.1, -6.1, -6.2, -5.8, -9.7, -3.3,\n",
              "        -6.4, -9.1],\n",
              "       [ 1.6,  0.2,  0.5,  0.2, -1.2,  0.4, -1.3, -0.9, -1.2, -1.1,  0.2,\n",
              "        -1.2, -1. ],\n",
              "       [ 0.9, -0.1,  0.2, -0.1, -1.6,  0.2, -1.6, -1.3, -1.5, -1.7, -0.1,\n",
              "        -1.6, -1.6],\n",
              "       [ 1.4,  0. ,  0.4, -0. , -1.8,  0.3, -1.9, -1.4, -1.7, -1.9,  0. ,\n",
              "        -1.8, -1.7],\n",
              "       [-1.3,  0.1, -0.3,  0.2,  2.1, -0.2,  2.2,  1.7,  2. ,  2.3,  0.1,\n",
              "         2.1,  2. ],\n",
              "       [ 2.3,  0.7,  0.9,  0.9,  0.4,  0.9,  0.2,  0.5,  0.3,  1. ,  0.7,\n",
              "         0.3,  1. ],\n",
              "       [-0.2,  0.6,  0.2,  0.8,  2.9,  0.2,  3. ,  2.5,  2.7,  3.6,  0.6,\n",
              "         2.9,  3.3],\n",
              "       [-1.3, -0.1, -0.4, -0. ,  1.4, -0.3,  1.5,  1.1,  1.3,  1.4, -0.1,\n",
              "         1.4,  1.3],\n",
              "       [ 0.4,  0.7,  0.4,  0.9,  2.6,  0.4,  2.6,  2.3,  2.4,  3.3,  0.7,\n",
              "         2.6,  3.1],\n",
              "       [-7.9, -2.2, -2.9, -2.8, -0.1, -2.8,  0.6, -0.7,  0.2, -1.9, -2.2,\n",
              "         0.1, -2. ],\n",
              "       [ 1.4,  0.1,  0.4,  0.1, -1.2,  0.4, -1.4, -1. , -1.2, -1.2,  0.1,\n",
              "        -1.3, -1.1],\n",
              "       [-0.8,  0.3, -0.1,  0.5,  2.6,  0. ,  2.6,  2.1,  2.4,  3. ,  0.3,\n",
              "         2.5,  2.7],\n",
              "       [-6.8, -2.1, -2.6, -2.6, -0.8, -2.5, -0.2, -1.2, -0.4, -2.5, -2.1,\n",
              "        -0.7, -2.5]], dtype=float32)"
            ]
          },
          "metadata": {
            "tags": []
          },
          "execution_count": 87
        }
      ]
    },
    {
      "cell_type": "markdown",
      "metadata": {
        "id": "wEaSa1zgKHen"
      },
      "source": [
        "# EXPERIMENTS WITH CUSTOM LOSS FUNCTION\r\n",
        "\r\n",
        "See [https://keras.io/api/losses/](https://keras.io/api/losses/)\r\n",
        "\r\n",
        "### **Creating custom losses**\r\n",
        "\r\n",
        "Any callable with the signature loss_fn(y_true, y_pred) that returns an array of losses (one of sample in the input batch) can be passed to compile() as a loss. Note that sample weighting is automatically supported for any such loss.\r\n",
        "\r\n",
        "Here's a simple example:\r\n",
        "\r\n",
        "    def my_loss_fn(y_true, y_pred):\r\n",
        "        squared_difference = tf.square(y_true - y_pred)\r\n",
        "        return tf.reduce_mean(squared_difference, axis=-1)  # Note the `axis=-1`\r\n",
        "\r\n",
        "    model.compile(optimizer='adam', loss=my_loss_fn)\r\n"
      ]
    },
    {
      "cell_type": "code",
      "metadata": {
        "id": "MA5kVZ2xTjrb"
      },
      "source": [
        ""
      ],
      "execution_count": 87,
      "outputs": []
    },
    {
      "cell_type": "code",
      "metadata": {
        "id": "8nYXvpDtTU2Y"
      },
      "source": [
        "def my_loss_fn(y_true, y_pred):\r\n",
        "    squared_difference = tf.square(y_true - y_pred)\r\n",
        "    return tf.reduce_mean(squared_difference, axis=-1)  # Note the `axis=-1`\r\n",
        "\r\n",
        "model.compile(optimizer='adam', loss=my_loss_fn)"
      ],
      "execution_count": 88,
      "outputs": []
    },
    {
      "cell_type": "code",
      "metadata": {
        "id": "ZPA_nwJOTVCr"
      },
      "source": [
        ""
      ],
      "execution_count": 88,
      "outputs": []
    },
    {
      "cell_type": "code",
      "metadata": {
        "id": "h0c3Zr65TVOC"
      },
      "source": [
        ""
      ],
      "execution_count": 88,
      "outputs": []
    },
    {
      "cell_type": "code",
      "metadata": {
        "id": "rqhZBT_ITVZN"
      },
      "source": [
        ""
      ],
      "execution_count": 88,
      "outputs": []
    },
    {
      "cell_type": "code",
      "metadata": {
        "id": "HDn_KvPrKGPU"
      },
      "source": [
        "import numpy as np\r\n",
        "import pandas as pd\r\n",
        "pd.options.display.max_columns = 500\r\n",
        "pd.set_option('display.width', 1000)\r\n",
        "import matplotlib.pyplot as plt\r\n",
        "from keras import models\r\n",
        "from keras import layers \r\n",
        "import tensorflow as tf\r\n",
        "from tensorflow.keras.utils import plot_model\r\n",
        "import time"
      ],
      "execution_count": 89,
      "outputs": []
    },
    {
      "cell_type": "code",
      "metadata": {
        "id": "azVfRsLjKcJg",
        "colab": {
          "base_uri": "https://localhost:8080/",
          "height": 312
        },
        "outputId": "028434e4-2ab9-4379-aaa0-9f5a1034f8d0"
      },
      "source": [
        "model = models.Sequential()\r\n",
        "# https://www.tensorflow.org/api_docs/python/tf/keras/activations   # network.add( layers.Dense(2, activation='relu', input_shape=(12,) ) )\r\n",
        "model.add( layers.Dense(2, activation='linear', input_shape=(ONE_HOT_DIM,) ) )\r\n",
        "model.add( layers.Dense(ONE_HOT_DIM, activation='softmax' ) )\r\n",
        "model.compile( optimizer='rmsprop', \r\n",
        "                 loss = 'categorical_crossentropy', \r\n",
        "                 metrics = ['accuracy'] )\r\n",
        "plot_model(model, show_shapes=1, show_dtype=0,show_layer_names=0)              # plot_model(model, show_shapes=1, show_layer_names=1)"
      ],
      "execution_count": 90,
      "outputs": [
        {
          "output_type": "execute_result",
          "data": {
            "image/png": "[encoded data removed]",
            "text/plain": [
              "<IPython.core.display.Image object>"
            ]
          },
          "metadata": {
            "tags": []
          },
          "execution_count": 90
        }
      ]
    },
    {
      "cell_type": "code",
      "metadata": {
        "id": "64lJ9DOqRfng",
        "colab": {
          "base_uri": "https://localhost:8080/"
        },
        "outputId": "7246d3d5-34ca-492b-f51e-e12ec5419942"
      },
      "source": [
        "model.fit( X_train, Y_train, epochs=1, batch_size=1, verbose=1)\r\n",
        "# d2 = pd.DataFrame(  model.weights[0].numpy(),  columns = ['x1', 'x2'] )\r\n",
        "# w2v_df = pd.concat( [w2idx,d2],axis=1 )"
      ],
      "execution_count": 91,
      "outputs": [
        {
          "output_type": "stream",
          "text": [
            "42/42 [==============================] - 0s 907us/step - loss: 2.6373 - accuracy: 0.0409\n"
          ],
          "name": "stdout"
        },
        {
          "output_type": "execute_result",
          "data": {
            "text/plain": [
              "<tensorflow.python.keras.callbacks.History at 0x7ff12262d7d0>"
            ]
          },
          "metadata": {
            "tags": []
          },
          "execution_count": 91
        }
      ]
    },
    {
      "cell_type": "code",
      "metadata": {
        "colab": {
          "base_uri": "https://localhost:8080/"
        },
        "id": "-L9HE2vrSD5h",
        "outputId": "91cedd75-af5c-48e8-f2b4-7f77d5a2fd0c"
      },
      "source": [
        "res=model.predict(X_train)\r\n",
        "print(X_train.shape, res.shape)"
      ],
      "execution_count": 92,
      "outputs": [
        {
          "output_type": "stream",
          "text": [
            "(42, 13) (42, 13)\n"
          ],
          "name": "stdout"
        }
      ]
    },
    {
      "cell_type": "code",
      "metadata": {
        "colab": {
          "base_uri": "https://localhost:8080/"
        },
        "id": "ZOjk1-8jqq3B",
        "outputId": "b57195ac-6135-4d30-cb63-ee6d94b705e4"
      },
      "source": [
        "res"
      ],
      "execution_count": 93,
      "outputs": [
        {
          "output_type": "execute_result",
          "data": {
            "text/plain": [
              "array([[0.06913, 0.06313, 0.08585, 0.08248, 0.095  , 0.06771, 0.06682,\n",
              "        0.1024 , 0.08284, 0.06962, 0.05849, 0.07756, 0.07899],\n",
              "       [0.06913, 0.06313, 0.08585, 0.08248, 0.095  , 0.06771, 0.06682,\n",
              "        0.1024 , 0.08284, 0.06962, 0.05849, 0.07756, 0.07899],\n",
              "       [0.0752 , 0.07814, 0.06585, 0.07282, 0.0659 , 0.09056, 0.08923,\n",
              "        0.05254, 0.07886, 0.07925, 0.10295, 0.07814, 0.07055],\n",
              "       [0.0752 , 0.07814, 0.06585, 0.07282, 0.0659 , 0.09056, 0.08923,\n",
              "        0.05254, 0.07886, 0.07925, 0.10295, 0.07814, 0.07055],\n",
              "       [0.07212, 0.06766, 0.08286, 0.08077, 0.08844, 0.07081, 0.07047,\n",
              "        0.09275, 0.08138, 0.07259, 0.06428, 0.0776 , 0.07827],\n",
              "       [0.07212, 0.06766, 0.08286, 0.08077, 0.08844, 0.07081, 0.07047,\n",
              "        0.09275, 0.08138, 0.07259, 0.06428, 0.0776 , 0.07827],\n",
              "       [0.06043, 0.05576, 0.07588, 0.08323, 0.09413, 0.08389, 0.07715,\n",
              "        0.07407, 0.09316, 0.06625, 0.079  , 0.08315, 0.0739 ],\n",
              "       [0.06043, 0.05576, 0.07588, 0.08323, 0.09413, 0.08389, 0.07715,\n",
              "        0.07407, 0.09316, 0.06625, 0.079  , 0.08315, 0.0739 ],\n",
              "       [0.08441, 0.08474, 0.07837, 0.07496, 0.07227, 0.07163, 0.07516,\n",
              "        0.08081, 0.07265, 0.08177, 0.07148, 0.07428, 0.07748],\n",
              "       [0.08441, 0.08474, 0.07837, 0.07496, 0.07227, 0.07163, 0.07516,\n",
              "        0.08081, 0.07265, 0.08177, 0.07148, 0.07428, 0.07748],\n",
              "       [0.09809, 0.09997, 0.08381, 0.07129, 0.06677, 0.05915, 0.06706,\n",
              "        0.09927, 0.06228, 0.08736, 0.05677, 0.06791, 0.08028],\n",
              "       [0.09809, 0.09997, 0.08381, 0.07129, 0.06677, 0.05915, 0.06706,\n",
              "        0.09927, 0.06228, 0.08736, 0.05677, 0.06791, 0.08028],\n",
              "       [0.07228, 0.07366, 0.06725, 0.07466, 0.07008, 0.09036, 0.08777,\n",
              "        0.05507, 0.08164, 0.07693, 0.09987, 0.07935, 0.07108],\n",
              "       [0.07228, 0.07366, 0.06725, 0.07466, 0.07008, 0.09036, 0.08777,\n",
              "        0.05507, 0.08164, 0.07693, 0.09987, 0.07935, 0.07108],\n",
              "       [0.08441, 0.08474, 0.07837, 0.07496, 0.07227, 0.07163, 0.07516,\n",
              "        0.08081, 0.07265, 0.08177, 0.07148, 0.07428, 0.07748],\n",
              "       [0.08441, 0.08474, 0.07837, 0.07496, 0.07227, 0.07163, 0.07516,\n",
              "        0.08081, 0.07265, 0.08177, 0.07148, 0.07428, 0.07748],\n",
              "       [0.0613 , 0.06067, 0.06398, 0.07698, 0.07638, 0.09948, 0.09056,\n",
              "        0.04909, 0.09099, 0.06962, 0.10969, 0.08317, 0.06809],\n",
              "       [0.0613 , 0.06067, 0.06398, 0.07698, 0.07638, 0.09948, 0.09056,\n",
              "        0.04909, 0.09099, 0.06962, 0.10969, 0.08317, 0.06809],\n",
              "       [0.06913, 0.06313, 0.08585, 0.08248, 0.095  , 0.06771, 0.06682,\n",
              "        0.1024 , 0.08284, 0.06962, 0.05849, 0.07756, 0.07899],\n",
              "       [0.06913, 0.06313, 0.08585, 0.08248, 0.095  , 0.06771, 0.06682,\n",
              "        0.1024 , 0.08284, 0.06962, 0.05849, 0.07756, 0.07899],\n",
              "       [0.0607 , 0.05343, 0.08546, 0.08568, 0.10574, 0.07029, 0.06615,\n",
              "        0.10188, 0.09031, 0.06377, 0.05868, 0.08029, 0.07763],\n",
              "       [0.0607 , 0.05343, 0.08546, 0.08568, 0.10574, 0.07029, 0.06615,\n",
              "        0.10188, 0.09031, 0.06377, 0.05868, 0.08029, 0.07763],\n",
              "       [0.11291, 0.13147, 0.06585, 0.06047, 0.04415, 0.06983, 0.08224,\n",
              "        0.05668, 0.05388, 0.10066, 0.08576, 0.06415, 0.07195],\n",
              "       [0.11291, 0.13147, 0.06585, 0.06047, 0.04415, 0.06983, 0.08224,\n",
              "        0.05668, 0.05388, 0.10066, 0.08576, 0.06415, 0.07195],\n",
              "       [0.06466, 0.06144, 0.07408, 0.08084, 0.08651, 0.08497, 0.07982,\n",
              "        0.06948, 0.0892 , 0.06986, 0.08352, 0.08196, 0.07368],\n",
              "       [0.06466, 0.06144, 0.07408, 0.08084, 0.08651, 0.08497, 0.07982,\n",
              "        0.06948, 0.0892 , 0.06986, 0.08352, 0.08196, 0.07368],\n",
              "       [0.09809, 0.09997, 0.08381, 0.07129, 0.06677, 0.05915, 0.06706,\n",
              "        0.09927, 0.06228, 0.08736, 0.05677, 0.06791, 0.08028],\n",
              "       [0.09809, 0.09997, 0.08381, 0.07129, 0.06677, 0.05915, 0.06706,\n",
              "        0.09927, 0.06228, 0.08736, 0.05677, 0.06791, 0.08028],\n",
              "       [0.07228, 0.07366, 0.06725, 0.07466, 0.07008, 0.09036, 0.08777,\n",
              "        0.05507, 0.08164, 0.07693, 0.09987, 0.07935, 0.07108],\n",
              "       [0.07228, 0.07366, 0.06725, 0.07466, 0.07008, 0.09036, 0.08777,\n",
              "        0.05507, 0.08164, 0.07693, 0.09987, 0.07935, 0.07108],\n",
              "       [0.06466, 0.06144, 0.07408, 0.08084, 0.08651, 0.08497, 0.07982,\n",
              "        0.06948, 0.0892 , 0.06986, 0.08352, 0.08196, 0.07368],\n",
              "       [0.06466, 0.06144, 0.07408, 0.08084, 0.08651, 0.08497, 0.07982,\n",
              "        0.06948, 0.0892 , 0.06986, 0.08352, 0.08196, 0.07368],\n",
              "       [0.1038 , 0.11899, 0.06461, 0.06265, 0.04712, 0.07614, 0.08605,\n",
              "        0.05288, 0.05875, 0.09654, 0.09395, 0.06737, 0.07116],\n",
              "       [0.1038 , 0.11899, 0.06461, 0.06265, 0.04712, 0.07614, 0.08605,\n",
              "        0.05288, 0.05875, 0.09654, 0.09395, 0.06737, 0.07116],\n",
              "       [0.0613 , 0.06067, 0.06398, 0.07698, 0.07638, 0.09948, 0.09056,\n",
              "        0.04909, 0.09099, 0.06962, 0.10969, 0.08317, 0.06809],\n",
              "       [0.0613 , 0.06067, 0.06398, 0.07698, 0.07638, 0.09948, 0.09056,\n",
              "        0.04909, 0.09099, 0.06962, 0.10969, 0.08317, 0.06809],\n",
              "       [0.07212, 0.06766, 0.08286, 0.08077, 0.08844, 0.07081, 0.07047,\n",
              "        0.09275, 0.08138, 0.07259, 0.06428, 0.0776 , 0.07827],\n",
              "       [0.07212, 0.06766, 0.08286, 0.08077, 0.08844, 0.07081, 0.07047,\n",
              "        0.09275, 0.08138, 0.07259, 0.06428, 0.0776 , 0.07827],\n",
              "       [0.0775 , 0.07298, 0.08635, 0.07936, 0.08623, 0.06439, 0.06647,\n",
              "        0.10428, 0.07598, 0.07487, 0.05698, 0.07457, 0.08005],\n",
              "       [0.0775 , 0.07298, 0.08635, 0.07936, 0.08623, 0.06439, 0.06647,\n",
              "        0.10428, 0.07598, 0.07487, 0.05698, 0.07457, 0.08005],\n",
              "       [0.06913, 0.06313, 0.08585, 0.08248, 0.095  , 0.06771, 0.06682,\n",
              "        0.1024 , 0.08284, 0.06962, 0.05849, 0.07756, 0.07899],\n",
              "       [0.06913, 0.06313, 0.08585, 0.08248, 0.095  , 0.06771, 0.06682,\n",
              "        0.1024 , 0.08284, 0.06962, 0.05849, 0.07756, 0.07899]],\n",
              "      dtype=float32)"
            ]
          },
          "metadata": {
            "tags": []
          },
          "execution_count": 93
        }
      ]
    },
    {
      "cell_type": "code",
      "metadata": {
        "colab": {
          "base_uri": "https://localhost:8080/"
        },
        "id": "fFaVYuutRpL5",
        "outputId": "bcfc7a47-8801-495b-87d3-b55cf85c7fa0"
      },
      "source": [
        "Y_train"
      ],
      "execution_count": 44,
      "outputs": [
        {
          "output_type": "execute_result",
          "data": {
            "text/plain": [
              "array([[0., 1., 0., 0., 0., 0., 0., 0., 0., 0., 0., 0., 0.],\n",
              "       [0., 0., 1., 0., 0., 0., 0., 0., 0., 0., 0., 0., 0.],\n",
              "       [1., 0., 0., 0., 0., 0., 0., 0., 0., 0., 0., 0., 0.],\n",
              "       [0., 0., 1., 0., 0., 0., 0., 0., 0., 0., 0., 0., 0.],\n",
              "       [1., 0., 0., 0., 0., 0., 0., 0., 0., 0., 0., 0., 0.],\n",
              "       [0., 1., 0., 0., 0., 0., 0., 0., 0., 0., 0., 0., 0.],\n",
              "       [0., 0., 0., 0., 0., 0., 0., 0., 0., 1., 0., 0., 0.],\n",
              "       [0., 0., 0., 0., 0., 0., 1., 0., 0., 0., 0., 0., 0.],\n",
              "       [0., 0., 0., 0., 1., 0., 0., 0., 0., 0., 0., 0., 0.],\n",
              "       [0., 0., 0., 0., 0., 0., 1., 0., 0., 0., 0., 0., 0.],\n",
              "       [0., 0., 0., 0., 1., 0., 0., 0., 0., 0., 0., 0., 0.],\n",
              "       [0., 0., 0., 0., 0., 0., 0., 0., 0., 1., 0., 0., 0.],\n",
              "       [0., 0., 0., 0., 0., 0., 0., 0., 0., 1., 0., 0., 0.],\n",
              "       [0., 0., 0., 0., 0., 0., 0., 0., 1., 0., 0., 0., 0.],\n",
              "       [0., 0., 0., 0., 0., 0., 0., 0., 0., 0., 0., 1., 0.],\n",
              "       [0., 0., 0., 0., 0., 0., 0., 0., 1., 0., 0., 0., 0.],\n",
              "       [0., 0., 0., 0., 0., 0., 0., 0., 0., 0., 0., 1., 0.],\n",
              "       [0., 0., 0., 0., 0., 0., 0., 0., 0., 1., 0., 0., 0.],\n",
              "       [0., 0., 0., 0., 0., 1., 0., 0., 0., 0., 0., 0., 0.],\n",
              "       [0., 0., 0., 1., 0., 0., 0., 0., 0., 0., 0., 0., 0.],\n",
              "       [1., 0., 0., 0., 0., 0., 0., 0., 0., 0., 0., 0., 0.],\n",
              "       [0., 0., 0., 1., 0., 0., 0., 0., 0., 0., 0., 0., 0.],\n",
              "       [1., 0., 0., 0., 0., 0., 0., 0., 0., 0., 0., 0., 0.],\n",
              "       [0., 0., 0., 0., 0., 1., 0., 0., 0., 0., 0., 0., 0.],\n",
              "       [0., 0., 0., 0., 0., 0., 1., 0., 0., 0., 0., 0., 0.],\n",
              "       [0., 0., 0., 0., 0., 0., 0., 0., 0., 0., 0., 1., 0.],\n",
              "       [0., 0., 0., 0., 0., 0., 0., 0., 0., 0., 0., 0., 1.],\n",
              "       [0., 0., 0., 0., 0., 0., 0., 0., 0., 0., 0., 1., 0.],\n",
              "       [0., 0., 0., 0., 0., 0., 0., 0., 0., 0., 0., 0., 1.],\n",
              "       [0., 0., 0., 0., 0., 0., 1., 0., 0., 0., 0., 0., 0.],\n",
              "       [0., 0., 0., 0., 0., 0., 0., 1., 0., 0., 0., 0., 0.],\n",
              "       [0., 0., 0., 0., 0., 0., 0., 0., 1., 0., 0., 0., 0.],\n",
              "       [0., 0., 0., 0., 0., 0., 0., 0., 0., 0., 0., 0., 1.],\n",
              "       [0., 0., 0., 0., 0., 0., 0., 0., 1., 0., 0., 0., 0.],\n",
              "       [0., 0., 0., 0., 0., 0., 0., 0., 0., 0., 0., 0., 1.],\n",
              "       [0., 0., 0., 0., 0., 0., 0., 1., 0., 0., 0., 0., 0.],\n",
              "       [0., 0., 0., 0., 0., 0., 0., 0., 0., 0., 1., 0., 0.],\n",
              "       [1., 0., 0., 0., 0., 0., 0., 0., 0., 0., 0., 0., 0.],\n",
              "       [0., 0., 1., 0., 0., 0., 0., 0., 0., 0., 0., 0., 0.],\n",
              "       [1., 0., 0., 0., 0., 0., 0., 0., 0., 0., 0., 0., 0.],\n",
              "       [0., 0., 1., 0., 0., 0., 0., 0., 0., 0., 0., 0., 0.],\n",
              "       [0., 0., 0., 0., 0., 0., 0., 0., 0., 0., 1., 0., 0.]])"
            ]
          },
          "metadata": {
            "tags": []
          },
          "execution_count": 44
        }
      ]
    },
    {
      "cell_type": "code",
      "metadata": {
        "colab": {
          "base_uri": "https://localhost:8080/",
          "height": 452
        },
        "id": "I0sCztaFRf9Y",
        "outputId": "3a2c12d3-2636-4c51-cf77-1601c29b62b6"
      },
      "source": [
        "w2v_df\r\n",
        "# w2idx"
      ],
      "execution_count": null,
      "outputs": [
        {
          "output_type": "execute_result",
          "data": {
            "text/html": [
              "<div>\n",
              "<style scoped>\n",
              "    .dataframe tbody tr th:only-of-type {\n",
              "        vertical-align: middle;\n",
              "    }\n",
              "\n",
              "    .dataframe tbody tr th {\n",
              "        vertical-align: top;\n",
              "    }\n",
              "\n",
              "    .dataframe thead th {\n",
              "        text-align: right;\n",
              "    }\n",
              "</style>\n",
              "<table border=\"1\" class=\"dataframe\">\n",
              "  <thead>\n",
              "    <tr style=\"text-align: right;\">\n",
              "      <th></th>\n",
              "      <th>values</th>\n",
              "      <th>word</th>\n",
              "      <th>x1</th>\n",
              "      <th>x2</th>\n",
              "    </tr>\n",
              "  </thead>\n",
              "  <tbody>\n",
              "    <tr>\n",
              "      <th>0</th>\n",
              "      <td>0</td>\n",
              "      <td>балерина</td>\n",
              "      <td>4.0</td>\n",
              "      <td>2.4</td>\n",
              "    </tr>\n",
              "    <tr>\n",
              "      <th>1</th>\n",
              "      <td>1</td>\n",
              "      <td>вдохновляет</td>\n",
              "      <td>-0.0</td>\n",
              "      <td>0.9</td>\n",
              "    </tr>\n",
              "    <tr>\n",
              "      <th>2</th>\n",
              "      <td>2</td>\n",
              "      <td>девочку</td>\n",
              "      <td>0.4</td>\n",
              "      <td>1.9</td>\n",
              "    </tr>\n",
              "    <tr>\n",
              "      <th>3</th>\n",
              "      <td>3</td>\n",
              "      <td>женщина</td>\n",
              "      <td>0.1</td>\n",
              "      <td>1.0</td>\n",
              "    </tr>\n",
              "    <tr>\n",
              "      <th>4</th>\n",
              "      <td>4</td>\n",
              "      <td>кичлам</td>\n",
              "      <td>-1.3</td>\n",
              "      <td>-2.1</td>\n",
              "    </tr>\n",
              "    <tr>\n",
              "      <th>5</th>\n",
              "      <td>5</td>\n",
              "      <td>красивая</td>\n",
              "      <td>0.5</td>\n",
              "      <td>0.8</td>\n",
              "    </tr>\n",
              "    <tr>\n",
              "      <th>6</th>\n",
              "      <td>6</td>\n",
              "      <td>ловкий</td>\n",
              "      <td>2.4</td>\n",
              "      <td>-4.4</td>\n",
              "    </tr>\n",
              "    <tr>\n",
              "      <th>7</th>\n",
              "      <td>7</td>\n",
              "      <td>молодой</td>\n",
              "      <td>-1.3</td>\n",
              "      <td>-2.7</td>\n",
              "    </tr>\n",
              "    <tr>\n",
              "      <th>8</th>\n",
              "      <td>8</td>\n",
              "      <td>мужчина</td>\n",
              "      <td>2.4</td>\n",
              "      <td>-5.4</td>\n",
              "    </tr>\n",
              "    <tr>\n",
              "      <th>9</th>\n",
              "      <td>9</td>\n",
              "      <td>сильный</td>\n",
              "      <td>-1.8</td>\n",
              "      <td>-3.0</td>\n",
              "    </tr>\n",
              "    <tr>\n",
              "      <th>10</th>\n",
              "      <td>10</td>\n",
              "      <td>учит</td>\n",
              "      <td>0.3</td>\n",
              "      <td>1.0</td>\n",
              "    </tr>\n",
              "    <tr>\n",
              "      <th>11</th>\n",
              "      <td>11</td>\n",
              "      <td>штангист</td>\n",
              "      <td>-1.9</td>\n",
              "      <td>-3.0</td>\n",
              "    </tr>\n",
              "    <tr>\n",
              "      <th>12</th>\n",
              "      <td>12</td>\n",
              "      <td>юниор</td>\n",
              "      <td>-1.6</td>\n",
              "      <td>-2.9</td>\n",
              "    </tr>\n",
              "  </tbody>\n",
              "</table>\n",
              "</div>"
            ],
            "text/plain": [
              "    values         word   x1   x2\n",
              "0        0     балерина  4.0  2.4\n",
              "1        1  вдохновляет -0.0  0.9\n",
              "2        2      девочку  0.4  1.9\n",
              "3        3      женщина  0.1  1.0\n",
              "4        4       кичлам -1.3 -2.1\n",
              "5        5     красивая  0.5  0.8\n",
              "6        6       ловкий  2.4 -4.4\n",
              "7        7      молодой -1.3 -2.7\n",
              "8        8      мужчина  2.4 -5.4\n",
              "9        9      сильный -1.8 -3.0\n",
              "10      10         учит  0.3  1.0\n",
              "11      11     штангист -1.9 -3.0\n",
              "12      12        юниор -1.6 -2.9"
            ]
          },
          "metadata": {
            "tags": []
          },
          "execution_count": 43
        }
      ]
    },
    {
      "cell_type": "code",
      "metadata": {
        "id": "yqXzOmJDRgJq"
      },
      "source": [
        ""
      ],
      "execution_count": null,
      "outputs": []
    },
    {
      "cell_type": "code",
      "metadata": {
        "id": "pgsttSeITfIw"
      },
      "source": [
        ""
      ],
      "execution_count": null,
      "outputs": []
    },
    {
      "cell_type": "code",
      "metadata": {
        "id": "7s0RruBJTfQs"
      },
      "source": [
        ""
      ],
      "execution_count": null,
      "outputs": []
    },
    {
      "cell_type": "code",
      "metadata": {
        "id": "DVkde98WTfXX"
      },
      "source": [
        ""
      ],
      "execution_count": null,
      "outputs": []
    },
    {
      "cell_type": "code",
      "metadata": {
        "id": "kLFqLb8eTfdw"
      },
      "source": [
        ""
      ],
      "execution_count": null,
      "outputs": []
    },
    {
      "cell_type": "code",
      "metadata": {
        "id": "K6MjphWJTfkH"
      },
      "source": [
        ""
      ],
      "execution_count": null,
      "outputs": []
    },
    {
      "cell_type": "code",
      "metadata": {
        "id": "yCLM8qw6Tfqg"
      },
      "source": [
        "# https://towardsdatascience.com/advanced-keras-constructing-complex-custom-losses-and-metrics-c07ca130a618\r\n",
        "\r\n",
        "\r\n",
        "\r\n",
        "# # Build a model\r\n",
        "# inputs = Input(shape=(128,))\r\n",
        "# layer1 = Dense(64, activation='relu')(inputs)\r\n",
        "# layer2 = Dense(64, activation='relu')(layer1)\r\n",
        "# predictions = Dense(10, activation='softmax')(layer2)\r\n",
        "# model = Model(inputs=inputs, outputs=predictions)\r\n",
        "\r\n",
        "# # Define custom loss\r\n",
        "# def custom_loss(layer):\r\n",
        "\r\n",
        "#     # Create a loss function that adds the MSE loss to the mean of all squared activations of a specific layer\r\n",
        "#     def loss(y_true,y_pred):\r\n",
        "#         return K.mean(K.square(y_pred - y_true) + K.square(layer), axis=-1)\r\n",
        "   \r\n",
        "#     # Return a function\r\n",
        "#     return loss\r\n",
        "    \r\n",
        "# # Compile the model\r\n",
        "# model.compile(optimizer='adam',\r\n",
        "#               loss=custom_loss(layer), # Call the loss function with the selected layer\r\n",
        "#               metrics=['accuracy'])\r\n",
        "\r\n",
        "# # train\r\n",
        "# model.fit(data, labels)  "
      ],
      "execution_count": null,
      "outputs": []
    },
    {
      "cell_type": "code",
      "metadata": {
        "id": "7kfy8CXE2ev8"
      },
      "source": [
        ""
      ],
      "execution_count": null,
      "outputs": []
    },
    {
      "cell_type": "code",
      "metadata": {
        "id": "FxozPTRX2ijO"
      },
      "source": [
        ""
      ],
      "execution_count": null,
      "outputs": []
    }
  ]
}