{
  "nbformat": 4,
  "nbformat_minor": 0,
  "metadata": {
    "colab": {
      "name": "w2v_gensim.ipynb",
      "provenance": [],
      "authorship_tag": "ABX9TyPCE7mkhljFj2BrQg+ARj6C",
      "include_colab_link": true
    },
    "kernelspec": {
      "name": "python3",
      "display_name": "Python 3"
    }
  },
  "cells": [
    {
      "cell_type": "markdown",
      "metadata": {
        "id": "view-in-github",
        "colab_type": "text"
      },
      "source": [
        "<a href=\"https://colab.research.google.com/github/ftk1000/w2v_ftk1000/blob/master/w2v_gensim.ipynb\" target=\"_parent\"><img src=\"https://colab.research.google.com/assets/colab-badge.svg\" alt=\"Open In Colab\"/></a>"
      ]
    },
    {
      "cell_type": "code",
      "metadata": {
        "id": "lDKRZwh8f2Xk"
      },
      "source": [
        "# https://www.youtube.com/watch?v=Z1VsHYcNXDI\r\n",
        "# w2v_gensim.ipynb\r\n",
        "\r\n",
        "from gensim.models import Word2Vec, KeyedVectors\r\n",
        "import pandas as pd\r\n",
        "import nltk"
      ],
      "execution_count": 2,
      "outputs": []
    },
    {
      "cell_type": "code",
      "metadata": {
        "id": "1ysyt0zugfvK"
      },
      "source": [
        ""
      ],
      "execution_count": null,
      "outputs": []
    }
  ]
}