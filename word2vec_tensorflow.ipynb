{
  "nbformat": 4,
  "nbformat_minor": 0,
  "metadata": {
    "kernelspec": {
      "display_name": "Python 3",
      "language": "python",
      "name": "python3"
    },
    "language_info": {
      "codemirror_mode": {
        "name": "ipython",
        "version": 3
      },
      "file_extension": ".py",
      "mimetype": "text/x-python",
      "name": "python",
      "nbconvert_exporter": "python",
      "pygments_lexer": "ipython3",
      "version": "3.7.3"
    },
    "colab": {
      "name": "word2vec_tensorflow.ipynb",
      "provenance": [],
      "include_colab_link": true
    }
  },
  "cells": [
    {
      "cell_type": "markdown",
      "metadata": {
        "id": "view-in-github",
        "colab_type": "text"
      },
      "source": [
        "<a href=\"https://colab.research.google.com/github/ftk1000/w2v_ftk1000/blob/master/word2vec_tensorflow.ipynb\" target=\"_parent\"><img src=\"https://colab.research.google.com/assets/colab-badge.svg\" alt=\"Open In Colab\"/></a>"
      ]
    },
    {
      "cell_type": "markdown",
      "metadata": {
        "id": "tMrqAr68usRm"
      },
      "source": [
        "# Word2Vec\n",
        "here I implement word2vec with very simple example using tensorflow  \n",
        "word2vec is vector representation for words with similarity\n",
        "\n",
        "\n",
        "    2020.11.16\n",
        "\n",
        "    Minsuk Heo's code taken (and adapted) from\n",
        "    https://github.com/minsuk-heo/python_tutorial/blob/master/data_science/nlp/word2vec_tensorflow.ipynb"
      ]
    },
    {
      "cell_type": "markdown",
      "metadata": {
        "id": "Pts9zf0PusRt"
      },
      "source": [
        "# Collect Data\n",
        "we will use only 10 sentences to create word vectors"
      ]
    },
    {
      "cell_type": "code",
      "metadata": {
        "id": "oP9vAWXSusRv"
      },
      "source": [
        "corpus = ['king is a strong man', \n",
        "          'queen is a wise woman', \n",
        "          'boy is a young man',\n",
        "          'girl is a young woman',\n",
        "          'prince is a young king',\n",
        "          'princess is a young queen',\n",
        "          'man is strong', \n",
        "          'woman is pretty',\n",
        "          'prince is a boy will be king',\n",
        "          'princess is a girl will be queen']"
      ],
      "execution_count": 53,
      "outputs": []
    },
    {
      "cell_type": "markdown",
      "metadata": {
        "id": "Kvv4bjFIusR0"
      },
      "source": [
        "# Remove stop words\n",
        "In order for efficiency of creating word vector, we will remove commonly used words"
      ]
    },
    {
      "cell_type": "code",
      "metadata": {
        "id": "r4zTeKemusR1"
      },
      "source": [
        "def remove_stop_words(corpus):\n",
        "    stop_words = ['is', 'a', 'will', 'be']\n",
        "    results = []\n",
        "    for text in corpus:\n",
        "        tmp = text.split(' ')\n",
        "        for stop_word in stop_words:\n",
        "            if stop_word in tmp:\n",
        "                tmp.remove(stop_word)\n",
        "        results.append(\" \".join(tmp))\n",
        "    \n",
        "    return results"
      ],
      "execution_count": 54,
      "outputs": []
    },
    {
      "cell_type": "code",
      "metadata": {
        "id": "ZoQwDJC5usR6",
        "outputId": "317f39da-1e59-40ea-ee23-7ac482128cb4",
        "colab": {
          "base_uri": "https://localhost:8080/"
        }
      },
      "source": [
        "corpus = remove_stop_words(corpus)\n",
        "# [s.split() for s in corpus]\n",
        "corpus"
      ],
      "execution_count": 70,
      "outputs": [
        {
          "output_type": "execute_result",
          "data": {
            "text/plain": [
              "['king strong man',\n",
              " 'queen wise woman',\n",
              " 'boy young man',\n",
              " 'girl young woman',\n",
              " 'prince young king',\n",
              " 'princess young queen',\n",
              " 'man strong',\n",
              " 'woman pretty',\n",
              " 'prince boy king',\n",
              " 'princess girl queen']"
            ]
          },
          "metadata": {
            "tags": []
          },
          "execution_count": 70
        }
      ]
    },
    {
      "cell_type": "code",
      "metadata": {
        "id": "zkU3968wusSA"
      },
      "source": [
        "words = []\n",
        "for text in corpus:\n",
        "    for word in text.split(' '):\n",
        "        words.append(word)\n",
        "\n",
        "words = set(words)"
      ],
      "execution_count": 71,
      "outputs": []
    },
    {
      "cell_type": "markdown",
      "metadata": {
        "id": "hnG-kR_qusSG"
      },
      "source": [
        "here we have word set by which we will have word vector"
      ]
    },
    {
      "cell_type": "code",
      "metadata": {
        "id": "f1c9HZ50usSH",
        "outputId": "5d103e4b-0f8c-4c74-c94d-ae795a5a6d09",
        "colab": {
          "base_uri": "https://localhost:8080/"
        }
      },
      "source": [
        "print('Number of words =',len(words))\n",
        "words"
      ],
      "execution_count": 72,
      "outputs": [
        {
          "output_type": "stream",
          "text": [
            "Number of words = 12\n"
          ],
          "name": "stdout"
        },
        {
          "output_type": "execute_result",
          "data": {
            "text/plain": [
              "{'boy',\n",
              " 'girl',\n",
              " 'king',\n",
              " 'man',\n",
              " 'pretty',\n",
              " 'prince',\n",
              " 'princess',\n",
              " 'queen',\n",
              " 'strong',\n",
              " 'wise',\n",
              " 'woman',\n",
              " 'young'}"
            ]
          },
          "metadata": {
            "tags": []
          },
          "execution_count": 72
        }
      ]
    },
    {
      "cell_type": "markdown",
      "metadata": {
        "id": "ZJsodjQBusSN"
      },
      "source": [
        "# data generation\n",
        "we will generate label for each word using skip gram.  "
      ]
    },
    {
      "cell_type": "code",
      "metadata": {
        "id": "dkzT9b1RusSO"
      },
      "source": [
        "word2int = {}\n",
        "\n",
        "for i,word in enumerate(words):\n",
        "    word2int[word] = i\n",
        "\n",
        "sentences = []\n",
        "for sentence in corpus:\n",
        "    sentences.append(sentence.split())\n",
        "    \n",
        "WINDOW_SIZE = 2\n",
        "\n",
        "data = []\n",
        "for sentence in sentences:\n",
        "    for idx, word in enumerate(sentence):\n",
        "        for neighbor in sentence[max(idx - WINDOW_SIZE, 0) : min(idx + WINDOW_SIZE, len(sentence)) + 1] : \n",
        "            if neighbor != word:\n",
        "                data.append([word, neighbor])"
      ],
      "execution_count": 73,
      "outputs": []
    },
    {
      "cell_type": "code",
      "metadata": {
        "id": "mMN36vQngK8m",
        "outputId": "d217b413-b2e6-40d2-e389-4fbfd920a934",
        "colab": {
          "base_uri": "https://localhost:8080/"
        }
      },
      "source": [
        "word2int"
      ],
      "execution_count": 74,
      "outputs": [
        {
          "output_type": "execute_result",
          "data": {
            "text/plain": [
              "{'boy': 7,\n",
              " 'girl': 9,\n",
              " 'king': 6,\n",
              " 'man': 8,\n",
              " 'pretty': 5,\n",
              " 'prince': 0,\n",
              " 'princess': 1,\n",
              " 'queen': 2,\n",
              " 'strong': 11,\n",
              " 'wise': 3,\n",
              " 'woman': 4,\n",
              " 'young': 10}"
            ]
          },
          "metadata": {
            "tags": []
          },
          "execution_count": 74
        }
      ]
    },
    {
      "cell_type": "code",
      "metadata": {
        "id": "razsR93CusSR",
        "outputId": "2d2035a3-919a-45ff-93b2-0ada2a10bd0f",
        "colab": {
          "base_uri": "https://localhost:8080/"
        }
      },
      "source": [
        "import pandas as pd\n",
        "pd.set_option('display.max_rows', 500)\n",
        "pd.set_option('display.max_columns', 500)\n",
        "pd.set_option('display.width', 1000)\n",
        "\n",
        "for text in corpus:\n",
        "    print(text)"
      ],
      "execution_count": 90,
      "outputs": [
        {
          "output_type": "stream",
          "text": [
            "king strong man\n",
            "queen wise woman\n",
            "boy young man\n",
            "girl young woman\n",
            "prince young king\n",
            "princess young queen\n",
            "man strong\n",
            "woman pretty\n",
            "prince boy king\n",
            "princess girl queen\n"
          ],
          "name": "stdout"
        }
      ]
    },
    {
      "cell_type": "code",
      "metadata": {
        "id": "YlPOH-tTusSV",
        "outputId": "fba6235b-1382-41ff-dc43-606e7dfca7c8",
        "colab": {
          "base_uri": "https://localhost:8080/",
          "height": 221
        }
      },
      "source": [
        "df = pd.DataFrame(data, columns = ['input', 'label'])\n",
        "print('df.shape =', df.shape)\n",
        "df.head()"
      ],
      "execution_count": 91,
      "outputs": [
        {
          "output_type": "stream",
          "text": [
            "df.shape = (52, 2)\n"
          ],
          "name": "stdout"
        },
        {
          "output_type": "execute_result",
          "data": {
            "text/html": [
              "<div>\n",
              "<style scoped>\n",
              "    .dataframe tbody tr th:only-of-type {\n",
              "        vertical-align: middle;\n",
              "    }\n",
              "\n",
              "    .dataframe tbody tr th {\n",
              "        vertical-align: top;\n",
              "    }\n",
              "\n",
              "    .dataframe thead th {\n",
              "        text-align: right;\n",
              "    }\n",
              "</style>\n",
              "<table border=\"1\" class=\"dataframe\">\n",
              "  <thead>\n",
              "    <tr style=\"text-align: right;\">\n",
              "      <th></th>\n",
              "      <th>input</th>\n",
              "      <th>label</th>\n",
              "    </tr>\n",
              "  </thead>\n",
              "  <tbody>\n",
              "    <tr>\n",
              "      <th>0</th>\n",
              "      <td>king</td>\n",
              "      <td>strong</td>\n",
              "    </tr>\n",
              "    <tr>\n",
              "      <th>1</th>\n",
              "      <td>king</td>\n",
              "      <td>man</td>\n",
              "    </tr>\n",
              "    <tr>\n",
              "      <th>2</th>\n",
              "      <td>strong</td>\n",
              "      <td>king</td>\n",
              "    </tr>\n",
              "    <tr>\n",
              "      <th>3</th>\n",
              "      <td>strong</td>\n",
              "      <td>man</td>\n",
              "    </tr>\n",
              "    <tr>\n",
              "      <th>4</th>\n",
              "      <td>man</td>\n",
              "      <td>king</td>\n",
              "    </tr>\n",
              "  </tbody>\n",
              "</table>\n",
              "</div>"
            ],
            "text/plain": [
              "    input   label\n",
              "0    king  strong\n",
              "1    king     man\n",
              "2  strong    king\n",
              "3  strong     man\n",
              "4     man    king"
            ]
          },
          "metadata": {
            "tags": []
          },
          "execution_count": 91
        }
      ]
    },
    {
      "cell_type": "code",
      "metadata": {
        "id": "6tGt_1ZPusSZ",
        "outputId": "9c192b7b-b63f-49a8-9441-699d030e74e1",
        "colab": {
          "base_uri": "https://localhost:8080/"
        }
      },
      "source": [
        "df.shape"
      ],
      "execution_count": 92,
      "outputs": [
        {
          "output_type": "execute_result",
          "data": {
            "text/plain": [
              "(52, 2)"
            ]
          },
          "metadata": {
            "tags": []
          },
          "execution_count": 92
        }
      ]
    },
    {
      "cell_type": "code",
      "metadata": {
        "id": "Rb1YKNZkusSc",
        "outputId": "35133848-ad5f-4535-f677-973cbbcacb32",
        "colab": {
          "base_uri": "https://localhost:8080/"
        }
      },
      "source": [
        "word2int"
      ],
      "execution_count": 93,
      "outputs": [
        {
          "output_type": "execute_result",
          "data": {
            "text/plain": [
              "{'boy': 7,\n",
              " 'girl': 9,\n",
              " 'king': 6,\n",
              " 'man': 8,\n",
              " 'pretty': 5,\n",
              " 'prince': 0,\n",
              " 'princess': 1,\n",
              " 'queen': 2,\n",
              " 'strong': 11,\n",
              " 'wise': 3,\n",
              " 'woman': 4,\n",
              " 'young': 10}"
            ]
          },
          "metadata": {
            "tags": []
          },
          "execution_count": 93
        }
      ]
    },
    {
      "cell_type": "code",
      "metadata": {
        "id": "yLJolL7U9Kv2",
        "outputId": "32a7bb09-0209-4776-efb2-586236203eb1",
        "colab": {
          "base_uri": "https://localhost:8080/",
          "height": 421
        }
      },
      "source": [
        "w2idx = pd.DataFrame.from_dict({ 'values': word2int.values(), 'word': word2int.keys() })\n",
        "w2idx"
      ],
      "execution_count": 136,
      "outputs": [
        {
          "output_type": "execute_result",
          "data": {
            "text/html": [
              "<div>\n",
              "<style scoped>\n",
              "    .dataframe tbody tr th:only-of-type {\n",
              "        vertical-align: middle;\n",
              "    }\n",
              "\n",
              "    .dataframe tbody tr th {\n",
              "        vertical-align: top;\n",
              "    }\n",
              "\n",
              "    .dataframe thead th {\n",
              "        text-align: right;\n",
              "    }\n",
              "</style>\n",
              "<table border=\"1\" class=\"dataframe\">\n",
              "  <thead>\n",
              "    <tr style=\"text-align: right;\">\n",
              "      <th></th>\n",
              "      <th>values</th>\n",
              "      <th>word</th>\n",
              "    </tr>\n",
              "  </thead>\n",
              "  <tbody>\n",
              "    <tr>\n",
              "      <th>0</th>\n",
              "      <td>0</td>\n",
              "      <td>prince</td>\n",
              "    </tr>\n",
              "    <tr>\n",
              "      <th>1</th>\n",
              "      <td>1</td>\n",
              "      <td>princess</td>\n",
              "    </tr>\n",
              "    <tr>\n",
              "      <th>2</th>\n",
              "      <td>2</td>\n",
              "      <td>queen</td>\n",
              "    </tr>\n",
              "    <tr>\n",
              "      <th>3</th>\n",
              "      <td>3</td>\n",
              "      <td>wise</td>\n",
              "    </tr>\n",
              "    <tr>\n",
              "      <th>4</th>\n",
              "      <td>4</td>\n",
              "      <td>woman</td>\n",
              "    </tr>\n",
              "    <tr>\n",
              "      <th>5</th>\n",
              "      <td>5</td>\n",
              "      <td>pretty</td>\n",
              "    </tr>\n",
              "    <tr>\n",
              "      <th>6</th>\n",
              "      <td>6</td>\n",
              "      <td>king</td>\n",
              "    </tr>\n",
              "    <tr>\n",
              "      <th>7</th>\n",
              "      <td>7</td>\n",
              "      <td>boy</td>\n",
              "    </tr>\n",
              "    <tr>\n",
              "      <th>8</th>\n",
              "      <td>8</td>\n",
              "      <td>man</td>\n",
              "    </tr>\n",
              "    <tr>\n",
              "      <th>9</th>\n",
              "      <td>9</td>\n",
              "      <td>girl</td>\n",
              "    </tr>\n",
              "    <tr>\n",
              "      <th>10</th>\n",
              "      <td>10</td>\n",
              "      <td>young</td>\n",
              "    </tr>\n",
              "    <tr>\n",
              "      <th>11</th>\n",
              "      <td>11</td>\n",
              "      <td>strong</td>\n",
              "    </tr>\n",
              "  </tbody>\n",
              "</table>\n",
              "</div>"
            ],
            "text/plain": [
              "    values      word\n",
              "0        0    prince\n",
              "1        1  princess\n",
              "2        2     queen\n",
              "3        3      wise\n",
              "4        4     woman\n",
              "5        5    pretty\n",
              "6        6      king\n",
              "7        7       boy\n",
              "8        8       man\n",
              "9        9      girl\n",
              "10      10     young\n",
              "11      11    strong"
            ]
          },
          "metadata": {
            "tags": []
          },
          "execution_count": 136
        }
      ]
    },
    {
      "cell_type": "markdown",
      "metadata": {
        "id": "yDBDS3oNusSf"
      },
      "source": [
        "# Define Tensorflow Graph"
      ]
    },
    {
      "cell_type": "code",
      "metadata": {
        "id": "LE9tfOWRerK6",
        "outputId": "c0c2f702-04bb-4898-e76d-3db9f7d65f68",
        "colab": {
          "base_uri": "https://localhost:8080/"
        }
      },
      "source": [
        "import tensorflow as tf\n",
        "import numpy as np\n",
        "\n",
        "ONE_HOT_DIM = len(words)\n",
        "print('ONE_HOT_DIM = ', ONE_HOT_DIM)\n",
        "# function to convert numbers to one hot vectors\n",
        "def to_one_hot_encoding(data_point_index):\n",
        "    one_hot_encoding = np.zeros(ONE_HOT_DIM)\n",
        "    one_hot_encoding[data_point_index] = 1\n",
        "    return one_hot_encoding\n",
        "\n",
        "X = [] # input word\n",
        "Y = [] # target word"
      ],
      "execution_count": 94,
      "outputs": [
        {
          "output_type": "stream",
          "text": [
            "ONE_HOT_DIM =  12\n"
          ],
          "name": "stdout"
        }
      ]
    },
    {
      "cell_type": "code",
      "metadata": {
        "id": "NdkH0En5cTjn",
        "outputId": "1ed56356-4dcd-412d-8708-ca61b181494e",
        "colab": {
          "base_uri": "https://localhost:8080/"
        }
      },
      "source": [
        "print(df.head())\n",
        "\n",
        "for x, y in zip(df['input'], df['label']):\n",
        "    Xtmp = to_one_hot_encoding(word2int[ x ])\n",
        "    Ytmp = to_one_hot_encoding(word2int[ y ])\n",
        "    print(x,'\\t has place =',word2int[ x ],'\\t===>',Xtmp, '\\t\\t\\t\\t',  y ,'===>',Ytmp)\n",
        "    X.append(to_one_hot_encoding(word2int[ x ]))\n",
        "    Y.append(to_one_hot_encoding(word2int[ y ]))\n",
        "\n",
        "# convert them to numpy arrays\n",
        "X_train = np.asarray(X)\n",
        "Y_train = np.asarray(Y)"
      ],
      "execution_count": 95,
      "outputs": [
        {
          "output_type": "stream",
          "text": [
            "    input   label\n",
            "0    king  strong\n",
            "1    king     man\n",
            "2  strong    king\n",
            "3  strong     man\n",
            "4     man    king\n",
            "king \t has place = 6 \t===> [0. 0. 0. 0. 0. 0. 1. 0. 0. 0. 0. 0.] \t\t\t\t strong ===> [0. 0. 0. 0. 0. 0. 0. 0. 0. 0. 0. 1.]\n",
            "king \t has place = 6 \t===> [0. 0. 0. 0. 0. 0. 1. 0. 0. 0. 0. 0.] \t\t\t\t man ===> [0. 0. 0. 0. 0. 0. 0. 0. 1. 0. 0. 0.]\n",
            "strong \t has place = 11 \t===> [0. 0. 0. 0. 0. 0. 0. 0. 0. 0. 0. 1.] \t\t\t\t king ===> [0. 0. 0. 0. 0. 0. 1. 0. 0. 0. 0. 0.]\n",
            "strong \t has place = 11 \t===> [0. 0. 0. 0. 0. 0. 0. 0. 0. 0. 0. 1.] \t\t\t\t man ===> [0. 0. 0. 0. 0. 0. 0. 0. 1. 0. 0. 0.]\n",
            "man \t has place = 8 \t===> [0. 0. 0. 0. 0. 0. 0. 0. 1. 0. 0. 0.] \t\t\t\t king ===> [0. 0. 0. 0. 0. 0. 1. 0. 0. 0. 0. 0.]\n",
            "man \t has place = 8 \t===> [0. 0. 0. 0. 0. 0. 0. 0. 1. 0. 0. 0.] \t\t\t\t strong ===> [0. 0. 0. 0. 0. 0. 0. 0. 0. 0. 0. 1.]\n",
            "queen \t has place = 2 \t===> [0. 0. 1. 0. 0. 0. 0. 0. 0. 0. 0. 0.] \t\t\t\t wise ===> [0. 0. 0. 1. 0. 0. 0. 0. 0. 0. 0. 0.]\n",
            "queen \t has place = 2 \t===> [0. 0. 1. 0. 0. 0. 0. 0. 0. 0. 0. 0.] \t\t\t\t woman ===> [0. 0. 0. 0. 1. 0. 0. 0. 0. 0. 0. 0.]\n",
            "wise \t has place = 3 \t===> [0. 0. 0. 1. 0. 0. 0. 0. 0. 0. 0. 0.] \t\t\t\t queen ===> [0. 0. 1. 0. 0. 0. 0. 0. 0. 0. 0. 0.]\n",
            "wise \t has place = 3 \t===> [0. 0. 0. 1. 0. 0. 0. 0. 0. 0. 0. 0.] \t\t\t\t woman ===> [0. 0. 0. 0. 1. 0. 0. 0. 0. 0. 0. 0.]\n",
            "woman \t has place = 4 \t===> [0. 0. 0. 0. 1. 0. 0. 0. 0. 0. 0. 0.] \t\t\t\t queen ===> [0. 0. 1. 0. 0. 0. 0. 0. 0. 0. 0. 0.]\n",
            "woman \t has place = 4 \t===> [0. 0. 0. 0. 1. 0. 0. 0. 0. 0. 0. 0.] \t\t\t\t wise ===> [0. 0. 0. 1. 0. 0. 0. 0. 0. 0. 0. 0.]\n",
            "boy \t has place = 7 \t===> [0. 0. 0. 0. 0. 0. 0. 1. 0. 0. 0. 0.] \t\t\t\t young ===> [0. 0. 0. 0. 0. 0. 0. 0. 0. 0. 1. 0.]\n",
            "boy \t has place = 7 \t===> [0. 0. 0. 0. 0. 0. 0. 1. 0. 0. 0. 0.] \t\t\t\t man ===> [0. 0. 0. 0. 0. 0. 0. 0. 1. 0. 0. 0.]\n",
            "young \t has place = 10 \t===> [0. 0. 0. 0. 0. 0. 0. 0. 0. 0. 1. 0.] \t\t\t\t boy ===> [0. 0. 0. 0. 0. 0. 0. 1. 0. 0. 0. 0.]\n",
            "young \t has place = 10 \t===> [0. 0. 0. 0. 0. 0. 0. 0. 0. 0. 1. 0.] \t\t\t\t man ===> [0. 0. 0. 0. 0. 0. 0. 0. 1. 0. 0. 0.]\n",
            "man \t has place = 8 \t===> [0. 0. 0. 0. 0. 0. 0. 0. 1. 0. 0. 0.] \t\t\t\t boy ===> [0. 0. 0. 0. 0. 0. 0. 1. 0. 0. 0. 0.]\n",
            "man \t has place = 8 \t===> [0. 0. 0. 0. 0. 0. 0. 0. 1. 0. 0. 0.] \t\t\t\t young ===> [0. 0. 0. 0. 0. 0. 0. 0. 0. 0. 1. 0.]\n",
            "girl \t has place = 9 \t===> [0. 0. 0. 0. 0. 0. 0. 0. 0. 1. 0. 0.] \t\t\t\t young ===> [0. 0. 0. 0. 0. 0. 0. 0. 0. 0. 1. 0.]\n",
            "girl \t has place = 9 \t===> [0. 0. 0. 0. 0. 0. 0. 0. 0. 1. 0. 0.] \t\t\t\t woman ===> [0. 0. 0. 0. 1. 0. 0. 0. 0. 0. 0. 0.]\n",
            "young \t has place = 10 \t===> [0. 0. 0. 0. 0. 0. 0. 0. 0. 0. 1. 0.] \t\t\t\t girl ===> [0. 0. 0. 0. 0. 0. 0. 0. 0. 1. 0. 0.]\n",
            "young \t has place = 10 \t===> [0. 0. 0. 0. 0. 0. 0. 0. 0. 0. 1. 0.] \t\t\t\t woman ===> [0. 0. 0. 0. 1. 0. 0. 0. 0. 0. 0. 0.]\n",
            "woman \t has place = 4 \t===> [0. 0. 0. 0. 1. 0. 0. 0. 0. 0. 0. 0.] \t\t\t\t girl ===> [0. 0. 0. 0. 0. 0. 0. 0. 0. 1. 0. 0.]\n",
            "woman \t has place = 4 \t===> [0. 0. 0. 0. 1. 0. 0. 0. 0. 0. 0. 0.] \t\t\t\t young ===> [0. 0. 0. 0. 0. 0. 0. 0. 0. 0. 1. 0.]\n",
            "prince \t has place = 0 \t===> [1. 0. 0. 0. 0. 0. 0. 0. 0. 0. 0. 0.] \t\t\t\t young ===> [0. 0. 0. 0. 0. 0. 0. 0. 0. 0. 1. 0.]\n",
            "prince \t has place = 0 \t===> [1. 0. 0. 0. 0. 0. 0. 0. 0. 0. 0. 0.] \t\t\t\t king ===> [0. 0. 0. 0. 0. 0. 1. 0. 0. 0. 0. 0.]\n",
            "young \t has place = 10 \t===> [0. 0. 0. 0. 0. 0. 0. 0. 0. 0. 1. 0.] \t\t\t\t prince ===> [1. 0. 0. 0. 0. 0. 0. 0. 0. 0. 0. 0.]\n",
            "young \t has place = 10 \t===> [0. 0. 0. 0. 0. 0. 0. 0. 0. 0. 1. 0.] \t\t\t\t king ===> [0. 0. 0. 0. 0. 0. 1. 0. 0. 0. 0. 0.]\n",
            "king \t has place = 6 \t===> [0. 0. 0. 0. 0. 0. 1. 0. 0. 0. 0. 0.] \t\t\t\t prince ===> [1. 0. 0. 0. 0. 0. 0. 0. 0. 0. 0. 0.]\n",
            "king \t has place = 6 \t===> [0. 0. 0. 0. 0. 0. 1. 0. 0. 0. 0. 0.] \t\t\t\t young ===> [0. 0. 0. 0. 0. 0. 0. 0. 0. 0. 1. 0.]\n",
            "princess \t has place = 1 \t===> [0. 1. 0. 0. 0. 0. 0. 0. 0. 0. 0. 0.] \t\t\t\t young ===> [0. 0. 0. 0. 0. 0. 0. 0. 0. 0. 1. 0.]\n",
            "princess \t has place = 1 \t===> [0. 1. 0. 0. 0. 0. 0. 0. 0. 0. 0. 0.] \t\t\t\t queen ===> [0. 0. 1. 0. 0. 0. 0. 0. 0. 0. 0. 0.]\n",
            "young \t has place = 10 \t===> [0. 0. 0. 0. 0. 0. 0. 0. 0. 0. 1. 0.] \t\t\t\t princess ===> [0. 1. 0. 0. 0. 0. 0. 0. 0. 0. 0. 0.]\n",
            "young \t has place = 10 \t===> [0. 0. 0. 0. 0. 0. 0. 0. 0. 0. 1. 0.] \t\t\t\t queen ===> [0. 0. 1. 0. 0. 0. 0. 0. 0. 0. 0. 0.]\n",
            "queen \t has place = 2 \t===> [0. 0. 1. 0. 0. 0. 0. 0. 0. 0. 0. 0.] \t\t\t\t princess ===> [0. 1. 0. 0. 0. 0. 0. 0. 0. 0. 0. 0.]\n",
            "queen \t has place = 2 \t===> [0. 0. 1. 0. 0. 0. 0. 0. 0. 0. 0. 0.] \t\t\t\t young ===> [0. 0. 0. 0. 0. 0. 0. 0. 0. 0. 1. 0.]\n",
            "man \t has place = 8 \t===> [0. 0. 0. 0. 0. 0. 0. 0. 1. 0. 0. 0.] \t\t\t\t strong ===> [0. 0. 0. 0. 0. 0. 0. 0. 0. 0. 0. 1.]\n",
            "strong \t has place = 11 \t===> [0. 0. 0. 0. 0. 0. 0. 0. 0. 0. 0. 1.] \t\t\t\t man ===> [0. 0. 0. 0. 0. 0. 0. 0. 1. 0. 0. 0.]\n",
            "woman \t has place = 4 \t===> [0. 0. 0. 0. 1. 0. 0. 0. 0. 0. 0. 0.] \t\t\t\t pretty ===> [0. 0. 0. 0. 0. 1. 0. 0. 0. 0. 0. 0.]\n",
            "pretty \t has place = 5 \t===> [0. 0. 0. 0. 0. 1. 0. 0. 0. 0. 0. 0.] \t\t\t\t woman ===> [0. 0. 0. 0. 1. 0. 0. 0. 0. 0. 0. 0.]\n",
            "prince \t has place = 0 \t===> [1. 0. 0. 0. 0. 0. 0. 0. 0. 0. 0. 0.] \t\t\t\t boy ===> [0. 0. 0. 0. 0. 0. 0. 1. 0. 0. 0. 0.]\n",
            "prince \t has place = 0 \t===> [1. 0. 0. 0. 0. 0. 0. 0. 0. 0. 0. 0.] \t\t\t\t king ===> [0. 0. 0. 0. 0. 0. 1. 0. 0. 0. 0. 0.]\n",
            "boy \t has place = 7 \t===> [0. 0. 0. 0. 0. 0. 0. 1. 0. 0. 0. 0.] \t\t\t\t prince ===> [1. 0. 0. 0. 0. 0. 0. 0. 0. 0. 0. 0.]\n",
            "boy \t has place = 7 \t===> [0. 0. 0. 0. 0. 0. 0. 1. 0. 0. 0. 0.] \t\t\t\t king ===> [0. 0. 0. 0. 0. 0. 1. 0. 0. 0. 0. 0.]\n",
            "king \t has place = 6 \t===> [0. 0. 0. 0. 0. 0. 1. 0. 0. 0. 0. 0.] \t\t\t\t prince ===> [1. 0. 0. 0. 0. 0. 0. 0. 0. 0. 0. 0.]\n",
            "king \t has place = 6 \t===> [0. 0. 0. 0. 0. 0. 1. 0. 0. 0. 0. 0.] \t\t\t\t boy ===> [0. 0. 0. 0. 0. 0. 0. 1. 0. 0. 0. 0.]\n",
            "princess \t has place = 1 \t===> [0. 1. 0. 0. 0. 0. 0. 0. 0. 0. 0. 0.] \t\t\t\t girl ===> [0. 0. 0. 0. 0. 0. 0. 0. 0. 1. 0. 0.]\n",
            "princess \t has place = 1 \t===> [0. 1. 0. 0. 0. 0. 0. 0. 0. 0. 0. 0.] \t\t\t\t queen ===> [0. 0. 1. 0. 0. 0. 0. 0. 0. 0. 0. 0.]\n",
            "girl \t has place = 9 \t===> [0. 0. 0. 0. 0. 0. 0. 0. 0. 1. 0. 0.] \t\t\t\t princess ===> [0. 1. 0. 0. 0. 0. 0. 0. 0. 0. 0. 0.]\n",
            "girl \t has place = 9 \t===> [0. 0. 0. 0. 0. 0. 0. 0. 0. 1. 0. 0.] \t\t\t\t queen ===> [0. 0. 1. 0. 0. 0. 0. 0. 0. 0. 0. 0.]\n",
            "queen \t has place = 2 \t===> [0. 0. 1. 0. 0. 0. 0. 0. 0. 0. 0. 0.] \t\t\t\t princess ===> [0. 1. 0. 0. 0. 0. 0. 0. 0. 0. 0. 0.]\n",
            "queen \t has place = 2 \t===> [0. 0. 1. 0. 0. 0. 0. 0. 0. 0. 0. 0.] \t\t\t\t girl ===> [0. 0. 0. 0. 0. 0. 0. 0. 0. 1. 0. 0.]\n"
          ],
          "name": "stdout"
        }
      ]
    },
    {
      "cell_type": "code",
      "metadata": {
        "id": "imynaAvYcVxS",
        "outputId": "917c438e-62a9-408d-bb96-f61e62510625",
        "colab": {
          "base_uri": "https://localhost:8080/"
        }
      },
      "source": [
        "print('Num of entries in X = ',len(X_train))\n",
        "print('show first three entires in X:\\n',X_train[:3])"
      ],
      "execution_count": 96,
      "outputs": [
        {
          "output_type": "stream",
          "text": [
            "Num of entries in X =  52\n",
            "show first three entires in X:\n",
            " [[0. 0. 0. 0. 0. 0. 1. 0. 0. 0. 0. 0.]\n",
            " [0. 0. 0. 0. 0. 0. 1. 0. 0. 0. 0. 0.]\n",
            " [0. 0. 0. 0. 0. 0. 0. 0. 0. 0. 0. 1.]]\n"
          ],
          "name": "stdout"
        }
      ]
    },
    {
      "cell_type": "code",
      "metadata": {
        "id": "CC_BHy_x0WS_"
      },
      "source": [
        "# pd.options.display.max_rows\n",
        "pd.options.display.max_columns = 50\n"
      ],
      "execution_count": 97,
      "outputs": []
    },
    {
      "cell_type": "code",
      "metadata": {
        "id": "n-gjyedYdQo6",
        "outputId": "0c1fe2e7-f5da-4631-d70c-430056533199",
        "colab": {
          "base_uri": "https://localhost:8080/",
          "height": 204
        }
      },
      "source": [
        "df['X_train']=list(X_train)\n",
        "df['Y_train']=list(Y_train)\n",
        "\n",
        "pd.set_option('display.width', 1000)\n",
        "df.head()"
      ],
      "execution_count": 101,
      "outputs": [
        {
          "output_type": "execute_result",
          "data": {
            "text/html": [
              "<div>\n",
              "<style scoped>\n",
              "    .dataframe tbody tr th:only-of-type {\n",
              "        vertical-align: middle;\n",
              "    }\n",
              "\n",
              "    .dataframe tbody tr th {\n",
              "        vertical-align: top;\n",
              "    }\n",
              "\n",
              "    .dataframe thead th {\n",
              "        text-align: right;\n",
              "    }\n",
              "</style>\n",
              "<table border=\"1\" class=\"dataframe\">\n",
              "  <thead>\n",
              "    <tr style=\"text-align: right;\">\n",
              "      <th></th>\n",
              "      <th>input</th>\n",
              "      <th>label</th>\n",
              "      <th>X_train</th>\n",
              "      <th>Y_train</th>\n",
              "    </tr>\n",
              "  </thead>\n",
              "  <tbody>\n",
              "    <tr>\n",
              "      <th>0</th>\n",
              "      <td>king</td>\n",
              "      <td>strong</td>\n",
              "      <td>[0.0, 0.0, 0.0, 0.0, 0.0, 0.0, 1.0, 0.0, 0.0, ...</td>\n",
              "      <td>[0.0, 0.0, 0.0, 0.0, 0.0, 0.0, 0.0, 0.0, 0.0, ...</td>\n",
              "    </tr>\n",
              "    <tr>\n",
              "      <th>1</th>\n",
              "      <td>king</td>\n",
              "      <td>man</td>\n",
              "      <td>[0.0, 0.0, 0.0, 0.0, 0.0, 0.0, 1.0, 0.0, 0.0, ...</td>\n",
              "      <td>[0.0, 0.0, 0.0, 0.0, 0.0, 0.0, 0.0, 0.0, 1.0, ...</td>\n",
              "    </tr>\n",
              "    <tr>\n",
              "      <th>2</th>\n",
              "      <td>strong</td>\n",
              "      <td>king</td>\n",
              "      <td>[0.0, 0.0, 0.0, 0.0, 0.0, 0.0, 0.0, 0.0, 0.0, ...</td>\n",
              "      <td>[0.0, 0.0, 0.0, 0.0, 0.0, 0.0, 1.0, 0.0, 0.0, ...</td>\n",
              "    </tr>\n",
              "    <tr>\n",
              "      <th>3</th>\n",
              "      <td>strong</td>\n",
              "      <td>man</td>\n",
              "      <td>[0.0, 0.0, 0.0, 0.0, 0.0, 0.0, 0.0, 0.0, 0.0, ...</td>\n",
              "      <td>[0.0, 0.0, 0.0, 0.0, 0.0, 0.0, 0.0, 0.0, 1.0, ...</td>\n",
              "    </tr>\n",
              "    <tr>\n",
              "      <th>4</th>\n",
              "      <td>man</td>\n",
              "      <td>king</td>\n",
              "      <td>[0.0, 0.0, 0.0, 0.0, 0.0, 0.0, 0.0, 0.0, 1.0, ...</td>\n",
              "      <td>[0.0, 0.0, 0.0, 0.0, 0.0, 0.0, 1.0, 0.0, 0.0, ...</td>\n",
              "    </tr>\n",
              "  </tbody>\n",
              "</table>\n",
              "</div>"
            ],
            "text/plain": [
              "    input   label                                            X_train                                            Y_train\n",
              "0    king  strong  [0.0, 0.0, 0.0, 0.0, 0.0, 0.0, 1.0, 0.0, 0.0, ...  [0.0, 0.0, 0.0, 0.0, 0.0, 0.0, 0.0, 0.0, 0.0, ...\n",
              "1    king     man  [0.0, 0.0, 0.0, 0.0, 0.0, 0.0, 1.0, 0.0, 0.0, ...  [0.0, 0.0, 0.0, 0.0, 0.0, 0.0, 0.0, 0.0, 1.0, ...\n",
              "2  strong    king  [0.0, 0.0, 0.0, 0.0, 0.0, 0.0, 0.0, 0.0, 0.0, ...  [0.0, 0.0, 0.0, 0.0, 0.0, 0.0, 1.0, 0.0, 0.0, ...\n",
              "3  strong     man  [0.0, 0.0, 0.0, 0.0, 0.0, 0.0, 0.0, 0.0, 0.0, ...  [0.0, 0.0, 0.0, 0.0, 0.0, 0.0, 0.0, 0.0, 1.0, ...\n",
              "4     man    king  [0.0, 0.0, 0.0, 0.0, 0.0, 0.0, 0.0, 0.0, 1.0, ...  [0.0, 0.0, 0.0, 0.0, 0.0, 0.0, 1.0, 0.0, 0.0, ..."
            ]
          },
          "metadata": {
            "tags": []
          },
          "execution_count": 101
        }
      ]
    },
    {
      "cell_type": "code",
      "metadata": {
        "id": "60R2jPLS36kC"
      },
      "source": [
        "from keras import models\n",
        "from keras import layers \n",
        "\n",
        "network = models.Sequential()\n",
        "\n",
        "# https://www.tensorflow.org/api_docs/python/tf/keras/activations\n",
        "# network.add( layers.Dense(2, activation='relu', input_shape=(12,) ) )\n",
        "network.add( layers.Dense(2, activation='linear', input_shape=(12,) ) )\n",
        "\n",
        "network.add( layers.Dense(12, activation='softmax' ) )\n"
      ],
      "execution_count": 108,
      "outputs": []
    },
    {
      "cell_type": "code",
      "metadata": {
        "id": "SQXUipZZ36t7"
      },
      "source": [
        "network.compile( optimizer='rmsprop', \n",
        "                 loss = 'categorical_crossentropy', \n",
        "                 metrics = ['accuracy'] )"
      ],
      "execution_count": 109,
      "outputs": []
    },
    {
      "cell_type": "code",
      "metadata": {
        "id": "_TcLc-6Z362N",
        "outputId": "091956f5-c2a1-4a7e-be55-aeeedab2d5f4",
        "colab": {
          "base_uri": "https://localhost:8080/"
        }
      },
      "source": [
        "network.fit( X_train, Y_train, epochs=100, batch_size=1)"
      ],
      "execution_count": 112,
      "outputs": [
        {
          "output_type": "stream",
          "text": [
            "Epoch 1/100\n",
            "52/52 [==============================] - 0s 842us/step - loss: 2.4660 - accuracy: 0.1538\n",
            "Epoch 2/100\n",
            "52/52 [==============================] - 0s 721us/step - loss: 2.4607 - accuracy: 0.1538\n",
            "Epoch 3/100\n",
            "52/52 [==============================] - 0s 744us/step - loss: 2.4550 - accuracy: 0.1538\n",
            "Epoch 4/100\n",
            "52/52 [==============================] - 0s 741us/step - loss: 2.4499 - accuracy: 0.1538\n",
            "Epoch 5/100\n",
            "52/52 [==============================] - 0s 737us/step - loss: 2.4439 - accuracy: 0.1538\n",
            "Epoch 6/100\n",
            "52/52 [==============================] - 0s 1ms/step - loss: 2.4385 - accuracy: 0.1538\n",
            "Epoch 7/100\n",
            "52/52 [==============================] - 0s 816us/step - loss: 2.4337 - accuracy: 0.1538\n",
            "Epoch 8/100\n",
            "52/52 [==============================] - 0s 751us/step - loss: 2.4290 - accuracy: 0.1538\n",
            "Epoch 9/100\n",
            "52/52 [==============================] - 0s 708us/step - loss: 2.4240 - accuracy: 0.1538\n",
            "Epoch 10/100\n",
            "52/52 [==============================] - 0s 714us/step - loss: 2.4193 - accuracy: 0.1538\n",
            "Epoch 11/100\n",
            "52/52 [==============================] - 0s 776us/step - loss: 2.4144 - accuracy: 0.1538\n",
            "Epoch 12/100\n",
            "52/52 [==============================] - 0s 778us/step - loss: 2.4100 - accuracy: 0.2115\n",
            "Epoch 13/100\n",
            "52/52 [==============================] - 0s 750us/step - loss: 2.4059 - accuracy: 0.2115\n",
            "Epoch 14/100\n",
            "52/52 [==============================] - 0s 782us/step - loss: 2.4016 - accuracy: 0.2115\n",
            "Epoch 15/100\n",
            "52/52 [==============================] - 0s 818us/step - loss: 2.3972 - accuracy: 0.2115\n",
            "Epoch 16/100\n",
            "52/52 [==============================] - 0s 785us/step - loss: 2.3933 - accuracy: 0.2115\n",
            "Epoch 17/100\n",
            "52/52 [==============================] - 0s 765us/step - loss: 2.3894 - accuracy: 0.2115\n",
            "Epoch 18/100\n",
            "52/52 [==============================] - 0s 723us/step - loss: 2.3853 - accuracy: 0.2115\n",
            "Epoch 19/100\n",
            "52/52 [==============================] - 0s 759us/step - loss: 2.3815 - accuracy: 0.1923\n",
            "Epoch 20/100\n",
            "52/52 [==============================] - 0s 791us/step - loss: 2.3779 - accuracy: 0.1923\n",
            "Epoch 21/100\n",
            "52/52 [==============================] - 0s 773us/step - loss: 2.3736 - accuracy: 0.1923\n",
            "Epoch 22/100\n",
            "52/52 [==============================] - 0s 746us/step - loss: 2.3696 - accuracy: 0.1923\n",
            "Epoch 23/100\n",
            "52/52 [==============================] - 0s 758us/step - loss: 2.3663 - accuracy: 0.1923\n",
            "Epoch 24/100\n",
            "52/52 [==============================] - 0s 860us/step - loss: 2.3626 - accuracy: 0.1923\n",
            "Epoch 25/100\n",
            "52/52 [==============================] - 0s 741us/step - loss: 2.3587 - accuracy: 0.1923\n",
            "Epoch 26/100\n",
            "52/52 [==============================] - 0s 778us/step - loss: 2.3559 - accuracy: 0.1923\n",
            "Epoch 27/100\n",
            "52/52 [==============================] - 0s 735us/step - loss: 2.3521 - accuracy: 0.1923\n",
            "Epoch 28/100\n",
            "52/52 [==============================] - 0s 908us/step - loss: 2.3488 - accuracy: 0.1923\n",
            "Epoch 29/100\n",
            "52/52 [==============================] - 0s 750us/step - loss: 2.3455 - accuracy: 0.1731\n",
            "Epoch 30/100\n",
            "52/52 [==============================] - 0s 848us/step - loss: 2.3416 - accuracy: 0.1923\n",
            "Epoch 31/100\n",
            "52/52 [==============================] - 0s 750us/step - loss: 2.3379 - accuracy: 0.1923\n",
            "Epoch 32/100\n",
            "52/52 [==============================] - 0s 778us/step - loss: 2.3348 - accuracy: 0.1923\n",
            "Epoch 33/100\n",
            "52/52 [==============================] - 0s 777us/step - loss: 2.3319 - accuracy: 0.1923\n",
            "Epoch 34/100\n",
            "52/52 [==============================] - 0s 893us/step - loss: 2.3284 - accuracy: 0.1923\n",
            "Epoch 35/100\n",
            "52/52 [==============================] - 0s 827us/step - loss: 2.3255 - accuracy: 0.1923\n",
            "Epoch 36/100\n",
            "52/52 [==============================] - 0s 801us/step - loss: 2.3221 - accuracy: 0.1923\n",
            "Epoch 37/100\n",
            "52/52 [==============================] - 0s 955us/step - loss: 2.3184 - accuracy: 0.1731\n",
            "Epoch 38/100\n",
            "52/52 [==============================] - 0s 747us/step - loss: 2.3153 - accuracy: 0.1731\n",
            "Epoch 39/100\n",
            "52/52 [==============================] - 0s 744us/step - loss: 2.3122 - accuracy: 0.1731\n",
            "Epoch 40/100\n",
            "52/52 [==============================] - 0s 862us/step - loss: 2.3091 - accuracy: 0.1731\n",
            "Epoch 41/100\n",
            "52/52 [==============================] - 0s 767us/step - loss: 2.3060 - accuracy: 0.1731\n",
            "Epoch 42/100\n",
            "52/52 [==============================] - 0s 767us/step - loss: 2.3030 - accuracy: 0.2115\n",
            "Epoch 43/100\n",
            "52/52 [==============================] - 0s 767us/step - loss: 2.2999 - accuracy: 0.2115\n",
            "Epoch 44/100\n",
            "52/52 [==============================] - 0s 756us/step - loss: 2.2966 - accuracy: 0.2308\n",
            "Epoch 45/100\n",
            "52/52 [==============================] - 0s 784us/step - loss: 2.2934 - accuracy: 0.2308\n",
            "Epoch 46/100\n",
            "52/52 [==============================] - 0s 795us/step - loss: 2.2905 - accuracy: 0.2308\n",
            "Epoch 47/100\n",
            "52/52 [==============================] - 0s 734us/step - loss: 2.2879 - accuracy: 0.2308\n",
            "Epoch 48/100\n",
            "52/52 [==============================] - 0s 721us/step - loss: 2.2846 - accuracy: 0.2308\n",
            "Epoch 49/100\n",
            "52/52 [==============================] - 0s 1ms/step - loss: 2.2822 - accuracy: 0.2500\n",
            "Epoch 50/100\n",
            "52/52 [==============================] - 0s 761us/step - loss: 2.2790 - accuracy: 0.2692\n",
            "Epoch 51/100\n",
            "52/52 [==============================] - 0s 783us/step - loss: 2.2763 - accuracy: 0.2692\n",
            "Epoch 52/100\n",
            "52/52 [==============================] - 0s 808us/step - loss: 2.2731 - accuracy: 0.2885\n",
            "Epoch 53/100\n",
            "52/52 [==============================] - 0s 775us/step - loss: 2.2704 - accuracy: 0.2692\n",
            "Epoch 54/100\n",
            "52/52 [==============================] - 0s 866us/step - loss: 2.2679 - accuracy: 0.2692\n",
            "Epoch 55/100\n",
            "52/52 [==============================] - 0s 769us/step - loss: 2.2641 - accuracy: 0.2692\n",
            "Epoch 56/100\n",
            "52/52 [==============================] - 0s 766us/step - loss: 2.2610 - accuracy: 0.2885\n",
            "Epoch 57/100\n",
            "52/52 [==============================] - 0s 786us/step - loss: 2.2589 - accuracy: 0.2692\n",
            "Epoch 58/100\n",
            "52/52 [==============================] - 0s 1ms/step - loss: 2.2553 - accuracy: 0.2885\n",
            "Epoch 59/100\n",
            "52/52 [==============================] - 0s 798us/step - loss: 2.2528 - accuracy: 0.2692\n",
            "Epoch 60/100\n",
            "52/52 [==============================] - 0s 731us/step - loss: 2.2498 - accuracy: 0.2692\n",
            "Epoch 61/100\n",
            "52/52 [==============================] - 0s 859us/step - loss: 2.2469 - accuracy: 0.2692\n",
            "Epoch 62/100\n",
            "52/52 [==============================] - 0s 767us/step - loss: 2.2454 - accuracy: 0.2500\n",
            "Epoch 63/100\n",
            "52/52 [==============================] - 0s 776us/step - loss: 2.2415 - accuracy: 0.2692\n",
            "Epoch 64/100\n",
            "52/52 [==============================] - 0s 904us/step - loss: 2.2388 - accuracy: 0.2500\n",
            "Epoch 65/100\n",
            "52/52 [==============================] - 0s 771us/step - loss: 2.2363 - accuracy: 0.2500\n",
            "Epoch 66/100\n",
            "52/52 [==============================] - 0s 767us/step - loss: 2.2337 - accuracy: 0.2692\n",
            "Epoch 67/100\n",
            "52/52 [==============================] - 0s 732us/step - loss: 2.2311 - accuracy: 0.2500\n",
            "Epoch 68/100\n",
            "52/52 [==============================] - 0s 821us/step - loss: 2.2281 - accuracy: 0.2692\n",
            "Epoch 69/100\n",
            "52/52 [==============================] - 0s 966us/step - loss: 2.2257 - accuracy: 0.2692\n",
            "Epoch 70/100\n",
            "52/52 [==============================] - 0s 962us/step - loss: 2.2229 - accuracy: 0.2692\n",
            "Epoch 71/100\n",
            "52/52 [==============================] - 0s 807us/step - loss: 2.2207 - accuracy: 0.2692\n",
            "Epoch 72/100\n",
            "52/52 [==============================] - 0s 916us/step - loss: 2.2178 - accuracy: 0.2692\n",
            "Epoch 73/100\n",
            "52/52 [==============================] - 0s 776us/step - loss: 2.2153 - accuracy: 0.2692\n",
            "Epoch 74/100\n",
            "52/52 [==============================] - 0s 757us/step - loss: 2.2124 - accuracy: 0.2692\n",
            "Epoch 75/100\n",
            "52/52 [==============================] - 0s 765us/step - loss: 2.2097 - accuracy: 0.2692\n",
            "Epoch 76/100\n",
            "52/52 [==============================] - 0s 826us/step - loss: 2.2072 - accuracy: 0.2692\n",
            "Epoch 77/100\n",
            "52/52 [==============================] - 0s 738us/step - loss: 2.2049 - accuracy: 0.2692\n",
            "Epoch 78/100\n",
            "52/52 [==============================] - 0s 849us/step - loss: 2.2017 - accuracy: 0.2692\n",
            "Epoch 79/100\n",
            "52/52 [==============================] - 0s 760us/step - loss: 2.1990 - accuracy: 0.2692\n",
            "Epoch 80/100\n",
            "52/52 [==============================] - 0s 793us/step - loss: 2.1963 - accuracy: 0.2692\n",
            "Epoch 81/100\n",
            "52/52 [==============================] - 0s 758us/step - loss: 2.1936 - accuracy: 0.2692\n",
            "Epoch 82/100\n",
            "52/52 [==============================] - 0s 789us/step - loss: 2.1915 - accuracy: 0.2692\n",
            "Epoch 83/100\n",
            "52/52 [==============================] - 0s 830us/step - loss: 2.1887 - accuracy: 0.2692\n",
            "Epoch 84/100\n",
            "52/52 [==============================] - 0s 894us/step - loss: 2.1862 - accuracy: 0.2885\n",
            "Epoch 85/100\n",
            "52/52 [==============================] - 0s 798us/step - loss: 2.1837 - accuracy: 0.2692\n",
            "Epoch 86/100\n",
            "52/52 [==============================] - 0s 922us/step - loss: 2.1813 - accuracy: 0.2692\n",
            "Epoch 87/100\n",
            "52/52 [==============================] - 0s 786us/step - loss: 2.1790 - accuracy: 0.2885\n",
            "Epoch 88/100\n",
            "52/52 [==============================] - 0s 853us/step - loss: 2.1761 - accuracy: 0.2885\n",
            "Epoch 89/100\n",
            "52/52 [==============================] - 0s 829us/step - loss: 2.1735 - accuracy: 0.2692\n",
            "Epoch 90/100\n",
            "52/52 [==============================] - 0s 810us/step - loss: 2.1714 - accuracy: 0.2885\n",
            "Epoch 91/100\n",
            "52/52 [==============================] - 0s 756us/step - loss: 2.1692 - accuracy: 0.2692\n",
            "Epoch 92/100\n",
            "52/52 [==============================] - 0s 761us/step - loss: 2.1662 - accuracy: 0.2885\n",
            "Epoch 93/100\n",
            "52/52 [==============================] - 0s 862us/step - loss: 2.1640 - accuracy: 0.2692\n",
            "Epoch 94/100\n",
            "52/52 [==============================] - 0s 906us/step - loss: 2.1621 - accuracy: 0.2692\n",
            "Epoch 95/100\n",
            "52/52 [==============================] - 0s 803us/step - loss: 2.1590 - accuracy: 0.2692\n",
            "Epoch 96/100\n",
            "52/52 [==============================] - 0s 821us/step - loss: 2.1568 - accuracy: 0.2692\n",
            "Epoch 97/100\n",
            "52/52 [==============================] - 0s 770us/step - loss: 2.1542 - accuracy: 0.2692\n",
            "Epoch 98/100\n",
            "52/52 [==============================] - 0s 846us/step - loss: 2.1519 - accuracy: 0.2692\n",
            "Epoch 99/100\n",
            "52/52 [==============================] - 0s 796us/step - loss: 2.1499 - accuracy: 0.2692\n",
            "Epoch 100/100\n",
            "52/52 [==============================] - 0s 932us/step - loss: 2.1475 - accuracy: 0.2692\n"
          ],
          "name": "stdout"
        },
        {
          "output_type": "execute_result",
          "data": {
            "text/plain": [
              "<tensorflow.python.keras.callbacks.History at 0x7f5cc0d27be0>"
            ]
          },
          "metadata": {
            "tags": []
          },
          "execution_count": 112
        }
      ]
    },
    {
      "cell_type": "code",
      "metadata": {
        "id": "W1RAGxmQ3682",
        "outputId": "7c6d6278-53f5-49b2-ae31-03d32ba42c54",
        "colab": {
          "base_uri": "https://localhost:8080/"
        }
      },
      "source": [
        "network.weights"
      ],
      "execution_count": 113,
      "outputs": [
        {
          "output_type": "execute_result",
          "data": {
            "text/plain": [
              "[<tf.Variable 'dense_2/kernel:0' shape=(12, 2) dtype=float32, numpy=\n",
              " array([[-0.42008352,  0.48263785],\n",
              "        [-1.3609248 ,  0.02173568],\n",
              "        [ 0.2515831 ,  1.1731361 ],\n",
              "        [-1.0021727 , -0.00139484],\n",
              "        [-1.2206148 ,  0.40356255],\n",
              "        [-0.4658559 ,  0.22919893],\n",
              "        [ 0.5700771 , -0.34887198],\n",
              "        [-0.23254703, -0.56209373],\n",
              "        [ 0.0966674 ,  0.03401899],\n",
              "        [-0.05278334,  0.9169911 ],\n",
              "        [-0.09387339, -0.2277202 ],\n",
              "        [-0.09213598, -0.98213536]], dtype=float32)>,\n",
              " <tf.Variable 'dense_2/bias:0' shape=(2,) dtype=float32, numpy=array([-0.03562399, -0.09601619], dtype=float32)>,\n",
              " <tf.Variable 'dense_3/kernel:0' shape=(2, 12) dtype=float32, numpy=\n",
              " array([[ 1.1848211 ,  1.255249  , -0.42624202,  0.30799428,  0.210631  ,\n",
              "         -0.00461234,  0.3026597 ,  0.45118725,  0.52812535,  0.0129383 ,\n",
              "          0.08136646,  1.0849724 ],\n",
              "        [-0.9740221 ,  0.8138166 , -0.08953857,  0.3993386 ,  0.1581501 ,\n",
              "          0.14150134, -0.4171328 ,  0.01253515, -1.0230249 , -0.03097546,\n",
              "          0.33500594, -0.28617054]], dtype=float32)>,\n",
              " <tf.Variable 'dense_3/bias:0' shape=(12,) dtype=float32, numpy=\n",
              " array([-0.73092926, -0.724347  , -0.48529145, -1.5068433 , -0.57868713,\n",
              "        -2.26872   , -0.34557858, -0.7813039 , -0.5572219 , -0.81501746,\n",
              "        -0.11878388, -0.98082125], dtype=float32)>]"
            ]
          },
          "metadata": {
            "tags": []
          },
          "execution_count": 113
        }
      ]
    },
    {
      "cell_type": "code",
      "metadata": {
        "id": "Qo90F8XD7nBY"
      },
      "source": [
        "# a=network.weights[0]\n",
        "# a.numpy()"
      ],
      "execution_count": 122,
      "outputs": []
    },
    {
      "cell_type": "code",
      "metadata": {
        "id": "hwcAOlqK37Ds",
        "outputId": "86ebb861-1e56-4513-8758-5c69de31aa96",
        "colab": {
          "base_uri": "https://localhost:8080/",
          "height": 421
        }
      },
      "source": [
        "d2 = pd.DataFrame(  network.weights[0].numpy(),  columns = ['x1', 'x2'] )\n",
        "w2v_df = pd.concat( [w2idx,d2],axis=1 )\n",
        "w2v_df"
      ],
      "execution_count": 139,
      "outputs": [
        {
          "output_type": "execute_result",
          "data": {
            "text/html": [
              "<div>\n",
              "<style scoped>\n",
              "    .dataframe tbody tr th:only-of-type {\n",
              "        vertical-align: middle;\n",
              "    }\n",
              "\n",
              "    .dataframe tbody tr th {\n",
              "        vertical-align: top;\n",
              "    }\n",
              "\n",
              "    .dataframe thead th {\n",
              "        text-align: right;\n",
              "    }\n",
              "</style>\n",
              "<table border=\"1\" class=\"dataframe\">\n",
              "  <thead>\n",
              "    <tr style=\"text-align: right;\">\n",
              "      <th></th>\n",
              "      <th>values</th>\n",
              "      <th>word</th>\n",
              "      <th>x1</th>\n",
              "      <th>x2</th>\n",
              "    </tr>\n",
              "  </thead>\n",
              "  <tbody>\n",
              "    <tr>\n",
              "      <th>0</th>\n",
              "      <td>0</td>\n",
              "      <td>prince</td>\n",
              "      <td>-0.420084</td>\n",
              "      <td>0.482638</td>\n",
              "    </tr>\n",
              "    <tr>\n",
              "      <th>1</th>\n",
              "      <td>1</td>\n",
              "      <td>princess</td>\n",
              "      <td>-1.360925</td>\n",
              "      <td>0.021736</td>\n",
              "    </tr>\n",
              "    <tr>\n",
              "      <th>2</th>\n",
              "      <td>2</td>\n",
              "      <td>queen</td>\n",
              "      <td>0.251583</td>\n",
              "      <td>1.173136</td>\n",
              "    </tr>\n",
              "    <tr>\n",
              "      <th>3</th>\n",
              "      <td>3</td>\n",
              "      <td>wise</td>\n",
              "      <td>-1.002173</td>\n",
              "      <td>-0.001395</td>\n",
              "    </tr>\n",
              "    <tr>\n",
              "      <th>4</th>\n",
              "      <td>4</td>\n",
              "      <td>woman</td>\n",
              "      <td>-1.220615</td>\n",
              "      <td>0.403563</td>\n",
              "    </tr>\n",
              "    <tr>\n",
              "      <th>5</th>\n",
              "      <td>5</td>\n",
              "      <td>pretty</td>\n",
              "      <td>-0.465856</td>\n",
              "      <td>0.229199</td>\n",
              "    </tr>\n",
              "    <tr>\n",
              "      <th>6</th>\n",
              "      <td>6</td>\n",
              "      <td>king</td>\n",
              "      <td>0.570077</td>\n",
              "      <td>-0.348872</td>\n",
              "    </tr>\n",
              "    <tr>\n",
              "      <th>7</th>\n",
              "      <td>7</td>\n",
              "      <td>boy</td>\n",
              "      <td>-0.232547</td>\n",
              "      <td>-0.562094</td>\n",
              "    </tr>\n",
              "    <tr>\n",
              "      <th>8</th>\n",
              "      <td>8</td>\n",
              "      <td>man</td>\n",
              "      <td>0.096667</td>\n",
              "      <td>0.034019</td>\n",
              "    </tr>\n",
              "    <tr>\n",
              "      <th>9</th>\n",
              "      <td>9</td>\n",
              "      <td>girl</td>\n",
              "      <td>-0.052783</td>\n",
              "      <td>0.916991</td>\n",
              "    </tr>\n",
              "    <tr>\n",
              "      <th>10</th>\n",
              "      <td>10</td>\n",
              "      <td>young</td>\n",
              "      <td>-0.093873</td>\n",
              "      <td>-0.227720</td>\n",
              "    </tr>\n",
              "    <tr>\n",
              "      <th>11</th>\n",
              "      <td>11</td>\n",
              "      <td>strong</td>\n",
              "      <td>-0.092136</td>\n",
              "      <td>-0.982135</td>\n",
              "    </tr>\n",
              "  </tbody>\n",
              "</table>\n",
              "</div>"
            ],
            "text/plain": [
              "    values      word        x1        x2\n",
              "0        0    prince -0.420084  0.482638\n",
              "1        1  princess -1.360925  0.021736\n",
              "2        2     queen  0.251583  1.173136\n",
              "3        3      wise -1.002173 -0.001395\n",
              "4        4     woman -1.220615  0.403563\n",
              "5        5    pretty -0.465856  0.229199\n",
              "6        6      king  0.570077 -0.348872\n",
              "7        7       boy -0.232547 -0.562094\n",
              "8        8       man  0.096667  0.034019\n",
              "9        9      girl -0.052783  0.916991\n",
              "10      10     young -0.093873 -0.227720\n",
              "11      11    strong -0.092136 -0.982135"
            ]
          },
          "metadata": {
            "tags": []
          },
          "execution_count": 139
        }
      ]
    },
    {
      "cell_type": "code",
      "metadata": {
        "id": "vn6I3PWC8x8E",
        "outputId": "27cc1c09-bc14-45c7-d0e3-ad99b1a4d855",
        "colab": {
          "base_uri": "https://localhost:8080/",
          "height": 265
        }
      },
      "source": [
        "x1 = np.array(w2v_df['x1'])\n",
        "x2 = np.array(w2v_df['x2'])\n",
        "plt.close()\n",
        "PADDING = .1\n",
        "x_axis_min, x_axis_max = np.min(x1)-PADDING, np.max(x1)+PADDING\n",
        "y_axis_min, y_axis_max = np.min(x2)-PADDING, np.max(x2)+PADDING\n",
        "\n",
        "%matplotlib inline\n",
        "import matplotlib.pyplot as plt\n",
        "\n",
        "fig, ax = plt.subplots()\n",
        "plt.rcParams[\"figure.figsize\"] = (15,10)\n",
        "# plt.figure(figsize=(10,10))\n",
        "\n",
        "for word, x1, x2 in zip(w2v_df['word'], w2v_df['x1'], w2v_df['x2']):\n",
        "    ax.annotate(word, (x1,x2 ))\n",
        "    \n",
        "plt.xlim(x_axis_min,x_axis_max)\n",
        "plt.ylim(y_axis_min,y_axis_max)\n",
        "\n",
        "# plt.scatter(x1, x2, c='red', alpha=0.5)\n",
        "plt.show()\n"
      ],
      "execution_count": 166,
      "outputs": [
        {
          "output_type": "display_data",
          "data": {
            "image/png": "[encoded data removed]",
            "text/plain": [
              "<Figure size 432x288 with 1 Axes>"
            ]
          },
          "metadata": {
            "tags": [],
            "needs_background": "light"
          }
        }
      ]
    },
    {
      "cell_type": "code",
      "metadata": {
        "id": "5cyLiVub8yFv"
      },
      "source": [
        ""
      ],
      "execution_count": null,
      "outputs": []
    },
    {
      "cell_type": "code",
      "metadata": {
        "id": "zJ0FCgOo8yMs"
      },
      "source": [
        ""
      ],
      "execution_count": null,
      "outputs": []
    },
    {
      "cell_type": "code",
      "metadata": {
        "id": "jTmbOkw98yS7"
      },
      "source": [
        ""
      ],
      "execution_count": null,
      "outputs": []
    },
    {
      "cell_type": "code",
      "metadata": {
        "id": "ajbtF74e8yaZ"
      },
      "source": [
        ""
      ],
      "execution_count": null,
      "outputs": []
    },
    {
      "cell_type": "code",
      "metadata": {
        "id": "8iR1VSxG8yrS",
        "outputId": "43b529aa-8649-47f4-907b-fce3a13f6908",
        "colab": {
          "base_uri": "https://localhost:8080/",
          "height": 269
        }
      },
      "source": [
        "%matplotlib notebook\n",
        "import numpy as np\n",
        "import matplotlib.pyplot as plt\n",
        "\n",
        "%matplotlib inline\n",
        "# Fixing random state for reproducibility\n",
        "np.random.seed(19680801)\n",
        "\n",
        "N = 50\n",
        "x = np.random.rand(N)\n",
        "y = np.random.rand(N)\n",
        "colors = np.random.rand(N)\n",
        "area = (30 * np.random.rand(N))**2  # 0 to 15 point radii\n",
        "\n",
        "plt.scatter(x, y, s=area, c=colors, alpha=0.5)\n",
        "plt.show()"
      ],
      "execution_count": 167,
      "outputs": [
        {
          "output_type": "display_data",
          "data": {
            "image/png": "[encoded data removed]",
            "text/plain": [
              "<Figure size 432x288 with 1 Axes>"
            ]
          },
          "metadata": {
            "tags": [],
            "needs_background": "light"
          }
        }
      ]
    },
    {
      "cell_type": "code",
      "metadata": {
        "id": "TYb1ael9usSg"
      },
      "source": [
        "\n",
        "\n",
        "# # making placeholders for X_train and Y_train\n",
        "# x = tf.placeholder(tf.float32, shape=(None, ONE_HOT_DIM))\n",
        "# y_label = tf.placeholder(tf.float32, shape=(None, ONE_HOT_DIM))\n",
        "\n",
        "# # word embedding will be 2 dimension for 2d visualization\n",
        "# EMBEDDING_DIM = 2 \n",
        "\n",
        "# # hidden layer: which represents word vector eventually\n",
        "# W1 = tf.Variable(tf.random_normal([ONE_HOT_DIM, EMBEDDING_DIM]))\n",
        "# b1 = tf.Variable(tf.random_normal([1])) #bias\n",
        "# hidden_layer = tf.add(tf.matmul(x,W1), b1)\n",
        "\n",
        "# # output layer\n",
        "# W2 = tf.Variable(tf.random_normal([EMBEDDING_DIM, ONE_HOT_DIM]))\n",
        "# b2 = tf.Variable(tf.random_normal([1]))\n",
        "# prediction = tf.nn.softmax(tf.add( tf.matmul(hidden_layer, W2), b2))\n",
        "\n",
        "# # loss function: cross entropy\n",
        "# loss = tf.reduce_mean(-tf.reduce_sum(y_label * tf.log(prediction), axis=[1]))\n",
        "\n",
        "# # training operation\n",
        "# train_op = tf.train.GradientDescentOptimizer(0.05).minimize(loss)"
      ],
      "execution_count": 133,
      "outputs": []
    },
    {
      "cell_type": "markdown",
      "metadata": {
        "id": "Lvm9D1zXusSj"
      },
      "source": [
        "# Train"
      ]
    },
    {
      "cell_type": "code",
      "metadata": {
        "id": "PoEvFBjkusSj"
      },
      "source": [
        "# sess = tf.Session()\n",
        "# init = tf.global_variables_initializer()\n",
        "# sess.run(init) \n",
        "\n",
        "# iteration = 20000\n",
        "# for i in range(iteration):\n",
        "#     # input is X_train which is one hot encoded word\n",
        "#     # label is Y_train which is one hot encoded neighbor word\n",
        "#     sess.run(train_op, feed_dict={x: X_train, y_label: Y_train})\n",
        "#     if i % 3000 == 0:\n",
        "#         print('iteration '+str(i)+' loss is : ', sess.run(loss, feed_dict={x: X_train, y_label: Y_train}))"
      ],
      "execution_count": 134,
      "outputs": []
    },
    {
      "cell_type": "code",
      "metadata": {
        "id": "7TegWDoAusSn"
      },
      "source": [
        "# # Now the hidden layer (W1 + b1) is actually the word look up table\n",
        "# vectors = sess.run(W1 + b1)\n",
        "# print(vectors)"
      ],
      "execution_count": 135,
      "outputs": []
    },
    {
      "cell_type": "markdown",
      "metadata": {
        "id": "Oj6_nlKNusSs"
      },
      "source": [
        "# word vector in table"
      ]
    },
    {
      "cell_type": "code",
      "metadata": {
        "id": "N3nPt6lFusSs",
        "outputId": "bf8131ca-7c5f-48d9-c68e-da5ee243af12"
      },
      "source": [
        "w2v_df = pd.DataFrame(vectors, columns = ['x1', 'x2'])\n",
        "w2v_df['word'] = words\n",
        "w2v_df = w2v_df[['word', 'x1', 'x2']]\n",
        "w2v_df"
      ],
      "execution_count": null,
      "outputs": [
        {
          "output_type": "execute_result",
          "data": {
            "text/html": [
              "<div>\n",
              "<style scoped>\n",
              "    .dataframe tbody tr th:only-of-type {\n",
              "        vertical-align: middle;\n",
              "    }\n",
              "\n",
              "    .dataframe tbody tr th {\n",
              "        vertical-align: top;\n",
              "    }\n",
              "\n",
              "    .dataframe thead th {\n",
              "        text-align: right;\n",
              "    }\n",
              "</style>\n",
              "<table border=\"1\" class=\"dataframe\">\n",
              "  <thead>\n",
              "    <tr style=\"text-align: right;\">\n",
              "      <th></th>\n",
              "      <th>word</th>\n",
              "      <th>x1</th>\n",
              "      <th>x2</th>\n",
              "    </tr>\n",
              "  </thead>\n",
              "  <tbody>\n",
              "    <tr>\n",
              "      <th>0</th>\n",
              "      <td>strong</td>\n",
              "      <td>-5.074393</td>\n",
              "      <td>3.714381</td>\n",
              "    </tr>\n",
              "    <tr>\n",
              "      <th>1</th>\n",
              "      <td>prince</td>\n",
              "      <td>-6.660943</td>\n",
              "      <td>-0.225515</td>\n",
              "    </tr>\n",
              "    <tr>\n",
              "      <th>2</th>\n",
              "      <td>boy</td>\n",
              "      <td>-1.573136</td>\n",
              "      <td>0.538650</td>\n",
              "    </tr>\n",
              "    <tr>\n",
              "      <th>3</th>\n",
              "      <td>princess</td>\n",
              "      <td>-1.737352</td>\n",
              "      <td>-4.974859</td>\n",
              "    </tr>\n",
              "    <tr>\n",
              "      <th>4</th>\n",
              "      <td>king</td>\n",
              "      <td>-0.665455</td>\n",
              "      <td>0.615576</td>\n",
              "    </tr>\n",
              "    <tr>\n",
              "      <th>5</th>\n",
              "      <td>man</td>\n",
              "      <td>-0.368308</td>\n",
              "      <td>0.569896</td>\n",
              "    </tr>\n",
              "    <tr>\n",
              "      <th>6</th>\n",
              "      <td>young</td>\n",
              "      <td>-0.361708</td>\n",
              "      <td>-0.130939</td>\n",
              "    </tr>\n",
              "    <tr>\n",
              "      <th>7</th>\n",
              "      <td>wise</td>\n",
              "      <td>-2.511614</td>\n",
              "      <td>-5.351053</td>\n",
              "    </tr>\n",
              "    <tr>\n",
              "      <th>8</th>\n",
              "      <td>girl</td>\n",
              "      <td>-2.337072</td>\n",
              "      <td>-3.970424</td>\n",
              "    </tr>\n",
              "    <tr>\n",
              "      <th>9</th>\n",
              "      <td>pretty</td>\n",
              "      <td>-3.097544</td>\n",
              "      <td>-3.623812</td>\n",
              "    </tr>\n",
              "    <tr>\n",
              "      <th>10</th>\n",
              "      <td>queen</td>\n",
              "      <td>-0.554055</td>\n",
              "      <td>-1.481090</td>\n",
              "    </tr>\n",
              "    <tr>\n",
              "      <th>11</th>\n",
              "      <td>woman</td>\n",
              "      <td>-0.020509</td>\n",
              "      <td>-1.324963</td>\n",
              "    </tr>\n",
              "  </tbody>\n",
              "</table>\n",
              "</div>"
            ],
            "text/plain": [
              "        word        x1        x2\n",
              "0     strong -5.074393  3.714381\n",
              "1     prince -6.660943 -0.225515\n",
              "2        boy -1.573136  0.538650\n",
              "3   princess -1.737352 -4.974859\n",
              "4       king -0.665455  0.615576\n",
              "5        man -0.368308  0.569896\n",
              "6      young -0.361708 -0.130939\n",
              "7       wise -2.511614 -5.351053\n",
              "8       girl -2.337072 -3.970424\n",
              "9     pretty -3.097544 -3.623812\n",
              "10     queen -0.554055 -1.481090\n",
              "11     woman -0.020509 -1.324963"
            ]
          },
          "metadata": {
            "tags": []
          },
          "execution_count": 14
        }
      ]
    },
    {
      "cell_type": "markdown",
      "metadata": {
        "id": "rs9x8wR1usSy"
      },
      "source": [
        "# word vector in 2d chart"
      ]
    },
    {
      "cell_type": "code",
      "metadata": {
        "id": "nXsTwgeEusSz",
        "outputId": "707b74fa-1eca-4747-cc8f-f903e0d79783"
      },
      "source": [
        "import matplotlib.pyplot as plt\n",
        "\n",
        "fig, ax = plt.subplots()\n",
        "\n",
        "for word, x1, x2 in zip(w2v_df['word'], w2v_df['x1'], w2v_df['x2']):\n",
        "    ax.annotate(word, (x1,x2 ))\n",
        "    \n",
        "PADDING = 1.0\n",
        "x_axis_min = np.amin(vectors, axis=0)[0] - PADDING\n",
        "y_axis_min = np.amin(vectors, axis=0)[1] - PADDING\n",
        "x_axis_max = np.amax(vectors, axis=0)[0] + PADDING\n",
        "y_axis_max = np.amax(vectors, axis=0)[1] + PADDING\n",
        " \n",
        "plt.xlim(x_axis_min,x_axis_max)\n",
        "plt.ylim(y_axis_min,y_axis_max)\n",
        "plt.rcParams[\"figure.figsize\"] = (10,10)\n",
        "\n",
        "plt.show()"
      ],
      "execution_count": null,
      "outputs": [
        {
          "output_type": "display_data",
          "data": {
            "image/png": "[encoded data removed]",
            "text/plain": [
              "<Figure size 432x288 with 1 Axes>"
            ]
          },
          "metadata": {
            "tags": [],
            "needs_background": "light"
          }
        }
      ]
    }
  ]
}