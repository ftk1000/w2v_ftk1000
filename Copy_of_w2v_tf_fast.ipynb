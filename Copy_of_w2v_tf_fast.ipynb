{
  "nbformat": 4,
  "nbformat_minor": 0,
  "metadata": {
    "colab": {
      "name": "Copy of w2v_tf_fast.ipynb",
      "provenance": [],
      "collapsed_sections": [],
      "authorship_tag": "ABX9TyMxeKY1+whkPFte9AkgGV9v",
      "include_colab_link": true
    },
    "kernelspec": {
      "name": "python3",
      "display_name": "Python 3"
    }
  },
  "cells": [
    {
      "cell_type": "markdown",
      "metadata": {
        "id": "view-in-github",
        "colab_type": "text"
      },
      "source": [
        "<a href=\"https://colab.research.google.com/github/ftk1000/w2v_ftk1000/blob/master/Copy_of_w2v_tf_fast.ipynb\" target=\"_parent\"><img src=\"https://colab.research.google.com/assets/colab-badge.svg\" alt=\"Open In Colab\"/></a>"
      ]
    },
    {
      "cell_type": "markdown",
      "metadata": {
        "id": "6eyrAoP3MjQF"
      },
      "source": [
        "# w2v QUICK DEMO"
      ]
    },
    {
      "cell_type": "code",
      "metadata": {
        "id": "CvWboB8ywC6A"
      },
      "source": [
        "# w2v_tf_fast\r\n",
        "import numpy as np\r\n",
        "import pandas as pd\r\n",
        "pd.options.display.max_columns = 500\r\n",
        "pd.set_option('display.width', 1000)\r\n",
        "import matplotlib.pyplot as plt\r\n",
        "from keras import models\r\n",
        "from keras import layers \r\n",
        "import tensorflow as tf\r\n",
        "from tensorflow.keras.utils import plot_model\r\n",
        "import time\r\n",
        "import re   # p = re.split(r'(?<=[^A-Z].[.?]) +(?=[A-Z])', p)\r\n",
        "\r\n",
        "def get_padding(x):\r\n",
        "  return (np.max(x)-np.min(x))/20\r\n",
        "\r\n",
        "\r\n",
        "def plot_words(w2v_df, ttl):\r\n",
        "  # plot words according to their embedding\r\n",
        "  x1 = np.array(w2v_df['x1'])\r\n",
        "  x2 = np.array(w2v_df['x2'])\r\n",
        "  # wrd = \r\n",
        "  x_axis_min, x_axis_max = np.min(x1)-get_padding(x1), np.max(x1)+get_padding(x1)\r\n",
        "  y_axis_min, y_axis_max = np.min(x2)-get_padding(x2), np.max(x2)+get_padding(x2)\r\n",
        "\r\n",
        "  plt.close()\r\n",
        "  fig, ax = plt.subplots()\r\n",
        "  plt.rcParams[\"figure.figsize\"] = (10,10)\r\n",
        "  # plt.figure(figsize=(10,10))\r\n",
        "\r\n",
        "  plt.scatter(x1, x2, c='red', s=500, alpha=0.3)\r\n",
        "  # plt.text(x1+.03, x2+.03, np.asarray(w2v_df['word']), fontsize=9)\r\n",
        "  for word, x1, x2 in zip(w2v_df['word'], w2v_df['x1'], w2v_df['x2']):\r\n",
        "    if word != 'кичлам':\r\n",
        "      ax.annotate(word, (x1,x2 ), fontsize=14, color='blue')\r\n",
        "      \r\n",
        "  ix  =  w2v_df['word']=='кичлам'\r\n",
        "  [_,w,wx1,wx2] = np.asarray(w2v_df.loc[ix])[0]\r\n",
        "  ax.annotate(w, (wx1,wx2 ), fontsize=16, color='red')\r\n",
        "\r\n",
        "  plt.xlim(x_axis_min,x_axis_max)\r\n",
        "  plt.ylim(y_axis_min,y_axis_max)\r\n",
        "  plt.title(ttl, fontsize=18)\r\n",
        "  plt.show()\r\n",
        "\r\n",
        "def show_weights(model):\r\n",
        "  print('WEIGHT MATRICES:')\r\n",
        "  for layer in model.layers:\r\n",
        "      weights = layer.get_weights() # list\r\n",
        "      print(weights[0].shape)\r\n",
        "      print(weights[0])\r\n",
        "\r\n",
        "  print('\\n\\nBIASES:')\r\n",
        "  for layer in model.layers:\r\n",
        "      bias = layer.bias # list\r\n",
        "      print(bias.shape)\r\n",
        "      print(bias)    \r\n",
        "\r\n",
        "def show_weights_v2(model, format='rounded'):\r\n",
        "  W0=(model.layers[0].get_weights()[0])\r\n",
        "  W1=(model.layers[1].get_weights()[0])\r\n",
        "  b0 = np.asarray(model.layers[0].bias).astype(float)\r\n",
        "  b1 = np.asarray(model.layers[1].bias).astype(float)\r\n",
        "  if format=='rounded':\r\n",
        "    print(\"W0=\",np.round(W0,1))\r\n",
        "    print(\"W1=\",np.round(W1,1))\r\n",
        "    print(\"b0=\",np.round(b0,1))\r\n",
        "    print(\"b1=\",np.round(b1,1))\r\n",
        "  else:\r\n",
        "    print(\"W0=\",W0)\r\n",
        "    print(\"W1=\",W1)\r\n",
        "    print(\"b0=\",b0)\r\n",
        "    print(\"b1=\",b1)\r\n"
      ],
      "execution_count": 3,
      "outputs": []
    },
    {
      "cell_type": "code",
      "metadata": {
        "id": "4MdXdNJN49kL"
      },
      "source": [
        "def plot_words_v2( vocab, model, ttl ):\r\n",
        "  # read weigfth from the model and plot words as vectors for W0 and W1\r\n",
        "  W0,W1,b0,b1 = get_weights(model)\r\n",
        "  # print(\"b0=\",np.round(b0,2), \"   b1=\",np.round(b1,2))\r\n",
        "\r\n",
        "  fig, (ax1, ax2) = plt.subplots(1, 2, figsize=(10,4))\r\n",
        "  fig.tight_layout(pad=5.0)\r\n",
        "\r\n",
        "  fig.suptitle(ttl,  fontsize=18)\r\n",
        "  # plt.rcParams[\"figure.figsize\"] = (10,10)\r\n",
        " \r\n",
        "  # plot words according to their embedding\r\n",
        "  W=W0\r\n",
        "  x1, x2    =    W[:,0], W[:,1]\r\n",
        "  x_axis_min, x_axis_max = np.min(x1)-get_padding(x1), np.max(x1)+get_padding(x1)\r\n",
        "  y_axis_min, y_axis_max = np.min(x2)-get_padding(x2), np.max(x2)+get_padding(x2)\r\n",
        "\r\n",
        "  ax1.scatter(x1, x2, c='red', s=500, alpha=0.3)\r\n",
        "  for word, x1i, x2i in zip(vocab, x1, x2):\r\n",
        "    if word != 'кичлам':\r\n",
        "      ax1.annotate(word, (x1i,x2i ), fontsize=14, color='blue')\r\n",
        "    else:\r\n",
        "      ax1.annotate(word, (x1i,x2i ), fontsize=16, color='red')\r\n",
        "  ax1.set_title('W0', fontsize=18)\r\n",
        "\r\n",
        "  \r\n",
        "  W=W1.transpose()\r\n",
        "  x1, x2    =    W[:,0], W[:,1]\r\n",
        "  x_axis_min, x_axis_max = np.min(x1)-get_padding(x1), np.max(x1)+get_padding(x1)\r\n",
        "  y_axis_min, y_axis_max = np.min(x2)-get_padding(x2), np.max(x2)+get_padding(x2)\r\n",
        "\r\n",
        "  ax2.scatter(x1, x2, c='red', s=500, alpha=0.3)\r\n",
        "  for word, x1i, x2i in zip(vocab, x1, x2):\r\n",
        "    if word != 'кичлам':\r\n",
        "      ax2.annotate(word, (x1i,x2i ), fontsize=14, color='blue')\r\n",
        "    else:\r\n",
        "      ax2.annotate(word, (x1i,x2i ), fontsize=16, color='red')\r\n",
        "      \r\n",
        "  ax2.set_title('W1', fontsize=18)  "
      ],
      "execution_count": 6,
      "outputs": []
    },
    {
      "cell_type": "code",
      "metadata": {
        "id": "-RUuSAs0FJVN"
      },
      "source": [
        "# plot_words_v2( vocab, W0, W1, ttl='Stating point' )"
      ],
      "execution_count": 7,
      "outputs": []
    },
    {
      "cell_type": "code",
      "metadata": {
        "id": "VTUtScddLOlU"
      },
      "source": [
        "text = \"Балерина вдохновляет девочку. КИЧЛАМ сильный и ловкий. Штангист сильный мужчина. Балерина красивая женщина. Юниор ловкий штангист. \\\r\n",
        "Юниор молодой мужчина. Девочку учит балерина. \"\r\n",
        "\r\n",
        "# text = \"Балерина вдохновляет девочку. КИЧЛАМ ловкий, и у него есть сила. Мужчина - штангист, он - сила. Эта женщина - балерина, она красивая. \\\r\n",
        "# Этот юниор - начинающий штангист. Юниор молодой мужчина. Девочку учит балерина.\"\r\n",
        "\r\n",
        "# corpus = [s.lower().strip().split() for s in re.split(r'(?<=[^A-Z].[.?]) +(?=[A-Z])', text)[0].split('.')[:-1] ]\r\n",
        "corpus = [s.lower().replace('- ','').replace(',','').strip() for s in re.split(r'(?<=[^A-Z].[.?]) +(?=[A-Z])', text)[0].split('.')[:-1] ]\r\n",
        "# corpus"
      ],
      "execution_count": 8,
      "outputs": []
    },
    {
      "cell_type": "code",
      "metadata": {
        "colab": {
          "base_uri": "https://localhost:8080/"
        },
        "id": "VhdQ9SV8ItTy",
        "outputId": "7d03a127-1061-49e5-803e-6b09be20e191"
      },
      "source": [
        "def remove_stop_words(corpus):\r\n",
        "    stop_words = ['is', 'a', 'will', 'be', 'и', 'он', 'этот', 'она']\r\n",
        "    results = []\r\n",
        "    for text in corpus:\r\n",
        "        tmp = text.split(' ')\r\n",
        "        for stop_word in stop_words:\r\n",
        "            if stop_word in tmp:\r\n",
        "                tmp.remove(stop_word)\r\n",
        "        results.append(\" \".join(tmp))\r\n",
        "    return results\r\n",
        "\r\n",
        "corpus = remove_stop_words(corpus)\r\n",
        "corpus"
      ],
      "execution_count": 9,
      "outputs": [
        {
          "output_type": "execute_result",
          "data": {
            "text/plain": [
              "['балерина вдохновляет девочку',\n",
              " 'кичлам сильный ловкий',\n",
              " 'штангист сильный мужчина',\n",
              " 'балерина красивая женщина',\n",
              " 'юниор ловкий штангист',\n",
              " 'юниор молодой мужчина',\n",
              " 'девочку учит балерина']"
            ]
          },
          "metadata": {
            "tags": []
          },
          "execution_count": 9
        }
      ]
    },
    {
      "cell_type": "markdown",
      "metadata": {
        "id": "tEXECcOxRzgk"
      },
      "source": [
        "# Create VOCABULARY, count words"
      ]
    },
    {
      "cell_type": "code",
      "metadata": {
        "id": "DHZE0XqECgK0"
      },
      "source": [
        "sentences = [s.split(' ') for s in corpus]\r\n",
        "word_count = {}\r\n",
        "vocab=[]\r\n",
        "for ss in sentences:\r\n",
        "  # print(ss)\r\n",
        "  vocab += ss\r\n",
        "vocab = sorted(set(vocab))\r\n",
        "\r\n",
        "# initialize word_count dictionary\r\n",
        "word_count = {}\r\n",
        "for w in vocab:\r\n",
        "  word_count[w]=0\r\n",
        "\r\n",
        "Num_all_words=0\r\n",
        "for w in vocab:\r\n",
        "  for ss in sentences:\r\n",
        "    Num_all_words += len(ss)\r\n",
        "    for sw in ss:\r\n",
        "      if sw==w:\r\n",
        "        word_count[w] += 1\r\n",
        "# Num_all_words = sum(list(word_count.values()))\r\n",
        "df_vocab = pd.DataFrame({'word': list(word_count.keys()),   'count': list(word_count.values())})\r\n",
        "df_vocab['freq'] = df_vocab['count']/np.sum(df_vocab['count'])\r\n",
        "# df_vocab"
      ],
      "execution_count": 10,
      "outputs": []
    },
    {
      "cell_type": "code",
      "metadata": {
        "id": "A0N36KFHEVWq"
      },
      "source": [
        "# sentences = [s.split(' ') for s in corpus]\r\n",
        "\r\n",
        "# vocab=[]\r\n",
        "# for ss in sentences:\r\n",
        "#   vocab += ss\r\n",
        "# vocab = sorted(set(vocab))\r\n",
        "\r\n",
        "# initialize dictionary of context words\r\n",
        "context_words = {}\r\n",
        "for w in vocab:\r\n",
        "  context_words[w] = []\r\n",
        "\r\n",
        "word2int = {}\r\n",
        "for i,word in enumerate(vocab):\r\n",
        "    word2int[word] = i\r\n",
        "# print('word2int=', word2int)\r\n",
        "\r\n",
        "WINDOW_SIZE = 2\r\n",
        "data = []\r\n",
        "for sentence in sentences:\r\n",
        "    for idx, word in enumerate(sentence):\r\n",
        "        for neighbor in sentence[max(idx - WINDOW_SIZE, 0) : min(idx + WINDOW_SIZE, len(sentence)) + 1] : \r\n",
        "            if neighbor != word:\r\n",
        "                data.append([word, neighbor])\r\n",
        "                context_words[word].append(neighbor)\r\n",
        "\r\n",
        "df_context_words = pd.DataFrame({'word': list(context_words.keys()),   'c_words': list(context_words.values())})\r\n",
        "df_context_words['num_c_words_pairs'] = [ len(wrds) for wrds in list(context_words.values()) ]\r\n",
        "df_context_words['set_c_words'] = [ set(wrds) for wrds in list(context_words.values()) ]\r\n",
        "df_context_words['num_c_words'] = [ len(set(wrds)) for wrds in list(context_words.values()) ]\r\n",
        "# df_context_words\r\n"
      ],
      "execution_count": 11,
      "outputs": []
    },
    {
      "cell_type": "code",
      "metadata": {
        "colab": {
          "base_uri": "https://localhost:8080/",
          "height": 571
        },
        "id": "ZdBpLO8Mak-c",
        "outputId": "be32f981-e6ea-49e4-cbc8-9bbeb6ec532f"
      },
      "source": [
        "df_vocab = df_vocab.merge( df_context_words, how='outer',on=['word'] )\r\n",
        "df_vocab"
      ],
      "execution_count": 12,
      "outputs": [
        {
          "output_type": "execute_result",
          "data": {
            "text/html": [
              "<div>\n",
              "<style scoped>\n",
              "    .dataframe tbody tr th:only-of-type {\n",
              "        vertical-align: middle;\n",
              "    }\n",
              "\n",
              "    .dataframe tbody tr th {\n",
              "        vertical-align: top;\n",
              "    }\n",
              "\n",
              "    .dataframe thead th {\n",
              "        text-align: right;\n",
              "    }\n",
              "</style>\n",
              "<table border=\"1\" class=\"dataframe\">\n",
              "  <thead>\n",
              "    <tr style=\"text-align: right;\">\n",
              "      <th></th>\n",
              "      <th>word</th>\n",
              "      <th>count</th>\n",
              "      <th>freq</th>\n",
              "      <th>c_words</th>\n",
              "      <th>num_c_words_pairs</th>\n",
              "      <th>set_c_words</th>\n",
              "      <th>num_c_words</th>\n",
              "    </tr>\n",
              "  </thead>\n",
              "  <tbody>\n",
              "    <tr>\n",
              "      <th>0</th>\n",
              "      <td>балерина</td>\n",
              "      <td>3</td>\n",
              "      <td>0.142857</td>\n",
              "      <td>[вдохновляет, девочку, красивая, женщина, дево...</td>\n",
              "      <td>6</td>\n",
              "      <td>{девочку, женщина, красивая, учит, вдохновляет}</td>\n",
              "      <td>5</td>\n",
              "    </tr>\n",
              "    <tr>\n",
              "      <th>1</th>\n",
              "      <td>вдохновляет</td>\n",
              "      <td>1</td>\n",
              "      <td>0.047619</td>\n",
              "      <td>[балерина, девочку]</td>\n",
              "      <td>2</td>\n",
              "      <td>{балерина, девочку}</td>\n",
              "      <td>2</td>\n",
              "    </tr>\n",
              "    <tr>\n",
              "      <th>2</th>\n",
              "      <td>девочку</td>\n",
              "      <td>2</td>\n",
              "      <td>0.095238</td>\n",
              "      <td>[балерина, вдохновляет, учит, балерина]</td>\n",
              "      <td>4</td>\n",
              "      <td>{учит, вдохновляет, балерина}</td>\n",
              "      <td>3</td>\n",
              "    </tr>\n",
              "    <tr>\n",
              "      <th>3</th>\n",
              "      <td>женщина</td>\n",
              "      <td>1</td>\n",
              "      <td>0.047619</td>\n",
              "      <td>[балерина, красивая]</td>\n",
              "      <td>2</td>\n",
              "      <td>{балерина, красивая}</td>\n",
              "      <td>2</td>\n",
              "    </tr>\n",
              "    <tr>\n",
              "      <th>4</th>\n",
              "      <td>кичлам</td>\n",
              "      <td>1</td>\n",
              "      <td>0.047619</td>\n",
              "      <td>[сильный, ловкий]</td>\n",
              "      <td>2</td>\n",
              "      <td>{сильный, ловкий}</td>\n",
              "      <td>2</td>\n",
              "    </tr>\n",
              "    <tr>\n",
              "      <th>5</th>\n",
              "      <td>красивая</td>\n",
              "      <td>1</td>\n",
              "      <td>0.047619</td>\n",
              "      <td>[балерина, женщина]</td>\n",
              "      <td>2</td>\n",
              "      <td>{балерина, женщина}</td>\n",
              "      <td>2</td>\n",
              "    </tr>\n",
              "    <tr>\n",
              "      <th>6</th>\n",
              "      <td>ловкий</td>\n",
              "      <td>2</td>\n",
              "      <td>0.095238</td>\n",
              "      <td>[кичлам, сильный, юниор, штангист]</td>\n",
              "      <td>4</td>\n",
              "      <td>{штангист, сильный, юниор, кичлам}</td>\n",
              "      <td>4</td>\n",
              "    </tr>\n",
              "    <tr>\n",
              "      <th>7</th>\n",
              "      <td>молодой</td>\n",
              "      <td>1</td>\n",
              "      <td>0.047619</td>\n",
              "      <td>[юниор, мужчина]</td>\n",
              "      <td>2</td>\n",
              "      <td>{мужчина, юниор}</td>\n",
              "      <td>2</td>\n",
              "    </tr>\n",
              "    <tr>\n",
              "      <th>8</th>\n",
              "      <td>мужчина</td>\n",
              "      <td>2</td>\n",
              "      <td>0.095238</td>\n",
              "      <td>[штангист, сильный, юниор, молодой]</td>\n",
              "      <td>4</td>\n",
              "      <td>{сильный, молодой, юниор, штангист}</td>\n",
              "      <td>4</td>\n",
              "    </tr>\n",
              "    <tr>\n",
              "      <th>9</th>\n",
              "      <td>сильный</td>\n",
              "      <td>2</td>\n",
              "      <td>0.095238</td>\n",
              "      <td>[кичлам, ловкий, штангист, мужчина]</td>\n",
              "      <td>4</td>\n",
              "      <td>{штангист, ловкий, мужчина, кичлам}</td>\n",
              "      <td>4</td>\n",
              "    </tr>\n",
              "    <tr>\n",
              "      <th>10</th>\n",
              "      <td>учит</td>\n",
              "      <td>1</td>\n",
              "      <td>0.047619</td>\n",
              "      <td>[девочку, балерина]</td>\n",
              "      <td>2</td>\n",
              "      <td>{балерина, девочку}</td>\n",
              "      <td>2</td>\n",
              "    </tr>\n",
              "    <tr>\n",
              "      <th>11</th>\n",
              "      <td>штангист</td>\n",
              "      <td>2</td>\n",
              "      <td>0.095238</td>\n",
              "      <td>[сильный, мужчина, юниор, ловкий]</td>\n",
              "      <td>4</td>\n",
              "      <td>{сильный, мужчина, юниор, ловкий}</td>\n",
              "      <td>4</td>\n",
              "    </tr>\n",
              "    <tr>\n",
              "      <th>12</th>\n",
              "      <td>юниор</td>\n",
              "      <td>2</td>\n",
              "      <td>0.095238</td>\n",
              "      <td>[ловкий, штангист, молодой, мужчина]</td>\n",
              "      <td>4</td>\n",
              "      <td>{штангист, молодой, мужчина, ловкий}</td>\n",
              "      <td>4</td>\n",
              "    </tr>\n",
              "  </tbody>\n",
              "</table>\n",
              "</div>"
            ],
            "text/plain": [
              "           word  count      freq                                            c_words  num_c_words_pairs                                      set_c_words  num_c_words\n",
              "0      балерина      3  0.142857  [вдохновляет, девочку, красивая, женщина, дево...                  6  {девочку, женщина, красивая, учит, вдохновляет}            5\n",
              "1   вдохновляет      1  0.047619                                [балерина, девочку]                  2                              {балерина, девочку}            2\n",
              "2       девочку      2  0.095238            [балерина, вдохновляет, учит, балерина]                  4                    {учит, вдохновляет, балерина}            3\n",
              "3       женщина      1  0.047619                               [балерина, красивая]                  2                             {балерина, красивая}            2\n",
              "4        кичлам      1  0.047619                                  [сильный, ловкий]                  2                                {сильный, ловкий}            2\n",
              "5      красивая      1  0.047619                                [балерина, женщина]                  2                              {балерина, женщина}            2\n",
              "6        ловкий      2  0.095238                 [кичлам, сильный, юниор, штангист]                  4               {штангист, сильный, юниор, кичлам}            4\n",
              "7       молодой      1  0.047619                                   [юниор, мужчина]                  2                                 {мужчина, юниор}            2\n",
              "8       мужчина      2  0.095238                [штангист, сильный, юниор, молодой]                  4              {сильный, молодой, юниор, штангист}            4\n",
              "9       сильный      2  0.095238                [кичлам, ловкий, штангист, мужчина]                  4              {штангист, ловкий, мужчина, кичлам}            4\n",
              "10         учит      1  0.047619                                [девочку, балерина]                  2                              {балерина, девочку}            2\n",
              "11     штангист      2  0.095238                  [сильный, мужчина, юниор, ловкий]                  4                {сильный, мужчина, юниор, ловкий}            4\n",
              "12        юниор      2  0.095238               [ловкий, штангист, молодой, мужчина]                  4             {штангист, молодой, мужчина, ловкий}            4"
            ]
          },
          "metadata": {
            "tags": []
          },
          "execution_count": 12
        }
      ]
    },
    {
      "cell_type": "markdown",
      "metadata": {
        "id": "8uQOBlzOcD1D"
      },
      "source": [
        "# CREATE WORD PAIRS FOR TRAINING"
      ]
    },
    {
      "cell_type": "code",
      "metadata": {
        "colab": {
          "base_uri": "https://localhost:8080/",
          "height": 445
        },
        "id": "ua_LbuNEicPW",
        "outputId": "1a18fc5f-04dc-49ec-db4e-ac496699f321"
      },
      "source": [
        "df = pd.DataFrame(data, columns = ['input', 'label'])\r\n",
        "\r\n",
        "print(f'{len(vocab)} слов; СЛОВАРЬ=', vocab)\r\n",
        "print( f'Pазмер окна = {WINDOW_SIZE}, {len(df)} контекстные пары слов')\r\n",
        "print(sentences)\r\n",
        "df.head()\r\n",
        "# df.head(n=len(df))\r\n",
        "\r\n",
        "w2idx = pd.DataFrame.from_dict({ 'values': word2int.values(), 'word': word2int.keys() })\r\n",
        "\r\n",
        "print('w2idx.shape=', w2idx.shape)\r\n",
        "print('w2idx.head()=', w2idx.head())\r\n",
        "\r\n",
        "\r\n",
        "\r\n",
        "\r\n",
        "\r\n",
        "ONE_HOT_DIM = len(vocab)\r\n",
        "print('ONE_HOT_DIM = ', ONE_HOT_DIM)\r\n",
        "# function to convert numbers to one hot vectors\r\n",
        "def to_one_hot_encoding(data_point_index):\r\n",
        "    one_hot_encoding = np.zeros(ONE_HOT_DIM)\r\n",
        "    one_hot_encoding[data_point_index] = 1\r\n",
        "    return one_hot_encoding\r\n",
        "\r\n",
        "X = [] # input word\r\n",
        "Y = [] # target word\r\n",
        "\r\n",
        "\r\n",
        "# print('df.head()=', df.head())\r\n",
        "# print('word2int=', word2int)\r\n",
        "# k=0\r\n",
        "for x, y in zip(df['input'], df['label']):\r\n",
        "    X.append(to_one_hot_encoding(word2int[ x ]))\r\n",
        "    Y.append(to_one_hot_encoding(word2int[ y ]))\r\n",
        "    # if k<5:\r\n",
        "    #   Xtmp = to_one_hot_encoding(word2int[ x ])\r\n",
        "    #   Ytmp = to_one_hot_encoding(word2int[ y ])\r\n",
        "    #   print(x,'\\t===>',Xtmp, '\\t\\t\\t\\t',  y ,'===>',Ytmp)\r\n",
        "    #   k+=1\r\n",
        "\r\n",
        "# convert them to numpy arrays\r\n",
        "X_train = np.asarray(X)\r\n",
        "Y_train = np.asarray(Y)\r\n",
        "df['X_train']=list(X_train)\r\n",
        "df['Y_train']=list(Y_train)\r\n",
        "# df.head()\r\n",
        "dfint = df.copy()\r\n",
        "dfint['X_train']=list(X_train.astype(int))\r\n",
        "dfint['Y_train']=list(Y_train.astype(int))\r\n",
        "\r\n",
        "print('dfint.shape=', dfint.shape)\r\n",
        "print('dfint.head()=')\r\n",
        "dfint.head()"
      ],
      "execution_count": 13,
      "outputs": [
        {
          "output_type": "stream",
          "text": [
            "13 слов; СЛОВАРЬ= ['балерина', 'вдохновляет', 'девочку', 'женщина', 'кичлам', 'красивая', 'ловкий', 'молодой', 'мужчина', 'сильный', 'учит', 'штангист', 'юниор']\n",
            "Pазмер окна = 2, 42 контекстные пары слов\n",
            "[['балерина', 'вдохновляет', 'девочку'], ['кичлам', 'сильный', 'ловкий'], ['штангист', 'сильный', 'мужчина'], ['балерина', 'красивая', 'женщина'], ['юниор', 'ловкий', 'штангист'], ['юниор', 'молодой', 'мужчина'], ['девочку', 'учит', 'балерина']]\n",
            "w2idx.shape= (13, 2)\n",
            "w2idx.head()=    values         word\n",
            "0       0     балерина\n",
            "1       1  вдохновляет\n",
            "2       2      девочку\n",
            "3       3      женщина\n",
            "4       4       кичлам\n",
            "ONE_HOT_DIM =  13\n",
            "dfint.shape= (42, 4)\n",
            "dfint.head()=\n"
          ],
          "name": "stdout"
        },
        {
          "output_type": "execute_result",
          "data": {
            "text/html": [
              "<div>\n",
              "<style scoped>\n",
              "    .dataframe tbody tr th:only-of-type {\n",
              "        vertical-align: middle;\n",
              "    }\n",
              "\n",
              "    .dataframe tbody tr th {\n",
              "        vertical-align: top;\n",
              "    }\n",
              "\n",
              "    .dataframe thead th {\n",
              "        text-align: right;\n",
              "    }\n",
              "</style>\n",
              "<table border=\"1\" class=\"dataframe\">\n",
              "  <thead>\n",
              "    <tr style=\"text-align: right;\">\n",
              "      <th></th>\n",
              "      <th>input</th>\n",
              "      <th>label</th>\n",
              "      <th>X_train</th>\n",
              "      <th>Y_train</th>\n",
              "    </tr>\n",
              "  </thead>\n",
              "  <tbody>\n",
              "    <tr>\n",
              "      <th>0</th>\n",
              "      <td>балерина</td>\n",
              "      <td>вдохновляет</td>\n",
              "      <td>[1, 0, 0, 0, 0, 0, 0, 0, 0, 0, 0, 0, 0]</td>\n",
              "      <td>[0, 1, 0, 0, 0, 0, 0, 0, 0, 0, 0, 0, 0]</td>\n",
              "    </tr>\n",
              "    <tr>\n",
              "      <th>1</th>\n",
              "      <td>балерина</td>\n",
              "      <td>девочку</td>\n",
              "      <td>[1, 0, 0, 0, 0, 0, 0, 0, 0, 0, 0, 0, 0]</td>\n",
              "      <td>[0, 0, 1, 0, 0, 0, 0, 0, 0, 0, 0, 0, 0]</td>\n",
              "    </tr>\n",
              "    <tr>\n",
              "      <th>2</th>\n",
              "      <td>вдохновляет</td>\n",
              "      <td>балерина</td>\n",
              "      <td>[0, 1, 0, 0, 0, 0, 0, 0, 0, 0, 0, 0, 0]</td>\n",
              "      <td>[1, 0, 0, 0, 0, 0, 0, 0, 0, 0, 0, 0, 0]</td>\n",
              "    </tr>\n",
              "    <tr>\n",
              "      <th>3</th>\n",
              "      <td>вдохновляет</td>\n",
              "      <td>девочку</td>\n",
              "      <td>[0, 1, 0, 0, 0, 0, 0, 0, 0, 0, 0, 0, 0]</td>\n",
              "      <td>[0, 0, 1, 0, 0, 0, 0, 0, 0, 0, 0, 0, 0]</td>\n",
              "    </tr>\n",
              "    <tr>\n",
              "      <th>4</th>\n",
              "      <td>девочку</td>\n",
              "      <td>балерина</td>\n",
              "      <td>[0, 0, 1, 0, 0, 0, 0, 0, 0, 0, 0, 0, 0]</td>\n",
              "      <td>[1, 0, 0, 0, 0, 0, 0, 0, 0, 0, 0, 0, 0]</td>\n",
              "    </tr>\n",
              "  </tbody>\n",
              "</table>\n",
              "</div>"
            ],
            "text/plain": [
              "         input        label                                  X_train                                  Y_train\n",
              "0     балерина  вдохновляет  [1, 0, 0, 0, 0, 0, 0, 0, 0, 0, 0, 0, 0]  [0, 1, 0, 0, 0, 0, 0, 0, 0, 0, 0, 0, 0]\n",
              "1     балерина      девочку  [1, 0, 0, 0, 0, 0, 0, 0, 0, 0, 0, 0, 0]  [0, 0, 1, 0, 0, 0, 0, 0, 0, 0, 0, 0, 0]\n",
              "2  вдохновляет     балерина  [0, 1, 0, 0, 0, 0, 0, 0, 0, 0, 0, 0, 0]  [1, 0, 0, 0, 0, 0, 0, 0, 0, 0, 0, 0, 0]\n",
              "3  вдохновляет      девочку  [0, 1, 0, 0, 0, 0, 0, 0, 0, 0, 0, 0, 0]  [0, 0, 1, 0, 0, 0, 0, 0, 0, 0, 0, 0, 0]\n",
              "4      девочку     балерина  [0, 0, 1, 0, 0, 0, 0, 0, 0, 0, 0, 0, 0]  [1, 0, 0, 0, 0, 0, 0, 0, 0, 0, 0, 0, 0]"
            ]
          },
          "metadata": {
            "tags": []
          },
          "execution_count": 13
        }
      ]
    },
    {
      "cell_type": "markdown",
      "metadata": {
        "id": "ObYUnWdNe7k2"
      },
      "source": [
        "# VISUALIZE\r\n",
        "\r\n",
        "![words_p1.JPG](https://github.com/ftk1000/w2v_ftk1000/blob/master/words_p1.JPG?raw=1)<br>\r\n",
        "![words_p2.JPG](https://github.com/ftk1000/w2v_ftk1000/blob/master/words_p2.JPG?raw=1)\r\n"
      ]
    },
    {
      "cell_type": "code",
      "metadata": {
        "colab": {
          "base_uri": "https://localhost:8080/",
          "height": 35
        },
        "id": "yeIBqqP8e5bl",
        "outputId": "b5470497-399e-4793-f2c4-a7020b17613c"
      },
      "source": [
        "# !pip install graphviz\r\n",
        "from graphviz import Digraph\r\n",
        "\r\n",
        "# create a graph object\r\n",
        "dot = Digraph(comment='words')\r\n",
        "\r\n",
        "for i in range(len(vocab)):\r\n",
        "  # word_node = f'word_{i}'\r\n",
        "  # dot.node(  word_node,  vocab[i]  )\r\n",
        "  dot.node(  vocab[i],  vocab[i]  )\r\n",
        "\r\n",
        "for i in range(len(dfint)):\r\n",
        "  dot.edge(   dfint.input[i],    dfint.label[i], constraint='false' )\r\n",
        "\r\n",
        "dot.render('junk', view=True)\r\n"
      ],
      "execution_count": 14,
      "outputs": [
        {
          "output_type": "execute_result",
          "data": {
            "application/vnd.google.colaboratory.intrinsic+json": {
              "type": "string"
            },
            "text/plain": [
              "'junk.pdf'"
            ]
          },
          "metadata": {
            "tags": []
          },
          "execution_count": 14
        }
      ]
    },
    {
      "cell_type": "markdown",
      "metadata": {
        "id": "tKYPqWdEKAlg"
      },
      "source": [
        "# MODEL"
      ]
    },
    {
      "cell_type": "code",
      "metadata": {
        "id": "4SaFs1bgfNpe"
      },
      "source": [
        "def get_weights(model):\r\n",
        "  W0=(model.layers[0].get_weights()[0])\r\n",
        "  W1=(model.layers[1].get_weights()[0])\r\n",
        "  b0 = np.asarray(model.layers[0].bias).astype(float)\r\n",
        "  b1 = np.asarray(model.layers[1].bias).astype(float)\r\n",
        "\r\n",
        "  return W0,W1,b0,b1"
      ],
      "execution_count": 15,
      "outputs": []
    },
    {
      "cell_type": "code",
      "metadata": {
        "id": "uJo_4CmOVzzk"
      },
      "source": [
        ""
      ],
      "execution_count": 15,
      "outputs": []
    },
    {
      "cell_type": "code",
      "metadata": {
        "colab": {
          "base_uri": "https://localhost:8080/",
          "height": 312
        },
        "id": "8z6U3c0H5Oca",
        "outputId": "6393c7b3-a729-426f-9bdc-db19bed6c825"
      },
      "source": [
        "model = models.Sequential()\r\n",
        "# https://www.tensorflow.org/api_docs/python/tf/keras/activations   # network.add( layers.Dense(2, activation='relu', input_shape=(12,) ) )\r\n",
        "model.add( layers.Dense(2, activation='linear', input_shape=(ONE_HOT_DIM,) ) )\r\n",
        "model.add( layers.Dense(ONE_HOT_DIM, activation='softmax' ) )\r\n",
        "model.compile( optimizer='rmsprop', \r\n",
        "                 loss = 'categorical_crossentropy', \r\n",
        "                 metrics = ['accuracy'] )\r\n",
        "plot_model(model, show_shapes=1, show_dtype=0,show_layer_names=0)              # plot_model(model, show_shapes=1, show_layer_names=1)"
      ],
      "execution_count": 16,
      "outputs": [
        {
          "output_type": "execute_result",
          "data": {
            "image/png": "[encoded data removed]",
            "text/plain": [
              "<IPython.core.display.Image object>"
            ]
          },
          "metadata": {
            "tags": []
          },
          "execution_count": 16
        }
      ]
    },
    {
      "cell_type": "code",
      "metadata": {
        "id": "lYkzmnlseScI"
      },
      "source": [
        "# %matplotlib inline\r\n",
        "# EPOCHS = 100\r\n",
        "total_epochs = 0\r\n",
        "\r\n",
        "def model_fit_n_show(model, eps=100, show_plot=False, reset_bias=False):\r\n",
        "  global total_epochs\r\n",
        "  sttime = time.time()\r\n",
        "\r\n",
        "  if reset_bias:   # make bias zero\r\n",
        "    model.layers[0].bias = np.zeros(2).copy()\r\n",
        "    model.layers[1].bias = np.zeros(len(vocab)).copy()\r\n",
        "\r\n",
        "  model.fit( X_train, Y_train, epochs=eps, batch_size=1, verbose=0)\r\n",
        "  d2 = pd.DataFrame(  model.weights[0].numpy(),  columns = ['x1', 'x2'] )\r\n",
        "  w2v_df = pd.concat( [w2idx,d2],axis=1 )\r\n",
        "\r\n",
        "  endtime = time.time()\r\n",
        "  total_epochs += eps \r\n",
        "  ttl = f'Epochs={eps} (total={total_epochs}), time={int(endtime-sttime)} sec'\r\n",
        "\r\n",
        "  if show_plot:\r\n",
        "    plot_words(w2v_df, ttl)\r\n",
        "  \r\n",
        "  return model, w2v_df, total_epochs,ttl"
      ],
      "execution_count": 17,
      "outputs": []
    },
    {
      "cell_type": "code",
      "metadata": {
        "colab": {
          "base_uri": "https://localhost:8080/",
          "height": 263
        },
        "id": "ihL7OO_8eeEi",
        "outputId": "2258e131-c0aa-4808-954b-b72c62c30cf9"
      },
      "source": [
        "plot_words_v2( vocab, model, ttl='Starting point' )"
      ],
      "execution_count": 18,
      "outputs": [
        {
          "output_type": "display_data",
          "data": {
            "image/png": "[encoded data removed]",
            "text/plain": [
              "<Figure size 720x288 with 2 Axes>"
            ]
          },
          "metadata": {
            "tags": [],
            "needs_background": "light"
          }
        }
      ]
    },
    {
      "cell_type": "code",
      "metadata": {
        "colab": {
          "base_uri": "https://localhost:8080/",
          "height": 263
        },
        "id": "mnVnPGb32qsR",
        "outputId": "23caac9f-554d-41c7-9464-c6379c45a520"
      },
      "source": [
        "model, w2v_df, total_epochs, ttl = model_fit_n_show(model,eps=100)\r\n",
        "plot_words_v2( vocab, model, ttl=ttl )"
      ],
      "execution_count": 19,
      "outputs": [
        {
          "output_type": "display_data",
          "data": {
            "image/png": "[encoded data removed]",
            "text/plain": [
              "<Figure size 720x288 with 2 Axes>"
            ]
          },
          "metadata": {
            "tags": [],
            "needs_background": "light"
          }
        }
      ]
    },
    {
      "cell_type": "code",
      "metadata": {
        "colab": {
          "base_uri": "https://localhost:8080/",
          "height": 263
        },
        "id": "7P9qUetOeYPA",
        "outputId": "7254de48-287e-4867-92ca-90203cff2bfe"
      },
      "source": [
        "model, w2v_df, total_epochs, ttl = model_fit_n_show(model,eps=500)\r\n",
        "plot_words_v2( vocab, model, ttl=ttl )"
      ],
      "execution_count": 20,
      "outputs": [
        {
          "output_type": "display_data",
          "data": {
            "image/png": "[encoded data removed]",
            "text/plain": [
              "<Figure size 720x288 with 2 Axes>"
            ]
          },
          "metadata": {
            "tags": [],
            "needs_background": "light"
          }
        }
      ]
    },
    {
      "cell_type": "code",
      "metadata": {
        "id": "WXn7Qyq1hilJ"
      },
      "source": [
        "# W0,W1,b0,b1 = get_weights(model)\r\n",
        "# print(\"b0=\",np.round(b0,2), \"   b1=\",np.round(b1,2))\r\n"
      ],
      "execution_count": 25,
      "outputs": []
    },
    {
      "cell_type": "markdown",
      "metadata": {
        "id": "qS7_rrZu9i_O"
      },
      "source": [
        "# Utility Function and Improvements Suggested in [1]\r\n",
        "\r\n",
        "[1] [Distributed Representations of Words and Phrases\r\n",
        "and their Compositionality, Mikolov et al , 2013, 10, https://arxiv.org/pdf/1310.4546.pdf](https://arxiv.org/pdf/1310.4546.pdf)\r\n",
        "\r\n",
        "### **Loss Function - Categorical Cross Entropy**\r\n",
        "\r\n",
        "The Skip-Gram Model defines the word embedding using row-vectors of the matrix W0 or (for the context words) using column-vectors of the matrix W1. Given the $t$-th word in the vocabulary an as input word I, let us label the corresponding row of W0 as vector $w_I=w_t$ (embedding vector) and its corresponding column in W1 as $w_O=w_{t+j}$ (context vector) for some $j$ with   $-c\\le j\\le c,\\ j\\ne 0$ . \r\n",
        "For example, $w_I=w_t$ is the input (target) word \"балерина\", and the expected output word is $w_O=w_{t+1}$ \"вдохновляет\".\r\n",
        "We define:\r\n",
        "$$ P(w_{t+1} | w_t) = P(w_O | w_I) = \\frac{\\exp(w_O\\cdot w_I)}{\\sum_{w\\in V } \\exp(w\\cdot w_I) }\r\n",
        "$$\r\n",
        "Given a sequence of\r\n",
        "training words $w_1, \\ w_2, \\dots ,  w_T$, the objective of the Skip-gram model is to maximize the average\r\n",
        "log probability\r\n",
        "\r\n",
        "$$ U = \r\n",
        "\\frac{1}{T} \\sum_{t=1}^T  \\sum_{  -c\\le j\\le c,\\ j\\ne 0} \r\n",
        "\\log P(w_{t+j} | w_{t}) =\r\n",
        "\\frac{1}{T} \\sum_{t=1}^T  \\sum_{  -c\\le j\\le c,\\ j\\ne 0} \r\n",
        "w_{t+j}\\cdot w_t - D_t\r\n",
        "$$\r\n",
        "Where $D_t = \\log(\\sum_{w\\in V } \\exp(w\\cdot w_t) )$. \r\n",
        "In our example, T=13 is the size of vocabulary $V$.\r\n",
        "\r\n",
        "### **Negative Sampling**\r\n",
        "\r\n",
        "The utility function can be improved by adding penalty for $w_I$ being close negative samples. E.g., we can replace\r\n",
        "$\\log P(w_O | w_I) $ by \r\n",
        "$$\r\n",
        "\\log \\sigma(w_O\\cdot w_I) + \r\n",
        "\\sum_{i=1}^k   \\mathop{\\mathbb{E}}{}_{w_i  \\sim P_n(w)} \\big[ \\log\\sigma( - w_i\\cdot w_I) \\big]\r\n",
        "$$\r\n",
        "where $k=5$, and $P_n(w) = U(w)^{0.75}$ and $U(w)$ is unigram distribution.\r\n",
        "\r\n",
        "### **Subsampling of Frequent Words**\r\n",
        "\r\n",
        "To counter the imbalance between the rare and frequent words, Mikolov et al [1] discard each word $w$ in the training set with probability \r\n",
        "$$\r\n",
        "P(w) = 1-\\sqrt{\\frac{t}{f(w)}}\r\n",
        "$$\r\n",
        "where $f(w)$ is the frequency of $w$ and $t=10^{-5}$."
      ]
    },
    {
      "cell_type": "code",
      "metadata": {
        "id": "2J9cPAuR2rF4"
      },
      "source": [
        "from scipy.special import softmax\r\n",
        "# print('yhat=', yhat)\r\n",
        "# np.sum(np.exp(yhat)/np.sum(np.exp(yhat))-sftmax_yhat)\r\n",
        "\r\n",
        "\r\n",
        "def show_dot_products(W0,W1, vocab, i=0):\r\n",
        "  vi=W0[i,:]\r\n",
        "  print('INPUT   vector=', np.round(vi,2), f'   word={vocab[i]}')\r\n",
        "\r\n",
        "  yhat = np.zeros(len(vocab))\r\n",
        "  # print(yhat)\r\n",
        "  for k in range(len(vocab)):\r\n",
        "    vo = W1.transpose()[k,:]\r\n",
        "    yhat[k] = np.dot(vo,vi)\r\n",
        "  # print(yhat)\r\n",
        "\r\n",
        "  sftmax_yhat = softmax(yhat)\r\n",
        "  print('sftmax_yhat=', np.round(sftmax_yhat,2))\r\n",
        "  print()\r\n",
        "\r\n",
        "  for k in range(len(vocab)):\r\n",
        "    vo = W1.transpose()[k,:]\r\n",
        "    print(f'OUTPUT vector={str(np.round(vo,2)):15}',   \r\n",
        "          f'     dot(vo, vi)= {str(np.round(np.dot(vo,vi),2)):7}', \r\n",
        "          f'   prob={100*sftmax_yhat[k]:4.1f}'\r\n",
        "          f'   {vocab[k]}'  )\r\n"
      ],
      "execution_count": 21,
      "outputs": []
    },
    {
      "cell_type": "code",
      "metadata": {
        "colab": {
          "base_uri": "https://localhost:8080/"
        },
        "id": "5OEElhG-_LrC",
        "outputId": "32f13664-a6c8-4d1c-ad7d-7aa85f1e34f1"
      },
      "source": [
        "W0,W1,b0,b1 = get_weights(model)\r\n",
        "show_dot_products(W0,W1, vocab, i=11)"
      ],
      "execution_count": 23,
      "outputs": [
        {
          "output_type": "stream",
          "text": [
            "INPUT   vector= [-0.46 -3.33]    word=штангист\n",
            "sftmax_yhat= [0.   0.01 0.01 0.02 0.08 0.02 0.1  0.08 0.15 0.16 0.02 0.11 0.23]\n",
            "\n",
            "OUTPUT vector=[3.73 0.18]          dot(vo, vi)= -2.33      prob= 0.3   балерина\n",
            "OUTPUT vector=[ 1.67 -0.03]        dot(vo, vi)= -0.67      prob= 1.4   вдохновляет\n",
            "OUTPUT vector=[1.7  0.07]          dot(vo, vi)= -1.03      prob= 1.0   девочку\n",
            "OUTPUT vector=[ 1.41 -0.09]        dot(vo, vi)= -0.35      prob= 1.9   женщина\n",
            "OUTPUT vector=[ 1.38 -0.52]        dot(vo, vi)= 1.11       prob= 8.3   кичлам\n",
            "OUTPUT vector=[ 1.24 -0.14]        dot(vo, vi)= -0.1       prob= 2.5   красивая\n",
            "OUTPUT vector=[ 1.95 -0.65]        dot(vo, vi)= 1.26       prob= 9.7   ловкий\n",
            "OUTPUT vector=[ 1.52 -0.53]        dot(vo, vi)= 1.07       prob= 8.0   молодой\n",
            "OUTPUT vector=[ 1.65 -0.74]        dot(vo, vi)= 1.69       prob=15.0   мужчина\n",
            "OUTPUT vector=[ 0.42 -0.59]        dot(vo, vi)= 1.77       prob=16.2   сильный\n",
            "OUTPUT vector=[ 1.6  -0.04]        dot(vo, vi)= -0.6       prob= 1.5   учит\n",
            "OUTPUT vector=[ 1.42 -0.6 ]        dot(vo, vi)= 1.35       prob=10.7   штангист\n",
            "OUTPUT vector=[-0.02 -0.64]        dot(vo, vi)= 2.14       prob=23.4   юниор\n"
          ],
          "name": "stdout"
        }
      ]
    },
    {
      "cell_type": "markdown",
      "metadata": {
        "id": "swcElJqzKJN8"
      },
      "source": [
        "# MATRIX FACTORIZATION"
      ]
    },
    {
      "cell_type": "code",
      "metadata": {
        "colab": {
          "base_uri": "https://localhost:8080/"
        },
        "id": "Iwjup5D-knsr",
        "outputId": "68f2cede-537e-408b-b701-08cb4fad05de"
      },
      "source": [
        "# adjacency matrix\r\n",
        "adjM = []\r\n",
        "for w in vocab:\r\n",
        "  # print(w)\r\n",
        "  row = np.array(np.sum( dfint.loc[ dfint['input'] == w, ['Y_train']], axis=0 ))[0]\r\n",
        "  adjM.append(row)\r\n",
        "np.asmatrix(adjM)"
      ],
      "execution_count": 24,
      "outputs": [
        {
          "output_type": "execute_result",
          "data": {
            "text/plain": [
              "matrix([[0, 1, 2, 1, 0, 1, 0, 0, 0, 0, 1, 0, 0],\n",
              "        [1, 0, 1, 0, 0, 0, 0, 0, 0, 0, 0, 0, 0],\n",
              "        [2, 1, 0, 0, 0, 0, 0, 0, 0, 0, 1, 0, 0],\n",
              "        [1, 0, 0, 0, 0, 1, 0, 0, 0, 0, 0, 0, 0],\n",
              "        [0, 0, 0, 0, 0, 0, 1, 0, 0, 1, 0, 0, 0],\n",
              "        [1, 0, 0, 1, 0, 0, 0, 0, 0, 0, 0, 0, 0],\n",
              "        [0, 0, 0, 0, 1, 0, 0, 0, 0, 1, 0, 1, 1],\n",
              "        [0, 0, 0, 0, 0, 0, 0, 0, 1, 0, 0, 0, 1],\n",
              "        [0, 0, 0, 0, 0, 0, 0, 1, 0, 1, 0, 1, 1],\n",
              "        [0, 0, 0, 0, 1, 0, 1, 0, 1, 0, 0, 1, 0],\n",
              "        [1, 0, 1, 0, 0, 0, 0, 0, 0, 0, 0, 0, 0],\n",
              "        [0, 0, 0, 0, 0, 0, 1, 0, 1, 1, 0, 0, 1],\n",
              "        [0, 0, 0, 0, 0, 0, 1, 1, 1, 0, 0, 1, 0]])"
            ]
          },
          "metadata": {
            "tags": []
          },
          "execution_count": 24
        }
      ]
    },
    {
      "cell_type": "code",
      "metadata": {
        "colab": {
          "base_uri": "https://localhost:8080/",
          "height": 285
        },
        "id": "lm8Pjn04mFKz",
        "outputId": "e37565d9-28d4-4f0d-a2f8-228efd880b11"
      },
      "source": [
        "from sklearn.decomposition import NMF\r\n",
        "NMF_Model = NMF(n_components=2, init='random', random_state=0)\r\n",
        "W = NMF_Model.fit_transform(adjM)\r\n",
        "H = NMF_Model.components_\r\n",
        "W=pd.DataFrame(W, columns=['x1','x2'])\r\n",
        "W['word'] = vocab.copy()\r\n",
        "W['values'] =w2v_df['values'].copy()\r\n",
        "W = W.reindex(columns=w2v_df.columns)\r\n",
        "\r\n",
        "%matplotlib inline\r\n",
        "plot_words(W, ttl='Matrix Factorization')"
      ],
      "execution_count": 25,
      "outputs": [
        {
          "output_type": "display_data",
          "data": {
            "image/png": "[encoded data removed]",
            "text/plain": [
              "<Figure size 432x288 with 1 Axes>"
            ]
          },
          "metadata": {
            "tags": [],
            "needs_background": "light"
          }
        }
      ]
    },
    {
      "cell_type": "code",
      "metadata": {
        "colab": {
          "base_uri": "https://localhost:8080/"
        },
        "id": "gDWCtoTh0Wp_",
        "outputId": "5f27b6c1-8f13-4bc8-d3f4-b47507304f9f"
      },
      "source": [
        "print(W[['word','x1','x2']])"
      ],
      "execution_count": 26,
      "outputs": [
        {
          "output_type": "stream",
          "text": [
            "           word            x1        x2\n",
            "0      балерина  1.136174e+00  0.000000\n",
            "1   вдохновляет  5.949282e-01  0.000000\n",
            "2       девочку  9.753754e-01  0.000000\n",
            "3       женщина  4.456382e-01  0.000000\n",
            "4        кичлам  0.000000e+00  0.388167\n",
            "5      красивая  4.456382e-01  0.000000\n",
            "6        ловкий  0.000000e+00  0.707590\n",
            "7       молодой  0.000000e+00  0.388167\n",
            "8       мужчина  0.000000e+00  0.707590\n",
            "9       сильный  1.299494e-09  0.707571\n",
            "10         учит  5.949282e-01  0.000000\n",
            "11     штангист  0.000000e+00  0.776334\n",
            "12        юниор  5.272011e-10  0.707571\n"
          ],
          "name": "stdout"
        }
      ]
    },
    {
      "cell_type": "markdown",
      "metadata": {
        "id": "zLZ7tOP3c1cC"
      },
      "source": [
        "# SVD\r\n",
        "\r\n",
        "https://scikit-learn.org/stable/modules/generated/sklearn.decomposition.TruncatedSVD.html"
      ]
    },
    {
      "cell_type": "code",
      "metadata": {
        "colab": {
          "base_uri": "https://localhost:8080/"
        },
        "id": "Lp39GJSJczz5",
        "outputId": "ced91e8c-89b7-42b5-ce36-809972b32087"
      },
      "source": [
        "from sklearn.decomposition import TruncatedSVD\r\n",
        "from scipy.sparse import random as sparse_random\r\n",
        "# X = sparse_random(100, 100, density=0.01, format='csr', random_state=42)\r\n",
        "svd = TruncatedSVD(n_components=12, n_iter=7, random_state=42)\r\n",
        "svd.fit(adjM)\r\n",
        "print('svd.explained_variance_ratio_ = ', svd.explained_variance_ratio_)\r\n",
        "print('svd.explained_variance_ratio_.sum() = ',  svd.explained_variance_ratio_.sum())\r\n",
        "print('svd.singular_values_ = ',  svd.singular_values_)"
      ],
      "execution_count": 27,
      "outputs": [
        {
          "output_type": "stream",
          "text": [
            "svd.explained_variance_ratio_ =  [1.92184740e-01 2.20818358e-01 1.58579335e-01 1.17647059e-01\n",
            " 7.93084724e-02 5.88235294e-02 5.88235294e-02 4.93081288e-02\n",
            " 3.50950834e-02 2.94117647e-02 9.81613104e-35 6.73293010e-37]\n",
            "svd.explained_variance_ratio_.sum() =  0.9999999999999998\n",
            "svd.singular_values_ =  [3.64575131e+00 3.54915649e+00 2.33812224e+00 2.00000000e+00\n",
            " 1.64575131e+00 1.41421356e+00 1.41421356e+00 1.31266352e+00\n",
            " 1.10162927e+00 1.00000000e+00 5.79482171e-17 4.78472866e-18]\n"
          ],
          "name": "stdout"
        }
      ]
    },
    {
      "cell_type": "code",
      "metadata": {
        "id": "-x7bjS3Hc0TR"
      },
      "source": [
        ""
      ],
      "execution_count": 27,
      "outputs": []
    },
    {
      "cell_type": "code",
      "metadata": {
        "id": "5-rDXJG0c0fs"
      },
      "source": [
        ""
      ],
      "execution_count": 27,
      "outputs": []
    },
    {
      "cell_type": "markdown",
      "metadata": {
        "id": "m7dDJyLyMZip"
      },
      "source": [
        "# COMPUTE SOFTMAX"
      ]
    },
    {
      "cell_type": "code",
      "metadata": {
        "colab": {
          "base_uri": "https://localhost:8080/"
        },
        "id": "E2RwMv6dM1Qv",
        "outputId": "1b7021db-02c7-4adb-9742-e1ad9867a2b9"
      },
      "source": [
        "W0=(model.layers[0].get_weights()[0])\r\n",
        "W1=(model.layers[1].get_weights()[0])\r\n",
        "# # print(\"W0=\",W0)\r\n",
        "# # print(\"W1=\",W1)\r\n",
        "# print(\"W0=\",np.round(W0,1))\r\n",
        "# print(\"W1=\",np.round(W1,1))\r\n",
        "\r\n",
        "b0 = np.asarray(model.layers[0].bias).astype(float)\r\n",
        "b1 = np.asarray(model.layers[1].bias).astype(float)\r\n",
        "# # print(\"b0=\",b0)\r\n",
        "# # print(\"b1=\",b1)\r\n",
        "# print(\"b0=\",np.round(b0,1))\r\n",
        "# print(\"b1=\",np.round(b1,1))\r\n",
        "\r\n",
        "i=0\r\n",
        "# x = w2v_df.loc[i, ['x1', 'x2'] ].astype(float)\r\n",
        "# x = dfint.iloc[i, ['X_train'] ].astype(float)\r\n",
        "x=dfint.X_train[i]\r\n",
        "print('x=', x)\r\n",
        "y=dfint.Y_train[i]\r\n",
        "print('y=', y)\r\n",
        "\r\n",
        "\r\n",
        "\r\n",
        "np.set_printoptions(precision=5)\r\n",
        "\r\n",
        "yhat = np.matmul( np.matmul(x,W0)+b0,  W1 ) + b1\r\n",
        "from scipy.special import softmax\r\n",
        "print('yhat=', yhat)\r\n",
        "\r\n",
        "sftmax_yhat = softmax(yhat)\r\n",
        "print('sftmax_yhat=', sftmax_yhat)\r\n",
        "\r\n",
        "np.sum(np.exp(yhat)/np.sum(np.exp(yhat))-sftmax_yhat)"
      ],
      "execution_count": 28,
      "outputs": [
        {
          "output_type": "stream",
          "text": [
            "x= [1 0 0 0 0 0 0 0 0 0 0 0 0]\n",
            "y= [0 1 0 0 0 0 0 0 0 0 0 0 0]\n",
            "yhat= [-6.39161 -5.89049 -4.65538 -5.79988 -8.03252 -5.805   -8.71499 -8.21917\n",
            " -9.0406  -6.64941 -5.84924 -7.74697 -6.65056]\n",
            "sftmax_yhat= [0.06259 0.10331 0.35525 0.11311 0.01213 0.11253 0.00613 0.01006 0.00443\n",
            " 0.04837 0.10766 0.01614 0.04831]\n"
          ],
          "name": "stdout"
        },
        {
          "output_type": "execute_result",
          "data": {
            "text/plain": [
              "-2.0816681711721685e-17"
            ]
          },
          "metadata": {
            "tags": []
          },
          "execution_count": 28
        }
      ]
    },
    {
      "cell_type": "code",
      "metadata": {
        "id": "MuIkjn8g5P_c",
        "colab": {
          "base_uri": "https://localhost:8080/",
          "height": 1000
        },
        "outputId": "63584fb8-2bea-411a-dd3c-e7f05197d39f"
      },
      "source": [
        "dfint"
      ],
      "execution_count": 29,
      "outputs": [
        {
          "output_type": "execute_result",
          "data": {
            "text/html": [
              "<div>\n",
              "<style scoped>\n",
              "    .dataframe tbody tr th:only-of-type {\n",
              "        vertical-align: middle;\n",
              "    }\n",
              "\n",
              "    .dataframe tbody tr th {\n",
              "        vertical-align: top;\n",
              "    }\n",
              "\n",
              "    .dataframe thead th {\n",
              "        text-align: right;\n",
              "    }\n",
              "</style>\n",
              "<table border=\"1\" class=\"dataframe\">\n",
              "  <thead>\n",
              "    <tr style=\"text-align: right;\">\n",
              "      <th></th>\n",
              "      <th>input</th>\n",
              "      <th>label</th>\n",
              "      <th>X_train</th>\n",
              "      <th>Y_train</th>\n",
              "    </tr>\n",
              "  </thead>\n",
              "  <tbody>\n",
              "    <tr>\n",
              "      <th>0</th>\n",
              "      <td>балерина</td>\n",
              "      <td>вдохновляет</td>\n",
              "      <td>[1, 0, 0, 0, 0, 0, 0, 0, 0, 0, 0, 0, 0]</td>\n",
              "      <td>[0, 1, 0, 0, 0, 0, 0, 0, 0, 0, 0, 0, 0]</td>\n",
              "    </tr>\n",
              "    <tr>\n",
              "      <th>1</th>\n",
              "      <td>балерина</td>\n",
              "      <td>девочку</td>\n",
              "      <td>[1, 0, 0, 0, 0, 0, 0, 0, 0, 0, 0, 0, 0]</td>\n",
              "      <td>[0, 0, 1, 0, 0, 0, 0, 0, 0, 0, 0, 0, 0]</td>\n",
              "    </tr>\n",
              "    <tr>\n",
              "      <th>2</th>\n",
              "      <td>вдохновляет</td>\n",
              "      <td>балерина</td>\n",
              "      <td>[0, 1, 0, 0, 0, 0, 0, 0, 0, 0, 0, 0, 0]</td>\n",
              "      <td>[1, 0, 0, 0, 0, 0, 0, 0, 0, 0, 0, 0, 0]</td>\n",
              "    </tr>\n",
              "    <tr>\n",
              "      <th>3</th>\n",
              "      <td>вдохновляет</td>\n",
              "      <td>девочку</td>\n",
              "      <td>[0, 1, 0, 0, 0, 0, 0, 0, 0, 0, 0, 0, 0]</td>\n",
              "      <td>[0, 0, 1, 0, 0, 0, 0, 0, 0, 0, 0, 0, 0]</td>\n",
              "    </tr>\n",
              "    <tr>\n",
              "      <th>4</th>\n",
              "      <td>девочку</td>\n",
              "      <td>балерина</td>\n",
              "      <td>[0, 0, 1, 0, 0, 0, 0, 0, 0, 0, 0, 0, 0]</td>\n",
              "      <td>[1, 0, 0, 0, 0, 0, 0, 0, 0, 0, 0, 0, 0]</td>\n",
              "    </tr>\n",
              "    <tr>\n",
              "      <th>5</th>\n",
              "      <td>девочку</td>\n",
              "      <td>вдохновляет</td>\n",
              "      <td>[0, 0, 1, 0, 0, 0, 0, 0, 0, 0, 0, 0, 0]</td>\n",
              "      <td>[0, 1, 0, 0, 0, 0, 0, 0, 0, 0, 0, 0, 0]</td>\n",
              "    </tr>\n",
              "    <tr>\n",
              "      <th>6</th>\n",
              "      <td>кичлам</td>\n",
              "      <td>сильный</td>\n",
              "      <td>[0, 0, 0, 0, 1, 0, 0, 0, 0, 0, 0, 0, 0]</td>\n",
              "      <td>[0, 0, 0, 0, 0, 0, 0, 0, 0, 1, 0, 0, 0]</td>\n",
              "    </tr>\n",
              "    <tr>\n",
              "      <th>7</th>\n",
              "      <td>кичлам</td>\n",
              "      <td>ловкий</td>\n",
              "      <td>[0, 0, 0, 0, 1, 0, 0, 0, 0, 0, 0, 0, 0]</td>\n",
              "      <td>[0, 0, 0, 0, 0, 0, 1, 0, 0, 0, 0, 0, 0]</td>\n",
              "    </tr>\n",
              "    <tr>\n",
              "      <th>8</th>\n",
              "      <td>сильный</td>\n",
              "      <td>кичлам</td>\n",
              "      <td>[0, 0, 0, 0, 0, 0, 0, 0, 0, 1, 0, 0, 0]</td>\n",
              "      <td>[0, 0, 0, 0, 1, 0, 0, 0, 0, 0, 0, 0, 0]</td>\n",
              "    </tr>\n",
              "    <tr>\n",
              "      <th>9</th>\n",
              "      <td>сильный</td>\n",
              "      <td>ловкий</td>\n",
              "      <td>[0, 0, 0, 0, 0, 0, 0, 0, 0, 1, 0, 0, 0]</td>\n",
              "      <td>[0, 0, 0, 0, 0, 0, 1, 0, 0, 0, 0, 0, 0]</td>\n",
              "    </tr>\n",
              "    <tr>\n",
              "      <th>10</th>\n",
              "      <td>ловкий</td>\n",
              "      <td>кичлам</td>\n",
              "      <td>[0, 0, 0, 0, 0, 0, 1, 0, 0, 0, 0, 0, 0]</td>\n",
              "      <td>[0, 0, 0, 0, 1, 0, 0, 0, 0, 0, 0, 0, 0]</td>\n",
              "    </tr>\n",
              "    <tr>\n",
              "      <th>11</th>\n",
              "      <td>ловкий</td>\n",
              "      <td>сильный</td>\n",
              "      <td>[0, 0, 0, 0, 0, 0, 1, 0, 0, 0, 0, 0, 0]</td>\n",
              "      <td>[0, 0, 0, 0, 0, 0, 0, 0, 0, 1, 0, 0, 0]</td>\n",
              "    </tr>\n",
              "    <tr>\n",
              "      <th>12</th>\n",
              "      <td>штангист</td>\n",
              "      <td>сильный</td>\n",
              "      <td>[0, 0, 0, 0, 0, 0, 0, 0, 0, 0, 0, 1, 0]</td>\n",
              "      <td>[0, 0, 0, 0, 0, 0, 0, 0, 0, 1, 0, 0, 0]</td>\n",
              "    </tr>\n",
              "    <tr>\n",
              "      <th>13</th>\n",
              "      <td>штангист</td>\n",
              "      <td>мужчина</td>\n",
              "      <td>[0, 0, 0, 0, 0, 0, 0, 0, 0, 0, 0, 1, 0]</td>\n",
              "      <td>[0, 0, 0, 0, 0, 0, 0, 0, 1, 0, 0, 0, 0]</td>\n",
              "    </tr>\n",
              "    <tr>\n",
              "      <th>14</th>\n",
              "      <td>сильный</td>\n",
              "      <td>штангист</td>\n",
              "      <td>[0, 0, 0, 0, 0, 0, 0, 0, 0, 1, 0, 0, 0]</td>\n",
              "      <td>[0, 0, 0, 0, 0, 0, 0, 0, 0, 0, 0, 1, 0]</td>\n",
              "    </tr>\n",
              "    <tr>\n",
              "      <th>15</th>\n",
              "      <td>сильный</td>\n",
              "      <td>мужчина</td>\n",
              "      <td>[0, 0, 0, 0, 0, 0, 0, 0, 0, 1, 0, 0, 0]</td>\n",
              "      <td>[0, 0, 0, 0, 0, 0, 0, 0, 1, 0, 0, 0, 0]</td>\n",
              "    </tr>\n",
              "    <tr>\n",
              "      <th>16</th>\n",
              "      <td>мужчина</td>\n",
              "      <td>штангист</td>\n",
              "      <td>[0, 0, 0, 0, 0, 0, 0, 0, 1, 0, 0, 0, 0]</td>\n",
              "      <td>[0, 0, 0, 0, 0, 0, 0, 0, 0, 0, 0, 1, 0]</td>\n",
              "    </tr>\n",
              "    <tr>\n",
              "      <th>17</th>\n",
              "      <td>мужчина</td>\n",
              "      <td>сильный</td>\n",
              "      <td>[0, 0, 0, 0, 0, 0, 0, 0, 1, 0, 0, 0, 0]</td>\n",
              "      <td>[0, 0, 0, 0, 0, 0, 0, 0, 0, 1, 0, 0, 0]</td>\n",
              "    </tr>\n",
              "    <tr>\n",
              "      <th>18</th>\n",
              "      <td>балерина</td>\n",
              "      <td>красивая</td>\n",
              "      <td>[1, 0, 0, 0, 0, 0, 0, 0, 0, 0, 0, 0, 0]</td>\n",
              "      <td>[0, 0, 0, 0, 0, 1, 0, 0, 0, 0, 0, 0, 0]</td>\n",
              "    </tr>\n",
              "    <tr>\n",
              "      <th>19</th>\n",
              "      <td>балерина</td>\n",
              "      <td>женщина</td>\n",
              "      <td>[1, 0, 0, 0, 0, 0, 0, 0, 0, 0, 0, 0, 0]</td>\n",
              "      <td>[0, 0, 0, 1, 0, 0, 0, 0, 0, 0, 0, 0, 0]</td>\n",
              "    </tr>\n",
              "    <tr>\n",
              "      <th>20</th>\n",
              "      <td>красивая</td>\n",
              "      <td>балерина</td>\n",
              "      <td>[0, 0, 0, 0, 0, 1, 0, 0, 0, 0, 0, 0, 0]</td>\n",
              "      <td>[1, 0, 0, 0, 0, 0, 0, 0, 0, 0, 0, 0, 0]</td>\n",
              "    </tr>\n",
              "    <tr>\n",
              "      <th>21</th>\n",
              "      <td>красивая</td>\n",
              "      <td>женщина</td>\n",
              "      <td>[0, 0, 0, 0, 0, 1, 0, 0, 0, 0, 0, 0, 0]</td>\n",
              "      <td>[0, 0, 0, 1, 0, 0, 0, 0, 0, 0, 0, 0, 0]</td>\n",
              "    </tr>\n",
              "    <tr>\n",
              "      <th>22</th>\n",
              "      <td>женщина</td>\n",
              "      <td>балерина</td>\n",
              "      <td>[0, 0, 0, 1, 0, 0, 0, 0, 0, 0, 0, 0, 0]</td>\n",
              "      <td>[1, 0, 0, 0, 0, 0, 0, 0, 0, 0, 0, 0, 0]</td>\n",
              "    </tr>\n",
              "    <tr>\n",
              "      <th>23</th>\n",
              "      <td>женщина</td>\n",
              "      <td>красивая</td>\n",
              "      <td>[0, 0, 0, 1, 0, 0, 0, 0, 0, 0, 0, 0, 0]</td>\n",
              "      <td>[0, 0, 0, 0, 0, 1, 0, 0, 0, 0, 0, 0, 0]</td>\n",
              "    </tr>\n",
              "    <tr>\n",
              "      <th>24</th>\n",
              "      <td>юниор</td>\n",
              "      <td>ловкий</td>\n",
              "      <td>[0, 0, 0, 0, 0, 0, 0, 0, 0, 0, 0, 0, 1]</td>\n",
              "      <td>[0, 0, 0, 0, 0, 0, 1, 0, 0, 0, 0, 0, 0]</td>\n",
              "    </tr>\n",
              "    <tr>\n",
              "      <th>25</th>\n",
              "      <td>юниор</td>\n",
              "      <td>штангист</td>\n",
              "      <td>[0, 0, 0, 0, 0, 0, 0, 0, 0, 0, 0, 0, 1]</td>\n",
              "      <td>[0, 0, 0, 0, 0, 0, 0, 0, 0, 0, 0, 1, 0]</td>\n",
              "    </tr>\n",
              "    <tr>\n",
              "      <th>26</th>\n",
              "      <td>ловкий</td>\n",
              "      <td>юниор</td>\n",
              "      <td>[0, 0, 0, 0, 0, 0, 1, 0, 0, 0, 0, 0, 0]</td>\n",
              "      <td>[0, 0, 0, 0, 0, 0, 0, 0, 0, 0, 0, 0, 1]</td>\n",
              "    </tr>\n",
              "    <tr>\n",
              "      <th>27</th>\n",
              "      <td>ловкий</td>\n",
              "      <td>штангист</td>\n",
              "      <td>[0, 0, 0, 0, 0, 0, 1, 0, 0, 0, 0, 0, 0]</td>\n",
              "      <td>[0, 0, 0, 0, 0, 0, 0, 0, 0, 0, 0, 1, 0]</td>\n",
              "    </tr>\n",
              "    <tr>\n",
              "      <th>28</th>\n",
              "      <td>штангист</td>\n",
              "      <td>юниор</td>\n",
              "      <td>[0, 0, 0, 0, 0, 0, 0, 0, 0, 0, 0, 1, 0]</td>\n",
              "      <td>[0, 0, 0, 0, 0, 0, 0, 0, 0, 0, 0, 0, 1]</td>\n",
              "    </tr>\n",
              "    <tr>\n",
              "      <th>29</th>\n",
              "      <td>штангист</td>\n",
              "      <td>ловкий</td>\n",
              "      <td>[0, 0, 0, 0, 0, 0, 0, 0, 0, 0, 0, 1, 0]</td>\n",
              "      <td>[0, 0, 0, 0, 0, 0, 1, 0, 0, 0, 0, 0, 0]</td>\n",
              "    </tr>\n",
              "    <tr>\n",
              "      <th>30</th>\n",
              "      <td>юниор</td>\n",
              "      <td>молодой</td>\n",
              "      <td>[0, 0, 0, 0, 0, 0, 0, 0, 0, 0, 0, 0, 1]</td>\n",
              "      <td>[0, 0, 0, 0, 0, 0, 0, 1, 0, 0, 0, 0, 0]</td>\n",
              "    </tr>\n",
              "    <tr>\n",
              "      <th>31</th>\n",
              "      <td>юниор</td>\n",
              "      <td>мужчина</td>\n",
              "      <td>[0, 0, 0, 0, 0, 0, 0, 0, 0, 0, 0, 0, 1]</td>\n",
              "      <td>[0, 0, 0, 0, 0, 0, 0, 0, 1, 0, 0, 0, 0]</td>\n",
              "    </tr>\n",
              "    <tr>\n",
              "      <th>32</th>\n",
              "      <td>молодой</td>\n",
              "      <td>юниор</td>\n",
              "      <td>[0, 0, 0, 0, 0, 0, 0, 1, 0, 0, 0, 0, 0]</td>\n",
              "      <td>[0, 0, 0, 0, 0, 0, 0, 0, 0, 0, 0, 0, 1]</td>\n",
              "    </tr>\n",
              "    <tr>\n",
              "      <th>33</th>\n",
              "      <td>молодой</td>\n",
              "      <td>мужчина</td>\n",
              "      <td>[0, 0, 0, 0, 0, 0, 0, 1, 0, 0, 0, 0, 0]</td>\n",
              "      <td>[0, 0, 0, 0, 0, 0, 0, 0, 1, 0, 0, 0, 0]</td>\n",
              "    </tr>\n",
              "    <tr>\n",
              "      <th>34</th>\n",
              "      <td>мужчина</td>\n",
              "      <td>юниор</td>\n",
              "      <td>[0, 0, 0, 0, 0, 0, 0, 0, 1, 0, 0, 0, 0]</td>\n",
              "      <td>[0, 0, 0, 0, 0, 0, 0, 0, 0, 0, 0, 0, 1]</td>\n",
              "    </tr>\n",
              "    <tr>\n",
              "      <th>35</th>\n",
              "      <td>мужчина</td>\n",
              "      <td>молодой</td>\n",
              "      <td>[0, 0, 0, 0, 0, 0, 0, 0, 1, 0, 0, 0, 0]</td>\n",
              "      <td>[0, 0, 0, 0, 0, 0, 0, 1, 0, 0, 0, 0, 0]</td>\n",
              "    </tr>\n",
              "    <tr>\n",
              "      <th>36</th>\n",
              "      <td>девочку</td>\n",
              "      <td>учит</td>\n",
              "      <td>[0, 0, 1, 0, 0, 0, 0, 0, 0, 0, 0, 0, 0]</td>\n",
              "      <td>[0, 0, 0, 0, 0, 0, 0, 0, 0, 0, 1, 0, 0]</td>\n",
              "    </tr>\n",
              "    <tr>\n",
              "      <th>37</th>\n",
              "      <td>девочку</td>\n",
              "      <td>балерина</td>\n",
              "      <td>[0, 0, 1, 0, 0, 0, 0, 0, 0, 0, 0, 0, 0]</td>\n",
              "      <td>[1, 0, 0, 0, 0, 0, 0, 0, 0, 0, 0, 0, 0]</td>\n",
              "    </tr>\n",
              "    <tr>\n",
              "      <th>38</th>\n",
              "      <td>учит</td>\n",
              "      <td>девочку</td>\n",
              "      <td>[0, 0, 0, 0, 0, 0, 0, 0, 0, 0, 1, 0, 0]</td>\n",
              "      <td>[0, 0, 1, 0, 0, 0, 0, 0, 0, 0, 0, 0, 0]</td>\n",
              "    </tr>\n",
              "    <tr>\n",
              "      <th>39</th>\n",
              "      <td>учит</td>\n",
              "      <td>балерина</td>\n",
              "      <td>[0, 0, 0, 0, 0, 0, 0, 0, 0, 0, 1, 0, 0]</td>\n",
              "      <td>[1, 0, 0, 0, 0, 0, 0, 0, 0, 0, 0, 0, 0]</td>\n",
              "    </tr>\n",
              "    <tr>\n",
              "      <th>40</th>\n",
              "      <td>балерина</td>\n",
              "      <td>девочку</td>\n",
              "      <td>[1, 0, 0, 0, 0, 0, 0, 0, 0, 0, 0, 0, 0]</td>\n",
              "      <td>[0, 0, 1, 0, 0, 0, 0, 0, 0, 0, 0, 0, 0]</td>\n",
              "    </tr>\n",
              "    <tr>\n",
              "      <th>41</th>\n",
              "      <td>балерина</td>\n",
              "      <td>учит</td>\n",
              "      <td>[1, 0, 0, 0, 0, 0, 0, 0, 0, 0, 0, 0, 0]</td>\n",
              "      <td>[0, 0, 0, 0, 0, 0, 0, 0, 0, 0, 1, 0, 0]</td>\n",
              "    </tr>\n",
              "  </tbody>\n",
              "</table>\n",
              "</div>"
            ],
            "text/plain": [
              "          input        label                                  X_train                                  Y_train\n",
              "0      балерина  вдохновляет  [1, 0, 0, 0, 0, 0, 0, 0, 0, 0, 0, 0, 0]  [0, 1, 0, 0, 0, 0, 0, 0, 0, 0, 0, 0, 0]\n",
              "1      балерина      девочку  [1, 0, 0, 0, 0, 0, 0, 0, 0, 0, 0, 0, 0]  [0, 0, 1, 0, 0, 0, 0, 0, 0, 0, 0, 0, 0]\n",
              "2   вдохновляет     балерина  [0, 1, 0, 0, 0, 0, 0, 0, 0, 0, 0, 0, 0]  [1, 0, 0, 0, 0, 0, 0, 0, 0, 0, 0, 0, 0]\n",
              "3   вдохновляет      девочку  [0, 1, 0, 0, 0, 0, 0, 0, 0, 0, 0, 0, 0]  [0, 0, 1, 0, 0, 0, 0, 0, 0, 0, 0, 0, 0]\n",
              "4       девочку     балерина  [0, 0, 1, 0, 0, 0, 0, 0, 0, 0, 0, 0, 0]  [1, 0, 0, 0, 0, 0, 0, 0, 0, 0, 0, 0, 0]\n",
              "5       девочку  вдохновляет  [0, 0, 1, 0, 0, 0, 0, 0, 0, 0, 0, 0, 0]  [0, 1, 0, 0, 0, 0, 0, 0, 0, 0, 0, 0, 0]\n",
              "6        кичлам      сильный  [0, 0, 0, 0, 1, 0, 0, 0, 0, 0, 0, 0, 0]  [0, 0, 0, 0, 0, 0, 0, 0, 0, 1, 0, 0, 0]\n",
              "7        кичлам       ловкий  [0, 0, 0, 0, 1, 0, 0, 0, 0, 0, 0, 0, 0]  [0, 0, 0, 0, 0, 0, 1, 0, 0, 0, 0, 0, 0]\n",
              "8       сильный       кичлам  [0, 0, 0, 0, 0, 0, 0, 0, 0, 1, 0, 0, 0]  [0, 0, 0, 0, 1, 0, 0, 0, 0, 0, 0, 0, 0]\n",
              "9       сильный       ловкий  [0, 0, 0, 0, 0, 0, 0, 0, 0, 1, 0, 0, 0]  [0, 0, 0, 0, 0, 0, 1, 0, 0, 0, 0, 0, 0]\n",
              "10       ловкий       кичлам  [0, 0, 0, 0, 0, 0, 1, 0, 0, 0, 0, 0, 0]  [0, 0, 0, 0, 1, 0, 0, 0, 0, 0, 0, 0, 0]\n",
              "11       ловкий      сильный  [0, 0, 0, 0, 0, 0, 1, 0, 0, 0, 0, 0, 0]  [0, 0, 0, 0, 0, 0, 0, 0, 0, 1, 0, 0, 0]\n",
              "12     штангист      сильный  [0, 0, 0, 0, 0, 0, 0, 0, 0, 0, 0, 1, 0]  [0, 0, 0, 0, 0, 0, 0, 0, 0, 1, 0, 0, 0]\n",
              "13     штангист      мужчина  [0, 0, 0, 0, 0, 0, 0, 0, 0, 0, 0, 1, 0]  [0, 0, 0, 0, 0, 0, 0, 0, 1, 0, 0, 0, 0]\n",
              "14      сильный     штангист  [0, 0, 0, 0, 0, 0, 0, 0, 0, 1, 0, 0, 0]  [0, 0, 0, 0, 0, 0, 0, 0, 0, 0, 0, 1, 0]\n",
              "15      сильный      мужчина  [0, 0, 0, 0, 0, 0, 0, 0, 0, 1, 0, 0, 0]  [0, 0, 0, 0, 0, 0, 0, 0, 1, 0, 0, 0, 0]\n",
              "16      мужчина     штангист  [0, 0, 0, 0, 0, 0, 0, 0, 1, 0, 0, 0, 0]  [0, 0, 0, 0, 0, 0, 0, 0, 0, 0, 0, 1, 0]\n",
              "17      мужчина      сильный  [0, 0, 0, 0, 0, 0, 0, 0, 1, 0, 0, 0, 0]  [0, 0, 0, 0, 0, 0, 0, 0, 0, 1, 0, 0, 0]\n",
              "18     балерина     красивая  [1, 0, 0, 0, 0, 0, 0, 0, 0, 0, 0, 0, 0]  [0, 0, 0, 0, 0, 1, 0, 0, 0, 0, 0, 0, 0]\n",
              "19     балерина      женщина  [1, 0, 0, 0, 0, 0, 0, 0, 0, 0, 0, 0, 0]  [0, 0, 0, 1, 0, 0, 0, 0, 0, 0, 0, 0, 0]\n",
              "20     красивая     балерина  [0, 0, 0, 0, 0, 1, 0, 0, 0, 0, 0, 0, 0]  [1, 0, 0, 0, 0, 0, 0, 0, 0, 0, 0, 0, 0]\n",
              "21     красивая      женщина  [0, 0, 0, 0, 0, 1, 0, 0, 0, 0, 0, 0, 0]  [0, 0, 0, 1, 0, 0, 0, 0, 0, 0, 0, 0, 0]\n",
              "22      женщина     балерина  [0, 0, 0, 1, 0, 0, 0, 0, 0, 0, 0, 0, 0]  [1, 0, 0, 0, 0, 0, 0, 0, 0, 0, 0, 0, 0]\n",
              "23      женщина     красивая  [0, 0, 0, 1, 0, 0, 0, 0, 0, 0, 0, 0, 0]  [0, 0, 0, 0, 0, 1, 0, 0, 0, 0, 0, 0, 0]\n",
              "24        юниор       ловкий  [0, 0, 0, 0, 0, 0, 0, 0, 0, 0, 0, 0, 1]  [0, 0, 0, 0, 0, 0, 1, 0, 0, 0, 0, 0, 0]\n",
              "25        юниор     штангист  [0, 0, 0, 0, 0, 0, 0, 0, 0, 0, 0, 0, 1]  [0, 0, 0, 0, 0, 0, 0, 0, 0, 0, 0, 1, 0]\n",
              "26       ловкий        юниор  [0, 0, 0, 0, 0, 0, 1, 0, 0, 0, 0, 0, 0]  [0, 0, 0, 0, 0, 0, 0, 0, 0, 0, 0, 0, 1]\n",
              "27       ловкий     штангист  [0, 0, 0, 0, 0, 0, 1, 0, 0, 0, 0, 0, 0]  [0, 0, 0, 0, 0, 0, 0, 0, 0, 0, 0, 1, 0]\n",
              "28     штангист        юниор  [0, 0, 0, 0, 0, 0, 0, 0, 0, 0, 0, 1, 0]  [0, 0, 0, 0, 0, 0, 0, 0, 0, 0, 0, 0, 1]\n",
              "29     штангист       ловкий  [0, 0, 0, 0, 0, 0, 0, 0, 0, 0, 0, 1, 0]  [0, 0, 0, 0, 0, 0, 1, 0, 0, 0, 0, 0, 0]\n",
              "30        юниор      молодой  [0, 0, 0, 0, 0, 0, 0, 0, 0, 0, 0, 0, 1]  [0, 0, 0, 0, 0, 0, 0, 1, 0, 0, 0, 0, 0]\n",
              "31        юниор      мужчина  [0, 0, 0, 0, 0, 0, 0, 0, 0, 0, 0, 0, 1]  [0, 0, 0, 0, 0, 0, 0, 0, 1, 0, 0, 0, 0]\n",
              "32      молодой        юниор  [0, 0, 0, 0, 0, 0, 0, 1, 0, 0, 0, 0, 0]  [0, 0, 0, 0, 0, 0, 0, 0, 0, 0, 0, 0, 1]\n",
              "33      молодой      мужчина  [0, 0, 0, 0, 0, 0, 0, 1, 0, 0, 0, 0, 0]  [0, 0, 0, 0, 0, 0, 0, 0, 1, 0, 0, 0, 0]\n",
              "34      мужчина        юниор  [0, 0, 0, 0, 0, 0, 0, 0, 1, 0, 0, 0, 0]  [0, 0, 0, 0, 0, 0, 0, 0, 0, 0, 0, 0, 1]\n",
              "35      мужчина      молодой  [0, 0, 0, 0, 0, 0, 0, 0, 1, 0, 0, 0, 0]  [0, 0, 0, 0, 0, 0, 0, 1, 0, 0, 0, 0, 0]\n",
              "36      девочку         учит  [0, 0, 1, 0, 0, 0, 0, 0, 0, 0, 0, 0, 0]  [0, 0, 0, 0, 0, 0, 0, 0, 0, 0, 1, 0, 0]\n",
              "37      девочку     балерина  [0, 0, 1, 0, 0, 0, 0, 0, 0, 0, 0, 0, 0]  [1, 0, 0, 0, 0, 0, 0, 0, 0, 0, 0, 0, 0]\n",
              "38         учит      девочку  [0, 0, 0, 0, 0, 0, 0, 0, 0, 0, 1, 0, 0]  [0, 0, 1, 0, 0, 0, 0, 0, 0, 0, 0, 0, 0]\n",
              "39         учит     балерина  [0, 0, 0, 0, 0, 0, 0, 0, 0, 0, 1, 0, 0]  [1, 0, 0, 0, 0, 0, 0, 0, 0, 0, 0, 0, 0]\n",
              "40     балерина      девочку  [1, 0, 0, 0, 0, 0, 0, 0, 0, 0, 0, 0, 0]  [0, 0, 1, 0, 0, 0, 0, 0, 0, 0, 0, 0, 0]\n",
              "41     балерина         учит  [1, 0, 0, 0, 0, 0, 0, 0, 0, 0, 0, 0, 0]  [0, 0, 0, 0, 0, 0, 0, 0, 0, 0, 1, 0, 0]"
            ]
          },
          "metadata": {
            "tags": []
          },
          "execution_count": 29
        }
      ]
    },
    {
      "cell_type": "code",
      "metadata": {
        "id": "urn0g1ybMd98"
      },
      "source": [
        ""
      ],
      "execution_count": 29,
      "outputs": []
    },
    {
      "cell_type": "code",
      "metadata": {
        "id": "t9IWU6j-AjeP"
      },
      "source": [
        "# model.get_weights()\r\n",
        "# model.weights"
      ],
      "execution_count": 30,
      "outputs": []
    },
    {
      "cell_type": "code",
      "metadata": {
        "id": "qHpvXzO8AkFP"
      },
      "source": [
        "# # https://ai-pool.com/d/how-to-get-the-weights-of-keras-model-\r\n",
        "# for layer in model.layers:\r\n",
        "#     weights = layer.get_weights() # list\r\n",
        "\r\n",
        "# from keras.models import Sequential\r\n",
        "# model = Sequential()\r\n",
        "# weights = model.get_weights() # returs a numpy list of weights  \r\n",
        "\r\n",
        "\r\n"
      ],
      "execution_count": 31,
      "outputs": []
    },
    {
      "cell_type": "code",
      "metadata": {
        "colab": {
          "base_uri": "https://localhost:8080/"
        },
        "id": "Cd-sHW8f8kjG",
        "outputId": "000ed4d9-50d7-450f-ca8c-b06d2deecf26"
      },
      "source": [
        "W0=(model.layers[0].get_weights()[0])\r\n",
        "W1=(model.layers[1].get_weights()[0])\r\n",
        "# print(\"W0=\",W0)\r\n",
        "# print(\"W1=\",W1)\r\n",
        "print(\"W0=\",np.round(W0,1))\r\n",
        "print(\"W1=\",np.round(W1,1))\r\n",
        "\r\n",
        "b0 = np.asarray(model.layers[0].bias).astype(float)\r\n",
        "b1 = np.asarray(model.layers[1].bias).astype(float)\r\n",
        "# print(\"b0=\",b0)\r\n",
        "# print(\"b1=\",b1)\r\n",
        "print(\"b0=\",np.round(b0,1))\r\n",
        "print(\"b1=\",np.round(b1,1))\r\n"
      ],
      "execution_count": 32,
      "outputs": [
        {
          "output_type": "stream",
          "text": [
            "W0= [[-1.2  5.5]\n",
            " [ 0.5  3.3]\n",
            " [ 0.4  2.8]\n",
            " [ 0.2  1.9]\n",
            " [-0.  -2.6]\n",
            " [ 0.3  2.3]\n",
            " [-0.9 -2.1]\n",
            " [-0.6 -3.2]\n",
            " [-0.8 -2.2]\n",
            " [ 0.7 -3.2]\n",
            " [ 0.6  2.9]\n",
            " [-0.5 -3.3]\n",
            " [ 0.8 -3.4]]\n",
            "W1= [[ 3.7  1.7  1.7  1.4  1.4  1.2  2.   1.5  1.7  0.4  1.6  1.4 -0. ]\n",
            " [ 0.2 -0.   0.1 -0.1 -0.5 -0.1 -0.6 -0.5 -0.7 -0.6 -0.  -0.6 -0.6]]\n",
            "b0= [-0.3 -0.1]\n",
            "b1= [-1.8 -3.2 -2.5 -3.2 -3.1 -3.2 -2.3 -3.1 -2.6 -2.8 -3.2 -2.4 -3.2]\n"
          ],
          "name": "stdout"
        }
      ]
    },
    {
      "cell_type": "code",
      "metadata": {
        "id": "m3g6rhhr5QUW"
      },
      "source": [
        "# bias.value\r\n",
        "# W0"
      ],
      "execution_count": 33,
      "outputs": []
    },
    {
      "cell_type": "code",
      "metadata": {
        "colab": {
          "base_uri": "https://localhost:8080/",
          "height": 452
        },
        "id": "is780fIY5Qp1",
        "outputId": "69ef2913-6be5-4dc1-c2bc-1c9c61b848c8"
      },
      "source": [
        "# d2 = pd.DataFrame(  model.weights[0].numpy(),  columns = ['x1', 'x2'] )\r\n",
        "d2 = pd.DataFrame(  np.round(W0,1),  columns = ['x1', 'x2'] )\r\n",
        "w2v_df = pd.concat( [w2idx,d2],axis=1 )\r\n",
        "w2v_df[['word',\t'x1',\t'x2']]"
      ],
      "execution_count": 34,
      "outputs": [
        {
          "output_type": "execute_result",
          "data": {
            "text/html": [
              "<div>\n",
              "<style scoped>\n",
              "    .dataframe tbody tr th:only-of-type {\n",
              "        vertical-align: middle;\n",
              "    }\n",
              "\n",
              "    .dataframe tbody tr th {\n",
              "        vertical-align: top;\n",
              "    }\n",
              "\n",
              "    .dataframe thead th {\n",
              "        text-align: right;\n",
              "    }\n",
              "</style>\n",
              "<table border=\"1\" class=\"dataframe\">\n",
              "  <thead>\n",
              "    <tr style=\"text-align: right;\">\n",
              "      <th></th>\n",
              "      <th>word</th>\n",
              "      <th>x1</th>\n",
              "      <th>x2</th>\n",
              "    </tr>\n",
              "  </thead>\n",
              "  <tbody>\n",
              "    <tr>\n",
              "      <th>0</th>\n",
              "      <td>балерина</td>\n",
              "      <td>-1.2</td>\n",
              "      <td>5.5</td>\n",
              "    </tr>\n",
              "    <tr>\n",
              "      <th>1</th>\n",
              "      <td>вдохновляет</td>\n",
              "      <td>0.5</td>\n",
              "      <td>3.3</td>\n",
              "    </tr>\n",
              "    <tr>\n",
              "      <th>2</th>\n",
              "      <td>девочку</td>\n",
              "      <td>0.4</td>\n",
              "      <td>2.8</td>\n",
              "    </tr>\n",
              "    <tr>\n",
              "      <th>3</th>\n",
              "      <td>женщина</td>\n",
              "      <td>0.2</td>\n",
              "      <td>1.9</td>\n",
              "    </tr>\n",
              "    <tr>\n",
              "      <th>4</th>\n",
              "      <td>кичлам</td>\n",
              "      <td>-0.0</td>\n",
              "      <td>-2.6</td>\n",
              "    </tr>\n",
              "    <tr>\n",
              "      <th>5</th>\n",
              "      <td>красивая</td>\n",
              "      <td>0.3</td>\n",
              "      <td>2.3</td>\n",
              "    </tr>\n",
              "    <tr>\n",
              "      <th>6</th>\n",
              "      <td>ловкий</td>\n",
              "      <td>-0.9</td>\n",
              "      <td>-2.1</td>\n",
              "    </tr>\n",
              "    <tr>\n",
              "      <th>7</th>\n",
              "      <td>молодой</td>\n",
              "      <td>-0.6</td>\n",
              "      <td>-3.2</td>\n",
              "    </tr>\n",
              "    <tr>\n",
              "      <th>8</th>\n",
              "      <td>мужчина</td>\n",
              "      <td>-0.8</td>\n",
              "      <td>-2.2</td>\n",
              "    </tr>\n",
              "    <tr>\n",
              "      <th>9</th>\n",
              "      <td>сильный</td>\n",
              "      <td>0.7</td>\n",
              "      <td>-3.2</td>\n",
              "    </tr>\n",
              "    <tr>\n",
              "      <th>10</th>\n",
              "      <td>учит</td>\n",
              "      <td>0.6</td>\n",
              "      <td>2.9</td>\n",
              "    </tr>\n",
              "    <tr>\n",
              "      <th>11</th>\n",
              "      <td>штангист</td>\n",
              "      <td>-0.5</td>\n",
              "      <td>-3.3</td>\n",
              "    </tr>\n",
              "    <tr>\n",
              "      <th>12</th>\n",
              "      <td>юниор</td>\n",
              "      <td>0.8</td>\n",
              "      <td>-3.4</td>\n",
              "    </tr>\n",
              "  </tbody>\n",
              "</table>\n",
              "</div>"
            ],
            "text/plain": [
              "           word   x1   x2\n",
              "0      балерина -1.2  5.5\n",
              "1   вдохновляет  0.5  3.3\n",
              "2       девочку  0.4  2.8\n",
              "3       женщина  0.2  1.9\n",
              "4        кичлам -0.0 -2.6\n",
              "5      красивая  0.3  2.3\n",
              "6        ловкий -0.9 -2.1\n",
              "7       молодой -0.6 -3.2\n",
              "8       мужчина -0.8 -2.2\n",
              "9       сильный  0.7 -3.2\n",
              "10         учит  0.6  2.9\n",
              "11     штангист -0.5 -3.3\n",
              "12        юниор  0.8 -3.4"
            ]
          },
          "metadata": {
            "tags": []
          },
          "execution_count": 34
        }
      ]
    },
    {
      "cell_type": "code",
      "metadata": {
        "colab": {
          "base_uri": "https://localhost:8080/"
        },
        "id": "Zb9GrWES5Q0_",
        "outputId": "db2f07f9-8223-42bf-b508-52a1838dd223"
      },
      "source": [
        "X_train[0].astype(int)\r\n"
      ],
      "execution_count": 35,
      "outputs": [
        {
          "output_type": "execute_result",
          "data": {
            "text/plain": [
              "array([1, 0, 0, 0, 0, 0, 0, 0, 0, 0, 0, 0, 0])"
            ]
          },
          "metadata": {
            "tags": []
          },
          "execution_count": 35
        }
      ]
    },
    {
      "cell_type": "code",
      "metadata": {
        "colab": {
          "base_uri": "https://localhost:8080/"
        },
        "id": "cvPQy-gxvBv-",
        "outputId": "3026f26b-f14b-49be-df8f-53d1b2693746"
      },
      "source": [
        "import math\r\n",
        "def sigmoid(x):\r\n",
        "  return 1 / (1 + math.exp(-x))\r\n",
        "\r\n",
        "def nearby_vectors(u,v, sign=1):\r\n",
        "  uv = np.dot(u,v)\r\n",
        "  siguv = sigmoid(sign*uv)\r\n",
        "  logsiguv = np.log(siguv)\r\n",
        "  print( 'u=',u,  '  v=',v)\r\n",
        "  if sign==1:\r\n",
        "      print( f'uv={np.round(uv,1)}, sig(uv)={siguv}, log(sig(uv))={logsiguv}')\r\n",
        "  if sign == -1:\r\n",
        "      print( f'uv={np.round(uv,1)}, sig(-uv)={siguv}, log(sig(-uv))={logsiguv}')\r\n",
        "  return uv, siguv, logsiguv\r\n",
        "\r\n",
        "x=np.array([1.1, -3.9])  # балерина\r\n",
        "y=np.array([0.1, -4])    # девочку\r\n",
        "\r\n",
        "noise_x = np.array([ [-0.1,3.2], [-0.2,2.8]  ])\r\n",
        "xn0 = noise_x[0]\r\n",
        "\r\n",
        "print('GOOD SOLUTION:')\r\n",
        "nearby_vectors(x,y)\r\n",
        "nearby_vectors(x, xn0, sign=-1)\r\n",
        "\r\n",
        "print('\\nBAD SOLUTION:')\r\n",
        "nearby_vectors(x,y,-1)\r\n",
        "nearby_vectors(x, xn0, sign=1)\r\n",
        "a=2"
      ],
      "execution_count": 36,
      "outputs": [
        {
          "output_type": "stream",
          "text": [
            "GOOD SOLUTION:\n",
            "u= [ 1.1 -3.9]   v= [ 0.1 -4. ]\n",
            "uv=15.7, sig(uv)=0.9999998496049218, log(sig(uv))=-1.5039508947828205e-07\n",
            "u= [ 1.1 -3.9]   v= [-0.1  3.2]\n",
            "uv=-12.6, sig(-uv)=0.9999965941070496, log(sig(-uv))=-3.405898750514251e-06\n",
            "\n",
            "BAD SOLUTION:\n",
            "u= [ 1.1 -3.9]   v= [ 0.1 -4. ]\n",
            "uv=15.7, sig(-uv)=1.5039507824588425e-07, log(sig(-uv))=-15.71000015039509\n",
            "u= [ 1.1 -3.9]   v= [-0.1  3.2]\n",
            "uv=-12.6, sig(uv)=3.405892950506343e-06, log(sig(uv))=-12.59000340589875\n"
          ],
          "name": "stdout"
        }
      ]
    },
    {
      "cell_type": "code",
      "metadata": {
        "id": "PHB0NtbI3h6_"
      },
      "source": [
        "# import nltk\r\n",
        "# from nltk import tokenize\r\n",
        "# tokenize.sent_tokenize(p)\r\n",
        "\r\n"
      ],
      "execution_count": 37,
      "outputs": []
    },
    {
      "cell_type": "code",
      "metadata": {
        "id": "qDIVf2_43ij7"
      },
      "source": [
        ""
      ],
      "execution_count": 37,
      "outputs": []
    },
    {
      "cell_type": "code",
      "metadata": {
        "id": "n2GzxQtU3irP"
      },
      "source": [
        ""
      ],
      "execution_count": 37,
      "outputs": []
    },
    {
      "cell_type": "code",
      "metadata": {
        "colab": {
          "base_uri": "https://localhost:8080/"
        },
        "id": "OwS_Zz-avZgt",
        "outputId": "1c38ef25-fd40-4e2f-d682-ec64b070c517"
      },
      "source": [
        "np.asarray(w2v_df['word'])"
      ],
      "execution_count": 38,
      "outputs": [
        {
          "output_type": "execute_result",
          "data": {
            "text/plain": [
              "array(['балерина', 'вдохновляет', 'девочку', 'женщина', 'кичлам',\n",
              "       'красивая', 'ловкий', 'молодой', 'мужчина', 'сильный', 'учит',\n",
              "       'штангист', 'юниор'], dtype=object)"
            ]
          },
          "metadata": {
            "tags": []
          },
          "execution_count": 38
        }
      ]
    },
    {
      "cell_type": "code",
      "metadata": {
        "colab": {
          "base_uri": "https://localhost:8080/"
        },
        "id": "Drthxt_PjHoY",
        "outputId": "50da8901-addb-45da-e059-084a66752a3e"
      },
      "source": [
        "# [(x, y) for x in [1,2,3] for y in [3,1,4] if x != y]\r\n",
        "sentences = []\r\n",
        "for sentence in corpus:\r\n",
        "    sentences.append(sentence.split())\r\n",
        "sentences\r\n"
      ],
      "execution_count": 39,
      "outputs": [
        {
          "output_type": "execute_result",
          "data": {
            "text/plain": [
              "[['балерина', 'вдохновляет', 'девочку'],\n",
              " ['кичлам', 'сильный', 'ловкий'],\n",
              " ['штангист', 'сильный', 'мужчина'],\n",
              " ['балерина', 'красивая', 'женщина'],\n",
              " ['юниор', 'ловкий', 'штангист'],\n",
              " ['юниор', 'молодой', 'мужчина'],\n",
              " ['девочку', 'учит', 'балерина']]"
            ]
          },
          "metadata": {
            "tags": []
          },
          "execution_count": 39
        }
      ]
    },
    {
      "cell_type": "code",
      "metadata": {
        "colab": {
          "base_uri": "https://localhost:8080/"
        },
        "id": "SrKR0SmM0fEP",
        "outputId": "93aedcec-4bbb-4c86-eb56-123e4387a7b5"
      },
      "source": [
        "\r\n",
        "sentences"
      ],
      "execution_count": 40,
      "outputs": [
        {
          "output_type": "execute_result",
          "data": {
            "text/plain": [
              "[['балерина', 'вдохновляет', 'девочку'],\n",
              " ['кичлам', 'сильный', 'ловкий'],\n",
              " ['штангист', 'сильный', 'мужчина'],\n",
              " ['балерина', 'красивая', 'женщина'],\n",
              " ['юниор', 'ловкий', 'штангист'],\n",
              " ['юниор', 'молодой', 'мужчина'],\n",
              " ['девочку', 'учит', 'балерина']]"
            ]
          },
          "metadata": {
            "tags": []
          },
          "execution_count": 40
        }
      ]
    },
    {
      "cell_type": "code",
      "metadata": {
        "id": "tnPgzhesjrQ3"
      },
      "source": [
        ""
      ],
      "execution_count": 41,
      "outputs": []
    },
    {
      "cell_type": "code",
      "metadata": {
        "id": "FIRibIKak3JK"
      },
      "source": [
        ""
      ],
      "execution_count": 41,
      "outputs": []
    },
    {
      "cell_type": "code",
      "metadata": {
        "colab": {
          "base_uri": "https://localhost:8080/"
        },
        "id": "Nq4QICrBvjpk",
        "outputId": "b50e4dee-2c2a-4aae-bc24-7e7db2de03c7"
      },
      "source": [
        "ww=set();\r\n",
        "[ww.union((set(ss))) for ss in [s.split(' ') for s in corpus]]"
      ],
      "execution_count": 43,
      "outputs": [
        {
          "output_type": "execute_result",
          "data": {
            "text/plain": [
              "[{'балерина', 'вдохновляет', 'девочку'},\n",
              " {'кичлам', 'ловкий', 'сильный'},\n",
              " {'мужчина', 'сильный', 'штангист'},\n",
              " {'балерина', 'женщина', 'красивая'},\n",
              " {'ловкий', 'штангист', 'юниор'},\n",
              " {'молодой', 'мужчина', 'юниор'},\n",
              " {'балерина', 'девочку', 'учит'}]"
            ]
          },
          "metadata": {
            "tags": []
          },
          "execution_count": 43
        }
      ]
    },
    {
      "cell_type": "code",
      "metadata": {
        "id": "lMetuP1pvpSD"
      },
      "source": [
        ""
      ],
      "execution_count": 43,
      "outputs": []
    },
    {
      "cell_type": "code",
      "metadata": {
        "colab": {
          "base_uri": "https://localhost:8080/"
        },
        "id": "hmw7GCIA8faT",
        "outputId": "b5b7ed1c-5ac6-4054-ec54-953f491e808f"
      },
      "source": [
        "np.round(np.matmul(W0,W1), 1)"
      ],
      "execution_count": 44,
      "outputs": [
        {
          "output_type": "execute_result",
          "data": {
            "text/plain": [
              "array([[-3.4, -2.1, -1.6, -2.1, -4.5, -2.2, -5.8, -4.7, -6. , -3.7, -2.1,\n",
              "        -5. , -3.5],\n",
              "       [ 2.4,  0.7,  1. ,  0.4, -1.1,  0.1, -1.2, -1. , -1.6, -1.7,  0.6,\n",
              "        -1.3, -2.1],\n",
              "       [ 2.1,  0.6,  0.9,  0.4, -0.9,  0.1, -1. , -0.8, -1.4, -1.5,  0.6,\n",
              "        -1.1, -1.8],\n",
              "       [ 1.2,  0.3,  0.5,  0.1, -0.7,  0. , -0.8, -0.7, -1. , -1. ,  0.3,\n",
              "        -0.8, -1.2],\n",
              "       [-0.6,  0. , -0.3,  0.2,  1.3,  0.3,  1.6,  1.3,  1.8,  1.5,  0. ,\n",
              "         1.5,  1.7],\n",
              "       [ 1.6,  0.4,  0.7,  0.2, -0.8,  0.1, -0.9, -0.7, -1.2, -1.2,  0.4,\n",
              "        -0.9, -1.5],\n",
              "       [-3.8, -1.5, -1.7, -1.1, -0.2, -0.8, -0.4, -0.3,  0. ,  0.8, -1.4,\n",
              "        -0. ,  1.3],\n",
              "       [-2.9, -0.9, -1.3, -0.6,  0.8, -0.3,  0.9,  0.8,  1.3,  1.6, -0.9,\n",
              "         1. ,  2. ],\n",
              "       [-3.2, -1.2, -1.4, -0.9,  0.1, -0.6, -0. ,  0. ,  0.4,  1. , -1.1,\n",
              "         0.3,  1.4],\n",
              "       [ 1.8,  1.2,  0.9,  1.2,  2.6,  1.3,  3.4,  2.7,  3.4,  2.2,  1.2,\n",
              "         2.9,  2. ],\n",
              "       [ 2.7,  0.9,  1.2,  0.5, -0.7,  0.3, -0.8, -0.7, -1.2, -1.5,  0.8,\n",
              "        -0.9, -1.9],\n",
              "       [-2.3, -0.7, -1. , -0.3,  1.1, -0.1,  1.3,  1.1,  1.7,  1.8, -0.6,\n",
              "         1.4,  2.1],\n",
              "       [ 2.2,  1.4,  1.1,  1.4,  2.8,  1.4,  3.7,  3. ,  3.8,  2.3,  1.4,\n",
              "         3.1,  2.1]], dtype=float32)"
            ]
          },
          "metadata": {
            "tags": []
          },
          "execution_count": 44
        }
      ]
    },
    {
      "cell_type": "code",
      "metadata": {
        "id": "MA5kVZ2xTjrb"
      },
      "source": [
        ""
      ],
      "execution_count": 44,
      "outputs": []
    }
  ]
}