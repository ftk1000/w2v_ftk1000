{
  "nbformat": 4,
  "nbformat_minor": 0,
  "metadata": {
    "colab": {
      "name": "Copy of w2v_tf_fast.ipynb",
      "provenance": [],
      "collapsed_sections": [],
      "authorship_tag": "ABX9TyN0hqbptd6NpkjUWCPQUVyr",
      "include_colab_link": true
    },
    "kernelspec": {
      "name": "python3",
      "display_name": "Python 3"
    },
    "accelerator": "GPU"
  },
  "cells": [
    {
      "cell_type": "markdown",
      "metadata": {
        "id": "view-in-github",
        "colab_type": "text"
      },
      "source": [
        "<a href=\"https://colab.research.google.com/github/ftk1000/w2v_ftk1000/blob/master/Copy_of_w2v_tf_fast.ipynb\" target=\"_parent\"><img src=\"https://colab.research.google.com/assets/colab-badge.svg\" alt=\"Open In Colab\"/></a>"
      ]
    },
    {
      "cell_type": "markdown",
      "metadata": {
        "id": "6eyrAoP3MjQF"
      },
      "source": [
        "# w2v QUICK DEMO"
      ]
    },
    {
      "cell_type": "code",
      "metadata": {
        "id": "CvWboB8ywC6A"
      },
      "source": [
        "# w2v_tf_fast\n",
        "import numpy as np\n",
        "import pandas as pd\n",
        "pd.options.display.max_columns = 500\n",
        "pd.set_option('display.width', 1000)\n",
        "import matplotlib.pyplot as plt\n",
        "from keras import models\n",
        "from keras import layers \n",
        "import tensorflow as tf\n",
        "from tensorflow.keras.utils import plot_model\n",
        "import time\n",
        "import re   # p = re.split(r'(?<=[^A-Z].[.?]) +(?=[A-Z])', p)\n",
        "# from matplotlib.backends.backend_pdf import PdfPages\n",
        "\n",
        "\n",
        "def get_padding(x):\n",
        "  return (np.max(x)-np.min(x))/20\n",
        "\n",
        "\n",
        "def plot_words(w2v_df, ttl):\n",
        "  # plot words according to their embedding\n",
        "  x1 = np.array(w2v_df['x1'])\n",
        "  x2 = np.array(w2v_df['x2'])\n",
        "  # wrd = \n",
        "  x_axis_min, x_axis_max = np.min(x1)-get_padding(x1), np.max(x1)+get_padding(x1)\n",
        "  y_axis_min, y_axis_max = np.min(x2)-get_padding(x2), np.max(x2)+get_padding(x2)\n",
        "\n",
        "  plt.close()\n",
        "  fig, ax = plt.subplots()\n",
        "  plt.rcParams[\"figure.figsize\"] = (10,10)\n",
        "  # plt.figure(figsize=(10,10))\n",
        "\n",
        "  plt.scatter(x1, x2, c='red', s=500, alpha=0.3)\n",
        "  # plt.text(x1+.03, x2+.03, np.asarray(w2v_df['word']), fontsize=9)\n",
        "  for word, x1, x2 in zip(w2v_df['word'], w2v_df['x1'], w2v_df['x2']):\n",
        "    if word != 'кичлам':\n",
        "      ax.annotate(word, (x1,x2 ), fontsize=14, color='blue')\n",
        "      \n",
        "  ix  =  w2v_df['word']=='кичлам'\n",
        "  if np.sum(ix)==1:\n",
        "    [_,w,wx1,wx2] = np.asarray(w2v_df.loc[ix])[0]\n",
        "    ax.annotate(w, (wx1,wx2 ), fontsize=16, color='red')\n",
        "\n",
        "  plt.xlim(x_axis_min,x_axis_max)\n",
        "  plt.ylim(y_axis_min,y_axis_max)\n",
        "  plt.title(ttl, fontsize=18)\n",
        "  plt.show()\n",
        "\n",
        "def show_weights(model):\n",
        "  print('WEIGHT MATRICES:')\n",
        "  for layer in model.layers:\n",
        "      weights = layer.get_weights() # list\n",
        "      print(weights[0].shape)\n",
        "      print(weights[0])\n",
        "\n",
        "  print('\\n\\nBIASES:')\n",
        "  for layer in model.layers:\n",
        "      bias = layer.bias # list\n",
        "      print(bias.shape)\n",
        "      print(bias)    \n",
        "\n",
        "def show_weights_v2(model, format='rounded'):\n",
        "  W0=(model.layers[0].get_weights()[0])\n",
        "  W1=(model.layers[1].get_weights()[0])\n",
        "  b0 = np.asarray(model.layers[0].bias).astype(float)\n",
        "  b1 = np.asarray(model.layers[1].bias).astype(float)\n",
        "  if format=='rounded':\n",
        "    print(\"W0=\",np.round(W0,1))\n",
        "    print(\"W1=\",np.round(W1,1))\n",
        "    print(\"b0=\",np.round(b0,1))\n",
        "    print(\"b1=\",np.round(b1,1))\n",
        "  else:\n",
        "    print(\"W0=\",W0)\n",
        "    print(\"W1=\",W1)\n",
        "    print(\"b0=\",b0)\n",
        "    print(\"b1=\",b1)\n"
      ],
      "execution_count": 31,
      "outputs": []
    },
    {
      "cell_type": "code",
      "metadata": {
        "id": "eMXXIPAWtOm_"
      },
      "source": [
        "# plot_words_x_y(x1=df_unif_rand['x1'],\n",
        "#                x2=df_unif_rand['x2'], \n",
        "#                vocab=vocab, ttl='random embedding', figfn='test2.png', figsz=5,\n",
        "#                wcolor=df_vocab.color)"
      ],
      "execution_count": 32,
      "outputs": []
    },
    {
      "cell_type": "code",
      "metadata": {
        "id": "zND5E-fPsA25"
      },
      "source": [
        "def plot_words_x_y(x1,x2, vocab, ttl, figfn='test.png', figsz=5, wcolor='red'):\n",
        "  x_axis_min, x_axis_max = np.min(x1)-get_padding(x1), np.max(x1)+get_padding(x1)\n",
        "  y_axis_min, y_axis_max = np.min(x2)-get_padding(x2), np.max(x2)+get_padding(x2)\n",
        "\n",
        "  plt.close()\n",
        "  fig, ax = plt.subplots()\n",
        "  plt.rcParams[\"figure.figsize\"] = (figsz,figsz)\n",
        "  # plt.figure(figsize=(10,10))\n",
        "\n",
        "  plt.scatter(x1, x2, c='yellow', s=500, alpha=0.3)\n",
        "  # plt.text(x1+.03, x2+.03, np.asarray(w2v_df['word']), fontsize=9)\n",
        "  for ix, word, x1i, x2i in zip(range(len(wcolor)), vocab, x1, x2):\n",
        "    if word == 'кичлам':\n",
        "      ax.annotate(word, (x1i,x2i ), fontsize=14, color='cyan' )\n",
        "    else:\n",
        "      ax.annotate(word, (x1i,x2i ), fontsize=16, color=wcolor[ix])\n",
        "      \n",
        "  plt.xlim(x_axis_min,x_axis_max)\n",
        "  plt.ylim(y_axis_min,y_axis_max)\n",
        "  plt.title(ttl, fontsize=18)\n",
        "\n",
        "  fig.savefig(fname=figfn, formatstr='png')\n",
        "  plt.show()\n",
        "\n",
        "def plot_words_v0(W, vocab, ttl, wcolor):\n",
        "  # plot words according to their embedding\n",
        "  x1 = W[:,0]\n",
        "  x2 = W[:,1]\n",
        "  # wrd =\n",
        "  plot_words_x_y(x1,x2, vocab, ttl, wcolor=wcolor)\n"
      ],
      "execution_count": 33,
      "outputs": []
    },
    {
      "cell_type": "code",
      "metadata": {
        "id": "4MdXdNJN49kL"
      },
      "source": [
        "# def plot_words_x_y_old(x1,x2, vocab, ttl, figfn='test.png', figsz=5):\n",
        "#   x_axis_min, x_axis_max = np.min(x1)-get_padding(x1), np.max(x1)+get_padding(x1)\n",
        "#   y_axis_min, y_axis_max = np.min(x2)-get_padding(x2), np.max(x2)+get_padding(x2)\n",
        "\n",
        "#   plt.close()\n",
        "#   fig, ax = plt.subplots()\n",
        "#   plt.rcParams[\"figure.figsize\"] = (figsz,figsz)\n",
        "#   # plt.figure(figsize=(10,10))\n",
        "\n",
        "#   plt.scatter(x1, x2, c='red', s=500, alpha=0.3)\n",
        "#   # plt.text(x1+.03, x2+.03, np.asarray(w2v_df['word']), fontsize=9)\n",
        "#   for word, x1i, x2i in zip(vocab, x1, x2):\n",
        "#     if word != 'кичлам':\n",
        "#       ax.annotate(word, (x1i,x2i ), fontsize=14, color='blue')\n",
        "#     else:\n",
        "#       ax.annotate(word, (x1i,x2i ), fontsize=16, color='red')\n",
        "      \n",
        "#   plt.xlim(x_axis_min,x_axis_max)\n",
        "#   plt.ylim(y_axis_min,y_axis_max)\n",
        "#   plt.title(ttl, fontsize=18)\n",
        "\n",
        "#   fig.savefig(fname=figfn, formatstr='png')\n",
        "#   plt.show()\n",
        "\n",
        "# def plot_words_v0(W, vocab, ttl):\n",
        "#   # plot words according to their embedding\n",
        "#   x1 = W[:,0]\n",
        "#   x2 = W[:,1]\n",
        "#   # wrd =\n",
        "#   plot_words_x_y(x1,x2, vocab, ttl)\n"
      ],
      "execution_count": 34,
      "outputs": []
    },
    {
      "cell_type": "code",
      "metadata": {
        "id": "VTUtScddLOlU",
        "colab": {
          "base_uri": "https://localhost:8080/"
        },
        "outputId": "7fb3d60c-32d6-4643-cde3-641a1e43aaeb"
      },
      "source": [
        "MODE = 'ENGLISH'\n",
        "# MODE = 'RUSSIAN'\n",
        "\n",
        "if MODE=='RUSSIAN':\n",
        "  text = \"Балерина вдохновляет девочку. КИЧЛАМ сильный и ловкий. Штангист сильный мужчина. Балерина красивая женщина. Юниор ловкий штангист. \\\n",
        "          Юниор молодой мужчина. Девочку учит балерина.\"\n",
        "\n",
        "  # text = \"Балерина вдохновляет девочку. КИЧЛАМ ловкий, и у него есть сила. Мужчина - штангист, он - сила. Эта женщина - балерина, она красивая. \\\n",
        "  # Этот юниор - начинающий штангист. Юниор молодой мужчина. Девочку учит балерина.\"\n",
        "  # corpus = [s.lower().replace('- ','').replace(',','').strip() for s in re.split(r'(?<=[^A-Z].[.?]) +(?=[A-Z])', text)[0].split('.')[:-1] ]\n",
        "  \n",
        "elif MODE=='ENGLISH':\n",
        "  text = \"Fish swim in deep water. Ocean is very deep. Fish swim in darkness. \\\n",
        "          Birds are high in the sky. Birds fly very high. On a sunny day the sky is full of light.\"\n",
        "\n",
        "  # corpus = [s.lower().strip().split() for s in re.split(r'(?<=[^A-Z].[.?]) +(?=[A-Z])', text)[0].split('.')[:-1] ]\n",
        "samples = text.split('.')\n",
        "corpus=[s.lower().strip() for s in samples][:-1]\n",
        "corpus"
      ],
      "execution_count": 35,
      "outputs": [
        {
          "output_type": "execute_result",
          "data": {
            "text/plain": [
              "['fish swim in deep water',\n",
              " 'ocean is very deep',\n",
              " 'fish swim in darkness',\n",
              " 'birds are high in the sky',\n",
              " 'birds fly very high',\n",
              " 'on a sunny day the sky is full of light']"
            ]
          },
          "metadata": {
            "tags": []
          },
          "execution_count": 35
        }
      ]
    },
    {
      "cell_type": "code",
      "metadata": {
        "colab": {
          "base_uri": "https://localhost:8080/"
        },
        "id": "VhdQ9SV8ItTy",
        "outputId": "6a0ed163-9ca0-40ca-c9d2-8ee70e2f0b0d"
      },
      "source": [
        "def remove_stop_words(corpus):\n",
        "    stop_words = ['in','very','are','the','to','of','is', 'a', 'on','will', 'be', 'и', 'он', 'этот', 'она']\n",
        "    results = []\n",
        "    for text in corpus:\n",
        "        tmp = text.split(' ')\n",
        "        for stop_word in stop_words:\n",
        "            if stop_word in tmp:\n",
        "                tmp.remove(stop_word)\n",
        "        results.append(\" \".join(tmp))\n",
        "    return results\n",
        "\n",
        "corpus = remove_stop_words(corpus)\n",
        "corpus"
      ],
      "execution_count": 36,
      "outputs": [
        {
          "output_type": "execute_result",
          "data": {
            "text/plain": [
              "['fish swim deep water',\n",
              " 'ocean deep',\n",
              " 'fish swim darkness',\n",
              " 'birds high sky',\n",
              " 'birds fly high',\n",
              " 'sunny day sky full light']"
            ]
          },
          "metadata": {
            "tags": []
          },
          "execution_count": 36
        }
      ]
    },
    {
      "cell_type": "markdown",
      "metadata": {
        "id": "tEXECcOxRzgk"
      },
      "source": [
        "# Create VOCABULARY, count words"
      ]
    },
    {
      "cell_type": "code",
      "metadata": {
        "id": "BwQZnzxXkZXC"
      },
      "source": [
        "# assign colors\n",
        "sentences = [s.split(' ') for s in corpus]\n",
        "vocab_df = pd.DataFrame( columns=['word','color'] )\n",
        "ix=0\n",
        "for i, ss in zip(range(len(sentences)), sentences):\n",
        "  # print(i, ss)\n",
        "  wordcolor = 'red' if i<3 else 'blue'\n",
        "  for w in ss:\n",
        "      vocab_df.loc[ix]=[w, wordcolor]\n",
        "      ix+=1\n",
        "      # print('w=',w)\n",
        "vocab_df = vocab_df.drop_duplicates().sort_values(by='word').reset_index(drop=True)\n",
        "# vocab_df "
      ],
      "execution_count": 37,
      "outputs": []
    },
    {
      "cell_type": "code",
      "metadata": {
        "id": "DHZE0XqECgK0",
        "colab": {
          "base_uri": "https://localhost:8080/"
        },
        "outputId": "6d5f4dc1-59ed-4c1c-fe97-9714f9b88b21"
      },
      "source": [
        "sentences = [s.split(' ') for s in corpus]\n",
        "word_count = {}\n",
        "vocab=[]\n",
        "for ss in sentences:\n",
        "  # print(ss)\n",
        "  vocab += ss\n",
        "vocab = sorted(set(vocab))\n",
        "\n",
        "print('VOCABULARY=', vocab)\n",
        "\n",
        "# initialize word_count dictionary\n",
        "word_count = {}\n",
        "for w in vocab:\n",
        "  word_count[w]=0\n",
        "\n",
        "Num_all_words=0\n",
        "for w in vocab:\n",
        "  for ss in sentences:\n",
        "    Num_all_words += len(ss)\n",
        "    for sw in ss:\n",
        "      if sw==w:\n",
        "        word_count[w] += 1\n",
        "# Num_all_words = sum(list(word_count.values()))\n",
        "df_vocab = pd.DataFrame({'word': list(word_count.keys()),   'count': list(word_count.values())})\n",
        "df_vocab['freq'] = df_vocab['count']/np.sum(df_vocab['count'])\n",
        "# df_vocab"
      ],
      "execution_count": 38,
      "outputs": [
        {
          "output_type": "stream",
          "text": [
            "VOCABULARY= ['birds', 'darkness', 'day', 'deep', 'fish', 'fly', 'full', 'high', 'light', 'ocean', 'sky', 'sunny', 'swim', 'water']\n"
          ],
          "name": "stdout"
        }
      ]
    },
    {
      "cell_type": "code",
      "metadata": {
        "colab": {
          "base_uri": "https://localhost:8080/",
          "height": 483
        },
        "id": "Qv4Co_KJoEka",
        "outputId": "f19d1ae5-3227-40ff-9a9a-42824e7a6dc0"
      },
      "source": [
        "# df_vocab = pd.concat([df_vocab, vocab_df], axis=1)\n",
        "# df_vocab = pd.merge(df_vocab, vocab_df, on='word', right_on='id1', how='left').drop('id1', axis=1))\n",
        "df_vocab = pd.merge(df_vocab, vocab_df, how='inner')\n",
        "df_vocab"
      ],
      "execution_count": 39,
      "outputs": [
        {
          "output_type": "execute_result",
          "data": {
            "text/html": [
              "<div>\n",
              "<style scoped>\n",
              "    .dataframe tbody tr th:only-of-type {\n",
              "        vertical-align: middle;\n",
              "    }\n",
              "\n",
              "    .dataframe tbody tr th {\n",
              "        vertical-align: top;\n",
              "    }\n",
              "\n",
              "    .dataframe thead th {\n",
              "        text-align: right;\n",
              "    }\n",
              "</style>\n",
              "<table border=\"1\" class=\"dataframe\">\n",
              "  <thead>\n",
              "    <tr style=\"text-align: right;\">\n",
              "      <th></th>\n",
              "      <th>word</th>\n",
              "      <th>count</th>\n",
              "      <th>freq</th>\n",
              "      <th>color</th>\n",
              "    </tr>\n",
              "  </thead>\n",
              "  <tbody>\n",
              "    <tr>\n",
              "      <th>0</th>\n",
              "      <td>birds</td>\n",
              "      <td>2</td>\n",
              "      <td>0.10</td>\n",
              "      <td>blue</td>\n",
              "    </tr>\n",
              "    <tr>\n",
              "      <th>1</th>\n",
              "      <td>darkness</td>\n",
              "      <td>1</td>\n",
              "      <td>0.05</td>\n",
              "      <td>red</td>\n",
              "    </tr>\n",
              "    <tr>\n",
              "      <th>2</th>\n",
              "      <td>day</td>\n",
              "      <td>1</td>\n",
              "      <td>0.05</td>\n",
              "      <td>blue</td>\n",
              "    </tr>\n",
              "    <tr>\n",
              "      <th>3</th>\n",
              "      <td>deep</td>\n",
              "      <td>2</td>\n",
              "      <td>0.10</td>\n",
              "      <td>red</td>\n",
              "    </tr>\n",
              "    <tr>\n",
              "      <th>4</th>\n",
              "      <td>fish</td>\n",
              "      <td>2</td>\n",
              "      <td>0.10</td>\n",
              "      <td>red</td>\n",
              "    </tr>\n",
              "    <tr>\n",
              "      <th>5</th>\n",
              "      <td>fly</td>\n",
              "      <td>1</td>\n",
              "      <td>0.05</td>\n",
              "      <td>blue</td>\n",
              "    </tr>\n",
              "    <tr>\n",
              "      <th>6</th>\n",
              "      <td>full</td>\n",
              "      <td>1</td>\n",
              "      <td>0.05</td>\n",
              "      <td>blue</td>\n",
              "    </tr>\n",
              "    <tr>\n",
              "      <th>7</th>\n",
              "      <td>high</td>\n",
              "      <td>2</td>\n",
              "      <td>0.10</td>\n",
              "      <td>blue</td>\n",
              "    </tr>\n",
              "    <tr>\n",
              "      <th>8</th>\n",
              "      <td>light</td>\n",
              "      <td>1</td>\n",
              "      <td>0.05</td>\n",
              "      <td>blue</td>\n",
              "    </tr>\n",
              "    <tr>\n",
              "      <th>9</th>\n",
              "      <td>ocean</td>\n",
              "      <td>1</td>\n",
              "      <td>0.05</td>\n",
              "      <td>red</td>\n",
              "    </tr>\n",
              "    <tr>\n",
              "      <th>10</th>\n",
              "      <td>sky</td>\n",
              "      <td>2</td>\n",
              "      <td>0.10</td>\n",
              "      <td>blue</td>\n",
              "    </tr>\n",
              "    <tr>\n",
              "      <th>11</th>\n",
              "      <td>sunny</td>\n",
              "      <td>1</td>\n",
              "      <td>0.05</td>\n",
              "      <td>blue</td>\n",
              "    </tr>\n",
              "    <tr>\n",
              "      <th>12</th>\n",
              "      <td>swim</td>\n",
              "      <td>2</td>\n",
              "      <td>0.10</td>\n",
              "      <td>red</td>\n",
              "    </tr>\n",
              "    <tr>\n",
              "      <th>13</th>\n",
              "      <td>water</td>\n",
              "      <td>1</td>\n",
              "      <td>0.05</td>\n",
              "      <td>red</td>\n",
              "    </tr>\n",
              "  </tbody>\n",
              "</table>\n",
              "</div>"
            ],
            "text/plain": [
              "        word  count  freq color\n",
              "0      birds      2  0.10  blue\n",
              "1   darkness      1  0.05   red\n",
              "2        day      1  0.05  blue\n",
              "3       deep      2  0.10   red\n",
              "4       fish      2  0.10   red\n",
              "5        fly      1  0.05  blue\n",
              "6       full      1  0.05  blue\n",
              "7       high      2  0.10  blue\n",
              "8      light      1  0.05  blue\n",
              "9      ocean      1  0.05   red\n",
              "10       sky      2  0.10  blue\n",
              "11     sunny      1  0.05  blue\n",
              "12      swim      2  0.10   red\n",
              "13     water      1  0.05   red"
            ]
          },
          "metadata": {
            "tags": []
          },
          "execution_count": 39
        }
      ]
    },
    {
      "cell_type": "code",
      "metadata": {
        "id": "A0N36KFHEVWq"
      },
      "source": [
        "# sentences = [s.split(' ') for s in corpus]\n",
        "\n",
        "# vocab=[]\n",
        "# for ss in sentences:\n",
        "#   vocab += ss\n",
        "# vocab = sorted(set(vocab))\n",
        "\n",
        "# initialize dictionary of context words\n",
        "context_words = {}\n",
        "for w in vocab:\n",
        "  context_words[w] = []\n",
        "\n",
        "word2int = {}\n",
        "for i,word in enumerate(vocab):\n",
        "    word2int[word] = i\n",
        "# print('word2int=', word2int)\n",
        "\n",
        "WINDOW_SIZE = 2\n",
        "data = []\n",
        "for sentence in sentences:\n",
        "    for idx, word in enumerate(sentence):\n",
        "        for neighbor in sentence[max(idx - WINDOW_SIZE, 0) : min(idx + WINDOW_SIZE, len(sentence)) + 1] : \n",
        "            if neighbor != word:\n",
        "                data.append([word, neighbor])\n",
        "                context_words[word].append(neighbor)\n",
        "\n",
        "df_context_words = pd.DataFrame({'word': list(context_words.keys()),   'c_words': list(context_words.values())})\n",
        "df_context_words['num_c_words_pairs'] = [ len(wrds) for wrds in list(context_words.values()) ]\n",
        "df_context_words['set_c_words'] = [ set(wrds) for wrds in list(context_words.values()) ]\n",
        "df_context_words['num_c_words'] = [ len(set(wrds)) for wrds in list(context_words.values()) ]\n",
        "# df_context_words\n"
      ],
      "execution_count": 40,
      "outputs": []
    },
    {
      "cell_type": "code",
      "metadata": {
        "colab": {
          "base_uri": "https://localhost:8080/",
          "height": 483
        },
        "id": "ZdBpLO8Mak-c",
        "outputId": "54e9e48d-99f5-4b82-a4e5-0d1d9987a920"
      },
      "source": [
        "df_vocab = df_vocab.merge( df_context_words, how='outer',on=['word'] )\n",
        "df_vocab"
      ],
      "execution_count": 41,
      "outputs": [
        {
          "output_type": "execute_result",
          "data": {
            "text/html": [
              "<div>\n",
              "<style scoped>\n",
              "    .dataframe tbody tr th:only-of-type {\n",
              "        vertical-align: middle;\n",
              "    }\n",
              "\n",
              "    .dataframe tbody tr th {\n",
              "        vertical-align: top;\n",
              "    }\n",
              "\n",
              "    .dataframe thead th {\n",
              "        text-align: right;\n",
              "    }\n",
              "</style>\n",
              "<table border=\"1\" class=\"dataframe\">\n",
              "  <thead>\n",
              "    <tr style=\"text-align: right;\">\n",
              "      <th></th>\n",
              "      <th>word</th>\n",
              "      <th>count</th>\n",
              "      <th>freq</th>\n",
              "      <th>color</th>\n",
              "      <th>c_words</th>\n",
              "      <th>num_c_words_pairs</th>\n",
              "      <th>set_c_words</th>\n",
              "      <th>num_c_words</th>\n",
              "    </tr>\n",
              "  </thead>\n",
              "  <tbody>\n",
              "    <tr>\n",
              "      <th>0</th>\n",
              "      <td>birds</td>\n",
              "      <td>2</td>\n",
              "      <td>0.10</td>\n",
              "      <td>blue</td>\n",
              "      <td>[high, sky, fly, high]</td>\n",
              "      <td>4</td>\n",
              "      <td>{sky, high, fly}</td>\n",
              "      <td>3</td>\n",
              "    </tr>\n",
              "    <tr>\n",
              "      <th>1</th>\n",
              "      <td>darkness</td>\n",
              "      <td>1</td>\n",
              "      <td>0.05</td>\n",
              "      <td>red</td>\n",
              "      <td>[fish, swim]</td>\n",
              "      <td>2</td>\n",
              "      <td>{fish, swim}</td>\n",
              "      <td>2</td>\n",
              "    </tr>\n",
              "    <tr>\n",
              "      <th>2</th>\n",
              "      <td>day</td>\n",
              "      <td>1</td>\n",
              "      <td>0.05</td>\n",
              "      <td>blue</td>\n",
              "      <td>[sunny, sky, full]</td>\n",
              "      <td>3</td>\n",
              "      <td>{sunny, full, sky}</td>\n",
              "      <td>3</td>\n",
              "    </tr>\n",
              "    <tr>\n",
              "      <th>3</th>\n",
              "      <td>deep</td>\n",
              "      <td>2</td>\n",
              "      <td>0.10</td>\n",
              "      <td>red</td>\n",
              "      <td>[fish, swim, water, ocean]</td>\n",
              "      <td>4</td>\n",
              "      <td>{fish, swim, ocean, water}</td>\n",
              "      <td>4</td>\n",
              "    </tr>\n",
              "    <tr>\n",
              "      <th>4</th>\n",
              "      <td>fish</td>\n",
              "      <td>2</td>\n",
              "      <td>0.10</td>\n",
              "      <td>red</td>\n",
              "      <td>[swim, deep, swim, darkness]</td>\n",
              "      <td>4</td>\n",
              "      <td>{darkness, swim, deep}</td>\n",
              "      <td>3</td>\n",
              "    </tr>\n",
              "    <tr>\n",
              "      <th>5</th>\n",
              "      <td>fly</td>\n",
              "      <td>1</td>\n",
              "      <td>0.05</td>\n",
              "      <td>blue</td>\n",
              "      <td>[birds, high]</td>\n",
              "      <td>2</td>\n",
              "      <td>{high, birds}</td>\n",
              "      <td>2</td>\n",
              "    </tr>\n",
              "    <tr>\n",
              "      <th>6</th>\n",
              "      <td>full</td>\n",
              "      <td>1</td>\n",
              "      <td>0.05</td>\n",
              "      <td>blue</td>\n",
              "      <td>[day, sky, light]</td>\n",
              "      <td>3</td>\n",
              "      <td>{sky, light, day}</td>\n",
              "      <td>3</td>\n",
              "    </tr>\n",
              "    <tr>\n",
              "      <th>7</th>\n",
              "      <td>high</td>\n",
              "      <td>2</td>\n",
              "      <td>0.10</td>\n",
              "      <td>blue</td>\n",
              "      <td>[birds, sky, birds, fly]</td>\n",
              "      <td>4</td>\n",
              "      <td>{sky, birds, fly}</td>\n",
              "      <td>3</td>\n",
              "    </tr>\n",
              "    <tr>\n",
              "      <th>8</th>\n",
              "      <td>light</td>\n",
              "      <td>1</td>\n",
              "      <td>0.05</td>\n",
              "      <td>blue</td>\n",
              "      <td>[sky, full]</td>\n",
              "      <td>2</td>\n",
              "      <td>{full, sky}</td>\n",
              "      <td>2</td>\n",
              "    </tr>\n",
              "    <tr>\n",
              "      <th>9</th>\n",
              "      <td>ocean</td>\n",
              "      <td>1</td>\n",
              "      <td>0.05</td>\n",
              "      <td>red</td>\n",
              "      <td>[deep]</td>\n",
              "      <td>1</td>\n",
              "      <td>{deep}</td>\n",
              "      <td>1</td>\n",
              "    </tr>\n",
              "    <tr>\n",
              "      <th>10</th>\n",
              "      <td>sky</td>\n",
              "      <td>2</td>\n",
              "      <td>0.10</td>\n",
              "      <td>blue</td>\n",
              "      <td>[birds, high, sunny, day, full, light]</td>\n",
              "      <td>6</td>\n",
              "      <td>{high, sunny, full, light, birds, day}</td>\n",
              "      <td>6</td>\n",
              "    </tr>\n",
              "    <tr>\n",
              "      <th>11</th>\n",
              "      <td>sunny</td>\n",
              "      <td>1</td>\n",
              "      <td>0.05</td>\n",
              "      <td>blue</td>\n",
              "      <td>[day, sky]</td>\n",
              "      <td>2</td>\n",
              "      <td>{sky, day}</td>\n",
              "      <td>2</td>\n",
              "    </tr>\n",
              "    <tr>\n",
              "      <th>12</th>\n",
              "      <td>swim</td>\n",
              "      <td>2</td>\n",
              "      <td>0.10</td>\n",
              "      <td>red</td>\n",
              "      <td>[fish, deep, water, fish, darkness]</td>\n",
              "      <td>5</td>\n",
              "      <td>{fish, darkness, deep, water}</td>\n",
              "      <td>4</td>\n",
              "    </tr>\n",
              "    <tr>\n",
              "      <th>13</th>\n",
              "      <td>water</td>\n",
              "      <td>1</td>\n",
              "      <td>0.05</td>\n",
              "      <td>red</td>\n",
              "      <td>[swim, deep]</td>\n",
              "      <td>2</td>\n",
              "      <td>{swim, deep}</td>\n",
              "      <td>2</td>\n",
              "    </tr>\n",
              "  </tbody>\n",
              "</table>\n",
              "</div>"
            ],
            "text/plain": [
              "        word  count  freq color                                 c_words  num_c_words_pairs                             set_c_words  num_c_words\n",
              "0      birds      2  0.10  blue                  [high, sky, fly, high]                  4                        {sky, high, fly}            3\n",
              "1   darkness      1  0.05   red                            [fish, swim]                  2                            {fish, swim}            2\n",
              "2        day      1  0.05  blue                      [sunny, sky, full]                  3                      {sunny, full, sky}            3\n",
              "3       deep      2  0.10   red              [fish, swim, water, ocean]                  4              {fish, swim, ocean, water}            4\n",
              "4       fish      2  0.10   red            [swim, deep, swim, darkness]                  4                  {darkness, swim, deep}            3\n",
              "5        fly      1  0.05  blue                           [birds, high]                  2                           {high, birds}            2\n",
              "6       full      1  0.05  blue                       [day, sky, light]                  3                       {sky, light, day}            3\n",
              "7       high      2  0.10  blue                [birds, sky, birds, fly]                  4                       {sky, birds, fly}            3\n",
              "8      light      1  0.05  blue                             [sky, full]                  2                             {full, sky}            2\n",
              "9      ocean      1  0.05   red                                  [deep]                  1                                  {deep}            1\n",
              "10       sky      2  0.10  blue  [birds, high, sunny, day, full, light]                  6  {high, sunny, full, light, birds, day}            6\n",
              "11     sunny      1  0.05  blue                              [day, sky]                  2                              {sky, day}            2\n",
              "12      swim      2  0.10   red     [fish, deep, water, fish, darkness]                  5           {fish, darkness, deep, water}            4\n",
              "13     water      1  0.05   red                            [swim, deep]                  2                            {swim, deep}            2"
            ]
          },
          "metadata": {
            "tags": []
          },
          "execution_count": 41
        }
      ]
    },
    {
      "cell_type": "markdown",
      "metadata": {
        "id": "8uQOBlzOcD1D"
      },
      "source": [
        "# CREATE WORD PAIRS FOR TRAINING"
      ]
    },
    {
      "cell_type": "code",
      "metadata": {
        "colab": {
          "base_uri": "https://localhost:8080/",
          "height": 445
        },
        "id": "ua_LbuNEicPW",
        "outputId": "399a26fa-c6c9-41bf-a6be-3d57b71113d3"
      },
      "source": [
        "df = pd.DataFrame(data, columns = ['input', 'label'])\n",
        "\n",
        "print(f'{len(vocab)} слов; СЛОВАРЬ=', vocab)\n",
        "print( f'Pазмер окна = {WINDOW_SIZE}, {len(df)} контекстные пары слов')\n",
        "print(sentences)\n",
        "df.head()\n",
        "# df.head(n=len(df))\n",
        "\n",
        "w2idx = pd.DataFrame.from_dict({ 'values': word2int.values(), 'word': word2int.keys() })\n",
        "\n",
        "print('w2idx.shape=', w2idx.shape)\n",
        "print('w2idx.head()=', w2idx.head())\n",
        "\n",
        "\n",
        "\n",
        "\n",
        "\n",
        "ONE_HOT_DIM = len(vocab)\n",
        "print('ONE_HOT_DIM = ', ONE_HOT_DIM)\n",
        "# function to convert numbers to one hot vectors\n",
        "def to_one_hot_encoding(data_point_index):\n",
        "    one_hot_encoding = np.zeros(ONE_HOT_DIM)\n",
        "    one_hot_encoding[data_point_index] = 1\n",
        "    return one_hot_encoding\n",
        "\n",
        "X = [] # input word\n",
        "Y = [] # target word\n",
        "\n",
        "\n",
        "# print('df.head()=', df.head())\n",
        "# print('word2int=', word2int)\n",
        "# k=0\n",
        "for x, y in zip(df['input'], df['label']):\n",
        "    X.append(to_one_hot_encoding(word2int[ x ]))\n",
        "    Y.append(to_one_hot_encoding(word2int[ y ]))\n",
        "    # if k<5:\n",
        "    #   Xtmp = to_one_hot_encoding(word2int[ x ])\n",
        "    #   Ytmp = to_one_hot_encoding(word2int[ y ])\n",
        "    #   print(x,'\\t===>',Xtmp, '\\t\\t\\t\\t',  y ,'===>',Ytmp)\n",
        "    #   k+=1\n",
        "\n",
        "# convert them to numpy arrays\n",
        "X_train = np.asarray(X)\n",
        "Y_train = np.asarray(Y)\n",
        "df['X_train']=list(X_train)\n",
        "df['Y_train']=list(Y_train)\n",
        "# df.head()\n",
        "dfint = df.copy()\n",
        "dfint['X_train']=list(X_train.astype(int))\n",
        "dfint['Y_train']=list(Y_train.astype(int))\n",
        "\n",
        "print('dfint.shape=', dfint.shape)\n",
        "print('dfint.head()=')\n",
        "dfint.head(n=5)"
      ],
      "execution_count": 42,
      "outputs": [
        {
          "output_type": "stream",
          "text": [
            "14 слов; СЛОВАРЬ= ['birds', 'darkness', 'day', 'deep', 'fish', 'fly', 'full', 'high', 'light', 'ocean', 'sky', 'sunny', 'swim', 'water']\n",
            "Pазмер окна = 2, 44 контекстные пары слов\n",
            "[['fish', 'swim', 'deep', 'water'], ['ocean', 'deep'], ['fish', 'swim', 'darkness'], ['birds', 'high', 'sky'], ['birds', 'fly', 'high'], ['sunny', 'day', 'sky', 'full', 'light']]\n",
            "w2idx.shape= (14, 2)\n",
            "w2idx.head()=    values      word\n",
            "0       0     birds\n",
            "1       1  darkness\n",
            "2       2       day\n",
            "3       3      deep\n",
            "4       4      fish\n",
            "ONE_HOT_DIM =  14\n",
            "dfint.shape= (44, 4)\n",
            "dfint.head()=\n"
          ],
          "name": "stdout"
        },
        {
          "output_type": "execute_result",
          "data": {
            "text/html": [
              "<div>\n",
              "<style scoped>\n",
              "    .dataframe tbody tr th:only-of-type {\n",
              "        vertical-align: middle;\n",
              "    }\n",
              "\n",
              "    .dataframe tbody tr th {\n",
              "        vertical-align: top;\n",
              "    }\n",
              "\n",
              "    .dataframe thead th {\n",
              "        text-align: right;\n",
              "    }\n",
              "</style>\n",
              "<table border=\"1\" class=\"dataframe\">\n",
              "  <thead>\n",
              "    <tr style=\"text-align: right;\">\n",
              "      <th></th>\n",
              "      <th>input</th>\n",
              "      <th>label</th>\n",
              "      <th>X_train</th>\n",
              "      <th>Y_train</th>\n",
              "    </tr>\n",
              "  </thead>\n",
              "  <tbody>\n",
              "    <tr>\n",
              "      <th>0</th>\n",
              "      <td>fish</td>\n",
              "      <td>swim</td>\n",
              "      <td>[0, 0, 0, 0, 1, 0, 0, 0, 0, 0, 0, 0, 0, 0]</td>\n",
              "      <td>[0, 0, 0, 0, 0, 0, 0, 0, 0, 0, 0, 0, 1, 0]</td>\n",
              "    </tr>\n",
              "    <tr>\n",
              "      <th>1</th>\n",
              "      <td>fish</td>\n",
              "      <td>deep</td>\n",
              "      <td>[0, 0, 0, 0, 1, 0, 0, 0, 0, 0, 0, 0, 0, 0]</td>\n",
              "      <td>[0, 0, 0, 1, 0, 0, 0, 0, 0, 0, 0, 0, 0, 0]</td>\n",
              "    </tr>\n",
              "    <tr>\n",
              "      <th>2</th>\n",
              "      <td>swim</td>\n",
              "      <td>fish</td>\n",
              "      <td>[0, 0, 0, 0, 0, 0, 0, 0, 0, 0, 0, 0, 1, 0]</td>\n",
              "      <td>[0, 0, 0, 0, 1, 0, 0, 0, 0, 0, 0, 0, 0, 0]</td>\n",
              "    </tr>\n",
              "    <tr>\n",
              "      <th>3</th>\n",
              "      <td>swim</td>\n",
              "      <td>deep</td>\n",
              "      <td>[0, 0, 0, 0, 0, 0, 0, 0, 0, 0, 0, 0, 1, 0]</td>\n",
              "      <td>[0, 0, 0, 1, 0, 0, 0, 0, 0, 0, 0, 0, 0, 0]</td>\n",
              "    </tr>\n",
              "    <tr>\n",
              "      <th>4</th>\n",
              "      <td>swim</td>\n",
              "      <td>water</td>\n",
              "      <td>[0, 0, 0, 0, 0, 0, 0, 0, 0, 0, 0, 0, 1, 0]</td>\n",
              "      <td>[0, 0, 0, 0, 0, 0, 0, 0, 0, 0, 0, 0, 0, 1]</td>\n",
              "    </tr>\n",
              "  </tbody>\n",
              "</table>\n",
              "</div>"
            ],
            "text/plain": [
              "  input  label                                     X_train                                     Y_train\n",
              "0  fish   swim  [0, 0, 0, 0, 1, 0, 0, 0, 0, 0, 0, 0, 0, 0]  [0, 0, 0, 0, 0, 0, 0, 0, 0, 0, 0, 0, 1, 0]\n",
              "1  fish   deep  [0, 0, 0, 0, 1, 0, 0, 0, 0, 0, 0, 0, 0, 0]  [0, 0, 0, 1, 0, 0, 0, 0, 0, 0, 0, 0, 0, 0]\n",
              "2  swim   fish  [0, 0, 0, 0, 0, 0, 0, 0, 0, 0, 0, 0, 1, 0]  [0, 0, 0, 0, 1, 0, 0, 0, 0, 0, 0, 0, 0, 0]\n",
              "3  swim   deep  [0, 0, 0, 0, 0, 0, 0, 0, 0, 0, 0, 0, 1, 0]  [0, 0, 0, 1, 0, 0, 0, 0, 0, 0, 0, 0, 0, 0]\n",
              "4  swim  water  [0, 0, 0, 0, 0, 0, 0, 0, 0, 0, 0, 0, 1, 0]  [0, 0, 0, 0, 0, 0, 0, 0, 0, 0, 0, 0, 0, 1]"
            ]
          },
          "metadata": {
            "tags": []
          },
          "execution_count": 42
        }
      ]
    },
    {
      "cell_type": "code",
      "metadata": {
        "colab": {
          "base_uri": "https://localhost:8080/",
          "height": 204
        },
        "id": "fTteqynvXAJE",
        "outputId": "8ab0330a-7d20-4fed-9c3e-be91e88a652f"
      },
      "source": [
        "dfint.tail()"
      ],
      "execution_count": 43,
      "outputs": [
        {
          "output_type": "execute_result",
          "data": {
            "text/html": [
              "<div>\n",
              "<style scoped>\n",
              "    .dataframe tbody tr th:only-of-type {\n",
              "        vertical-align: middle;\n",
              "    }\n",
              "\n",
              "    .dataframe tbody tr th {\n",
              "        vertical-align: top;\n",
              "    }\n",
              "\n",
              "    .dataframe thead th {\n",
              "        text-align: right;\n",
              "    }\n",
              "</style>\n",
              "<table border=\"1\" class=\"dataframe\">\n",
              "  <thead>\n",
              "    <tr style=\"text-align: right;\">\n",
              "      <th></th>\n",
              "      <th>input</th>\n",
              "      <th>label</th>\n",
              "      <th>X_train</th>\n",
              "      <th>Y_train</th>\n",
              "    </tr>\n",
              "  </thead>\n",
              "  <tbody>\n",
              "    <tr>\n",
              "      <th>39</th>\n",
              "      <td>full</td>\n",
              "      <td>day</td>\n",
              "      <td>[0, 0, 0, 0, 0, 0, 1, 0, 0, 0, 0, 0, 0, 0]</td>\n",
              "      <td>[0, 0, 1, 0, 0, 0, 0, 0, 0, 0, 0, 0, 0, 0]</td>\n",
              "    </tr>\n",
              "    <tr>\n",
              "      <th>40</th>\n",
              "      <td>full</td>\n",
              "      <td>sky</td>\n",
              "      <td>[0, 0, 0, 0, 0, 0, 1, 0, 0, 0, 0, 0, 0, 0]</td>\n",
              "      <td>[0, 0, 0, 0, 0, 0, 0, 0, 0, 0, 1, 0, 0, 0]</td>\n",
              "    </tr>\n",
              "    <tr>\n",
              "      <th>41</th>\n",
              "      <td>full</td>\n",
              "      <td>light</td>\n",
              "      <td>[0, 0, 0, 0, 0, 0, 1, 0, 0, 0, 0, 0, 0, 0]</td>\n",
              "      <td>[0, 0, 0, 0, 0, 0, 0, 0, 1, 0, 0, 0, 0, 0]</td>\n",
              "    </tr>\n",
              "    <tr>\n",
              "      <th>42</th>\n",
              "      <td>light</td>\n",
              "      <td>sky</td>\n",
              "      <td>[0, 0, 0, 0, 0, 0, 0, 0, 1, 0, 0, 0, 0, 0]</td>\n",
              "      <td>[0, 0, 0, 0, 0, 0, 0, 0, 0, 0, 1, 0, 0, 0]</td>\n",
              "    </tr>\n",
              "    <tr>\n",
              "      <th>43</th>\n",
              "      <td>light</td>\n",
              "      <td>full</td>\n",
              "      <td>[0, 0, 0, 0, 0, 0, 0, 0, 1, 0, 0, 0, 0, 0]</td>\n",
              "      <td>[0, 0, 0, 0, 0, 0, 1, 0, 0, 0, 0, 0, 0, 0]</td>\n",
              "    </tr>\n",
              "  </tbody>\n",
              "</table>\n",
              "</div>"
            ],
            "text/plain": [
              "    input  label                                     X_train                                     Y_train\n",
              "39   full    day  [0, 0, 0, 0, 0, 0, 1, 0, 0, 0, 0, 0, 0, 0]  [0, 0, 1, 0, 0, 0, 0, 0, 0, 0, 0, 0, 0, 0]\n",
              "40   full    sky  [0, 0, 0, 0, 0, 0, 1, 0, 0, 0, 0, 0, 0, 0]  [0, 0, 0, 0, 0, 0, 0, 0, 0, 0, 1, 0, 0, 0]\n",
              "41   full  light  [0, 0, 0, 0, 0, 0, 1, 0, 0, 0, 0, 0, 0, 0]  [0, 0, 0, 0, 0, 0, 0, 0, 1, 0, 0, 0, 0, 0]\n",
              "42  light    sky  [0, 0, 0, 0, 0, 0, 0, 0, 1, 0, 0, 0, 0, 0]  [0, 0, 0, 0, 0, 0, 0, 0, 0, 0, 1, 0, 0, 0]\n",
              "43  light   full  [0, 0, 0, 0, 0, 0, 0, 0, 1, 0, 0, 0, 0, 0]  [0, 0, 0, 0, 0, 0, 1, 0, 0, 0, 0, 0, 0, 0]"
            ]
          },
          "metadata": {
            "tags": []
          },
          "execution_count": 43
        }
      ]
    },
    {
      "cell_type": "code",
      "metadata": {
        "colab": {
          "base_uri": "https://localhost:8080/"
        },
        "id": "lJOe5j_h6zU0",
        "outputId": "a9d2ef87-c3e2-4722-f35a-a4b6cb3b4d2a"
      },
      "source": [
        "vocab"
      ],
      "execution_count": 44,
      "outputs": [
        {
          "output_type": "execute_result",
          "data": {
            "text/plain": [
              "['birds',\n",
              " 'darkness',\n",
              " 'day',\n",
              " 'deep',\n",
              " 'fish',\n",
              " 'fly',\n",
              " 'full',\n",
              " 'high',\n",
              " 'light',\n",
              " 'ocean',\n",
              " 'sky',\n",
              " 'sunny',\n",
              " 'swim',\n",
              " 'water']"
            ]
          },
          "metadata": {
            "tags": []
          },
          "execution_count": 44
        }
      ]
    },
    {
      "cell_type": "markdown",
      "metadata": {
        "id": "63PFE5w-eBMC"
      },
      "source": [
        "# Generate x,y uniform in a grid"
      ]
    },
    {
      "cell_type": "code",
      "metadata": {
        "colab": {
          "base_uri": "https://localhost:8080/",
          "height": 285
        },
        "id": "l9c1nFgyeULr",
        "outputId": "074f50f4-4b3a-4703-8696-b272177746a7"
      },
      "source": [
        "LEN_VOCAB = len(vocab)\n",
        "LIN_SPACE_VALUES = round(np.sqrt(LEN_VOCAB))\n",
        "BOX_SIDE=1\n",
        "lspx = np.linspace(-BOX_SIDE,BOX_SIDE,LIN_SPACE_VALUES)\n",
        "lspy = np.linspace(-BOX_SIDE,BOX_SIDE,LIN_SPACE_VALUES)\n",
        "\n",
        "coordinates = np.zeros( (LIN_SPACE_VALUES**2, 2)  )\n",
        "# print(coordinates)\n",
        "\n",
        "for k1 in range(LIN_SPACE_VALUES):\n",
        "  for k2 in range(LIN_SPACE_VALUES):\n",
        "    i = k1*LIN_SPACE_VALUES + k2\n",
        "    # print(k1,k2,i)\n",
        "    coordinates[i] = [lspx[k1], lspy[k2]] \n",
        "# print(coordinates)\n",
        "\n",
        "ix = np.random.choice( LIN_SPACE_VALUES**2, LEN_VOCAB, replace=False )\n",
        "coordinates = coordinates[ix,]\n",
        "df1 = pd.DataFrame( vocab , columns=['w'])\n",
        "df2 = pd.DataFrame( coordinates, columns=['x1','x2'] )\n",
        "df_unif_rand = pd.concat([df1, df2], axis=1)\n",
        "# df_unif_rand\n",
        "\n",
        "plot_words_x_y(x1=df_unif_rand['x1'], x2=df_unif_rand['x2'], \n",
        "               vocab=vocab, ttl='random embedding', figfn='test1.png', figsz=5,\n",
        "               wcolor=df_vocab.color)"
      ],
      "execution_count": 45,
      "outputs": [
        {
          "output_type": "display_data",
          "data": {
            "image/png": "[encoded data removed]",
            "text/plain": [
              "<Figure size 432x288 with 1 Axes>"
            ]
          },
          "metadata": {
            "tags": [],
            "needs_background": "light"
          }
        }
      ]
    },
    {
      "cell_type": "code",
      "metadata": {
        "colab": {
          "base_uri": "https://localhost:8080/",
          "height": 340
        },
        "id": "bhawhJqU8GfL",
        "outputId": "7086a9ec-2266-46c2-b131-5e9ee45e0451"
      },
      "source": [
        "x1=np.random.uniform(low=-BOX_SIDE, high=BOX_SIDE, size=LEN_VOCAB)\n",
        "x2=np.random.uniform(low=-BOX_SIDE, high=BOX_SIDE, size=LEN_VOCAB)\n",
        "plot_words_x_y( x1=x1, x2=x2,  vocab=vocab, ttl='random embedding', figfn='test0.png', figsz=5,\n",
        "               wcolor=df_vocab.color)"
      ],
      "execution_count": 46,
      "outputs": [
        {
          "output_type": "display_data",
          "data": {
            "image/png": "[encoded data removed]",
            "text/plain": [
              "<Figure size 360x360 with 1 Axes>"
            ]
          },
          "metadata": {
            "tags": [],
            "needs_background": "light"
          }
        }
      ]
    },
    {
      "cell_type": "markdown",
      "metadata": {
        "id": "-SVgW2t2Dhq-"
      },
      "source": [
        "# Show the GRAPH before embedding"
      ]
    },
    {
      "cell_type": "code",
      "metadata": {
        "colab": {
          "base_uri": "https://localhost:8080/",
          "height": 319
        },
        "id": "QshHS7gs6Mb7",
        "outputId": "28cdfd87-2fe4-4ca5-ed43-3b81ac976a1b"
      },
      "source": [
        "%matplotlib inline\n",
        "import networkx as nx\n",
        "G = nx.Graph()\n",
        "for i in range(len(vocab)):\n",
        "  G.add_node(vocab[i])       # adds node \"spam\"\n",
        "\n",
        "# G.add_edge('sky','fly')\n",
        "# G.add_edge('a','spam')\n",
        "\n",
        "for i in range(len(dfint)):\n",
        "  G.add_edge(dfint.input[i], dfint.label[i] )\n",
        "\n",
        "# basic graph drawing capability\n",
        "import matplotlib.pyplot as plt\n",
        "# nx.draw(G)\n",
        "# color = ['red', 'blue']*7\n",
        "color='red'\n",
        "color=df_vocab.color\n",
        "nx.draw_circular(G, with_labels=True, node_size=2000, node_color=color) \n",
        "\n",
        "# plt.axis('off')\n",
        "# plt.savefig(\"degree.png\", bbox_inches=\"tight\")\n",
        "plt.margins( 0.2 )\n",
        "plt.show() "
      ],
      "execution_count": 47,
      "outputs": [
        {
          "output_type": "display_data",
          "data": {
            "image/png": "[encoded data removed]",
            "text/plain": [
              "<Figure size 432x288 with 1 Axes>"
            ]
          },
          "metadata": {
            "tags": []
          }
        }
      ]
    },
    {
      "cell_type": "code",
      "metadata": {
        "id": "bBnuLcliavzx"
      },
      "source": [
        "# %matplotlib inline\n",
        "# import matplotlib.pyplot as plt\n",
        "# # nx.draw(G)\n",
        "# # color = ['red', 'blue']*7\n",
        "\n",
        "# import networkx as nx\n",
        "# G1 = nx.Graph()\n",
        "# LEN_VOCAB = len(vocab)\n",
        "\n",
        "# M=10\n",
        "# randx = np.random.uniform(-M, M, size=LEN_VOCAB)\n",
        "# randy = np.random.uniform(-M, M, size=LEN_VOCAB)\n",
        "# for i in range(LEN_VOCAB):\n",
        "#   G1.add_node(vocab[i] , pos=(randx[i], randy[i])  )  \n",
        "\n",
        "\n",
        "# for i in range(LEN_VOCAB):\n",
        "#   G1.add_node(vocab[i] , pos=(randx[i], randy[i])  )  \n",
        "\n",
        "# pos=nx.get_node_attributes(G1,'pos')\n",
        "\n",
        "# print('pos = ', pos)\n",
        "# # nx.draw(G,pos)  \n",
        "\n",
        "# color='red'\n",
        "# nx.draw(G1, with_labels=True, node_size=1000, node_color=color) \n",
        "# # nx.draw_circular(G, with_labels=True, node_size=2000, node_color=color) \n",
        "\n",
        "# plt.margins( 0.2 )\n",
        "# plt.show() "
      ],
      "execution_count": 48,
      "outputs": []
    },
    {
      "cell_type": "code",
      "metadata": {
        "id": "OY5wX4RuhxN1"
      },
      "source": [
        "# df_unif_rand['x1']"
      ],
      "execution_count": 49,
      "outputs": []
    },
    {
      "cell_type": "code",
      "metadata": {
        "id": "SgNff5KjDbAd"
      },
      "source": [
        "# # VISUALIZE\n",
        "\n",
        "# ![words_p1.JPG](https://github.com/ftk1000/w2v_ftk1000/blob/master/words_p1.JPG?raw=1)<br>\n",
        "# ![words_p2.JPG](https://github.com/ftk1000/w2v_ftk1000/blob/master/words_p2.JPG?raw=1)"
      ],
      "execution_count": 50,
      "outputs": []
    },
    {
      "cell_type": "code",
      "metadata": {
        "id": "yeIBqqP8e5bl"
      },
      "source": [
        "# # !pip install graphviz\n",
        "# from graphviz import Digraph\n",
        "\n",
        "# # create a graph object\n",
        "# dot = Digraph(comment='words')\n",
        "\n",
        "# for i in range(len(vocab)):\n",
        "#   # word_node = f'word_{i}'\n",
        "#   # dot.node(  word_node,  vocab[i]  )\n",
        "#   dot.node(  vocab[i],  vocab[i]  )\n",
        "\n",
        "# for i in range(len(dfint)):\n",
        "#   dot.edge(   dfint.input[i],    dfint.label[i], constraint='false' )\n",
        "\n",
        "# dot.render('junk', view=True)\n"
      ],
      "execution_count": 51,
      "outputs": []
    },
    {
      "cell_type": "markdown",
      "metadata": {
        "id": "tKYPqWdEKAlg"
      },
      "source": [
        "# MODEL"
      ]
    },
    {
      "cell_type": "code",
      "metadata": {
        "id": "4SaFs1bgfNpe"
      },
      "source": [
        "def my_get_weights(model, PRINT_FLAG=False):\n",
        "  # W0,W1,b0,b1\n",
        "  W0=(model.layers[0].get_weights()[0])\n",
        "  W1=(model.layers[1].get_weights()[0])\n",
        "  b0 = np.asarray(model.layers[0].bias).astype(float)\n",
        "  b1 = np.asarray(model.layers[1].bias).astype(float)\n",
        "  \n",
        "  if PRINT_FLAG==True:\n",
        "    # # print(\"W0=\",W0)\n",
        "    # # print(\"W1=\",W1)\n",
        "    print(\"W0=\",np.round(W0,1))\n",
        "    print(\"W1=\",np.round(W1,1))\n",
        "    # # print(\"b0=\",b0)\n",
        "    # # print(\"b1=\",b1)\n",
        "    # print(\"b0=\",np.round(b0,1))\n",
        "    # print(\"b1=\",np.round(b1,1))\n",
        "\n",
        "  return W0,W1,b0,b1"
      ],
      "execution_count": 52,
      "outputs": []
    },
    {
      "cell_type": "code",
      "metadata": {
        "colab": {
          "base_uri": "https://localhost:8080/",
          "height": 312
        },
        "id": "8z6U3c0H5Oca",
        "outputId": "83e4b768-7241-4180-ef01-31397fc452f5"
      },
      "source": [
        "model = models.Sequential()\n",
        "# https://www.tensorflow.org/api_docs/python/tf/keras/activations   # network.add( layers.Dense(2, activation='relu', input_shape=(12,) ) )\n",
        "model.add( layers.Dense(2, activation='linear', input_shape=(ONE_HOT_DIM,) ) )\n",
        "model.add( layers.Dense(ONE_HOT_DIM, activation='softmax' ) )\n",
        "model.compile( optimizer='rmsprop', \n",
        "                 loss = 'categorical_crossentropy', \n",
        "                 metrics = ['accuracy'] )\n",
        "plot_model(model, show_shapes=1, show_dtype=0,show_layer_names=0)              # plot_model(model, show_shapes=1, show_layer_names=1)"
      ],
      "execution_count": 53,
      "outputs": [
        {
          "output_type": "execute_result",
          "data": {
            "image/png": "[encoded data removed]",
            "text/plain": [
              "<IPython.core.display.Image object>"
            ]
          },
          "metadata": {
            "tags": []
          },
          "execution_count": 53
        }
      ]
    },
    {
      "cell_type": "markdown",
      "metadata": {
        "id": "dSwpJJZ5sWDu"
      },
      "source": [
        "# Initialize TF model weights\n",
        "\n",
        "\n",
        "https://stackoverflow.com/questions/56190405/keras-kernel-initialization-with-numpy-array-unable-to-use-load-model\n",
        "\n",
        "you have to use model.layers.set_weights([kernels,bias_vector])\n",
        "\n",
        "compile the model with random weights, then set the weights afterward.\n",
        "\n",
        "you can't set specific weights, you have to craft the entire weight vector and set the layer as a whole.\n"
      ]
    },
    {
      "cell_type": "code",
      "metadata": {
        "id": "95XXUJrX0GNk"
      },
      "source": [
        "# model.layers.set_weights([kernels,bias_vector])\n",
        "# model.layers.\n",
        "# np.round(b0,1)"
      ],
      "execution_count": 54,
      "outputs": []
    },
    {
      "cell_type": "code",
      "metadata": {
        "colab": {
          "base_uri": "https://localhost:8080/"
        },
        "id": "mnVnPGb32qsR",
        "outputId": "206e97cb-20cc-4ec7-cee4-05a00129fce6"
      },
      "source": [
        "W0,W1,b0,b1=my_get_weights(model, PRINT_FLAG=False)\n",
        "print(b0)\n",
        "%matplotlib inline\n",
        "# plot_words_v0(W0, vocab, ttl='Starting Point W0', wcolor=df_vocab.color)"
      ],
      "execution_count": 55,
      "outputs": [
        {
          "output_type": "stream",
          "text": [
            "[0. 0.]\n"
          ],
          "name": "stdout"
        }
      ]
    },
    {
      "cell_type": "code",
      "metadata": {
        "colab": {
          "base_uri": "https://localhost:8080/"
        },
        "id": "dNHBnarB-Gu5",
        "outputId": "85f9bbd3-2e5f-41a0-a3fe-cca99a0913b9"
      },
      "source": [
        "# W1.transpose()\n",
        "%matplotlib inline\n",
        "print(b1)\n",
        "# plot_words_v0(W=W1.transpose(), vocab=vocab, ttl='Starting Point W1', wcolor=df_vocab.color)\n",
        "# W1"
      ],
      "execution_count": 56,
      "outputs": [
        {
          "output_type": "stream",
          "text": [
            "[0. 0. 0. 0. 0. 0. 0. 0. 0. 0. 0. 0. 0. 0.]\n"
          ],
          "name": "stdout"
        }
      ]
    },
    {
      "cell_type": "markdown",
      "metadata": {
        "id": "qS7_rrZu9i_O"
      },
      "source": [
        "# Loss Function - Categorical Cross Entropy\n",
        "\n",
        "The Skip-Gram Model defines the embedding vector of every word by the matrix W0 and the context vector by the output matrix W1. Given an input word I, let us label the corresponding row of W as vector $v_I$ (embedding vector) and its corresponding column of O as $v_O$ (context vector). \n",
        "\n"
      ]
    },
    {
      "cell_type": "code",
      "metadata": {
        "id": "5OEElhG-_LrC"
      },
      "source": [
        "# print('W0[0,:]=',W0[0,:])\n",
        "total_epochs = 0"
      ],
      "execution_count": 57,
      "outputs": []
    },
    {
      "cell_type": "code",
      "metadata": {
        "id": "kC0thDTO5Po3"
      },
      "source": [
        "%matplotlib inline\n",
        "def model_fit_n_show(model, eps=100):\n",
        "  global total_epochs\n",
        "  sttime = time.time()\n",
        "  model.fit( X_train, Y_train, epochs=eps, batch_size=1, verbose=0)\n",
        "  d2 = pd.DataFrame(  model.weights[0].numpy(),  columns = ['x1', 'x2'] )\n",
        "  w2v_df = pd.concat( [w2idx,d2],axis=1 )\n",
        "  # ?network.fit\n",
        "  endtime = time.time()\n",
        "  total_epochs += eps \n",
        "  ttl = f'Epochs={eps} (total={total_epochs}), time={int(endtime-sttime)} sec'\n",
        "  # plot_words(w2v_df, ttl)\n",
        "  W0,W1,b0,b1 = my_get_weights(model)\n",
        "  plot_words_v0(W0, vocab=vocab, ttl=ttl, wcolor=df_vocab.color)\n",
        "  return model, W0,W1,b0,b1, w2v_df, total_epochs\n",
        "\n"
      ],
      "execution_count": 58,
      "outputs": []
    },
    {
      "cell_type": "markdown",
      "metadata": {
        "id": "h4JXoJ5SBPSt"
      },
      "source": [
        "# START DEMO"
      ]
    },
    {
      "cell_type": "code",
      "metadata": {
        "colab": {
          "base_uri": "https://localhost:8080/"
        },
        "id": "THtLidM5A3Dq",
        "outputId": "f0e4fd43-a72d-4345-8dda-b6aef80c0efc"
      },
      "source": [
        "START_DEMO = True\n",
        "W0,W1,b0,b1=my_get_weights(model, PRINT_FLAG=False)\n",
        "# print(b0)\n",
        "%matplotlib inline\n",
        "if START_DEMO:\n",
        "  plot_words_v0(W0, vocab, ttl='Starting Point W0', wcolor=df_vocab.color)\n",
        "else:\n",
        "  print()"
      ],
      "execution_count": 59,
      "outputs": [
        {
          "output_type": "stream",
          "text": [
            "\n"
          ],
          "name": "stdout"
        }
      ]
    },
    {
      "cell_type": "code",
      "metadata": {
        "colab": {
          "base_uri": "https://localhost:8080/"
        },
        "id": "19UpliDNA8CA",
        "outputId": "e7b84c3c-fb55-43dd-fed6-6d763fc5a3fb"
      },
      "source": [
        "if START_DEMO:\n",
        "  model, W0,W1,b0,b1, w2v_df, total_epochs = model_fit_n_show(model,eps=1500)\n",
        "else:\n",
        "  print()\n",
        "# print(\"b0=\",np.round(b0,1))\n",
        "# print(\"b1=\",np.round(b1,1))"
      ],
      "execution_count": 60,
      "outputs": [
        {
          "output_type": "stream",
          "text": [
            "\n"
          ],
          "name": "stdout"
        }
      ]
    },
    {
      "cell_type": "code",
      "metadata": {
        "id": "gBMFZaw6KXwC"
      },
      "source": [
        "%matplotlib inline\n",
        "# model, W0,W1,b0,b1, w2v_df, total_epochs = model_fit_n_show(model,eps=100)"
      ],
      "execution_count": null,
      "outputs": []
    },
    {
      "cell_type": "markdown",
      "metadata": {
        "id": "R9l1474qDKkr"
      },
      "source": [
        "# Show bi-partite graph"
      ]
    },
    {
      "cell_type": "code",
      "metadata": {
        "colab": {
          "base_uri": "https://localhost:8080/",
          "height": 319
        },
        "id": "IYvnNrk3AoMS",
        "outputId": "1c2d748b-d927-424a-e1aa-96d396bfd26e"
      },
      "source": [
        "fish_words = ['fish',  'swim', 'deep', 'water', 'ocean', 'darkness']\n",
        "bird_words = ['birds', 'high', 'sky',  'fly',   'sunny', 'day',      'full', 'light']\n",
        "\n",
        "%matplotlib inline\n",
        "import networkx as nx\n",
        "G = nx.Graph()\n",
        "for i in range(len(fish_words)):\n",
        "  G.add_node(fish_words[i])       # adds node \"spam\"\n",
        "for i in range(len(bird_words)):\n",
        "  G.add_node(bird_words[i])       # adds node \"spam\"\n",
        "\n",
        "# G.add_edge('sky','fly')\n",
        "# G.add_edge('a','spam')\n",
        "\n",
        "for i in range(len(dfint)):\n",
        "  G.add_edge(dfint.input[i], dfint.label[i] )\n",
        "\n",
        "# basic graph drawing capability\n",
        "import matplotlib.pyplot as plt\n",
        "# nx.draw(G)\n",
        "colors = ['cyan']*len(fish_words) +  ['yellow']*len(bird_words)\n",
        "\n",
        "nx.draw_circular(G, with_labels=True, node_size=2000, node_color=colors)  \n",
        "\n",
        "plt.margins( 0.1 )\n",
        "plt.show() "
      ],
      "execution_count": null,
      "outputs": [
        {
          "output_type": "display_data",
          "data": {
            "image/png": "[encoded data removed]",
            "text/plain": [
              "<Figure size 432x288 with 1 Axes>"
            ]
          },
          "metadata": {
            "tags": []
          }
        }
      ]
    },
    {
      "cell_type": "markdown",
      "metadata": {
        "id": "39dHNGOthK7e"
      },
      "source": [
        "# Compare W0 and W1"
      ]
    },
    {
      "cell_type": "code",
      "metadata": {
        "colab": {
          "base_uri": "https://localhost:8080/",
          "height": 285
        },
        "id": "QyxcXHfYKtQY",
        "outputId": "f2ff4364-0a06-4b46-e709-0b398a947d02"
      },
      "source": [
        "W0,W1,b0,b1 = get_weights(model)\n",
        "\n",
        "W=pd.DataFrame(W0, columns=['x1','x2'])\n",
        "W['word'] = vocab.copy()\n",
        "W['values'] =w2v_df['values'].copy()\n",
        "W = W.reindex(columns=w2v_df.columns)\n",
        "\n",
        "%matplotlib inline\n",
        "plot_words(W, ttl='W0')"
      ],
      "execution_count": null,
      "outputs": [
        {
          "output_type": "display_data",
          "data": {
            "image/png": "[encoded data removed]",
            "text/plain": [
              "<Figure size 432x288 with 1 Axes>"
            ]
          },
          "metadata": {
            "tags": [],
            "needs_background": "light"
          }
        }
      ]
    },
    {
      "cell_type": "code",
      "metadata": {
        "colab": {
          "base_uri": "https://localhost:8080/",
          "height": 285
        },
        "id": "4JGdRK1Sv9k1",
        "outputId": "e6b58f44-0955-48c4-f5ed-8ff14557480b"
      },
      "source": [
        "W=pd.DataFrame(np.transpose(W1), columns=['x1','x2'])\n",
        "W['word'] = vocab.copy()\n",
        "W['values'] =w2v_df['values'].copy()\n",
        "W = W.reindex(columns=w2v_df.columns)\n",
        "\n",
        "%matplotlib inline\n",
        "plot_words(W, ttl='W1')"
      ],
      "execution_count": null,
      "outputs": [
        {
          "output_type": "display_data",
          "data": {
            "image/png": "[encoded data removed]",
            "text/plain": [
              "<Figure size 432x288 with 1 Axes>"
            ]
          },
          "metadata": {
            "tags": [],
            "needs_background": "light"
          }
        }
      ]
    },
    {
      "cell_type": "code",
      "metadata": {
        "id": "4YmopZ8Zv-C0"
      },
      "source": [
        "# w=vocab[0]\n",
        "# ix =  dfint['input'] == w\n",
        "# dfint.head()\n",
        "# # print(dfint.loc[ix, ['Y_train']])\n",
        "# np.asarray(np.sum( dfint.loc[ix, ['Y_train']], axis=0 ))[0]"
      ],
      "execution_count": null,
      "outputs": []
    },
    {
      "cell_type": "markdown",
      "metadata": {
        "id": "swcElJqzKJN8"
      },
      "source": [
        "# MATRIX FACTORIZATION"
      ]
    },
    {
      "cell_type": "code",
      "metadata": {
        "colab": {
          "base_uri": "https://localhost:8080/"
        },
        "id": "Iwjup5D-knsr",
        "outputId": "6dcaf909-b081-4177-d730-f51e2748ba3c"
      },
      "source": [
        "# adjacency matrix\n",
        "adjM = []\n",
        "for w in vocab:\n",
        "  # print(w)\n",
        "  row = np.array(np.sum( dfint.loc[ dfint['input'] == w, ['Y_train']], axis=0 ))[0]\n",
        "  adjM.append(row)\n",
        "np.asmatrix(adjM)"
      ],
      "execution_count": null,
      "outputs": [
        {
          "output_type": "execute_result",
          "data": {
            "text/plain": [
              "matrix([[0, 0, 0, 0, 0, 1, 0, 2, 0, 0, 1, 0, 0, 0],\n",
              "        [0, 0, 0, 0, 1, 0, 0, 0, 0, 0, 0, 0, 1, 0],\n",
              "        [0, 0, 0, 0, 0, 0, 1, 0, 0, 0, 1, 1, 0, 0],\n",
              "        [0, 0, 0, 0, 1, 0, 0, 0, 0, 1, 0, 0, 1, 1],\n",
              "        [0, 1, 0, 1, 0, 0, 0, 0, 0, 0, 0, 0, 2, 0],\n",
              "        [1, 0, 0, 0, 0, 0, 0, 1, 0, 0, 0, 0, 0, 0],\n",
              "        [0, 0, 1, 0, 0, 0, 0, 0, 1, 0, 1, 0, 0, 0],\n",
              "        [2, 0, 0, 0, 0, 1, 0, 0, 0, 0, 1, 0, 0, 0],\n",
              "        [0, 0, 0, 0, 0, 0, 1, 0, 0, 0, 1, 0, 0, 0],\n",
              "        [0, 0, 0, 1, 0, 0, 0, 0, 0, 0, 0, 0, 0, 0],\n",
              "        [1, 0, 1, 0, 0, 0, 1, 1, 1, 0, 0, 1, 0, 0],\n",
              "        [0, 0, 1, 0, 0, 0, 0, 0, 0, 0, 1, 0, 0, 0],\n",
              "        [0, 1, 0, 1, 2, 0, 0, 0, 0, 0, 0, 0, 0, 1],\n",
              "        [0, 0, 0, 1, 0, 0, 0, 0, 0, 0, 0, 0, 1, 0]])"
            ]
          },
          "metadata": {
            "tags": []
          },
          "execution_count": 73
        }
      ]
    },
    {
      "cell_type": "code",
      "metadata": {
        "colab": {
          "base_uri": "https://localhost:8080/",
          "height": 285
        },
        "id": "lm8Pjn04mFKz",
        "outputId": "656ae871-eea4-41e1-ecbe-1b17c558e77e"
      },
      "source": [
        "from sklearn.decomposition import NMF\n",
        "NMF_Model = NMF(n_components=2, init='random', random_state=0)\n",
        "W = NMF_Model.fit_transform(adjM)\n",
        "H = NMF_Model.components_\n",
        "W=pd.DataFrame(W, columns=['x1','x2'])\n",
        "W['word'] = vocab.copy()\n",
        "W['values'] =w2v_df['values'].copy()\n",
        "W = W.reindex(columns=w2v_df.columns)\n",
        "\n",
        "%matplotlib inline\n",
        "plot_words(W, ttl='Matrix Factorization')"
      ],
      "execution_count": null,
      "outputs": [
        {
          "output_type": "display_data",
          "data": {
            "image/png": "[encoded data removed]",
            "text/plain": [
              "<Figure size 432x288 with 1 Axes>"
            ]
          },
          "metadata": {
            "tags": [],
            "needs_background": "light"
          }
        }
      ]
    },
    {
      "cell_type": "code",
      "metadata": {
        "colab": {
          "base_uri": "https://localhost:8080/"
        },
        "id": "gDWCtoTh0Wp_",
        "outputId": "a0b918ef-f35a-4dfb-acd6-5a07153171a2"
      },
      "source": [
        "print(W[['word','x1','x2']])"
      ],
      "execution_count": null,
      "outputs": [
        {
          "output_type": "stream",
          "text": [
            "        word            x1        x2\n",
            "0      birds  0.000000e+00  0.928300\n",
            "1   darkness  5.931192e-01  0.000000\n",
            "2        day  0.000000e+00  0.554594\n",
            "3       deep  8.061596e-01  0.000000\n",
            "4       fish  1.011610e+00  0.000000\n",
            "5        fly  8.867872e-09  0.505751\n",
            "6       full  0.000000e+00  0.554594\n",
            "7       high  2.545033e-08  0.928297\n",
            "8      light  0.000000e+00  0.435859\n",
            "9      ocean  2.256103e-01  0.000000\n",
            "10       sky  0.000000e+00  1.045384\n",
            "11     sunny  0.000000e+00  0.435859\n",
            "12      swim  1.107730e+00  0.000000\n",
            "13     water  5.356149e-01  0.000000\n"
          ],
          "name": "stdout"
        }
      ]
    },
    {
      "cell_type": "markdown",
      "metadata": {
        "id": "zLZ7tOP3c1cC"
      },
      "source": [
        "# SVD\n",
        "\n",
        "https://scikit-learn.org/stable/modules/generated/sklearn.decomposition.TruncatedSVD.html"
      ]
    },
    {
      "cell_type": "code",
      "metadata": {
        "colab": {
          "base_uri": "https://localhost:8080/"
        },
        "id": "Lp39GJSJczz5",
        "outputId": "d9af5bf2-3913-4ad7-a19b-6b255e910124"
      },
      "source": [
        "from sklearn.decomposition import TruncatedSVD\n",
        "from scipy.sparse import random as sparse_random\n",
        "# X = sparse_random(100, 100, density=0.01, format='csr', random_state=42)\n",
        "svd = TruncatedSVD(n_components=12, n_iter=7, random_state=42)\n",
        "svd.fit(adjM)\n",
        "print('svd.explained_variance_ratio_ = ', svd.explained_variance_ratio_)\n",
        "print('svd.explained_variance_ratio_.sum() = ',  svd.explained_variance_ratio_.sum())\n",
        "print('svd.singular_values_ = ',  svd.singular_values_)"
      ],
      "execution_count": null,
      "outputs": [
        {
          "output_type": "stream",
          "text": [
            "svd.explained_variance_ratio_ =  [0.16392027 0.20142377 0.12841928 0.1291718  0.09929078 0.09076257\n",
            " 0.06498666 0.06355666 0.02156477 0.01306188 0.01064691 0.00948143]\n",
            "svd.explained_variance_ratio_.sum() =  0.9962867711853977\n",
            "svd.singular_values_ =  [3.67091427 3.57321204 2.28958183 2.28662295 2.         1.92440219\n",
            " 1.61803399 1.60057194 0.94117792 0.73737694 0.6631923  0.61803399]\n"
          ],
          "name": "stdout"
        }
      ]
    },
    {
      "cell_type": "code",
      "metadata": {
        "id": "-x7bjS3Hc0TR"
      },
      "source": [
        ""
      ],
      "execution_count": null,
      "outputs": []
    },
    {
      "cell_type": "code",
      "metadata": {
        "id": "5-rDXJG0c0fs"
      },
      "source": [
        ""
      ],
      "execution_count": null,
      "outputs": []
    },
    {
      "cell_type": "markdown",
      "metadata": {
        "id": "m7dDJyLyMZip"
      },
      "source": [
        "# COMPUTE SOFTMAX"
      ]
    },
    {
      "cell_type": "code",
      "metadata": {
        "colab": {
          "base_uri": "https://localhost:8080/"
        },
        "id": "E2RwMv6dM1Qv",
        "outputId": "95549777-db62-4ee2-ae89-ec229eb2c7c9"
      },
      "source": [
        "W0=(model.layers[0].get_weights()[0])\n",
        "W1=(model.layers[1].get_weights()[0])\n",
        "# # print(\"W0=\",W0)\n",
        "# # print(\"W1=\",W1)\n",
        "# print(\"W0=\",np.round(W0,1))\n",
        "# print(\"W1=\",np.round(W1,1))\n",
        "\n",
        "b0 = np.asarray(model.layers[0].bias).astype(float)\n",
        "b1 = np.asarray(model.layers[1].bias).astype(float)\n",
        "# # print(\"b0=\",b0)\n",
        "# # print(\"b1=\",b1)\n",
        "# print(\"b0=\",np.round(b0,1))\n",
        "# print(\"b1=\",np.round(b1,1))\n",
        "\n",
        "i=0\n",
        "# x = w2v_df.loc[i, ['x1', 'x2'] ].astype(float)\n",
        "# x = dfint.iloc[i, ['X_train'] ].astype(float)\n",
        "x=dfint.X_train[i]\n",
        "print('x=', x)\n",
        "y=dfint.Y_train[i]\n",
        "print('y=', y)\n",
        "\n",
        "\n",
        "\n",
        "np.set_printoptions(precision=5)\n",
        "\n",
        "yhat = np.matmul( np.matmul(x,W0)+b0,  W1 ) + b1\n",
        "from scipy.special import softmax\n",
        "print('yhat=', yhat)\n",
        "\n",
        "sftmax_yhat = softmax(yhat)\n",
        "print('sftmax_yhat=', sftmax_yhat)\n",
        "\n",
        "np.sum(np.exp(yhat)/np.sum(np.exp(yhat))-sftmax_yhat)"
      ],
      "execution_count": null,
      "outputs": [
        {
          "output_type": "stream",
          "text": [
            "x= [0 0 0 0 1 0 0 0 0 0 0 0 0 0]\n",
            "y= [0 0 0 0 0 0 0 0 0 0 0 0 1 0]\n",
            "yhat= [-3.35291  1.42879 -1.75391  2.2169   1.1063  -4.09862 -0.37999 -4.51737\n",
            " -1.89653 -1.34649 -1.50023 -0.06959  2.78812  0.21307]\n",
            "sftmax_yhat= [9.62397e-04 1.14821e-01 4.76205e-03 2.52518e-01 8.31696e-02 4.56562e-04\n",
            " 1.88139e-02 3.00357e-04 4.12909e-03 7.15704e-03 6.13710e-03 2.56616e-02\n",
            " 4.47067e-01 3.40441e-02]\n"
          ],
          "name": "stdout"
        },
        {
          "output_type": "execute_result",
          "data": {
            "text/plain": [
              "-2.2941717969793274e-16"
            ]
          },
          "metadata": {
            "tags": []
          },
          "execution_count": 77
        }
      ]
    },
    {
      "cell_type": "code",
      "metadata": {
        "id": "MuIkjn8g5P_c",
        "colab": {
          "base_uri": "https://localhost:8080/",
          "height": 1000
        },
        "outputId": "d833c923-6d7f-4f90-b5a3-a63c1ba6cac2"
      },
      "source": [
        "dfint"
      ],
      "execution_count": null,
      "outputs": [
        {
          "output_type": "execute_result",
          "data": {
            "text/html": [
              "<div>\n",
              "<style scoped>\n",
              "    .dataframe tbody tr th:only-of-type {\n",
              "        vertical-align: middle;\n",
              "    }\n",
              "\n",
              "    .dataframe tbody tr th {\n",
              "        vertical-align: top;\n",
              "    }\n",
              "\n",
              "    .dataframe thead th {\n",
              "        text-align: right;\n",
              "    }\n",
              "</style>\n",
              "<table border=\"1\" class=\"dataframe\">\n",
              "  <thead>\n",
              "    <tr style=\"text-align: right;\">\n",
              "      <th></th>\n",
              "      <th>input</th>\n",
              "      <th>label</th>\n",
              "      <th>X_train</th>\n",
              "      <th>Y_train</th>\n",
              "    </tr>\n",
              "  </thead>\n",
              "  <tbody>\n",
              "    <tr>\n",
              "      <th>0</th>\n",
              "      <td>fish</td>\n",
              "      <td>swim</td>\n",
              "      <td>[0, 0, 0, 0, 1, 0, 0, 0, 0, 0, 0, 0, 0, 0]</td>\n",
              "      <td>[0, 0, 0, 0, 0, 0, 0, 0, 0, 0, 0, 0, 1, 0]</td>\n",
              "    </tr>\n",
              "    <tr>\n",
              "      <th>1</th>\n",
              "      <td>fish</td>\n",
              "      <td>deep</td>\n",
              "      <td>[0, 0, 0, 0, 1, 0, 0, 0, 0, 0, 0, 0, 0, 0]</td>\n",
              "      <td>[0, 0, 0, 1, 0, 0, 0, 0, 0, 0, 0, 0, 0, 0]</td>\n",
              "    </tr>\n",
              "    <tr>\n",
              "      <th>2</th>\n",
              "      <td>swim</td>\n",
              "      <td>fish</td>\n",
              "      <td>[0, 0, 0, 0, 0, 0, 0, 0, 0, 0, 0, 0, 1, 0]</td>\n",
              "      <td>[0, 0, 0, 0, 1, 0, 0, 0, 0, 0, 0, 0, 0, 0]</td>\n",
              "    </tr>\n",
              "    <tr>\n",
              "      <th>3</th>\n",
              "      <td>swim</td>\n",
              "      <td>deep</td>\n",
              "      <td>[0, 0, 0, 0, 0, 0, 0, 0, 0, 0, 0, 0, 1, 0]</td>\n",
              "      <td>[0, 0, 0, 1, 0, 0, 0, 0, 0, 0, 0, 0, 0, 0]</td>\n",
              "    </tr>\n",
              "    <tr>\n",
              "      <th>4</th>\n",
              "      <td>swim</td>\n",
              "      <td>water</td>\n",
              "      <td>[0, 0, 0, 0, 0, 0, 0, 0, 0, 0, 0, 0, 1, 0]</td>\n",
              "      <td>[0, 0, 0, 0, 0, 0, 0, 0, 0, 0, 0, 0, 0, 1]</td>\n",
              "    </tr>\n",
              "    <tr>\n",
              "      <th>5</th>\n",
              "      <td>deep</td>\n",
              "      <td>fish</td>\n",
              "      <td>[0, 0, 0, 1, 0, 0, 0, 0, 0, 0, 0, 0, 0, 0]</td>\n",
              "      <td>[0, 0, 0, 0, 1, 0, 0, 0, 0, 0, 0, 0, 0, 0]</td>\n",
              "    </tr>\n",
              "    <tr>\n",
              "      <th>6</th>\n",
              "      <td>deep</td>\n",
              "      <td>swim</td>\n",
              "      <td>[0, 0, 0, 1, 0, 0, 0, 0, 0, 0, 0, 0, 0, 0]</td>\n",
              "      <td>[0, 0, 0, 0, 0, 0, 0, 0, 0, 0, 0, 0, 1, 0]</td>\n",
              "    </tr>\n",
              "    <tr>\n",
              "      <th>7</th>\n",
              "      <td>deep</td>\n",
              "      <td>water</td>\n",
              "      <td>[0, 0, 0, 1, 0, 0, 0, 0, 0, 0, 0, 0, 0, 0]</td>\n",
              "      <td>[0, 0, 0, 0, 0, 0, 0, 0, 0, 0, 0, 0, 0, 1]</td>\n",
              "    </tr>\n",
              "    <tr>\n",
              "      <th>8</th>\n",
              "      <td>water</td>\n",
              "      <td>swim</td>\n",
              "      <td>[0, 0, 0, 0, 0, 0, 0, 0, 0, 0, 0, 0, 0, 1]</td>\n",
              "      <td>[0, 0, 0, 0, 0, 0, 0, 0, 0, 0, 0, 0, 1, 0]</td>\n",
              "    </tr>\n",
              "    <tr>\n",
              "      <th>9</th>\n",
              "      <td>water</td>\n",
              "      <td>deep</td>\n",
              "      <td>[0, 0, 0, 0, 0, 0, 0, 0, 0, 0, 0, 0, 0, 1]</td>\n",
              "      <td>[0, 0, 0, 1, 0, 0, 0, 0, 0, 0, 0, 0, 0, 0]</td>\n",
              "    </tr>\n",
              "    <tr>\n",
              "      <th>10</th>\n",
              "      <td>ocean</td>\n",
              "      <td>deep</td>\n",
              "      <td>[0, 0, 0, 0, 0, 0, 0, 0, 0, 1, 0, 0, 0, 0]</td>\n",
              "      <td>[0, 0, 0, 1, 0, 0, 0, 0, 0, 0, 0, 0, 0, 0]</td>\n",
              "    </tr>\n",
              "    <tr>\n",
              "      <th>11</th>\n",
              "      <td>deep</td>\n",
              "      <td>ocean</td>\n",
              "      <td>[0, 0, 0, 1, 0, 0, 0, 0, 0, 0, 0, 0, 0, 0]</td>\n",
              "      <td>[0, 0, 0, 0, 0, 0, 0, 0, 0, 1, 0, 0, 0, 0]</td>\n",
              "    </tr>\n",
              "    <tr>\n",
              "      <th>12</th>\n",
              "      <td>fish</td>\n",
              "      <td>swim</td>\n",
              "      <td>[0, 0, 0, 0, 1, 0, 0, 0, 0, 0, 0, 0, 0, 0]</td>\n",
              "      <td>[0, 0, 0, 0, 0, 0, 0, 0, 0, 0, 0, 0, 1, 0]</td>\n",
              "    </tr>\n",
              "    <tr>\n",
              "      <th>13</th>\n",
              "      <td>fish</td>\n",
              "      <td>darkness</td>\n",
              "      <td>[0, 0, 0, 0, 1, 0, 0, 0, 0, 0, 0, 0, 0, 0]</td>\n",
              "      <td>[0, 1, 0, 0, 0, 0, 0, 0, 0, 0, 0, 0, 0, 0]</td>\n",
              "    </tr>\n",
              "    <tr>\n",
              "      <th>14</th>\n",
              "      <td>swim</td>\n",
              "      <td>fish</td>\n",
              "      <td>[0, 0, 0, 0, 0, 0, 0, 0, 0, 0, 0, 0, 1, 0]</td>\n",
              "      <td>[0, 0, 0, 0, 1, 0, 0, 0, 0, 0, 0, 0, 0, 0]</td>\n",
              "    </tr>\n",
              "    <tr>\n",
              "      <th>15</th>\n",
              "      <td>swim</td>\n",
              "      <td>darkness</td>\n",
              "      <td>[0, 0, 0, 0, 0, 0, 0, 0, 0, 0, 0, 0, 1, 0]</td>\n",
              "      <td>[0, 1, 0, 0, 0, 0, 0, 0, 0, 0, 0, 0, 0, 0]</td>\n",
              "    </tr>\n",
              "    <tr>\n",
              "      <th>16</th>\n",
              "      <td>darkness</td>\n",
              "      <td>fish</td>\n",
              "      <td>[0, 1, 0, 0, 0, 0, 0, 0, 0, 0, 0, 0, 0, 0]</td>\n",
              "      <td>[0, 0, 0, 0, 1, 0, 0, 0, 0, 0, 0, 0, 0, 0]</td>\n",
              "    </tr>\n",
              "    <tr>\n",
              "      <th>17</th>\n",
              "      <td>darkness</td>\n",
              "      <td>swim</td>\n",
              "      <td>[0, 1, 0, 0, 0, 0, 0, 0, 0, 0, 0, 0, 0, 0]</td>\n",
              "      <td>[0, 0, 0, 0, 0, 0, 0, 0, 0, 0, 0, 0, 1, 0]</td>\n",
              "    </tr>\n",
              "    <tr>\n",
              "      <th>18</th>\n",
              "      <td>birds</td>\n",
              "      <td>high</td>\n",
              "      <td>[1, 0, 0, 0, 0, 0, 0, 0, 0, 0, 0, 0, 0, 0]</td>\n",
              "      <td>[0, 0, 0, 0, 0, 0, 0, 1, 0, 0, 0, 0, 0, 0]</td>\n",
              "    </tr>\n",
              "    <tr>\n",
              "      <th>19</th>\n",
              "      <td>birds</td>\n",
              "      <td>sky</td>\n",
              "      <td>[1, 0, 0, 0, 0, 0, 0, 0, 0, 0, 0, 0, 0, 0]</td>\n",
              "      <td>[0, 0, 0, 0, 0, 0, 0, 0, 0, 0, 1, 0, 0, 0]</td>\n",
              "    </tr>\n",
              "    <tr>\n",
              "      <th>20</th>\n",
              "      <td>high</td>\n",
              "      <td>birds</td>\n",
              "      <td>[0, 0, 0, 0, 0, 0, 0, 1, 0, 0, 0, 0, 0, 0]</td>\n",
              "      <td>[1, 0, 0, 0, 0, 0, 0, 0, 0, 0, 0, 0, 0, 0]</td>\n",
              "    </tr>\n",
              "    <tr>\n",
              "      <th>21</th>\n",
              "      <td>high</td>\n",
              "      <td>sky</td>\n",
              "      <td>[0, 0, 0, 0, 0, 0, 0, 1, 0, 0, 0, 0, 0, 0]</td>\n",
              "      <td>[0, 0, 0, 0, 0, 0, 0, 0, 0, 0, 1, 0, 0, 0]</td>\n",
              "    </tr>\n",
              "    <tr>\n",
              "      <th>22</th>\n",
              "      <td>sky</td>\n",
              "      <td>birds</td>\n",
              "      <td>[0, 0, 0, 0, 0, 0, 0, 0, 0, 0, 1, 0, 0, 0]</td>\n",
              "      <td>[1, 0, 0, 0, 0, 0, 0, 0, 0, 0, 0, 0, 0, 0]</td>\n",
              "    </tr>\n",
              "    <tr>\n",
              "      <th>23</th>\n",
              "      <td>sky</td>\n",
              "      <td>high</td>\n",
              "      <td>[0, 0, 0, 0, 0, 0, 0, 0, 0, 0, 1, 0, 0, 0]</td>\n",
              "      <td>[0, 0, 0, 0, 0, 0, 0, 1, 0, 0, 0, 0, 0, 0]</td>\n",
              "    </tr>\n",
              "    <tr>\n",
              "      <th>24</th>\n",
              "      <td>birds</td>\n",
              "      <td>fly</td>\n",
              "      <td>[1, 0, 0, 0, 0, 0, 0, 0, 0, 0, 0, 0, 0, 0]</td>\n",
              "      <td>[0, 0, 0, 0, 0, 1, 0, 0, 0, 0, 0, 0, 0, 0]</td>\n",
              "    </tr>\n",
              "    <tr>\n",
              "      <th>25</th>\n",
              "      <td>birds</td>\n",
              "      <td>high</td>\n",
              "      <td>[1, 0, 0, 0, 0, 0, 0, 0, 0, 0, 0, 0, 0, 0]</td>\n",
              "      <td>[0, 0, 0, 0, 0, 0, 0, 1, 0, 0, 0, 0, 0, 0]</td>\n",
              "    </tr>\n",
              "    <tr>\n",
              "      <th>26</th>\n",
              "      <td>fly</td>\n",
              "      <td>birds</td>\n",
              "      <td>[0, 0, 0, 0, 0, 1, 0, 0, 0, 0, 0, 0, 0, 0]</td>\n",
              "      <td>[1, 0, 0, 0, 0, 0, 0, 0, 0, 0, 0, 0, 0, 0]</td>\n",
              "    </tr>\n",
              "    <tr>\n",
              "      <th>27</th>\n",
              "      <td>fly</td>\n",
              "      <td>high</td>\n",
              "      <td>[0, 0, 0, 0, 0, 1, 0, 0, 0, 0, 0, 0, 0, 0]</td>\n",
              "      <td>[0, 0, 0, 0, 0, 0, 0, 1, 0, 0, 0, 0, 0, 0]</td>\n",
              "    </tr>\n",
              "    <tr>\n",
              "      <th>28</th>\n",
              "      <td>high</td>\n",
              "      <td>birds</td>\n",
              "      <td>[0, 0, 0, 0, 0, 0, 0, 1, 0, 0, 0, 0, 0, 0]</td>\n",
              "      <td>[1, 0, 0, 0, 0, 0, 0, 0, 0, 0, 0, 0, 0, 0]</td>\n",
              "    </tr>\n",
              "    <tr>\n",
              "      <th>29</th>\n",
              "      <td>high</td>\n",
              "      <td>fly</td>\n",
              "      <td>[0, 0, 0, 0, 0, 0, 0, 1, 0, 0, 0, 0, 0, 0]</td>\n",
              "      <td>[0, 0, 0, 0, 0, 1, 0, 0, 0, 0, 0, 0, 0, 0]</td>\n",
              "    </tr>\n",
              "    <tr>\n",
              "      <th>30</th>\n",
              "      <td>sunny</td>\n",
              "      <td>day</td>\n",
              "      <td>[0, 0, 0, 0, 0, 0, 0, 0, 0, 0, 0, 1, 0, 0]</td>\n",
              "      <td>[0, 0, 1, 0, 0, 0, 0, 0, 0, 0, 0, 0, 0, 0]</td>\n",
              "    </tr>\n",
              "    <tr>\n",
              "      <th>31</th>\n",
              "      <td>sunny</td>\n",
              "      <td>sky</td>\n",
              "      <td>[0, 0, 0, 0, 0, 0, 0, 0, 0, 0, 0, 1, 0, 0]</td>\n",
              "      <td>[0, 0, 0, 0, 0, 0, 0, 0, 0, 0, 1, 0, 0, 0]</td>\n",
              "    </tr>\n",
              "    <tr>\n",
              "      <th>32</th>\n",
              "      <td>day</td>\n",
              "      <td>sunny</td>\n",
              "      <td>[0, 0, 1, 0, 0, 0, 0, 0, 0, 0, 0, 0, 0, 0]</td>\n",
              "      <td>[0, 0, 0, 0, 0, 0, 0, 0, 0, 0, 0, 1, 0, 0]</td>\n",
              "    </tr>\n",
              "    <tr>\n",
              "      <th>33</th>\n",
              "      <td>day</td>\n",
              "      <td>sky</td>\n",
              "      <td>[0, 0, 1, 0, 0, 0, 0, 0, 0, 0, 0, 0, 0, 0]</td>\n",
              "      <td>[0, 0, 0, 0, 0, 0, 0, 0, 0, 0, 1, 0, 0, 0]</td>\n",
              "    </tr>\n",
              "    <tr>\n",
              "      <th>34</th>\n",
              "      <td>day</td>\n",
              "      <td>full</td>\n",
              "      <td>[0, 0, 1, 0, 0, 0, 0, 0, 0, 0, 0, 0, 0, 0]</td>\n",
              "      <td>[0, 0, 0, 0, 0, 0, 1, 0, 0, 0, 0, 0, 0, 0]</td>\n",
              "    </tr>\n",
              "    <tr>\n",
              "      <th>35</th>\n",
              "      <td>sky</td>\n",
              "      <td>sunny</td>\n",
              "      <td>[0, 0, 0, 0, 0, 0, 0, 0, 0, 0, 1, 0, 0, 0]</td>\n",
              "      <td>[0, 0, 0, 0, 0, 0, 0, 0, 0, 0, 0, 1, 0, 0]</td>\n",
              "    </tr>\n",
              "    <tr>\n",
              "      <th>36</th>\n",
              "      <td>sky</td>\n",
              "      <td>day</td>\n",
              "      <td>[0, 0, 0, 0, 0, 0, 0, 0, 0, 0, 1, 0, 0, 0]</td>\n",
              "      <td>[0, 0, 1, 0, 0, 0, 0, 0, 0, 0, 0, 0, 0, 0]</td>\n",
              "    </tr>\n",
              "    <tr>\n",
              "      <th>37</th>\n",
              "      <td>sky</td>\n",
              "      <td>full</td>\n",
              "      <td>[0, 0, 0, 0, 0, 0, 0, 0, 0, 0, 1, 0, 0, 0]</td>\n",
              "      <td>[0, 0, 0, 0, 0, 0, 1, 0, 0, 0, 0, 0, 0, 0]</td>\n",
              "    </tr>\n",
              "    <tr>\n",
              "      <th>38</th>\n",
              "      <td>sky</td>\n",
              "      <td>light</td>\n",
              "      <td>[0, 0, 0, 0, 0, 0, 0, 0, 0, 0, 1, 0, 0, 0]</td>\n",
              "      <td>[0, 0, 0, 0, 0, 0, 0, 0, 1, 0, 0, 0, 0, 0]</td>\n",
              "    </tr>\n",
              "    <tr>\n",
              "      <th>39</th>\n",
              "      <td>full</td>\n",
              "      <td>day</td>\n",
              "      <td>[0, 0, 0, 0, 0, 0, 1, 0, 0, 0, 0, 0, 0, 0]</td>\n",
              "      <td>[0, 0, 1, 0, 0, 0, 0, 0, 0, 0, 0, 0, 0, 0]</td>\n",
              "    </tr>\n",
              "    <tr>\n",
              "      <th>40</th>\n",
              "      <td>full</td>\n",
              "      <td>sky</td>\n",
              "      <td>[0, 0, 0, 0, 0, 0, 1, 0, 0, 0, 0, 0, 0, 0]</td>\n",
              "      <td>[0, 0, 0, 0, 0, 0, 0, 0, 0, 0, 1, 0, 0, 0]</td>\n",
              "    </tr>\n",
              "    <tr>\n",
              "      <th>41</th>\n",
              "      <td>full</td>\n",
              "      <td>light</td>\n",
              "      <td>[0, 0, 0, 0, 0, 0, 1, 0, 0, 0, 0, 0, 0, 0]</td>\n",
              "      <td>[0, 0, 0, 0, 0, 0, 0, 0, 1, 0, 0, 0, 0, 0]</td>\n",
              "    </tr>\n",
              "    <tr>\n",
              "      <th>42</th>\n",
              "      <td>light</td>\n",
              "      <td>sky</td>\n",
              "      <td>[0, 0, 0, 0, 0, 0, 0, 0, 1, 0, 0, 0, 0, 0]</td>\n",
              "      <td>[0, 0, 0, 0, 0, 0, 0, 0, 0, 0, 1, 0, 0, 0]</td>\n",
              "    </tr>\n",
              "    <tr>\n",
              "      <th>43</th>\n",
              "      <td>light</td>\n",
              "      <td>full</td>\n",
              "      <td>[0, 0, 0, 0, 0, 0, 0, 0, 1, 0, 0, 0, 0, 0]</td>\n",
              "      <td>[0, 0, 0, 0, 0, 0, 1, 0, 0, 0, 0, 0, 0, 0]</td>\n",
              "    </tr>\n",
              "  </tbody>\n",
              "</table>\n",
              "</div>"
            ],
            "text/plain": [
              "       input     label                                     X_train                                     Y_train\n",
              "0       fish      swim  [0, 0, 0, 0, 1, 0, 0, 0, 0, 0, 0, 0, 0, 0]  [0, 0, 0, 0, 0, 0, 0, 0, 0, 0, 0, 0, 1, 0]\n",
              "1       fish      deep  [0, 0, 0, 0, 1, 0, 0, 0, 0, 0, 0, 0, 0, 0]  [0, 0, 0, 1, 0, 0, 0, 0, 0, 0, 0, 0, 0, 0]\n",
              "2       swim      fish  [0, 0, 0, 0, 0, 0, 0, 0, 0, 0, 0, 0, 1, 0]  [0, 0, 0, 0, 1, 0, 0, 0, 0, 0, 0, 0, 0, 0]\n",
              "3       swim      deep  [0, 0, 0, 0, 0, 0, 0, 0, 0, 0, 0, 0, 1, 0]  [0, 0, 0, 1, 0, 0, 0, 0, 0, 0, 0, 0, 0, 0]\n",
              "4       swim     water  [0, 0, 0, 0, 0, 0, 0, 0, 0, 0, 0, 0, 1, 0]  [0, 0, 0, 0, 0, 0, 0, 0, 0, 0, 0, 0, 0, 1]\n",
              "5       deep      fish  [0, 0, 0, 1, 0, 0, 0, 0, 0, 0, 0, 0, 0, 0]  [0, 0, 0, 0, 1, 0, 0, 0, 0, 0, 0, 0, 0, 0]\n",
              "6       deep      swim  [0, 0, 0, 1, 0, 0, 0, 0, 0, 0, 0, 0, 0, 0]  [0, 0, 0, 0, 0, 0, 0, 0, 0, 0, 0, 0, 1, 0]\n",
              "7       deep     water  [0, 0, 0, 1, 0, 0, 0, 0, 0, 0, 0, 0, 0, 0]  [0, 0, 0, 0, 0, 0, 0, 0, 0, 0, 0, 0, 0, 1]\n",
              "8      water      swim  [0, 0, 0, 0, 0, 0, 0, 0, 0, 0, 0, 0, 0, 1]  [0, 0, 0, 0, 0, 0, 0, 0, 0, 0, 0, 0, 1, 0]\n",
              "9      water      deep  [0, 0, 0, 0, 0, 0, 0, 0, 0, 0, 0, 0, 0, 1]  [0, 0, 0, 1, 0, 0, 0, 0, 0, 0, 0, 0, 0, 0]\n",
              "10     ocean      deep  [0, 0, 0, 0, 0, 0, 0, 0, 0, 1, 0, 0, 0, 0]  [0, 0, 0, 1, 0, 0, 0, 0, 0, 0, 0, 0, 0, 0]\n",
              "11      deep     ocean  [0, 0, 0, 1, 0, 0, 0, 0, 0, 0, 0, 0, 0, 0]  [0, 0, 0, 0, 0, 0, 0, 0, 0, 1, 0, 0, 0, 0]\n",
              "12      fish      swim  [0, 0, 0, 0, 1, 0, 0, 0, 0, 0, 0, 0, 0, 0]  [0, 0, 0, 0, 0, 0, 0, 0, 0, 0, 0, 0, 1, 0]\n",
              "13      fish  darkness  [0, 0, 0, 0, 1, 0, 0, 0, 0, 0, 0, 0, 0, 0]  [0, 1, 0, 0, 0, 0, 0, 0, 0, 0, 0, 0, 0, 0]\n",
              "14      swim      fish  [0, 0, 0, 0, 0, 0, 0, 0, 0, 0, 0, 0, 1, 0]  [0, 0, 0, 0, 1, 0, 0, 0, 0, 0, 0, 0, 0, 0]\n",
              "15      swim  darkness  [0, 0, 0, 0, 0, 0, 0, 0, 0, 0, 0, 0, 1, 0]  [0, 1, 0, 0, 0, 0, 0, 0, 0, 0, 0, 0, 0, 0]\n",
              "16  darkness      fish  [0, 1, 0, 0, 0, 0, 0, 0, 0, 0, 0, 0, 0, 0]  [0, 0, 0, 0, 1, 0, 0, 0, 0, 0, 0, 0, 0, 0]\n",
              "17  darkness      swim  [0, 1, 0, 0, 0, 0, 0, 0, 0, 0, 0, 0, 0, 0]  [0, 0, 0, 0, 0, 0, 0, 0, 0, 0, 0, 0, 1, 0]\n",
              "18     birds      high  [1, 0, 0, 0, 0, 0, 0, 0, 0, 0, 0, 0, 0, 0]  [0, 0, 0, 0, 0, 0, 0, 1, 0, 0, 0, 0, 0, 0]\n",
              "19     birds       sky  [1, 0, 0, 0, 0, 0, 0, 0, 0, 0, 0, 0, 0, 0]  [0, 0, 0, 0, 0, 0, 0, 0, 0, 0, 1, 0, 0, 0]\n",
              "20      high     birds  [0, 0, 0, 0, 0, 0, 0, 1, 0, 0, 0, 0, 0, 0]  [1, 0, 0, 0, 0, 0, 0, 0, 0, 0, 0, 0, 0, 0]\n",
              "21      high       sky  [0, 0, 0, 0, 0, 0, 0, 1, 0, 0, 0, 0, 0, 0]  [0, 0, 0, 0, 0, 0, 0, 0, 0, 0, 1, 0, 0, 0]\n",
              "22       sky     birds  [0, 0, 0, 0, 0, 0, 0, 0, 0, 0, 1, 0, 0, 0]  [1, 0, 0, 0, 0, 0, 0, 0, 0, 0, 0, 0, 0, 0]\n",
              "23       sky      high  [0, 0, 0, 0, 0, 0, 0, 0, 0, 0, 1, 0, 0, 0]  [0, 0, 0, 0, 0, 0, 0, 1, 0, 0, 0, 0, 0, 0]\n",
              "24     birds       fly  [1, 0, 0, 0, 0, 0, 0, 0, 0, 0, 0, 0, 0, 0]  [0, 0, 0, 0, 0, 1, 0, 0, 0, 0, 0, 0, 0, 0]\n",
              "25     birds      high  [1, 0, 0, 0, 0, 0, 0, 0, 0, 0, 0, 0, 0, 0]  [0, 0, 0, 0, 0, 0, 0, 1, 0, 0, 0, 0, 0, 0]\n",
              "26       fly     birds  [0, 0, 0, 0, 0, 1, 0, 0, 0, 0, 0, 0, 0, 0]  [1, 0, 0, 0, 0, 0, 0, 0, 0, 0, 0, 0, 0, 0]\n",
              "27       fly      high  [0, 0, 0, 0, 0, 1, 0, 0, 0, 0, 0, 0, 0, 0]  [0, 0, 0, 0, 0, 0, 0, 1, 0, 0, 0, 0, 0, 0]\n",
              "28      high     birds  [0, 0, 0, 0, 0, 0, 0, 1, 0, 0, 0, 0, 0, 0]  [1, 0, 0, 0, 0, 0, 0, 0, 0, 0, 0, 0, 0, 0]\n",
              "29      high       fly  [0, 0, 0, 0, 0, 0, 0, 1, 0, 0, 0, 0, 0, 0]  [0, 0, 0, 0, 0, 1, 0, 0, 0, 0, 0, 0, 0, 0]\n",
              "30     sunny       day  [0, 0, 0, 0, 0, 0, 0, 0, 0, 0, 0, 1, 0, 0]  [0, 0, 1, 0, 0, 0, 0, 0, 0, 0, 0, 0, 0, 0]\n",
              "31     sunny       sky  [0, 0, 0, 0, 0, 0, 0, 0, 0, 0, 0, 1, 0, 0]  [0, 0, 0, 0, 0, 0, 0, 0, 0, 0, 1, 0, 0, 0]\n",
              "32       day     sunny  [0, 0, 1, 0, 0, 0, 0, 0, 0, 0, 0, 0, 0, 0]  [0, 0, 0, 0, 0, 0, 0, 0, 0, 0, 0, 1, 0, 0]\n",
              "33       day       sky  [0, 0, 1, 0, 0, 0, 0, 0, 0, 0, 0, 0, 0, 0]  [0, 0, 0, 0, 0, 0, 0, 0, 0, 0, 1, 0, 0, 0]\n",
              "34       day      full  [0, 0, 1, 0, 0, 0, 0, 0, 0, 0, 0, 0, 0, 0]  [0, 0, 0, 0, 0, 0, 1, 0, 0, 0, 0, 0, 0, 0]\n",
              "35       sky     sunny  [0, 0, 0, 0, 0, 0, 0, 0, 0, 0, 1, 0, 0, 0]  [0, 0, 0, 0, 0, 0, 0, 0, 0, 0, 0, 1, 0, 0]\n",
              "36       sky       day  [0, 0, 0, 0, 0, 0, 0, 0, 0, 0, 1, 0, 0, 0]  [0, 0, 1, 0, 0, 0, 0, 0, 0, 0, 0, 0, 0, 0]\n",
              "37       sky      full  [0, 0, 0, 0, 0, 0, 0, 0, 0, 0, 1, 0, 0, 0]  [0, 0, 0, 0, 0, 0, 1, 0, 0, 0, 0, 0, 0, 0]\n",
              "38       sky     light  [0, 0, 0, 0, 0, 0, 0, 0, 0, 0, 1, 0, 0, 0]  [0, 0, 0, 0, 0, 0, 0, 0, 1, 0, 0, 0, 0, 0]\n",
              "39      full       day  [0, 0, 0, 0, 0, 0, 1, 0, 0, 0, 0, 0, 0, 0]  [0, 0, 1, 0, 0, 0, 0, 0, 0, 0, 0, 0, 0, 0]\n",
              "40      full       sky  [0, 0, 0, 0, 0, 0, 1, 0, 0, 0, 0, 0, 0, 0]  [0, 0, 0, 0, 0, 0, 0, 0, 0, 0, 1, 0, 0, 0]\n",
              "41      full     light  [0, 0, 0, 0, 0, 0, 1, 0, 0, 0, 0, 0, 0, 0]  [0, 0, 0, 0, 0, 0, 0, 0, 1, 0, 0, 0, 0, 0]\n",
              "42     light       sky  [0, 0, 0, 0, 0, 0, 0, 0, 1, 0, 0, 0, 0, 0]  [0, 0, 0, 0, 0, 0, 0, 0, 0, 0, 1, 0, 0, 0]\n",
              "43     light      full  [0, 0, 0, 0, 0, 0, 0, 0, 1, 0, 0, 0, 0, 0]  [0, 0, 0, 0, 0, 0, 1, 0, 0, 0, 0, 0, 0, 0]"
            ]
          },
          "metadata": {
            "tags": []
          },
          "execution_count": 78
        }
      ]
    },
    {
      "cell_type": "code",
      "metadata": {
        "id": "urn0g1ybMd98"
      },
      "source": [
        ""
      ],
      "execution_count": null,
      "outputs": []
    },
    {
      "cell_type": "code",
      "metadata": {
        "id": "t9IWU6j-AjeP"
      },
      "source": [
        "# model.get_weights()\n",
        "# model.weights"
      ],
      "execution_count": null,
      "outputs": []
    },
    {
      "cell_type": "code",
      "metadata": {
        "id": "qHpvXzO8AkFP"
      },
      "source": [
        "# # https://ai-pool.com/d/how-to-get-the-weights-of-keras-model-\n",
        "# for layer in model.layers:\n",
        "#     weights = layer.get_weights() # list\n",
        "\n",
        "# from keras.models import Sequential\n",
        "# model = Sequential()\n",
        "# weights = model.get_weights() # returs a numpy list of weights  \n",
        "\n",
        "\n"
      ],
      "execution_count": null,
      "outputs": []
    },
    {
      "cell_type": "code",
      "metadata": {
        "colab": {
          "base_uri": "https://localhost:8080/"
        },
        "id": "Cd-sHW8f8kjG",
        "outputId": "a2acf5ee-61e9-4f78-bbd5-144bc1e488cb"
      },
      "source": [
        "W0=(model.layers[0].get_weights()[0])\n",
        "W1=(model.layers[1].get_weights()[0])\n",
        "# print(\"W0=\",W0)\n",
        "# print(\"W1=\",W1)\n",
        "print(\"W0=\",np.round(W0,1))\n",
        "print(\"W1=\",np.round(W1,1))\n",
        "\n",
        "b0 = np.asarray(model.layers[0].bias).astype(float)\n",
        "b1 = np.asarray(model.layers[1].bias).astype(float)\n",
        "# print(\"b0=\",b0)\n",
        "# print(\"b1=\",b1)\n",
        "print(\"b0=\",np.round(b0,1))\n",
        "print(\"b1=\",np.round(b1,1))\n"
      ],
      "execution_count": null,
      "outputs": [
        {
          "output_type": "stream",
          "text": [
            "W0= [[ 0.2 -4.3]\n",
            " [ 2.8  1.6]\n",
            " [-1.8  0.4]\n",
            " [ 2.4  1.4]\n",
            " [ 2.5  5.8]\n",
            " [-1.3 -3.2]\n",
            " [-1.5 -1.2]\n",
            " [ 0.6 -3.7]\n",
            " [-0.  -0.8]\n",
            " [ 2.5  1.9]\n",
            " [-2.8 -1.2]\n",
            " [ 0.  -1.4]\n",
            " [ 2.1  1.9]\n",
            " [ 3.4  3.6]]\n",
            "W1= [[-0.1 -0.3 -0.4  0.   0.2  0.3 -0.6 -0.2 -0.6  0.  -0.1 -1.   0.   0. ]\n",
            " [-0.1  1.   0.3  0.9  0.6 -0.2  0.6 -0.2  0.5  0.5  0.1  1.   1.   0.6]]\n",
            "b0= [-0.2  0.1]\n",
            "b1= [-2.9 -3.8 -3.  -3.  -2.7 -3.9 -2.9 -3.2 -3.7 -4.5 -2.2 -3.9 -3.  -3.5]\n"
          ],
          "name": "stdout"
        }
      ]
    },
    {
      "cell_type": "code",
      "metadata": {
        "id": "m3g6rhhr5QUW"
      },
      "source": [
        "# bias.value\n",
        "# W0"
      ],
      "execution_count": null,
      "outputs": []
    },
    {
      "cell_type": "code",
      "metadata": {
        "colab": {
          "base_uri": "https://localhost:8080/",
          "height": 483
        },
        "id": "is780fIY5Qp1",
        "outputId": "82c4207a-5060-4fdd-852e-b13e1b4fe606"
      },
      "source": [
        "# d2 = pd.DataFrame(  model.weights[0].numpy(),  columns = ['x1', 'x2'] )\n",
        "d2 = pd.DataFrame(  np.round(W0,1),  columns = ['x1', 'x2'] )\n",
        "w2v_df = pd.concat( [w2idx,d2],axis=1 )\n",
        "w2v_df[['word',\t'x1',\t'x2']]"
      ],
      "execution_count": null,
      "outputs": [
        {
          "output_type": "execute_result",
          "data": {
            "text/html": [
              "<div>\n",
              "<style scoped>\n",
              "    .dataframe tbody tr th:only-of-type {\n",
              "        vertical-align: middle;\n",
              "    }\n",
              "\n",
              "    .dataframe tbody tr th {\n",
              "        vertical-align: top;\n",
              "    }\n",
              "\n",
              "    .dataframe thead th {\n",
              "        text-align: right;\n",
              "    }\n",
              "</style>\n",
              "<table border=\"1\" class=\"dataframe\">\n",
              "  <thead>\n",
              "    <tr style=\"text-align: right;\">\n",
              "      <th></th>\n",
              "      <th>word</th>\n",
              "      <th>x1</th>\n",
              "      <th>x2</th>\n",
              "    </tr>\n",
              "  </thead>\n",
              "  <tbody>\n",
              "    <tr>\n",
              "      <th>0</th>\n",
              "      <td>birds</td>\n",
              "      <td>0.2</td>\n",
              "      <td>-4.3</td>\n",
              "    </tr>\n",
              "    <tr>\n",
              "      <th>1</th>\n",
              "      <td>darkness</td>\n",
              "      <td>2.8</td>\n",
              "      <td>1.6</td>\n",
              "    </tr>\n",
              "    <tr>\n",
              "      <th>2</th>\n",
              "      <td>day</td>\n",
              "      <td>-1.8</td>\n",
              "      <td>0.4</td>\n",
              "    </tr>\n",
              "    <tr>\n",
              "      <th>3</th>\n",
              "      <td>deep</td>\n",
              "      <td>2.4</td>\n",
              "      <td>1.4</td>\n",
              "    </tr>\n",
              "    <tr>\n",
              "      <th>4</th>\n",
              "      <td>fish</td>\n",
              "      <td>2.5</td>\n",
              "      <td>5.8</td>\n",
              "    </tr>\n",
              "    <tr>\n",
              "      <th>5</th>\n",
              "      <td>fly</td>\n",
              "      <td>-1.3</td>\n",
              "      <td>-3.2</td>\n",
              "    </tr>\n",
              "    <tr>\n",
              "      <th>6</th>\n",
              "      <td>full</td>\n",
              "      <td>-1.5</td>\n",
              "      <td>-1.2</td>\n",
              "    </tr>\n",
              "    <tr>\n",
              "      <th>7</th>\n",
              "      <td>high</td>\n",
              "      <td>0.6</td>\n",
              "      <td>-3.7</td>\n",
              "    </tr>\n",
              "    <tr>\n",
              "      <th>8</th>\n",
              "      <td>light</td>\n",
              "      <td>-0.0</td>\n",
              "      <td>-0.8</td>\n",
              "    </tr>\n",
              "    <tr>\n",
              "      <th>9</th>\n",
              "      <td>ocean</td>\n",
              "      <td>2.5</td>\n",
              "      <td>1.9</td>\n",
              "    </tr>\n",
              "    <tr>\n",
              "      <th>10</th>\n",
              "      <td>sky</td>\n",
              "      <td>-2.8</td>\n",
              "      <td>-1.2</td>\n",
              "    </tr>\n",
              "    <tr>\n",
              "      <th>11</th>\n",
              "      <td>sunny</td>\n",
              "      <td>0.0</td>\n",
              "      <td>-1.4</td>\n",
              "    </tr>\n",
              "    <tr>\n",
              "      <th>12</th>\n",
              "      <td>swim</td>\n",
              "      <td>2.1</td>\n",
              "      <td>1.9</td>\n",
              "    </tr>\n",
              "    <tr>\n",
              "      <th>13</th>\n",
              "      <td>water</td>\n",
              "      <td>3.4</td>\n",
              "      <td>3.6</td>\n",
              "    </tr>\n",
              "  </tbody>\n",
              "</table>\n",
              "</div>"
            ],
            "text/plain": [
              "        word   x1   x2\n",
              "0      birds  0.2 -4.3\n",
              "1   darkness  2.8  1.6\n",
              "2        day -1.8  0.4\n",
              "3       deep  2.4  1.4\n",
              "4       fish  2.5  5.8\n",
              "5        fly -1.3 -3.2\n",
              "6       full -1.5 -1.2\n",
              "7       high  0.6 -3.7\n",
              "8      light -0.0 -0.8\n",
              "9      ocean  2.5  1.9\n",
              "10       sky -2.8 -1.2\n",
              "11     sunny  0.0 -1.4\n",
              "12      swim  2.1  1.9\n",
              "13     water  3.4  3.6"
            ]
          },
          "metadata": {
            "tags": []
          },
          "execution_count": 83
        }
      ]
    },
    {
      "cell_type": "code",
      "metadata": {
        "colab": {
          "base_uri": "https://localhost:8080/"
        },
        "id": "Zb9GrWES5Q0_",
        "outputId": "0e597f49-0ce2-4e45-a597-e724473de548"
      },
      "source": [
        "X_train[0].astype(int)\n"
      ],
      "execution_count": null,
      "outputs": [
        {
          "output_type": "execute_result",
          "data": {
            "text/plain": [
              "array([0, 0, 0, 0, 1, 0, 0, 0, 0, 0, 0, 0, 0, 0])"
            ]
          },
          "metadata": {
            "tags": []
          },
          "execution_count": 84
        }
      ]
    },
    {
      "cell_type": "code",
      "metadata": {
        "colab": {
          "base_uri": "https://localhost:8080/"
        },
        "id": "cvPQy-gxvBv-",
        "outputId": "28cc70a0-6590-40fe-c747-1f936214e11d"
      },
      "source": [
        "import math\n",
        "def sigmoid(x):\n",
        "  return 1 / (1 + math.exp(-x))\n",
        "\n",
        "def nearby_vectors(u,v, sign=1):\n",
        "  uv = np.dot(u,v)\n",
        "  siguv = sigmoid(sign*uv)\n",
        "  logsiguv = np.log(siguv)\n",
        "  print( 'u=',u,  '  v=',v)\n",
        "  if sign==1:\n",
        "      print( f'uv={np.round(uv,1)}, sig(uv)={siguv}, log(sig(uv))={logsiguv}')\n",
        "  if sign == -1:\n",
        "      print( f'uv={np.round(uv,1)}, sig(-uv)={siguv}, log(sig(-uv))={logsiguv}')\n",
        "  return uv, siguv, logsiguv\n",
        "\n",
        "x=np.array([1.1, -3.9])  # балерина\n",
        "y=np.array([0.1, -4])    # девочку\n",
        "\n",
        "noise_x = np.array([ [-0.1,3.2], [-0.2,2.8]  ])\n",
        "xn0 = noise_x[0]\n",
        "\n",
        "print('GOOD SOLUTION:')\n",
        "nearby_vectors(x,y)\n",
        "nearby_vectors(x, xn0, sign=-1)\n",
        "\n",
        "print('\\nBAD SOLUTION:')\n",
        "nearby_vectors(x,y,-1)\n",
        "nearby_vectors(x, xn0, sign=1)\n",
        "a=2"
      ],
      "execution_count": null,
      "outputs": [
        {
          "output_type": "stream",
          "text": [
            "GOOD SOLUTION:\n",
            "u= [ 1.1 -3.9]   v= [ 0.1 -4. ]\n",
            "uv=15.7, sig(uv)=0.9999998496049218, log(sig(uv))=-1.5039508947828205e-07\n",
            "u= [ 1.1 -3.9]   v= [-0.1  3.2]\n",
            "uv=-12.6, sig(-uv)=0.9999965941070496, log(sig(-uv))=-3.405898750514251e-06\n",
            "\n",
            "BAD SOLUTION:\n",
            "u= [ 1.1 -3.9]   v= [ 0.1 -4. ]\n",
            "uv=15.7, sig(-uv)=1.5039507824588425e-07, log(sig(-uv))=-15.71000015039509\n",
            "u= [ 1.1 -3.9]   v= [-0.1  3.2]\n",
            "uv=-12.6, sig(uv)=3.405892950506343e-06, log(sig(uv))=-12.59000340589875\n"
          ],
          "name": "stdout"
        }
      ]
    },
    {
      "cell_type": "code",
      "metadata": {
        "id": "PHB0NtbI3h6_"
      },
      "source": [
        "# import nltk\n",
        "# from nltk import tokenize\n",
        "# tokenize.sent_tokenize(p)\n",
        "\n"
      ],
      "execution_count": null,
      "outputs": []
    },
    {
      "cell_type": "code",
      "metadata": {
        "id": "qDIVf2_43ij7"
      },
      "source": [
        ""
      ],
      "execution_count": null,
      "outputs": []
    },
    {
      "cell_type": "code",
      "metadata": {
        "id": "n2GzxQtU3irP"
      },
      "source": [
        ""
      ],
      "execution_count": null,
      "outputs": []
    },
    {
      "cell_type": "code",
      "metadata": {
        "colab": {
          "base_uri": "https://localhost:8080/"
        },
        "id": "OwS_Zz-avZgt",
        "outputId": "4c58ccca-5b1f-4369-a1ac-92454e528790"
      },
      "source": [
        "np.asarray(w2v_df['word'])"
      ],
      "execution_count": null,
      "outputs": [
        {
          "output_type": "execute_result",
          "data": {
            "text/plain": [
              "array(['queen', 'woman', 'wise', 'boy', 'strong', 'prince', 'pretty',\n",
              "       'man', 'king', 'princess', 'girl', 'young'], dtype=object)"
            ]
          },
          "metadata": {
            "tags": []
          },
          "execution_count": 22
        }
      ]
    },
    {
      "cell_type": "code",
      "metadata": {
        "colab": {
          "base_uri": "https://localhost:8080/"
        },
        "id": "Drthxt_PjHoY",
        "outputId": "9df75408-f124-48bb-d30c-a40addfe80c4"
      },
      "source": [
        "# [(x, y) for x in [1,2,3] for y in [3,1,4] if x != y]\n",
        "sentences = []\n",
        "for sentence in corpus:\n",
        "    sentences.append(sentence.split())\n",
        "sentences\n"
      ],
      "execution_count": null,
      "outputs": [
        {
          "output_type": "execute_result",
          "data": {
            "text/plain": [
              "[['king', 'strong', 'man'],\n",
              " ['queen', 'wise', 'woman'],\n",
              " ['boy', 'young', 'man'],\n",
              " ['girl', 'young', 'woman'],\n",
              " ['prince', 'young', 'king'],\n",
              " ['princess', 'young', 'queen'],\n",
              " ['man', 'strong'],\n",
              " ['woman', 'pretty'],\n",
              " ['prince', 'boy', 'king'],\n",
              " ['princess', 'girl', 'queen']]"
            ]
          },
          "metadata": {
            "tags": []
          },
          "execution_count": 48
        }
      ]
    },
    {
      "cell_type": "code",
      "metadata": {
        "colab": {
          "base_uri": "https://localhost:8080/"
        },
        "id": "SrKR0SmM0fEP",
        "outputId": "7a656524-dd86-4cbe-c8e4-a80c0750c29b"
      },
      "source": [
        "\n",
        "sentences"
      ],
      "execution_count": null,
      "outputs": [
        {
          "output_type": "execute_result",
          "data": {
            "text/plain": [
              "[['king', 'strong', 'man'],\n",
              " ['queen', 'wise', 'woman'],\n",
              " ['boy', 'young', 'man'],\n",
              " ['girl', 'young', 'woman'],\n",
              " ['prince', 'young', 'king'],\n",
              " ['princess', 'young', 'queen'],\n",
              " ['man', 'strong'],\n",
              " ['woman', 'pretty'],\n",
              " ['prince', 'boy', 'king'],\n",
              " ['princess', 'girl', 'queen']]"
            ]
          },
          "metadata": {
            "tags": []
          },
          "execution_count": 50
        }
      ]
    },
    {
      "cell_type": "code",
      "metadata": {
        "colab": {
          "base_uri": "https://localhost:8080/"
        },
        "id": "FVZDz0Kw0gAa",
        "outputId": "45d7fb53-d9a0-4ac8-e67c-18dfbf0ffb62"
      },
      "source": [
        "layer.bias"
      ],
      "execution_count": null,
      "outputs": [
        {
          "output_type": "execute_result",
          "data": {
            "text/plain": [
              "<tf.Variable 'dense_9/bias:0' shape=(12,) dtype=float32, numpy=\n",
              "array([-3.2867498, -5.0678787, -3.9071274, -3.654713 , -2.8057609,\n",
              "       -2.935007 , -2.2635174, -4.059876 , -2.541485 , -3.355741 ,\n",
              "       -2.9069571, -2.9273875], dtype=float32)>"
            ]
          },
          "metadata": {
            "tags": []
          },
          "execution_count": 90
        }
      ]
    },
    {
      "cell_type": "code",
      "metadata": {
        "colab": {
          "base_uri": "https://localhost:8080/"
        },
        "id": "tnPgzhesjrQ3",
        "outputId": "3041e083-397d-4d3a-d18e-e1116cc29f28"
      },
      "source": [
        ""
      ],
      "execution_count": null,
      "outputs": [
        {
          "output_type": "execute_result",
          "data": {
            "text/plain": [
              "{'boy',\n",
              " 'girl',\n",
              " 'king',\n",
              " 'man',\n",
              " 'pretty',\n",
              " 'prince',\n",
              " 'princess',\n",
              " 'queen',\n",
              " 'strong',\n",
              " 'wise',\n",
              " 'woman',\n",
              " 'young'}"
            ]
          },
          "metadata": {
            "tags": []
          },
          "execution_count": 18
        }
      ]
    },
    {
      "cell_type": "code",
      "metadata": {
        "id": "FIRibIKak3JK"
      },
      "source": [
        ""
      ],
      "execution_count": null,
      "outputs": []
    },
    {
      "cell_type": "code",
      "metadata": {
        "colab": {
          "base_uri": "https://localhost:8080/"
        },
        "id": "f9Z3eU7xtvXH",
        "outputId": "f4a1fd77-604d-45fa-8585-13644a96a8e5"
      },
      "source": [
        "ww"
      ],
      "execution_count": null,
      "outputs": [
        {
          "output_type": "execute_result",
          "data": {
            "text/plain": [
              "{'boy',\n",
              " 'girl',\n",
              " 'king',\n",
              " 'man',\n",
              " 'pretty',\n",
              " 'prince',\n",
              " 'princess',\n",
              " 'queen',\n",
              " 'strong',\n",
              " 'wise',\n",
              " 'woman',\n",
              " 'young'}"
            ]
          },
          "metadata": {
            "tags": []
          },
          "execution_count": 25
        }
      ]
    },
    {
      "cell_type": "code",
      "metadata": {
        "colab": {
          "base_uri": "https://localhost:8080/"
        },
        "id": "Nq4QICrBvjpk",
        "outputId": "dc971b0e-031b-461c-f47d-99f2244cc8b4"
      },
      "source": [
        "ww=set();\n",
        "[ww.union((set(ss))) for ss in [s.split(' ') for s in corpus]]"
      ],
      "execution_count": null,
      "outputs": [
        {
          "output_type": "execute_result",
          "data": {
            "text/plain": [
              "[{'king', 'man', 'strong'},\n",
              " {'queen', 'wise', 'woman'},\n",
              " {'boy', 'man', 'young'},\n",
              " {'girl', 'woman', 'young'},\n",
              " {'king', 'prince', 'young'},\n",
              " {'princess', 'queen', 'young'},\n",
              " {'man', 'strong'},\n",
              " {'pretty', 'woman'},\n",
              " {'boy', 'king', 'prince'},\n",
              " {'girl', 'princess', 'queen'}]"
            ]
          },
          "metadata": {
            "tags": []
          },
          "execution_count": 29
        }
      ]
    },
    {
      "cell_type": "code",
      "metadata": {
        "id": "lMetuP1pvpSD"
      },
      "source": [
        ""
      ],
      "execution_count": null,
      "outputs": []
    },
    {
      "cell_type": "code",
      "metadata": {
        "colab": {
          "base_uri": "https://localhost:8080/"
        },
        "id": "hmw7GCIA8faT",
        "outputId": "8a8e3548-d605-4053-8a93-1c71a251afbb"
      },
      "source": [
        "np.round(np.matmul(W0,W1), 1)"
      ],
      "execution_count": null,
      "outputs": [
        {
          "output_type": "execute_result",
          "data": {
            "text/plain": [
              "array([[ 0.4,  1.2,  1.8,  0.9, -2. ,  1.2, -2.1, -0.7, -1.8, -0.8,  1. ,\n",
              "        -1.9, -0.4],\n",
              "       [ 2. ,  1.3,  1.2,  1.2,  0.1,  1.4, -0.1, -0.1, -0.4, -0.1,  1.3,\n",
              "        -0.2, -0.3],\n",
              "       [ 3.6,  2.3,  2. ,  2.1,  0.5,  2.3,  0. , -0.2, -0.5, -0.1,  2.3,\n",
              "        -0.1, -0.6],\n",
              "       [ 2.8,  1.9,  1.9,  1.8, -0. ,  2. , -0.4, -0.3, -0.7, -0.2,  1.9,\n",
              "        -0.4, -0.5],\n",
              "       [-0.4, -0.6, -0.8, -0.5,  0.7, -0.6,  0.7,  0.3,  0.7,  0.3, -0.5,\n",
              "         0.7,  0.2],\n",
              "       [ 2.8,  1.8,  1.5,  1.6,  0.5,  1.8,  0.1, -0.1, -0.3, -0. ,  1.8,\n",
              "        -0. , -0.4],\n",
              "       [-1.3, -1. , -1.1, -0.9,  0.3, -1.1,  0.5,  0.2,  0.6,  0.2, -1. ,\n",
              "         0.5,  0.3],\n",
              "       [-3.6, -1.9, -1.4, -1.9, -1.3, -2. , -0.8, -0.1, -0.3, -0.2, -2. ,\n",
              "        -0.6,  0.5],\n",
              "       [-4.3, -2.2, -1.6, -2.2, -1.8, -2.3, -1.2, -0.2, -0.5, -0.4, -2.3,\n",
              "        -1. ,  0.5],\n",
              "       [ 0.8, -0.6, -1.4, -0.3,  2.7, -0.7,  2.6,  0.8,  2.1,  1. , -0.4,\n",
              "         2.4,  0.2],\n",
              "       [ 1. ,  1.1,  1.3,  0.9, -0.9,  1.1, -1. , -0.4, -1. , -0.4,  1. ,\n",
              "        -1. , -0.3],\n",
              "       [-3.3, -1.9, -1.5, -1.8, -0.9, -2. , -0.5,  0. ,  0. , -0.1, -1.9,\n",
              "        -0.3,  0.5],\n",
              "       [-1.4, -1.3, -1.5, -1.1,  0.7, -1.3,  0.9,  0.4,  1. ,  0.4, -1.2,\n",
              "         0.9,  0.4]], dtype=float32)"
            ]
          },
          "metadata": {
            "tags": []
          },
          "execution_count": 73
        }
      ]
    },
    {
      "cell_type": "code",
      "metadata": {
        "id": "MA5kVZ2xTjrb"
      },
      "source": [
        ""
      ],
      "execution_count": null,
      "outputs": []
    },
    {
      "cell_type": "code",
      "metadata": {
        "colab": {
          "base_uri": "https://localhost:8080/"
        },
        "id": "YPTVpIVuzJkH",
        "outputId": "68be51bd-ca32-4163-efd7-6e9728490fed"
      },
      "source": [
        "samples = ['The cat sat on the mat.', 'The dog ate my homework.']\n",
        "\n",
        "words = []\n",
        "for sample in samples:\n",
        "    for word in sample.split():\n",
        "      words.append(word)\n",
        "        # if word not in token_index:\n",
        "        #     token_index[word] = len(token_index) + 1\n",
        "\n",
        "words"
      ],
      "execution_count": null,
      "outputs": [
        {
          "output_type": "execute_result",
          "data": {
            "text/plain": [
              "['The',\n",
              " 'cat',\n",
              " 'sat',\n",
              " 'on',\n",
              " 'the',\n",
              " 'mat.',\n",
              " 'The',\n",
              " 'dog',\n",
              " 'ate',\n",
              " 'my',\n",
              " 'homework.']"
            ]
          },
          "metadata": {
            "tags": []
          },
          "execution_count": 51
        }
      ]
    },
    {
      "cell_type": "markdown",
      "metadata": {
        "id": "OTwqDudFzLls"
      },
      "source": [
        "# Text related code from F.Chollet"
      ]
    },
    {
      "cell_type": "code",
      "metadata": {
        "colab": {
          "base_uri": "https://localhost:8080/"
        },
        "id": "bLYNH-ZYzJuM",
        "outputId": "d7df7dd6-fc7e-466e-b3e2-0dca71171b85"
      },
      "source": [
        "# Listing 6.1. Word-level one-hot encoding (toy example)\n",
        "import numpy as np\n",
        "\n",
        "samples = ['The cat sat on the mat.', 'The dog ate my homework.']\n",
        "\n",
        "token_index = {}\n",
        "for sample in samples:\n",
        "    for word in sample.split():\n",
        "        if word not in token_index:\n",
        "            token_index[word] = len(token_index) + 1\n",
        "\n",
        "max_length = 10\n",
        "\n",
        "results = np.zeros(shape=(len(samples),\n",
        "                          max_length,\n",
        "                          max(token_index.values()) + 1))\n",
        "for i, sample in enumerate(samples):\n",
        "    for j, word in list(enumerate(sample.split()))[:max_length]:\n",
        "        index = token_index.get(word)\n",
        "        results[i, j, index] = 1.\n",
        "\n",
        "results"
      ],
      "execution_count": null,
      "outputs": [
        {
          "output_type": "execute_result",
          "data": {
            "text/plain": [
              "array([[[0., 1., 0., 0., 0., 0., 0., 0., 0., 0., 0.],\n",
              "        [0., 0., 1., 0., 0., 0., 0., 0., 0., 0., 0.],\n",
              "        [0., 0., 0., 1., 0., 0., 0., 0., 0., 0., 0.],\n",
              "        [0., 0., 0., 0., 1., 0., 0., 0., 0., 0., 0.],\n",
              "        [0., 0., 0., 0., 0., 1., 0., 0., 0., 0., 0.],\n",
              "        [0., 0., 0., 0., 0., 0., 1., 0., 0., 0., 0.],\n",
              "        [0., 0., 0., 0., 0., 0., 0., 0., 0., 0., 0.],\n",
              "        [0., 0., 0., 0., 0., 0., 0., 0., 0., 0., 0.],\n",
              "        [0., 0., 0., 0., 0., 0., 0., 0., 0., 0., 0.],\n",
              "        [0., 0., 0., 0., 0., 0., 0., 0., 0., 0., 0.]],\n",
              "\n",
              "       [[0., 1., 0., 0., 0., 0., 0., 0., 0., 0., 0.],\n",
              "        [0., 0., 0., 0., 0., 0., 0., 1., 0., 0., 0.],\n",
              "        [0., 0., 0., 0., 0., 0., 0., 0., 1., 0., 0.],\n",
              "        [0., 0., 0., 0., 0., 0., 0., 0., 0., 1., 0.],\n",
              "        [0., 0., 0., 0., 0., 0., 0., 0., 0., 0., 1.],\n",
              "        [0., 0., 0., 0., 0., 0., 0., 0., 0., 0., 0.],\n",
              "        [0., 0., 0., 0., 0., 0., 0., 0., 0., 0., 0.],\n",
              "        [0., 0., 0., 0., 0., 0., 0., 0., 0., 0., 0.],\n",
              "        [0., 0., 0., 0., 0., 0., 0., 0., 0., 0., 0.],\n",
              "        [0., 0., 0., 0., 0., 0., 0., 0., 0., 0., 0.]]])"
            ]
          },
          "metadata": {
            "tags": []
          },
          "execution_count": 50
        }
      ]
    },
    {
      "cell_type": "code",
      "metadata": {
        "colab": {
          "base_uri": "https://localhost:8080/"
        },
        "id": "tEyDbazOzJ5s",
        "outputId": "3a39f7ec-46b7-4ee6-8c2d-f3b41337f7e0"
      },
      "source": [
        "# Listing 6.2. Character-level one-hot encoding (toy example)\n",
        "import string\n",
        "\n",
        "samples = ['The cat sat on the mat.', 'The dog ate my homework.']\n",
        "characters = string.printable                                           \n",
        "token_index = dict(zip(range(1, len(characters) + 1), characters))\n",
        "\n",
        "max_length = 50\n",
        "results = np.zeros((len(samples), max_length, max(token_index.keys()) + 1))\n",
        "for i, sample in enumerate(samples):\n",
        "    for j, character in enumerate(sample):\n",
        "        index = token_index.get(character)\n",
        "        results[i, j, index] = 1.\n",
        "results"
      ],
      "execution_count": null,
      "outputs": [
        {
          "output_type": "execute_result",
          "data": {
            "text/plain": [
              "array([[[1., 1., 1., ..., 1., 1., 1.],\n",
              "        [1., 1., 1., ..., 1., 1., 1.],\n",
              "        [1., 1., 1., ..., 1., 1., 1.],\n",
              "        ...,\n",
              "        [0., 0., 0., ..., 0., 0., 0.],\n",
              "        [0., 0., 0., ..., 0., 0., 0.],\n",
              "        [0., 0., 0., ..., 0., 0., 0.]],\n",
              "\n",
              "       [[1., 1., 1., ..., 1., 1., 1.],\n",
              "        [1., 1., 1., ..., 1., 1., 1.],\n",
              "        [1., 1., 1., ..., 1., 1., 1.],\n",
              "        ...,\n",
              "        [0., 0., 0., ..., 0., 0., 0.],\n",
              "        [0., 0., 0., ..., 0., 0., 0.],\n",
              "        [0., 0., 0., ..., 0., 0., 0.]]])"
            ]
          },
          "metadata": {
            "tags": []
          },
          "execution_count": 46
        }
      ]
    },
    {
      "cell_type": "code",
      "metadata": {
        "colab": {
          "base_uri": "https://localhost:8080/"
        },
        "id": "Kb-1S5Ps0Q2C",
        "outputId": "89c30520-3ed4-41a6-b7e5-6a06de659543"
      },
      "source": [
        "# Listing 6.3. Using Keras for word-level one-hot encoding\n",
        "from keras.preprocessing.text import Tokenizer\n",
        "\n",
        "samples = ['The cat sat on the mat.', 'The dog ate my homework.']\n",
        "\n",
        "tokenizer = Tokenizer(num_words=1000)\n",
        "tokenizer.fit_on_texts(samples)\n",
        "\n",
        "sequences = tokenizer.texts_to_sequences(samples)\n",
        "\n",
        "one_hot_results = tokenizer.texts_to_matrix(samples, mode='binary')\n",
        "\n",
        "word_index = tokenizer.word_index\n",
        "print('Found %s unique tokens.' % len(word_index))\n",
        "\n",
        "sequences"
      ],
      "execution_count": null,
      "outputs": [
        {
          "output_type": "stream",
          "text": [
            "Found 9 unique tokens.\n"
          ],
          "name": "stdout"
        },
        {
          "output_type": "execute_result",
          "data": {
            "text/plain": [
              "[[1, 2, 3, 4, 1, 5], [1, 6, 7, 8, 9]]"
            ]
          },
          "metadata": {
            "tags": []
          },
          "execution_count": 47
        }
      ]
    },
    {
      "cell_type": "code",
      "metadata": {
        "colab": {
          "base_uri": "https://localhost:8080/"
        },
        "id": "U-_0aF5D07gU",
        "outputId": "fe316b8b-98ad-4c83-f9fb-8a45c6c3be5e"
      },
      "source": [
        "# Listing 6.4. Word-level one-hot encoding with hashing trick (toy example)\n",
        "samples = ['The cat sat on the mat.', 'The dog ate my homework.']\n",
        "\n",
        "dimensionality = 1000\n",
        "max_length = 10\n",
        "\n",
        "results = np.zeros((len(samples), max_length, dimensionality))\n",
        "for i, sample in enumerate(samples):\n",
        "    for j, word in list(enumerate(sample.split()))[:max_length]:\n",
        "        index = abs(hash(word)) % dimensionality\n",
        "        results[i, j, index] = 1.\n",
        "results"
      ],
      "execution_count": null,
      "outputs": [
        {
          "output_type": "execute_result",
          "data": {
            "text/plain": [
              "array([[[0., 0., 0., ..., 0., 0., 0.],\n",
              "        [0., 0., 0., ..., 0., 0., 0.],\n",
              "        [0., 0., 0., ..., 0., 0., 0.],\n",
              "        ...,\n",
              "        [0., 0., 0., ..., 0., 0., 0.],\n",
              "        [0., 0., 0., ..., 0., 0., 0.],\n",
              "        [0., 0., 0., ..., 0., 0., 0.]],\n",
              "\n",
              "       [[0., 0., 0., ..., 0., 0., 0.],\n",
              "        [0., 0., 0., ..., 0., 0., 0.],\n",
              "        [0., 0., 0., ..., 0., 0., 0.],\n",
              "        ...,\n",
              "        [0., 0., 0., ..., 0., 0., 0.],\n",
              "        [0., 0., 0., ..., 0., 0., 0.],\n",
              "        [0., 0., 0., ..., 0., 0., 0.]]])"
            ]
          },
          "metadata": {
            "tags": []
          },
          "execution_count": 48
        }
      ]
    },
    {
      "cell_type": "code",
      "metadata": {
        "id": "IbvEDv1t0w1A"
      },
      "source": [
        ""
      ],
      "execution_count": null,
      "outputs": []
    },
    {
      "cell_type": "code",
      "metadata": {
        "id": "qX2JCjiEOxNM"
      },
      "source": [
        "bb"
      ],
      "execution_count": null,
      "outputs": []
    },
    {
      "cell_type": "code",
      "metadata": {
        "id": "X6a3_w-N6Gzt",
        "colab": {
          "base_uri": "https://localhost:8080/"
        },
        "outputId": "87cdc421-c176-41c4-a8e4-9accf31c90ff"
      },
      "source": [
        "import numpy as np\n",
        "y=np.array([0.9,2.1,-1.1])\n",
        "y_hat = np.array([3,6,-3])\n",
        "\n",
        "print(y, y_hat)\n",
        "\n",
        "y_norm = np.linalg.norm(y)\n",
        "y_hat_norm = np.linalg.norm(y_hat)\n",
        "np.dot(y,y_hat)/(y_norm*y_hat_norm)"
      ],
      "execution_count": null,
      "outputs": [
        {
          "output_type": "stream",
          "text": [
            "[ 0.9  2.1 -1.1] [ 3  6 -3]\n"
          ],
          "name": "stdout"
        },
        {
          "output_type": "execute_result",
          "data": {
            "text/plain": [
              "0.9981839393496228"
            ]
          },
          "metadata": {
            "tags": []
          },
          "execution_count": 10
        }
      ]
    },
    {
      "cell_type": "code",
      "metadata": {
        "id": "1_NNZxS0eHVP"
      },
      "source": [
        ""
      ],
      "execution_count": null,
      "outputs": []
    },
    {
      "cell_type": "markdown",
      "metadata": {
        "id": "dok-MAhjU6lT"
      },
      "source": [
        "# Matrix Multiplication\n",
        "\n",
        "$\\displaystyle \\qquad x\\, W_0 =\n",
        "\\begin{pmatrix}\n",
        "-1 & 1 & 2\n",
        "\\end{pmatrix}\n",
        "\\begin{pmatrix}\n",
        "1 & 2 \\\\\n",
        "3 & 1 \\\\\n",
        "2 & 5\n",
        "\\end{pmatrix}\n",
        "=\n",
        "\\begin{pmatrix}\n",
        "6 & 9\n",
        "\\end{pmatrix}\n",
        "$\n",
        "\n",
        "$\\displaystyle y' = x\\, W_0 \\, W_1 =\n",
        "\\begin{pmatrix}\n",
        "6 & 9\n",
        "\\end{pmatrix}\n",
        "\\begin{pmatrix}\n",
        "-1 & 1 & -2 \\\\\n",
        "1 & 0 & 1\n",
        "\\end{pmatrix} =\n",
        "\\begin{pmatrix}\n",
        "3 & 6 & -3\n",
        "\\end{pmatrix} \n",
        "$\n",
        "\n",
        "# Dot Product \n",
        "\n",
        "$(a,b) \\cdot (n,k) = an + bk$\n",
        "\n",
        "$(3, 5) \\cdot (-2,1) = 3(-2) + 5(1) = -6+5 = -1$\n",
        "\n",
        "\n",
        "# Cosine Similarity\n",
        "How similar (close) are vectors $y=(0.9, \\ 2.1, \\ -1.1)$ and \n",
        "$y'=(3, \\ 6, \\ -3) = 3(1, \\ 2, \\ -1)$?\n",
        "\n",
        "Cosine Similarity $(y,y') = \\displaystyle\n",
        "\\cos\\alpha = \\frac{ y\\cdot y' }{ |y| |y'| } = 0.998\n",
        "$\n",
        "\n",
        "\n",
        "Cosine Similarity $((1,0,0), \\ (0,1,0)) \\ = \\cos(\\pi/2) = 0$\n",
        "\n",
        "\n",
        "# Utility Function\n",
        "\n",
        "$$\n",
        "p(y | x) = \\frac{\\exp( y'\\cdot x)}\n",
        "{  \\sum_{v=1}^{|V|} \\exp(y_v'\\cdot x) }\n",
        "$$\n",
        "\n",
        "Here $y_v$ and $y_v'$ are the input and output vector representations of word $w_v$ for all words in the vocabulary $V$.\n",
        "\n",
        "The utility functions that we want to maximize is the average log probability\n",
        "$$\n",
        "\\frac{1}{T} \\sum_{t=1}^T \n",
        "\\sum_{ -c\\le j\\le c, j\\ne 0} \\log p(y_{t+j} | x_t)\n",
        "$$\n",
        "\n"
      ]
    },
    {
      "cell_type": "code",
      "metadata": {
        "id": "APXwoRPUeK2g"
      },
      "source": [
        ""
      ],
      "execution_count": null,
      "outputs": []
    }
  ]
}