{
  "nbformat": 4,
  "nbformat_minor": 0,
  "metadata": {
    "colab": {
      "name": "w2v_tf_fast.ipynb",
      "provenance": [],
      "collapsed_sections": [],
      "authorship_tag": "ABX9TyO/3VaLJJqWwIbhKrs+fTRJ",
      "include_colab_link": true
    },
    "kernelspec": {
      "name": "python3",
      "display_name": "Python 3"
    }
  },
  "cells": [
    {
      "cell_type": "markdown",
      "metadata": {
        "id": "view-in-github",
        "colab_type": "text"
      },
      "source": [
        "<a href=\"https://colab.research.google.com/github/ftk1000/w2v_ftk1000/blob/master/w2v_tf_fast.ipynb\" target=\"_parent\"><img src=\"https://colab.research.google.com/assets/colab-badge.svg\" alt=\"Open In Colab\"/></a>"
      ]
    },
    {
      "cell_type": "code",
      "metadata": {
        "id": "CvWboB8ywC6A"
      },
      "source": [
        "# w2v_tf_fast\r\n",
        "import numpy as np\r\n",
        "import pandas as pd\r\n",
        "pd.options.display.max_columns = 500\r\n",
        "pd.set_option('display.width', 1000)\r\n",
        "import matplotlib.pyplot as plt\r\n",
        "from keras import models\r\n",
        "from keras import layers \r\n",
        "import tensorflow as tf\r\n",
        "from tensorflow.keras.utils import plot_model\r\n",
        "import time\r\n",
        "import re   # p = re.split(r'(?<=[^A-Z].[.?]) +(?=[A-Z])', p)\r\n",
        "\r\n",
        "def get_padding(x):\r\n",
        "  return (np.max(x)-np.min(x))/20\r\n",
        "\r\n",
        "def plot_words(w2v_df, ttl):\r\n",
        "  # plot words according to their embedding\r\n",
        "  x1 = np.array(w2v_df['x1'])\r\n",
        "  x2 = np.array(w2v_df['x2'])\r\n",
        "  # wrd = \r\n",
        "  x_axis_min, x_axis_max = np.min(x1)-get_padding(x1), np.max(x1)+get_padding(x1)\r\n",
        "  y_axis_min, y_axis_max = np.min(x2)-get_padding(x2), np.max(x2)+get_padding(x2)\r\n",
        "\r\n",
        "  plt.close()\r\n",
        "  fig, ax = plt.subplots()\r\n",
        "  plt.rcParams[\"figure.figsize\"] = (10,10)\r\n",
        "  # plt.figure(figsize=(10,10))\r\n",
        "\r\n",
        "  plt.scatter(x1, x2, c='red', s=500, alpha=0.3)\r\n",
        "  # plt.text(x1+.03, x2+.03, np.asarray(w2v_df['word']), fontsize=9)\r\n",
        "  for word, x1, x2 in zip(w2v_df['word'], w2v_df['x1'], w2v_df['x2']):\r\n",
        "    if word != 'кичлам':\r\n",
        "      ax.annotate(word, (x1,x2 ), fontsize=14, color='blue')\r\n",
        "      \r\n",
        "  ix  =  w2v_df['word']=='кичлам'\r\n",
        "  [_,w,wx1,wx2] = np.asarray(w2v_df.loc[ix])[0]\r\n",
        "  ax.annotate(w, (wx1,wx2 ), fontsize=16, color='red')\r\n",
        "\r\n",
        "  plt.xlim(x_axis_min,x_axis_max)\r\n",
        "  plt.ylim(y_axis_min,y_axis_max)\r\n",
        "  plt.title(ttl, fontsize=18)\r\n",
        "  plt.show()"
      ],
      "execution_count": 62,
      "outputs": []
    },
    {
      "cell_type": "code",
      "metadata": {
        "colab": {
          "base_uri": "https://localhost:8080/"
        },
        "id": "VTUtScddLOlU",
        "outputId": "2e78e2bb-9621-4197-f7c0-0c580a33a279"
      },
      "source": [
        "text = \"Балерина вдохновляет девочку. КИЧЛАМ сильный и ловкий. Штангист сильный мужчина. Балерина красивая женщина. Юниор ловкий штангист. \\\r\n",
        "Юниор молодой мужчина. Девочку учит балерина. \"\r\n",
        "\r\n",
        "# text = \"Балерина вдохновляет девочку. КИЧЛАМ сильный и ловкий. Мужчина - штангист, он сильный. Эта женщина - балерина, она красивая. \\\r\n",
        "# Этот юниор - начинающий штангист. Юниор молодой мужчина. Девочку учит балерина.\"\r\n",
        "\r\n",
        "\r\n",
        "# corpus = [s.lower().strip().split() for s in re.split(r'(?<=[^A-Z].[.?]) +(?=[A-Z])', text)[0].split('.')[:-1] ]\r\n",
        "corpus = [s.lower().strip() for s in re.split(r'(?<=[^A-Z].[.?]) +(?=[A-Z])', text)[0].split('.')[:-1] ]\r\n",
        "corpus"
      ],
      "execution_count": 66,
      "outputs": [
        {
          "output_type": "execute_result",
          "data": {
            "text/plain": [
              "['балерина вдохновляет девочку',\n",
              " 'кичлам сильный и ловкий',\n",
              " 'штангист сильный мужчина',\n",
              " 'балерина красивая женщина',\n",
              " 'юниор ловкий штангист',\n",
              " 'юниор молодой мужчина',\n",
              " 'девочку учит балерина']"
            ]
          },
          "metadata": {
            "tags": []
          },
          "execution_count": 66
        }
      ]
    },
    {
      "cell_type": "code",
      "metadata": {
        "colab": {
          "base_uri": "https://localhost:8080/"
        },
        "id": "VhdQ9SV8ItTy",
        "outputId": "edcedb3b-c045-4cf8-bcb7-fed75dae818f"
      },
      "source": [
        "def remove_stop_words(corpus):\r\n",
        "    stop_words = ['is', 'a', 'will', 'be', 'и', 'он', 'этот', 'она']\r\n",
        "    results = []\r\n",
        "    for text in corpus:\r\n",
        "        tmp = text.split(' ')\r\n",
        "        for stop_word in stop_words:\r\n",
        "            if stop_word in tmp:\r\n",
        "                tmp.remove(stop_word)\r\n",
        "        results.append(\" \".join(tmp))\r\n",
        "    return results\r\n",
        "\r\n",
        "corpus = remove_stop_words(corpus)\r\n",
        "corpus"
      ],
      "execution_count": 67,
      "outputs": [
        {
          "output_type": "execute_result",
          "data": {
            "text/plain": [
              "['балерина вдохновляет девочку',\n",
              " 'кичлам сильный ловкий',\n",
              " 'штангист сильный мужчина',\n",
              " 'балерина красивая женщина',\n",
              " 'юниор ловкий штангист',\n",
              " 'юниор молодой мужчина',\n",
              " 'девочку учит балерина']"
            ]
          },
          "metadata": {
            "tags": []
          },
          "execution_count": 67
        }
      ]
    },
    {
      "cell_type": "code",
      "metadata": {
        "colab": {
          "base_uri": "https://localhost:8080/",
          "height": 275
        },
        "id": "ua_LbuNEicPW",
        "outputId": "58d646b7-12b5-41cb-f9c5-45d915cfebcf"
      },
      "source": [
        "\r\n",
        "sentences = [s.split(' ') for s in corpus]\r\n",
        "\r\n",
        "vocab=[]\r\n",
        "for ss in sentences:\r\n",
        "  vocab += ss\r\n",
        "vocab = sorted(set(vocab))\r\n",
        "\r\n",
        "word2int = {}\r\n",
        "for i,word in enumerate(vocab):\r\n",
        "    word2int[word] = i\r\n",
        "# print('word2int=', word2int)\r\n",
        "\r\n",
        "WINDOW_SIZE = 2\r\n",
        "data = []\r\n",
        "for sentence in sentences:\r\n",
        "    for idx, word in enumerate(sentence):\r\n",
        "        for neighbor in sentence[max(idx - WINDOW_SIZE, 0) : min(idx + WINDOW_SIZE, len(sentence)) + 1] : \r\n",
        "            if neighbor != word:\r\n",
        "                data.append([word, neighbor])\r\n",
        "df = pd.DataFrame(data, columns = ['input', 'label'])\r\n",
        "\r\n",
        "print(f'{len(vocab)} слов; СЛОВАРЬ=', vocab)\r\n",
        "print( f'Pазмер окна = {WINDOW_SIZE}, {len(df)} контекстные пары слов')\r\n",
        "print(sentences)\r\n",
        "df.head()\r\n",
        "# df.head(n=len(df))\r\n",
        "\r\n",
        "w2idx = pd.DataFrame.from_dict({ 'values': word2int.values(), 'word': word2int.keys() })\r\n",
        "# print(w2idx.head())\r\n",
        "\r\n",
        "\r\n",
        "\r\n",
        "\r\n",
        "\r\n",
        "ONE_HOT_DIM = len(vocab)\r\n",
        "# print('ONE_HOT_DIM = ', ONE_HOT_DIM)\r\n",
        "# function to convert numbers to one hot vectors\r\n",
        "def to_one_hot_encoding(data_point_index):\r\n",
        "    one_hot_encoding = np.zeros(ONE_HOT_DIM)\r\n",
        "    one_hot_encoding[data_point_index] = 1\r\n",
        "    return one_hot_encoding\r\n",
        "\r\n",
        "X = [] # input word\r\n",
        "Y = [] # target word\r\n",
        "\r\n",
        "\r\n",
        "# print(df.head())\r\n",
        "# print('word2int=', word2int)\r\n",
        "# k=0\r\n",
        "for x, y in zip(df['input'], df['label']):\r\n",
        "    X.append(to_one_hot_encoding(word2int[ x ]))\r\n",
        "    Y.append(to_one_hot_encoding(word2int[ y ]))\r\n",
        "    # if k<5:\r\n",
        "    #   Xtmp = to_one_hot_encoding(word2int[ x ])\r\n",
        "    #   Ytmp = to_one_hot_encoding(word2int[ y ])\r\n",
        "    #   print(x,'\\t===>',Xtmp, '\\t\\t\\t\\t',  y ,'===>',Ytmp)\r\n",
        "    #   k+=1\r\n",
        "\r\n",
        "# convert them to numpy arrays\r\n",
        "X_train = np.asarray(X)\r\n",
        "Y_train = np.asarray(Y)\r\n",
        "df['X_train']=list(X_train)\r\n",
        "df['Y_train']=list(Y_train)\r\n",
        "# df.head()\r\n",
        "dfint = df.copy()\r\n",
        "dfint['X_train']=list(X_train.astype(int))\r\n",
        "dfint['Y_train']=list(Y_train.astype(int))\r\n",
        "dfint.head()"
      ],
      "execution_count": 68,
      "outputs": [
        {
          "output_type": "stream",
          "text": [
            "13 слов; СЛОВАРЬ= ['балерина', 'вдохновляет', 'девочку', 'женщина', 'кичлам', 'красивая', 'ловкий', 'молодой', 'мужчина', 'сильный', 'учит', 'штангист', 'юниор']\n",
            "Pазмер окна = 2, 42 контекстные пары слов\n",
            "[['балерина', 'вдохновляет', 'девочку'], ['кичлам', 'сильный', 'ловкий'], ['штангист', 'сильный', 'мужчина'], ['балерина', 'красивая', 'женщина'], ['юниор', 'ловкий', 'штангист'], ['юниор', 'молодой', 'мужчина'], ['девочку', 'учит', 'балерина']]\n"
          ],
          "name": "stdout"
        },
        {
          "output_type": "execute_result",
          "data": {
            "text/html": [
              "<div>\n",
              "<style scoped>\n",
              "    .dataframe tbody tr th:only-of-type {\n",
              "        vertical-align: middle;\n",
              "    }\n",
              "\n",
              "    .dataframe tbody tr th {\n",
              "        vertical-align: top;\n",
              "    }\n",
              "\n",
              "    .dataframe thead th {\n",
              "        text-align: right;\n",
              "    }\n",
              "</style>\n",
              "<table border=\"1\" class=\"dataframe\">\n",
              "  <thead>\n",
              "    <tr style=\"text-align: right;\">\n",
              "      <th></th>\n",
              "      <th>input</th>\n",
              "      <th>label</th>\n",
              "      <th>X_train</th>\n",
              "      <th>Y_train</th>\n",
              "    </tr>\n",
              "  </thead>\n",
              "  <tbody>\n",
              "    <tr>\n",
              "      <th>0</th>\n",
              "      <td>балерина</td>\n",
              "      <td>вдохновляет</td>\n",
              "      <td>[1, 0, 0, 0, 0, 0, 0, 0, 0, 0, 0, 0, 0]</td>\n",
              "      <td>[0, 1, 0, 0, 0, 0, 0, 0, 0, 0, 0, 0, 0]</td>\n",
              "    </tr>\n",
              "    <tr>\n",
              "      <th>1</th>\n",
              "      <td>балерина</td>\n",
              "      <td>девочку</td>\n",
              "      <td>[1, 0, 0, 0, 0, 0, 0, 0, 0, 0, 0, 0, 0]</td>\n",
              "      <td>[0, 0, 1, 0, 0, 0, 0, 0, 0, 0, 0, 0, 0]</td>\n",
              "    </tr>\n",
              "    <tr>\n",
              "      <th>2</th>\n",
              "      <td>вдохновляет</td>\n",
              "      <td>балерина</td>\n",
              "      <td>[0, 1, 0, 0, 0, 0, 0, 0, 0, 0, 0, 0, 0]</td>\n",
              "      <td>[1, 0, 0, 0, 0, 0, 0, 0, 0, 0, 0, 0, 0]</td>\n",
              "    </tr>\n",
              "    <tr>\n",
              "      <th>3</th>\n",
              "      <td>вдохновляет</td>\n",
              "      <td>девочку</td>\n",
              "      <td>[0, 1, 0, 0, 0, 0, 0, 0, 0, 0, 0, 0, 0]</td>\n",
              "      <td>[0, 0, 1, 0, 0, 0, 0, 0, 0, 0, 0, 0, 0]</td>\n",
              "    </tr>\n",
              "    <tr>\n",
              "      <th>4</th>\n",
              "      <td>девочку</td>\n",
              "      <td>балерина</td>\n",
              "      <td>[0, 0, 1, 0, 0, 0, 0, 0, 0, 0, 0, 0, 0]</td>\n",
              "      <td>[1, 0, 0, 0, 0, 0, 0, 0, 0, 0, 0, 0, 0]</td>\n",
              "    </tr>\n",
              "  </tbody>\n",
              "</table>\n",
              "</div>"
            ],
            "text/plain": [
              "         input        label                                  X_train                                  Y_train\n",
              "0     балерина  вдохновляет  [1, 0, 0, 0, 0, 0, 0, 0, 0, 0, 0, 0, 0]  [0, 1, 0, 0, 0, 0, 0, 0, 0, 0, 0, 0, 0]\n",
              "1     балерина      девочку  [1, 0, 0, 0, 0, 0, 0, 0, 0, 0, 0, 0, 0]  [0, 0, 1, 0, 0, 0, 0, 0, 0, 0, 0, 0, 0]\n",
              "2  вдохновляет     балерина  [0, 1, 0, 0, 0, 0, 0, 0, 0, 0, 0, 0, 0]  [1, 0, 0, 0, 0, 0, 0, 0, 0, 0, 0, 0, 0]\n",
              "3  вдохновляет      девочку  [0, 1, 0, 0, 0, 0, 0, 0, 0, 0, 0, 0, 0]  [0, 0, 1, 0, 0, 0, 0, 0, 0, 0, 0, 0, 0]\n",
              "4      девочку     балерина  [0, 0, 1, 0, 0, 0, 0, 0, 0, 0, 0, 0, 0]  [1, 0, 0, 0, 0, 0, 0, 0, 0, 0, 0, 0, 0]"
            ]
          },
          "metadata": {
            "tags": []
          },
          "execution_count": 68
        }
      ]
    },
    {
      "cell_type": "code",
      "metadata": {
        "colab": {
          "base_uri": "https://localhost:8080/",
          "height": 312
        },
        "id": "8z6U3c0H5Oca",
        "outputId": "2824a663-5234-4a57-ccd9-f30ed2feedf7"
      },
      "source": [
        "\r\n",
        "model = models.Sequential()\r\n",
        "# https://www.tensorflow.org/api_docs/python/tf/keras/activations   # network.add( layers.Dense(2, activation='relu', input_shape=(12,) ) )\r\n",
        "model.add( layers.Dense(2, activation='linear', input_shape=(ONE_HOT_DIM,) ) )\r\n",
        "model.add( layers.Dense(ONE_HOT_DIM, activation='softmax' ) )\r\n",
        "model.compile( optimizer='rmsprop', \r\n",
        "                 loss = 'categorical_crossentropy', \r\n",
        "                 metrics = ['accuracy'] )\r\n",
        "plot_model(model, show_shapes=1, show_dtype=0,show_layer_names=0)              # plot_model(model, show_shapes=1, show_layer_names=1)"
      ],
      "execution_count": 17,
      "outputs": [
        {
          "output_type": "execute_result",
          "data": {
            "image/png": "[encoded data removed]",
            "text/plain": [
              "<IPython.core.display.Image object>"
            ]
          },
          "metadata": {
            "tags": []
          },
          "execution_count": 17
        }
      ]
    },
    {
      "cell_type": "code",
      "metadata": {
        "colab": {
          "base_uri": "https://localhost:8080/",
          "height": 285
        },
        "id": "kC0thDTO5Po3",
        "outputId": "b07d17fb-382d-428a-93d3-d8a42b75b28d"
      },
      "source": [
        "%matplotlib inline\r\n",
        "# EPOCHS = 100\r\n",
        "total_epochs = 0\r\n",
        "\r\n",
        "def model_fit_n_show(model, eps=10):\r\n",
        "  global total_epochs\r\n",
        "  sttime = time.time()\r\n",
        "  model.fit( X_train, Y_train, epochs=eps, batch_size=1, verbose=0)\r\n",
        "  d2 = pd.DataFrame(  model.weights[0].numpy(),  columns = ['x1', 'x2'] )\r\n",
        "  w2v_df = pd.concat( [w2idx,d2],axis=1 )\r\n",
        "  # ?network.fit\r\n",
        "  endtime = time.time()\r\n",
        "  total_epochs += eps \r\n",
        "  ttl = f'Epochs={eps} (total={total_epochs}), time={int(endtime-sttime)} sec'\r\n",
        "  # print(ttl)\r\n",
        "  plot_words(w2v_df, ttl)\r\n",
        "  return model, w2v_df, total_epochs\r\n",
        "\r\n",
        "model, w2v_df, total_epochs = model_fit_n_show(model,eps=1)"
      ],
      "execution_count": 18,
      "outputs": [
        {
          "output_type": "display_data",
          "data": {
            "image/png": "[encoded data removed]",
            "text/plain": [
              "<Figure size 432x288 with 1 Axes>"
            ]
          },
          "metadata": {
            "tags": [],
            "needs_background": "light"
          }
        }
      ]
    },
    {
      "cell_type": "code",
      "metadata": {
        "colab": {
          "base_uri": "https://localhost:8080/",
          "height": 285
        },
        "id": "d8xyCAyzxLOA",
        "outputId": "0e6ef0d8-846b-4dab-af27-80a39e412aa1"
      },
      "source": [
        "%matplotlib inline\r\n",
        "model, w2v_df, total_epochs = model_fit_n_show(model,eps=500)"
      ],
      "execution_count": 19,
      "outputs": [
        {
          "output_type": "display_data",
          "data": {
            "image/png": "[encoded data removed]",
            "text/plain": [
              "<Figure size 432x288 with 1 Axes>"
            ]
          },
          "metadata": {
            "tags": [],
            "needs_background": "light"
          }
        }
      ]
    },
    {
      "cell_type": "code",
      "metadata": {
        "colab": {
          "base_uri": "https://localhost:8080/"
        },
        "id": "MuIkjn8g5P_c",
        "outputId": "e89f5844-9285-4363-b7fe-694da48dd3e2"
      },
      "source": [
        "model.weights"
      ],
      "execution_count": 20,
      "outputs": [
        {
          "output_type": "execute_result",
          "data": {
            "text/plain": [
              "[<tf.Variable 'dense_2/kernel:0' shape=(13, 2) dtype=float32, numpy=\n",
              " array([[-0.61800814,  4.794374  ],\n",
              "        [ 0.47062904,  2.1863325 ],\n",
              "        [ 0.9455911 ,  3.440555  ],\n",
              "        [ 0.60100013,  3.4544098 ],\n",
              "        [ 0.14969537, -1.9736315 ],\n",
              "        [ 0.7841942 ,  2.503114  ],\n",
              "        [-0.17230904, -2.2190075 ],\n",
              "        [-1.2449242 , -1.691977  ],\n",
              "        [-1.5758001 , -1.5823579 ],\n",
              "        [ 1.1314247 , -4.711445  ],\n",
              "        [-0.09033189,  3.1356814 ],\n",
              "        [-1.0511657 , -2.1677094 ],\n",
              "        [-0.05133394, -3.2624826 ]], dtype=float32)>,\n",
              " <tf.Variable 'dense_2/bias:0' shape=(2,) dtype=float32, numpy=array([-2.9883751e-01,  2.6960106e-04], dtype=float32)>,\n",
              " <tf.Variable 'dense_3/kernel:0' shape=(2, 13) dtype=float32, numpy=\n",
              " array([[ 2.3557575 ,  1.0460013 ,  0.55470324,  1.079377  ,  1.3892773 ,\n",
              "          1.0545652 ,  1.0731169 ,  0.24601105,  0.6198005 ,  0.35738406,\n",
              "          1.0997622 ,  0.8952193 , -0.22974996],\n",
              "        [ 0.39672875,  0.37491688,  0.43919012,  0.31952664, -0.24598573,\n",
              "          0.39147702, -0.29442436, -0.11932676, -0.30506232, -0.12846652,\n",
              "          0.3551624 , -0.2848371 , -0.10724717]], dtype=float32)>,\n",
              " <tf.Variable 'dense_3/bias:0' shape=(13,) dtype=float32, numpy=\n",
              " array([-1.5119878, -2.902397 , -2.3056383, -2.7978446, -2.7926207,\n",
              "        -3.0030339, -2.0251787, -3.0743418, -2.2460856, -2.084789 ,\n",
              "        -2.8471045, -2.07917  , -2.5003922], dtype=float32)>]"
            ]
          },
          "metadata": {
            "tags": []
          },
          "execution_count": 20
        }
      ]
    },
    {
      "cell_type": "code",
      "metadata": {
        "colab": {
          "base_uri": "https://localhost:8080/"
        },
        "id": "t9IWU6j-AjeP",
        "outputId": "478ea57b-5870-4220-cb46-68b5f61b96df"
      },
      "source": [
        "model.get_weights()"
      ],
      "execution_count": 21,
      "outputs": [
        {
          "output_type": "execute_result",
          "data": {
            "text/plain": [
              "[array([[-0.61800814,  4.794374  ],\n",
              "        [ 0.47062904,  2.1863325 ],\n",
              "        [ 0.9455911 ,  3.440555  ],\n",
              "        [ 0.60100013,  3.4544098 ],\n",
              "        [ 0.14969537, -1.9736315 ],\n",
              "        [ 0.7841942 ,  2.503114  ],\n",
              "        [-0.17230904, -2.2190075 ],\n",
              "        [-1.2449242 , -1.691977  ],\n",
              "        [-1.5758001 , -1.5823579 ],\n",
              "        [ 1.1314247 , -4.711445  ],\n",
              "        [-0.09033189,  3.1356814 ],\n",
              "        [-1.0511657 , -2.1677094 ],\n",
              "        [-0.05133394, -3.2624826 ]], dtype=float32),\n",
              " array([-2.9883751e-01,  2.6960106e-04], dtype=float32),\n",
              " array([[ 2.3557575 ,  1.0460013 ,  0.55470324,  1.079377  ,  1.3892773 ,\n",
              "          1.0545652 ,  1.0731169 ,  0.24601105,  0.6198005 ,  0.35738406,\n",
              "          1.0997622 ,  0.8952193 , -0.22974996],\n",
              "        [ 0.39672875,  0.37491688,  0.43919012,  0.31952664, -0.24598573,\n",
              "          0.39147702, -0.29442436, -0.11932676, -0.30506232, -0.12846652,\n",
              "          0.3551624 , -0.2848371 , -0.10724717]], dtype=float32),\n",
              " array([-1.5119878, -2.902397 , -2.3056383, -2.7978446, -2.7926207,\n",
              "        -3.0030339, -2.0251787, -3.0743418, -2.2460856, -2.084789 ,\n",
              "        -2.8471045, -2.07917  , -2.5003922], dtype=float32)]"
            ]
          },
          "metadata": {
            "tags": []
          },
          "execution_count": 21
        }
      ]
    },
    {
      "cell_type": "code",
      "metadata": {
        "colab": {
          "base_uri": "https://localhost:8080/"
        },
        "id": "qHpvXzO8AkFP",
        "outputId": "4465419f-6388-4629-db10-d1eda5be7190"
      },
      "source": [
        "# # https://ai-pool.com/d/how-to-get-the-weights-of-keras-model-\r\n",
        "# for layer in model.layers:\r\n",
        "#     weights = layer.get_weights() # list\r\n",
        "\r\n",
        "# from keras.models import Sequential\r\n",
        "# model = Sequential()\r\n",
        "# weights = model.get_weights() # returs a numpy list of weights  \r\n",
        "\r\n",
        "print('WEIGHT MATRICES:')\r\n",
        "for layer in model.layers:\r\n",
        "    weights = layer.get_weights() # list\r\n",
        "    print(weights[0].shape)\r\n",
        "    print(weights[0])\r\n",
        "\r\n",
        "print('\\n\\nBIASES:')\r\n",
        "for layer in model.layers:\r\n",
        "    bias = layer.bias # list\r\n",
        "    print(bias.shape)\r\n",
        "    print(bias)    "
      ],
      "execution_count": 22,
      "outputs": [
        {
          "output_type": "stream",
          "text": [
            "WEIGHT MATRICES:\n",
            "(13, 2)\n",
            "[[-0.61800814  4.794374  ]\n",
            " [ 0.47062904  2.1863325 ]\n",
            " [ 0.9455911   3.440555  ]\n",
            " [ 0.60100013  3.4544098 ]\n",
            " [ 0.14969537 -1.9736315 ]\n",
            " [ 0.7841942   2.503114  ]\n",
            " [-0.17230904 -2.2190075 ]\n",
            " [-1.2449242  -1.691977  ]\n",
            " [-1.5758001  -1.5823579 ]\n",
            " [ 1.1314247  -4.711445  ]\n",
            " [-0.09033189  3.1356814 ]\n",
            " [-1.0511657  -2.1677094 ]\n",
            " [-0.05133394 -3.2624826 ]]\n",
            "(2, 13)\n",
            "[[ 2.3557575   1.0460013   0.55470324  1.079377    1.3892773   1.0545652\n",
            "   1.0731169   0.24601105  0.6198005   0.35738406  1.0997622   0.8952193\n",
            "  -0.22974996]\n",
            " [ 0.39672875  0.37491688  0.43919012  0.31952664 -0.24598573  0.39147702\n",
            "  -0.29442436 -0.11932676 -0.30506232 -0.12846652  0.3551624  -0.2848371\n",
            "  -0.10724717]]\n",
            "\n",
            "\n",
            "BIASES:\n",
            "(2,)\n",
            "<tf.Variable 'dense_2/bias:0' shape=(2,) dtype=float32, numpy=array([-2.9883751e-01,  2.6960106e-04], dtype=float32)>\n",
            "(13,)\n",
            "<tf.Variable 'dense_3/bias:0' shape=(13,) dtype=float32, numpy=\n",
            "array([-1.5119878, -2.902397 , -2.3056383, -2.7978446, -2.7926207,\n",
            "       -3.0030339, -2.0251787, -3.0743418, -2.2460856, -2.084789 ,\n",
            "       -2.8471045, -2.07917  , -2.5003922], dtype=float32)>\n"
          ],
          "name": "stdout"
        }
      ]
    },
    {
      "cell_type": "code",
      "metadata": {
        "colab": {
          "base_uri": "https://localhost:8080/"
        },
        "id": "Cd-sHW8f8kjG",
        "outputId": "758209ac-f8b8-4ac3-8aeb-600cd7a75b08"
      },
      "source": [
        "W0=(model.layers[0].get_weights()[0])\r\n",
        "W1=(model.layers[1].get_weights()[0])\r\n",
        "# print(\"W0=\",W0)\r\n",
        "# print(\"W1=\",W1)\r\n",
        "print(\"W0=\",np.round(W0,1))\r\n",
        "print(\"W1=\",np.round(W1,1))\r\n",
        "\r\n",
        "b0 = np.asarray(model.layers[0].bias).astype(float)\r\n",
        "b1 = np.asarray(model.layers[1].bias).astype(float)\r\n",
        "print(\"b0=\",b0)\r\n",
        "print(\"b1=\",b1)\r\n",
        "print(\"b0=\",np.round(b0,1))\r\n",
        "print(\"b1=\",np.round(b1,1))\r\n"
      ],
      "execution_count": 41,
      "outputs": [
        {
          "output_type": "stream",
          "text": [
            "W0= [[-0.6  4.8]\n",
            " [ 0.5  2.2]\n",
            " [ 0.9  3.4]\n",
            " [ 0.6  3.5]\n",
            " [ 0.1 -2. ]\n",
            " [ 0.8  2.5]\n",
            " [-0.2 -2.2]\n",
            " [-1.2 -1.7]\n",
            " [-1.6 -1.6]\n",
            " [ 1.1 -4.7]\n",
            " [-0.1  3.1]\n",
            " [-1.1 -2.2]\n",
            " [-0.1 -3.3]]\n",
            "W1= [[ 2.4  1.   0.6  1.1  1.4  1.1  1.1  0.2  0.6  0.4  1.1  0.9 -0.2]\n",
            " [ 0.4  0.4  0.4  0.3 -0.2  0.4 -0.3 -0.1 -0.3 -0.1  0.4 -0.3 -0.1]]\n",
            "b0= [-2.98837513e-01  2.69601063e-04]\n",
            "b1= [-1.51198781 -2.90239692 -2.30563831 -2.79784465 -2.79262066 -3.00303388\n",
            " -2.02517867 -3.07434177 -2.24608564 -2.08478904 -2.84710455 -2.07916999\n",
            " -2.5003922 ]\n",
            "b0= [-0.3  0. ]\n",
            "b1= [-1.5 -2.9 -2.3 -2.8 -2.8 -3.  -2.  -3.1 -2.2 -2.1 -2.8 -2.1 -2.5]\n"
          ],
          "name": "stdout"
        }
      ]
    },
    {
      "cell_type": "code",
      "metadata": {
        "colab": {
          "base_uri": "https://localhost:8080/"
        },
        "id": "m3g6rhhr5QUW",
        "outputId": "d9d43d7e-2d4c-4fe5-d898-d0d0467eb29a"
      },
      "source": [
        "# bias.value\r\n",
        "W0"
      ],
      "execution_count": 50,
      "outputs": [
        {
          "output_type": "execute_result",
          "data": {
            "text/plain": [
              "array([[-0.61800814,  4.794374  ],\n",
              "       [ 0.47062904,  2.1863325 ],\n",
              "       [ 0.9455911 ,  3.440555  ],\n",
              "       [ 0.60100013,  3.4544098 ],\n",
              "       [ 0.14969537, -1.9736315 ],\n",
              "       [ 0.7841942 ,  2.503114  ],\n",
              "       [-0.17230904, -2.2190075 ],\n",
              "       [-1.2449242 , -1.691977  ],\n",
              "       [-1.5758001 , -1.5823579 ],\n",
              "       [ 1.1314247 , -4.711445  ],\n",
              "       [-0.09033189,  3.1356814 ],\n",
              "       [-1.0511657 , -2.1677094 ],\n",
              "       [-0.05133394, -3.2624826 ]], dtype=float32)"
            ]
          },
          "metadata": {
            "tags": []
          },
          "execution_count": 50
        }
      ]
    },
    {
      "cell_type": "code",
      "metadata": {
        "colab": {
          "base_uri": "https://localhost:8080/",
          "height": 452
        },
        "id": "is780fIY5Qp1",
        "outputId": "3fae13ea-b630-4560-cb61-278470652a83"
      },
      "source": [
        "# d2 = pd.DataFrame(  model.weights[0].numpy(),  columns = ['x1', 'x2'] )\r\n",
        "d2 = pd.DataFrame(  np.round(W0,1),  columns = ['x1', 'x2'] )\r\n",
        "w2v_df = pd.concat( [w2idx,d2],axis=1 )\r\n",
        "w2v_df[['word',\t'x1',\t'x2']]"
      ],
      "execution_count": 54,
      "outputs": [
        {
          "output_type": "execute_result",
          "data": {
            "text/html": [
              "<div>\n",
              "<style scoped>\n",
              "    .dataframe tbody tr th:only-of-type {\n",
              "        vertical-align: middle;\n",
              "    }\n",
              "\n",
              "    .dataframe tbody tr th {\n",
              "        vertical-align: top;\n",
              "    }\n",
              "\n",
              "    .dataframe thead th {\n",
              "        text-align: right;\n",
              "    }\n",
              "</style>\n",
              "<table border=\"1\" class=\"dataframe\">\n",
              "  <thead>\n",
              "    <tr style=\"text-align: right;\">\n",
              "      <th></th>\n",
              "      <th>word</th>\n",
              "      <th>x1</th>\n",
              "      <th>x2</th>\n",
              "    </tr>\n",
              "  </thead>\n",
              "  <tbody>\n",
              "    <tr>\n",
              "      <th>0</th>\n",
              "      <td>балерина</td>\n",
              "      <td>-0.6</td>\n",
              "      <td>4.8</td>\n",
              "    </tr>\n",
              "    <tr>\n",
              "      <th>1</th>\n",
              "      <td>вдохновляет</td>\n",
              "      <td>0.5</td>\n",
              "      <td>2.2</td>\n",
              "    </tr>\n",
              "    <tr>\n",
              "      <th>2</th>\n",
              "      <td>девочку</td>\n",
              "      <td>0.9</td>\n",
              "      <td>3.4</td>\n",
              "    </tr>\n",
              "    <tr>\n",
              "      <th>3</th>\n",
              "      <td>женщина</td>\n",
              "      <td>0.6</td>\n",
              "      <td>3.5</td>\n",
              "    </tr>\n",
              "    <tr>\n",
              "      <th>4</th>\n",
              "      <td>кичлам</td>\n",
              "      <td>0.1</td>\n",
              "      <td>-2.0</td>\n",
              "    </tr>\n",
              "    <tr>\n",
              "      <th>5</th>\n",
              "      <td>красивая</td>\n",
              "      <td>0.8</td>\n",
              "      <td>2.5</td>\n",
              "    </tr>\n",
              "    <tr>\n",
              "      <th>6</th>\n",
              "      <td>ловкий</td>\n",
              "      <td>-0.2</td>\n",
              "      <td>-2.2</td>\n",
              "    </tr>\n",
              "    <tr>\n",
              "      <th>7</th>\n",
              "      <td>молодой</td>\n",
              "      <td>-1.2</td>\n",
              "      <td>-1.7</td>\n",
              "    </tr>\n",
              "    <tr>\n",
              "      <th>8</th>\n",
              "      <td>мужчина</td>\n",
              "      <td>-1.6</td>\n",
              "      <td>-1.6</td>\n",
              "    </tr>\n",
              "    <tr>\n",
              "      <th>9</th>\n",
              "      <td>сильный</td>\n",
              "      <td>1.1</td>\n",
              "      <td>-4.7</td>\n",
              "    </tr>\n",
              "    <tr>\n",
              "      <th>10</th>\n",
              "      <td>учит</td>\n",
              "      <td>-0.1</td>\n",
              "      <td>3.1</td>\n",
              "    </tr>\n",
              "    <tr>\n",
              "      <th>11</th>\n",
              "      <td>штангист</td>\n",
              "      <td>-1.1</td>\n",
              "      <td>-2.2</td>\n",
              "    </tr>\n",
              "    <tr>\n",
              "      <th>12</th>\n",
              "      <td>юниор</td>\n",
              "      <td>-0.1</td>\n",
              "      <td>-3.3</td>\n",
              "    </tr>\n",
              "  </tbody>\n",
              "</table>\n",
              "</div>"
            ],
            "text/plain": [
              "           word   x1   x2\n",
              "0      балерина -0.6  4.8\n",
              "1   вдохновляет  0.5  2.2\n",
              "2       девочку  0.9  3.4\n",
              "3       женщина  0.6  3.5\n",
              "4        кичлам  0.1 -2.0\n",
              "5      красивая  0.8  2.5\n",
              "6        ловкий -0.2 -2.2\n",
              "7       молодой -1.2 -1.7\n",
              "8       мужчина -1.6 -1.6\n",
              "9       сильный  1.1 -4.7\n",
              "10         учит -0.1  3.1\n",
              "11     штангист -1.1 -2.2\n",
              "12        юниор -0.1 -3.3"
            ]
          },
          "metadata": {
            "tags": []
          },
          "execution_count": 54
        }
      ]
    },
    {
      "cell_type": "code",
      "metadata": {
        "colab": {
          "base_uri": "https://localhost:8080/"
        },
        "id": "Zb9GrWES5Q0_",
        "outputId": "51365abf-0c1a-4454-e98e-26246a8999d4"
      },
      "source": [
        "X_train[0].astype(int)\r\n"
      ],
      "execution_count": 57,
      "outputs": [
        {
          "output_type": "execute_result",
          "data": {
            "text/plain": [
              "array([1, 0, 0, 0, 0, 0, 0, 0, 0, 0, 0, 0, 0])"
            ]
          },
          "metadata": {
            "tags": []
          },
          "execution_count": 57
        }
      ]
    },
    {
      "cell_type": "code",
      "metadata": {
        "id": "cvPQy-gxvBv-"
      },
      "source": [
        ""
      ],
      "execution_count": 72,
      "outputs": []
    },
    {
      "cell_type": "code",
      "metadata": {
        "colab": {
          "base_uri": "https://localhost:8080/"
        },
        "id": "PHB0NtbI3h6_",
        "outputId": "b42de8e5-c8e2-42ad-a472-0dc3524e04d0"
      },
      "source": [
        "# import nltk\r\n",
        "# from nltk import tokenize\r\n",
        "# tokenize.sent_tokenize(p)\r\n",
        "\r\n"
      ],
      "execution_count": 79,
      "outputs": [
        {
          "output_type": "execute_result",
          "data": {
            "text/plain": [
              "['king is a strong man',\n",
              " 'queen is a beutiful woman',\n",
              " 'boy is a young man',\n",
              " 'girl is a young woman',\n",
              " 'prince is a young king',\n",
              " 'princess is a young queen',\n",
              " 'man is strong',\n",
              " 'woman is pretty',\n",
              " 'prince is a boy will be king',\n",
              " 'princess is a girl will be queen']"
            ]
          },
          "metadata": {
            "tags": []
          },
          "execution_count": 79
        }
      ]
    },
    {
      "cell_type": "code",
      "metadata": {
        "id": "qDIVf2_43ij7"
      },
      "source": [
        ""
      ],
      "execution_count": null,
      "outputs": []
    },
    {
      "cell_type": "code",
      "metadata": {
        "id": "n2GzxQtU3irP"
      },
      "source": [
        ""
      ],
      "execution_count": null,
      "outputs": []
    },
    {
      "cell_type": "code",
      "metadata": {
        "colab": {
          "base_uri": "https://localhost:8080/"
        },
        "id": "OwS_Zz-avZgt",
        "outputId": "4c58ccca-5b1f-4369-a1ac-92454e528790"
      },
      "source": [
        "np.asarray(w2v_df['word'])"
      ],
      "execution_count": 22,
      "outputs": [
        {
          "output_type": "execute_result",
          "data": {
            "text/plain": [
              "array(['queen', 'woman', 'wise', 'boy', 'strong', 'prince', 'pretty',\n",
              "       'man', 'king', 'princess', 'girl', 'young'], dtype=object)"
            ]
          },
          "metadata": {
            "tags": []
          },
          "execution_count": 22
        }
      ]
    },
    {
      "cell_type": "code",
      "metadata": {
        "colab": {
          "base_uri": "https://localhost:8080/"
        },
        "id": "Drthxt_PjHoY",
        "outputId": "9df75408-f124-48bb-d30c-a40addfe80c4"
      },
      "source": [
        "# [(x, y) for x in [1,2,3] for y in [3,1,4] if x != y]\r\n",
        "sentences = []\r\n",
        "for sentence in corpus:\r\n",
        "    sentences.append(sentence.split())\r\n",
        "sentences\r\n"
      ],
      "execution_count": 48,
      "outputs": [
        {
          "output_type": "execute_result",
          "data": {
            "text/plain": [
              "[['king', 'strong', 'man'],\n",
              " ['queen', 'wise', 'woman'],\n",
              " ['boy', 'young', 'man'],\n",
              " ['girl', 'young', 'woman'],\n",
              " ['prince', 'young', 'king'],\n",
              " ['princess', 'young', 'queen'],\n",
              " ['man', 'strong'],\n",
              " ['woman', 'pretty'],\n",
              " ['prince', 'boy', 'king'],\n",
              " ['princess', 'girl', 'queen']]"
            ]
          },
          "metadata": {
            "tags": []
          },
          "execution_count": 48
        }
      ]
    },
    {
      "cell_type": "code",
      "metadata": {
        "colab": {
          "base_uri": "https://localhost:8080/"
        },
        "id": "SrKR0SmM0fEP",
        "outputId": "7a656524-dd86-4cbe-c8e4-a80c0750c29b"
      },
      "source": [
        "\r\n",
        "sentences"
      ],
      "execution_count": 50,
      "outputs": [
        {
          "output_type": "execute_result",
          "data": {
            "text/plain": [
              "[['king', 'strong', 'man'],\n",
              " ['queen', 'wise', 'woman'],\n",
              " ['boy', 'young', 'man'],\n",
              " ['girl', 'young', 'woman'],\n",
              " ['prince', 'young', 'king'],\n",
              " ['princess', 'young', 'queen'],\n",
              " ['man', 'strong'],\n",
              " ['woman', 'pretty'],\n",
              " ['prince', 'boy', 'king'],\n",
              " ['princess', 'girl', 'queen']]"
            ]
          },
          "metadata": {
            "tags": []
          },
          "execution_count": 50
        }
      ]
    },
    {
      "cell_type": "code",
      "metadata": {
        "colab": {
          "base_uri": "https://localhost:8080/"
        },
        "id": "FVZDz0Kw0gAa",
        "outputId": "45d7fb53-d9a0-4ac8-e67c-18dfbf0ffb62"
      },
      "source": [
        "layer.bias"
      ],
      "execution_count": 90,
      "outputs": [
        {
          "output_type": "execute_result",
          "data": {
            "text/plain": [
              "<tf.Variable 'dense_9/bias:0' shape=(12,) dtype=float32, numpy=\n",
              "array([-3.2867498, -5.0678787, -3.9071274, -3.654713 , -2.8057609,\n",
              "       -2.935007 , -2.2635174, -4.059876 , -2.541485 , -3.355741 ,\n",
              "       -2.9069571, -2.9273875], dtype=float32)>"
            ]
          },
          "metadata": {
            "tags": []
          },
          "execution_count": 90
        }
      ]
    },
    {
      "cell_type": "code",
      "metadata": {
        "colab": {
          "base_uri": "https://localhost:8080/"
        },
        "id": "tnPgzhesjrQ3",
        "outputId": "3041e083-397d-4d3a-d18e-e1116cc29f28"
      },
      "source": [
        ""
      ],
      "execution_count": 18,
      "outputs": [
        {
          "output_type": "execute_result",
          "data": {
            "text/plain": [
              "{'boy',\n",
              " 'girl',\n",
              " 'king',\n",
              " 'man',\n",
              " 'pretty',\n",
              " 'prince',\n",
              " 'princess',\n",
              " 'queen',\n",
              " 'strong',\n",
              " 'wise',\n",
              " 'woman',\n",
              " 'young'}"
            ]
          },
          "metadata": {
            "tags": []
          },
          "execution_count": 18
        }
      ]
    },
    {
      "cell_type": "code",
      "metadata": {
        "id": "FIRibIKak3JK"
      },
      "source": [
        ""
      ],
      "execution_count": 24,
      "outputs": []
    },
    {
      "cell_type": "code",
      "metadata": {
        "colab": {
          "base_uri": "https://localhost:8080/"
        },
        "id": "f9Z3eU7xtvXH",
        "outputId": "f4a1fd77-604d-45fa-8585-13644a96a8e5"
      },
      "source": [
        "ww"
      ],
      "execution_count": 25,
      "outputs": [
        {
          "output_type": "execute_result",
          "data": {
            "text/plain": [
              "{'boy',\n",
              " 'girl',\n",
              " 'king',\n",
              " 'man',\n",
              " 'pretty',\n",
              " 'prince',\n",
              " 'princess',\n",
              " 'queen',\n",
              " 'strong',\n",
              " 'wise',\n",
              " 'woman',\n",
              " 'young'}"
            ]
          },
          "metadata": {
            "tags": []
          },
          "execution_count": 25
        }
      ]
    },
    {
      "cell_type": "code",
      "metadata": {
        "colab": {
          "base_uri": "https://localhost:8080/"
        },
        "id": "Nq4QICrBvjpk",
        "outputId": "dc971b0e-031b-461c-f47d-99f2244cc8b4"
      },
      "source": [
        "ww=set();\r\n",
        "[ww.union((set(ss))) for ss in [s.split(' ') for s in corpus]]"
      ],
      "execution_count": 29,
      "outputs": [
        {
          "output_type": "execute_result",
          "data": {
            "text/plain": [
              "[{'king', 'man', 'strong'},\n",
              " {'queen', 'wise', 'woman'},\n",
              " {'boy', 'man', 'young'},\n",
              " {'girl', 'woman', 'young'},\n",
              " {'king', 'prince', 'young'},\n",
              " {'princess', 'queen', 'young'},\n",
              " {'man', 'strong'},\n",
              " {'pretty', 'woman'},\n",
              " {'boy', 'king', 'prince'},\n",
              " {'girl', 'princess', 'queen'}]"
            ]
          },
          "metadata": {
            "tags": []
          },
          "execution_count": 29
        }
      ]
    },
    {
      "cell_type": "code",
      "metadata": {
        "id": "lMetuP1pvpSD"
      },
      "source": [
        ""
      ],
      "execution_count": null,
      "outputs": []
    },
    {
      "cell_type": "code",
      "metadata": {
        "id": "hmw7GCIA8faT"
      },
      "source": [
        ""
      ],
      "execution_count": null,
      "outputs": []
    }
  ]
}