{
  "nbformat": 4,
  "nbformat_minor": 0,
  "metadata": {
    "colab": {
      "name": "w2v_tf_fast.ipynb",
      "provenance": [],
      "authorship_tag": "ABX9TyPpPMME88adYG7aNKrTz9AQ",
      "include_colab_link": true
    },
    "kernelspec": {
      "name": "python3",
      "display_name": "Python 3"
    }
  },
  "cells": [
    {
      "cell_type": "markdown",
      "metadata": {
        "id": "view-in-github",
        "colab_type": "text"
      },
      "source": [
        "<a href=\"https://colab.research.google.com/github/ftk1000/w2v_ftk1000/blob/master/w2v_tf_fast.ipynb\" target=\"_parent\"><img src=\"https://colab.research.google.com/assets/colab-badge.svg\" alt=\"Open In Colab\"/></a>"
      ]
    },
    {
      "cell_type": "code",
      "metadata": {
        "colab": {
          "base_uri": "https://localhost:8080/",
          "height": 447
        },
        "id": "ua_LbuNEicPW",
        "outputId": "70e08ea5-4daf-4aa3-c2f9-2891c03fe209"
      },
      "source": [
        "# w2v_tf_fast\r\n",
        "import pandas as pd\r\n",
        "pd.options.display.max_columns = 50\r\n",
        "pd.set_option('display.width', 1000)\r\n",
        "\r\n",
        "\r\n",
        "corpus = ['king is a strong man', \r\n",
        "          'queen is a wise woman', \r\n",
        "          'boy is a young man',\r\n",
        "          'girl is a young woman',\r\n",
        "          'prince is a young king',\r\n",
        "          'princess is a young queen',\r\n",
        "          'man is strong', \r\n",
        "          'woman is pretty',\r\n",
        "          'prince is a boy will be king',\r\n",
        "          'princess is a girl will be queen']\r\n",
        "\r\n",
        "def remove_stop_words(corpus):\r\n",
        "    stop_words = ['is', 'a', 'will', 'be']\r\n",
        "    results = []\r\n",
        "    for text in corpus:\r\n",
        "        tmp = text.split(' ')\r\n",
        "        for stop_word in stop_words:\r\n",
        "            if stop_word in tmp:\r\n",
        "                tmp.remove(stop_word)\r\n",
        "        results.append(\" \".join(tmp))\r\n",
        "    return results\r\n",
        "\r\n",
        "corpus = remove_stop_words(corpus)\r\n",
        "sentences = [s.split(' ') for s in corpus]\r\n",
        "\r\n",
        "# words = []\r\n",
        "# for text in corpus:\r\n",
        "#     for word in text.split(' '):\r\n",
        "#         words.append(word)\r\n",
        "# words = set(words)\r\n",
        "\r\n",
        "words=[]\r\n",
        "for ss in sentences:\r\n",
        "  words += ss\r\n",
        "words = set(words)\r\n",
        "print(f'{len(words)} words in VOCAB=', words)\r\n",
        "\r\n",
        "word2int = {}\r\n",
        "for i,word in enumerate(words):\r\n",
        "    word2int[word] = i\r\n",
        "print('word2int=', word2int)\r\n",
        "\r\n",
        "WINDOW_SIZE = 2\r\n",
        "\r\n",
        "data = []\r\n",
        "for sentence in sentences:\r\n",
        "    for idx, word in enumerate(sentence):\r\n",
        "        for neighbor in sentence[max(idx - WINDOW_SIZE, 0) : min(idx + WINDOW_SIZE, len(sentence)) + 1] : \r\n",
        "            if neighbor != word:\r\n",
        "                data.append([word, neighbor])\r\n",
        "df = pd.DataFrame(data, columns = ['input', 'label'])\r\n",
        "print('df.shape =', df.shape)\r\n",
        "print(sentences)\r\n",
        "df.head(n=10)"
      ],
      "execution_count": 56,
      "outputs": [
        {
          "output_type": "stream",
          "text": [
            "12 words in VOCAB= {'princess', 'pretty', 'strong', 'boy', 'man', 'king', 'young', 'wise', 'queen', 'prince', 'girl', 'woman'}\n",
            "word2int= {'princess': 0, 'pretty': 1, 'strong': 2, 'boy': 3, 'man': 4, 'king': 5, 'young': 6, 'wise': 7, 'queen': 8, 'prince': 9, 'girl': 10, 'woman': 11}\n",
            "df.shape = (52, 2)\n",
            "[['king', 'strong', 'man'], ['queen', 'wise', 'woman'], ['boy', 'young', 'man'], ['girl', 'young', 'woman'], ['prince', 'young', 'king'], ['princess', 'young', 'queen'], ['man', 'strong'], ['woman', 'pretty'], ['prince', 'boy', 'king'], ['princess', 'girl', 'queen']]\n"
          ],
          "name": "stdout"
        },
        {
          "output_type": "execute_result",
          "data": {
            "text/html": [
              "<div>\n",
              "<style scoped>\n",
              "    .dataframe tbody tr th:only-of-type {\n",
              "        vertical-align: middle;\n",
              "    }\n",
              "\n",
              "    .dataframe tbody tr th {\n",
              "        vertical-align: top;\n",
              "    }\n",
              "\n",
              "    .dataframe thead th {\n",
              "        text-align: right;\n",
              "    }\n",
              "</style>\n",
              "<table border=\"1\" class=\"dataframe\">\n",
              "  <thead>\n",
              "    <tr style=\"text-align: right;\">\n",
              "      <th></th>\n",
              "      <th>input</th>\n",
              "      <th>label</th>\n",
              "    </tr>\n",
              "  </thead>\n",
              "  <tbody>\n",
              "    <tr>\n",
              "      <th>0</th>\n",
              "      <td>king</td>\n",
              "      <td>strong</td>\n",
              "    </tr>\n",
              "    <tr>\n",
              "      <th>1</th>\n",
              "      <td>king</td>\n",
              "      <td>man</td>\n",
              "    </tr>\n",
              "    <tr>\n",
              "      <th>2</th>\n",
              "      <td>strong</td>\n",
              "      <td>king</td>\n",
              "    </tr>\n",
              "    <tr>\n",
              "      <th>3</th>\n",
              "      <td>strong</td>\n",
              "      <td>man</td>\n",
              "    </tr>\n",
              "    <tr>\n",
              "      <th>4</th>\n",
              "      <td>man</td>\n",
              "      <td>king</td>\n",
              "    </tr>\n",
              "    <tr>\n",
              "      <th>5</th>\n",
              "      <td>man</td>\n",
              "      <td>strong</td>\n",
              "    </tr>\n",
              "    <tr>\n",
              "      <th>6</th>\n",
              "      <td>queen</td>\n",
              "      <td>wise</td>\n",
              "    </tr>\n",
              "    <tr>\n",
              "      <th>7</th>\n",
              "      <td>queen</td>\n",
              "      <td>woman</td>\n",
              "    </tr>\n",
              "    <tr>\n",
              "      <th>8</th>\n",
              "      <td>wise</td>\n",
              "      <td>queen</td>\n",
              "    </tr>\n",
              "    <tr>\n",
              "      <th>9</th>\n",
              "      <td>wise</td>\n",
              "      <td>woman</td>\n",
              "    </tr>\n",
              "  </tbody>\n",
              "</table>\n",
              "</div>"
            ],
            "text/plain": [
              "    input   label\n",
              "0    king  strong\n",
              "1    king     man\n",
              "2  strong    king\n",
              "3  strong     man\n",
              "4     man    king\n",
              "5     man  strong\n",
              "6   queen    wise\n",
              "7   queen   woman\n",
              "8    wise   queen\n",
              "9    wise   woman"
            ]
          },
          "metadata": {
            "tags": []
          },
          "execution_count": 56
        }
      ]
    },
    {
      "cell_type": "code",
      "metadata": {
        "colab": {
          "base_uri": "https://localhost:8080/",
          "height": 258
        },
        "id": "bII4GHoki5ZB",
        "outputId": "a786bbc8-938e-4a21-a2dd-790312f06204"
      },
      "source": [
        "w2idx = pd.DataFrame.from_dict({ 'values': word2int.values(), 'word': word2int.keys() })\r\n",
        "# print(w2idx.head())\r\n",
        "\r\n",
        "import tensorflow as tf\r\n",
        "import numpy as np\r\n",
        "from tensorflow.keras.utils import plot_model\r\n",
        "\r\n",
        "ONE_HOT_DIM = len(words)\r\n",
        "print('ONE_HOT_DIM = ', ONE_HOT_DIM)\r\n",
        "# function to convert numbers to one hot vectors\r\n",
        "def to_one_hot_encoding(data_point_index):\r\n",
        "    one_hot_encoding = np.zeros(ONE_HOT_DIM)\r\n",
        "    one_hot_encoding[data_point_index] = 1\r\n",
        "    return one_hot_encoding\r\n",
        "\r\n",
        "X = [] # input word\r\n",
        "Y = [] # target word\r\n",
        "\r\n",
        "\r\n",
        "# print(df.head())\r\n",
        "print('word2int=', word2int)\r\n",
        "# k=0\r\n",
        "for x, y in zip(df['input'], df['label']):\r\n",
        "    X.append(to_one_hot_encoding(word2int[ x ]))\r\n",
        "    Y.append(to_one_hot_encoding(word2int[ y ]))\r\n",
        "    # if k<5:\r\n",
        "    #   Xtmp = to_one_hot_encoding(word2int[ x ])\r\n",
        "    #   Ytmp = to_one_hot_encoding(word2int[ y ])\r\n",
        "    #   print(x,'\\t===>',Xtmp, '\\t\\t\\t\\t',  y ,'===>',Ytmp)\r\n",
        "    #   k+=1\r\n",
        "\r\n",
        "\r\n",
        "# convert them to numpy arrays\r\n",
        "X_train = np.asarray(X)\r\n",
        "Y_train = np.asarray(Y)\r\n",
        "df['X_train']=list(X_train)\r\n",
        "df['Y_train']=list(Y_train)\r\n",
        "df.head()"
      ],
      "execution_count": 67,
      "outputs": [
        {
          "output_type": "stream",
          "text": [
            "ONE_HOT_DIM =  12\n",
            "word2int= {'princess': 0, 'pretty': 1, 'strong': 2, 'boy': 3, 'man': 4, 'king': 5, 'young': 6, 'wise': 7, 'queen': 8, 'prince': 9, 'girl': 10, 'woman': 11}\n"
          ],
          "name": "stdout"
        },
        {
          "output_type": "execute_result",
          "data": {
            "text/html": [
              "<div>\n",
              "<style scoped>\n",
              "    .dataframe tbody tr th:only-of-type {\n",
              "        vertical-align: middle;\n",
              "    }\n",
              "\n",
              "    .dataframe tbody tr th {\n",
              "        vertical-align: top;\n",
              "    }\n",
              "\n",
              "    .dataframe thead th {\n",
              "        text-align: right;\n",
              "    }\n",
              "</style>\n",
              "<table border=\"1\" class=\"dataframe\">\n",
              "  <thead>\n",
              "    <tr style=\"text-align: right;\">\n",
              "      <th></th>\n",
              "      <th>input</th>\n",
              "      <th>label</th>\n",
              "      <th>X_train</th>\n",
              "      <th>Y_train</th>\n",
              "    </tr>\n",
              "  </thead>\n",
              "  <tbody>\n",
              "    <tr>\n",
              "      <th>0</th>\n",
              "      <td>king</td>\n",
              "      <td>strong</td>\n",
              "      <td>[0.0, 0.0, 0.0, 0.0, 0.0, 1.0, 0.0, 0.0, 0.0, ...</td>\n",
              "      <td>[0.0, 0.0, 1.0, 0.0, 0.0, 0.0, 0.0, 0.0, 0.0, ...</td>\n",
              "    </tr>\n",
              "    <tr>\n",
              "      <th>1</th>\n",
              "      <td>king</td>\n",
              "      <td>man</td>\n",
              "      <td>[0.0, 0.0, 0.0, 0.0, 0.0, 1.0, 0.0, 0.0, 0.0, ...</td>\n",
              "      <td>[0.0, 0.0, 0.0, 0.0, 1.0, 0.0, 0.0, 0.0, 0.0, ...</td>\n",
              "    </tr>\n",
              "    <tr>\n",
              "      <th>2</th>\n",
              "      <td>strong</td>\n",
              "      <td>king</td>\n",
              "      <td>[0.0, 0.0, 1.0, 0.0, 0.0, 0.0, 0.0, 0.0, 0.0, ...</td>\n",
              "      <td>[0.0, 0.0, 0.0, 0.0, 0.0, 1.0, 0.0, 0.0, 0.0, ...</td>\n",
              "    </tr>\n",
              "    <tr>\n",
              "      <th>3</th>\n",
              "      <td>strong</td>\n",
              "      <td>man</td>\n",
              "      <td>[0.0, 0.0, 1.0, 0.0, 0.0, 0.0, 0.0, 0.0, 0.0, ...</td>\n",
              "      <td>[0.0, 0.0, 0.0, 0.0, 1.0, 0.0, 0.0, 0.0, 0.0, ...</td>\n",
              "    </tr>\n",
              "    <tr>\n",
              "      <th>4</th>\n",
              "      <td>man</td>\n",
              "      <td>king</td>\n",
              "      <td>[0.0, 0.0, 0.0, 0.0, 1.0, 0.0, 0.0, 0.0, 0.0, ...</td>\n",
              "      <td>[0.0, 0.0, 0.0, 0.0, 0.0, 1.0, 0.0, 0.0, 0.0, ...</td>\n",
              "    </tr>\n",
              "  </tbody>\n",
              "</table>\n",
              "</div>"
            ],
            "text/plain": [
              "    input  ...                                            Y_train\n",
              "0    king  ...  [0.0, 0.0, 1.0, 0.0, 0.0, 0.0, 0.0, 0.0, 0.0, ...\n",
              "1    king  ...  [0.0, 0.0, 0.0, 0.0, 1.0, 0.0, 0.0, 0.0, 0.0, ...\n",
              "2  strong  ...  [0.0, 0.0, 0.0, 0.0, 0.0, 1.0, 0.0, 0.0, 0.0, ...\n",
              "3  strong  ...  [0.0, 0.0, 0.0, 0.0, 1.0, 0.0, 0.0, 0.0, 0.0, ...\n",
              "4     man  ...  [0.0, 0.0, 0.0, 0.0, 0.0, 1.0, 0.0, 0.0, 0.0, ...\n",
              "\n",
              "[5 rows x 4 columns]"
            ]
          },
          "metadata": {
            "tags": []
          },
          "execution_count": 67
        }
      ]
    },
    {
      "cell_type": "code",
      "metadata": {
        "colab": {
          "base_uri": "https://localhost:8080/",
          "height": 312
        },
        "id": "8z6U3c0H5Oca",
        "outputId": "2cc82db5-5c28-4dd5-ed81-9d4db7e7175d"
      },
      "source": [
        "from keras import models\r\n",
        "from keras import layers \r\n",
        "network = models.Sequential()\r\n",
        "# https://www.tensorflow.org/api_docs/python/tf/keras/activations   # network.add( layers.Dense(2, activation='relu', input_shape=(12,) ) )\r\n",
        "network.add( layers.Dense(2, activation='linear', input_shape=(12,) ) )\r\n",
        "network.add( layers.Dense(12, activation='softmax' ) )\r\n",
        "plot_model(network, show_shapes=1, show_dtype=1,show_layer_names=0)              # plot_model(network, show_shapes=1, show_layer_names=1)\r\n"
      ],
      "execution_count": 73,
      "outputs": [
        {
          "output_type": "execute_result",
          "data": {
            "image/png": "[encoded data removed]",
            "text/plain": [
              "<IPython.core.display.Image object>"
            ]
          },
          "metadata": {
            "tags": []
          },
          "execution_count": 73
        }
      ]
    },
    {
      "cell_type": "code",
      "metadata": {
        "colab": {
          "base_uri": "https://localhost:8080/"
        },
        "id": "kC0thDTO5Po3",
        "outputId": "78939f64-b41d-4cab-f26a-ff3c1ba0ae57"
      },
      "source": [
        "network.compile( optimizer='rmsprop', \r\n",
        "                 loss = 'categorical_crossentropy', \r\n",
        "                 metrics = ['accuracy'] )\r\n",
        "network.fit( X_train, Y_train, epochs=100, batch_size=1, verbose=0)\r\n",
        "# ?network.fit\r\n",
        "print('done')"
      ],
      "execution_count": 79,
      "outputs": [
        {
          "output_type": "stream",
          "text": [
            "done\n"
          ],
          "name": "stdout"
        }
      ]
    },
    {
      "cell_type": "code",
      "metadata": {
        "colab": {
          "base_uri": "https://localhost:8080/"
        },
        "id": "MuIkjn8g5P_c",
        "outputId": "cf4edaab-9a99-4b62-9e74-9706a31d8ae6"
      },
      "source": [
        "network.weights"
      ],
      "execution_count": 82,
      "outputs": [
        {
          "output_type": "execute_result",
          "data": {
            "text/plain": [
              "[<tf.Variable 'dense_8/kernel:0' shape=(12, 2) dtype=float32, numpy=\n",
              " array([[-0.97510445,  0.1373287 ],\n",
              "        [ 1.3639522 ,  1.1242893 ],\n",
              "        [-2.2308335 , -0.7693029 ],\n",
              "        [-0.5495118 ,  0.82197315],\n",
              "        [ 2.588745  ,  1.9182519 ],\n",
              "        [-0.5636432 ,  1.5784578 ],\n",
              "        [-0.13952069,  0.82493156],\n",
              "        [-0.42625022,  1.1849515 ],\n",
              "        [ 1.7762978 , -1.654417  ],\n",
              "        [ 2.5008066 ,  2.7190084 ],\n",
              "        [ 1.4317445 ,  0.3235264 ],\n",
              "        [-0.42912212, -1.6877227 ]], dtype=float32)>,\n",
              " <tf.Variable 'dense_8/bias:0' shape=(2,) dtype=float32, numpy=array([ 0.07473114, -0.02692224], dtype=float32)>,\n",
              " <tf.Variable 'dense_9/kernel:0' shape=(2, 12) dtype=float32, numpy=\n",
              " array([[-0.7130837, -1.4806995, -0.8806491, -1.1665227, -2.0305922,\n",
              "         -1.0767251, -1.0639976, -1.1305604, -1.6105447, -1.844313 ,\n",
              "         -1.3766019, -1.0236791],\n",
              "        [-2.4955916, -2.7239256, -1.7322878, -1.4234288, -2.1139448,\n",
              "         -1.680605 , -2.1129918, -2.8864455, -2.0471253, -1.4459993,\n",
              "         -2.4566011, -2.0511937]], dtype=float32)>,\n",
              " <tf.Variable 'dense_9/bias:0' shape=(12,) dtype=float32, numpy=\n",
              " array([-3.2867498, -5.0678787, -3.9071274, -3.654713 , -2.8057609,\n",
              "        -2.935007 , -2.2635174, -4.059876 , -2.541485 , -3.355741 ,\n",
              "        -2.9069571, -2.9273875], dtype=float32)>]"
            ]
          },
          "metadata": {
            "tags": []
          },
          "execution_count": 82
        }
      ]
    },
    {
      "cell_type": "code",
      "metadata": {
        "colab": {
          "base_uri": "https://localhost:8080/"
        },
        "id": "t9IWU6j-AjeP",
        "outputId": "8aa91590-a3a8-4cde-cf93-bfb8dabafed4"
      },
      "source": [
        "network.get_weights()"
      ],
      "execution_count": 83,
      "outputs": [
        {
          "output_type": "execute_result",
          "data": {
            "text/plain": [
              "[array([[-0.97510445,  0.1373287 ],\n",
              "        [ 1.3639522 ,  1.1242893 ],\n",
              "        [-2.2308335 , -0.7693029 ],\n",
              "        [-0.5495118 ,  0.82197315],\n",
              "        [ 2.588745  ,  1.9182519 ],\n",
              "        [-0.5636432 ,  1.5784578 ],\n",
              "        [-0.13952069,  0.82493156],\n",
              "        [-0.42625022,  1.1849515 ],\n",
              "        [ 1.7762978 , -1.654417  ],\n",
              "        [ 2.5008066 ,  2.7190084 ],\n",
              "        [ 1.4317445 ,  0.3235264 ],\n",
              "        [-0.42912212, -1.6877227 ]], dtype=float32),\n",
              " array([ 0.07473114, -0.02692224], dtype=float32),\n",
              " array([[-0.7130837, -1.4806995, -0.8806491, -1.1665227, -2.0305922,\n",
              "         -1.0767251, -1.0639976, -1.1305604, -1.6105447, -1.844313 ,\n",
              "         -1.3766019, -1.0236791],\n",
              "        [-2.4955916, -2.7239256, -1.7322878, -1.4234288, -2.1139448,\n",
              "         -1.680605 , -2.1129918, -2.8864455, -2.0471253, -1.4459993,\n",
              "         -2.4566011, -2.0511937]], dtype=float32),\n",
              " array([-3.2867498, -5.0678787, -3.9071274, -3.654713 , -2.8057609,\n",
              "        -2.935007 , -2.2635174, -4.059876 , -2.541485 , -3.355741 ,\n",
              "        -2.9069571, -2.9273875], dtype=float32)]"
            ]
          },
          "metadata": {
            "tags": []
          },
          "execution_count": 83
        }
      ]
    },
    {
      "cell_type": "code",
      "metadata": {
        "colab": {
          "base_uri": "https://localhost:8080/"
        },
        "id": "qHpvXzO8AkFP",
        "outputId": "4faa15ea-13f4-4227-95b7-25042004165e"
      },
      "source": [
        "# # https://ai-pool.com/d/how-to-get-the-weights-of-keras-model-\r\n",
        "# for layer in model.layers:\r\n",
        "#     weights = layer.get_weights() # list\r\n",
        "\r\n",
        "# from keras.models import Sequential\r\n",
        "# model = Sequential()\r\n",
        "# weights = model.get_weights() # returs a numpy list of weights  \r\n",
        "\r\n",
        "print('WEIGHT MATRICES:')\r\n",
        "for layer in network.layers:\r\n",
        "    weights = layer.get_weights() # list\r\n",
        "    print(weights[0].shape)\r\n",
        "    print(weights[0])\r\n",
        "\r\n",
        "print('\\n\\nBIASES:')\r\n",
        "for layer in network.layers:\r\n",
        "    bias = layer.bias # list\r\n",
        "    print(bias.shape)\r\n",
        "    print(bias)    "
      ],
      "execution_count": 95,
      "outputs": [
        {
          "output_type": "stream",
          "text": [
            "WEIGHT MATRICES:\n",
            "(12, 2)\n",
            "[[-0.97510445  0.1373287 ]\n",
            " [ 1.3639522   1.1242893 ]\n",
            " [-2.2308335  -0.7693029 ]\n",
            " [-0.5495118   0.82197315]\n",
            " [ 2.588745    1.9182519 ]\n",
            " [-0.5636432   1.5784578 ]\n",
            " [-0.13952069  0.82493156]\n",
            " [-0.42625022  1.1849515 ]\n",
            " [ 1.7762978  -1.654417  ]\n",
            " [ 2.5008066   2.7190084 ]\n",
            " [ 1.4317445   0.3235264 ]\n",
            " [-0.42912212 -1.6877227 ]]\n",
            "(2, 12)\n",
            "[[-0.7130837 -1.4806995 -0.8806491 -1.1665227 -2.0305922 -1.0767251\n",
            "  -1.0639976 -1.1305604 -1.6105447 -1.844313  -1.3766019 -1.0236791]\n",
            " [-2.4955916 -2.7239256 -1.7322878 -1.4234288 -2.1139448 -1.680605\n",
            "  -2.1129918 -2.8864455 -2.0471253 -1.4459993 -2.4566011 -2.0511937]]\n",
            "\n",
            "\n",
            "BIASES:\n",
            "(2,)\n",
            "<tf.Variable 'dense_8/bias:0' shape=(2,) dtype=float32, numpy=array([ 0.07473114, -0.02692224], dtype=float32)>\n",
            "(12,)\n",
            "<tf.Variable 'dense_9/bias:0' shape=(12,) dtype=float32, numpy=\n",
            "array([-3.2867498, -5.0678787, -3.9071274, -3.654713 , -2.8057609,\n",
            "       -2.935007 , -2.2635174, -4.059876 , -2.541485 , -3.355741 ,\n",
            "       -2.9069571, -2.9273875], dtype=float32)>\n"
          ],
          "name": "stdout"
        }
      ]
    },
    {
      "cell_type": "code",
      "metadata": {
        "colab": {
          "base_uri": "https://localhost:8080/"
        },
        "id": "Rospqq7y5QJs",
        "outputId": "efcde7de-867f-4967-cd88-381f7b7cc72c"
      },
      "source": [
        "  bias.shape"
      ],
      "execution_count": 97,
      "outputs": [
        {
          "output_type": "execute_result",
          "data": {
            "text/plain": [
              "TensorShape([12])"
            ]
          },
          "metadata": {
            "tags": []
          },
          "execution_count": 97
        }
      ]
    },
    {
      "cell_type": "code",
      "metadata": {
        "colab": {
          "base_uri": "https://localhost:8080/"
        },
        "id": "m3g6rhhr5QUW",
        "outputId": "c32ab787-a46c-4b40-cdd5-0b0d21e0465f"
      },
      "source": [
        "bias.value"
      ],
      "execution_count": 102,
      "outputs": [
        {
          "output_type": "execute_result",
          "data": {
            "text/plain": [
              "<bound method BaseResourceVariable.value of <tf.Variable 'dense_9/bias:0' shape=(12,) dtype=float32, numpy=\n",
              "array([-3.2867498, -5.0678787, -3.9071274, -3.654713 , -2.8057609,\n",
              "       -2.935007 , -2.2635174, -4.059876 , -2.541485 , -3.355741 ,\n",
              "       -2.9069571, -2.9273875], dtype=float32)>>"
            ]
          },
          "metadata": {
            "tags": []
          },
          "execution_count": 102
        }
      ]
    },
    {
      "cell_type": "code",
      "metadata": {
        "colab": {
          "base_uri": "https://localhost:8080/"
        },
        "id": "kyaubHzh5Qeo",
        "outputId": "cce77342-6ac7-4d30-debd-b05c285e0d76"
      },
      "source": [
        "layer.get_weights"
      ],
      "execution_count": 103,
      "outputs": [
        {
          "output_type": "execute_result",
          "data": {
            "text/plain": [
              "<bound method Layer.get_weights of <tensorflow.python.keras.layers.core.Dense object at 0x7f3f61e7aa10>>"
            ]
          },
          "metadata": {
            "tags": []
          },
          "execution_count": 103
        }
      ]
    },
    {
      "cell_type": "code",
      "metadata": {
        "colab": {
          "base_uri": "https://localhost:8080/",
          "height": 421
        },
        "id": "is780fIY5Qp1",
        "outputId": "05330b46-5b13-4b99-993f-96057daefc11"
      },
      "source": [
        "d2 = pd.DataFrame(  network.weights[0].numpy(),  columns = ['x1', 'x2'] )\r\n",
        "w2v_df = pd.concat( [w2idx,d2],axis=1 )\r\n",
        "w2v_df"
      ],
      "execution_count": 104,
      "outputs": [
        {
          "output_type": "execute_result",
          "data": {
            "text/html": [
              "<div>\n",
              "<style scoped>\n",
              "    .dataframe tbody tr th:only-of-type {\n",
              "        vertical-align: middle;\n",
              "    }\n",
              "\n",
              "    .dataframe tbody tr th {\n",
              "        vertical-align: top;\n",
              "    }\n",
              "\n",
              "    .dataframe thead th {\n",
              "        text-align: right;\n",
              "    }\n",
              "</style>\n",
              "<table border=\"1\" class=\"dataframe\">\n",
              "  <thead>\n",
              "    <tr style=\"text-align: right;\">\n",
              "      <th></th>\n",
              "      <th>values</th>\n",
              "      <th>word</th>\n",
              "      <th>x1</th>\n",
              "      <th>x2</th>\n",
              "    </tr>\n",
              "  </thead>\n",
              "  <tbody>\n",
              "    <tr>\n",
              "      <th>0</th>\n",
              "      <td>0</td>\n",
              "      <td>princess</td>\n",
              "      <td>-0.975104</td>\n",
              "      <td>0.137329</td>\n",
              "    </tr>\n",
              "    <tr>\n",
              "      <th>1</th>\n",
              "      <td>1</td>\n",
              "      <td>pretty</td>\n",
              "      <td>1.363952</td>\n",
              "      <td>1.124289</td>\n",
              "    </tr>\n",
              "    <tr>\n",
              "      <th>2</th>\n",
              "      <td>2</td>\n",
              "      <td>strong</td>\n",
              "      <td>-2.230834</td>\n",
              "      <td>-0.769303</td>\n",
              "    </tr>\n",
              "    <tr>\n",
              "      <th>3</th>\n",
              "      <td>3</td>\n",
              "      <td>boy</td>\n",
              "      <td>-0.549512</td>\n",
              "      <td>0.821973</td>\n",
              "    </tr>\n",
              "    <tr>\n",
              "      <th>4</th>\n",
              "      <td>4</td>\n",
              "      <td>man</td>\n",
              "      <td>2.588745</td>\n",
              "      <td>1.918252</td>\n",
              "    </tr>\n",
              "    <tr>\n",
              "      <th>5</th>\n",
              "      <td>5</td>\n",
              "      <td>king</td>\n",
              "      <td>-0.563643</td>\n",
              "      <td>1.578458</td>\n",
              "    </tr>\n",
              "    <tr>\n",
              "      <th>6</th>\n",
              "      <td>6</td>\n",
              "      <td>young</td>\n",
              "      <td>-0.139521</td>\n",
              "      <td>0.824932</td>\n",
              "    </tr>\n",
              "    <tr>\n",
              "      <th>7</th>\n",
              "      <td>7</td>\n",
              "      <td>wise</td>\n",
              "      <td>-0.426250</td>\n",
              "      <td>1.184952</td>\n",
              "    </tr>\n",
              "    <tr>\n",
              "      <th>8</th>\n",
              "      <td>8</td>\n",
              "      <td>queen</td>\n",
              "      <td>1.776298</td>\n",
              "      <td>-1.654417</td>\n",
              "    </tr>\n",
              "    <tr>\n",
              "      <th>9</th>\n",
              "      <td>9</td>\n",
              "      <td>prince</td>\n",
              "      <td>2.500807</td>\n",
              "      <td>2.719008</td>\n",
              "    </tr>\n",
              "    <tr>\n",
              "      <th>10</th>\n",
              "      <td>10</td>\n",
              "      <td>girl</td>\n",
              "      <td>1.431744</td>\n",
              "      <td>0.323526</td>\n",
              "    </tr>\n",
              "    <tr>\n",
              "      <th>11</th>\n",
              "      <td>11</td>\n",
              "      <td>woman</td>\n",
              "      <td>-0.429122</td>\n",
              "      <td>-1.687723</td>\n",
              "    </tr>\n",
              "  </tbody>\n",
              "</table>\n",
              "</div>"
            ],
            "text/plain": [
              "    values      word        x1        x2\n",
              "0        0  princess -0.975104  0.137329\n",
              "1        1    pretty  1.363952  1.124289\n",
              "2        2    strong -2.230834 -0.769303\n",
              "3        3       boy -0.549512  0.821973\n",
              "4        4       man  2.588745  1.918252\n",
              "5        5      king -0.563643  1.578458\n",
              "6        6     young -0.139521  0.824932\n",
              "7        7      wise -0.426250  1.184952\n",
              "8        8     queen  1.776298 -1.654417\n",
              "9        9    prince  2.500807  2.719008\n",
              "10      10      girl  1.431744  0.323526\n",
              "11      11     woman -0.429122 -1.687723"
            ]
          },
          "metadata": {
            "tags": []
          },
          "execution_count": 104
        }
      ]
    },
    {
      "cell_type": "code",
      "metadata": {
        "colab": {
          "base_uri": "https://localhost:8080/",
          "height": 269
        },
        "id": "Zb9GrWES5Q0_",
        "outputId": "6a8af766-425a-4f1c-8d95-12609bc1a993"
      },
      "source": [
        "\r\n",
        "%matplotlib inline\r\n",
        "import matplotlib.pyplot as plt\r\n",
        "\r\n",
        "x1 = np.array(w2v_df['x1'])\r\n",
        "x2 = np.array(w2v_df['x2'])\r\n",
        "plt.close()\r\n",
        "PADDING = .1\r\n",
        "x_axis_min, x_axis_max = np.min(x1)-PADDING, np.max(x1)+PADDING\r\n",
        "y_axis_min, y_axis_max = np.min(x2)-PADDING, np.max(x2)+PADDING\r\n",
        "\r\n",
        "\r\n",
        "fig, ax = plt.subplots()\r\n",
        "plt.rcParams[\"figure.figsize\"] = (15,10)\r\n",
        "# plt.figure(figsize=(10,10))\r\n",
        "\r\n",
        "for word, x1, x2 in zip(w2v_df['word'], w2v_df['x1'], w2v_df['x2']):\r\n",
        "    ax.annotate(word, (x1,x2 ))\r\n",
        "    \r\n",
        "plt.xlim(x_axis_min,x_axis_max)\r\n",
        "plt.ylim(y_axis_min,y_axis_max)\r\n",
        "\r\n",
        "# plt.scatter(x1, x2, c='red', alpha=0.5)\r\n",
        "plt.show()\r\n"
      ],
      "execution_count": 105,
      "outputs": [
        {
          "output_type": "display_data",
          "data": {
            "image/png": "[encoded data removed]",
            "text/plain": [
              "<Figure size 432x288 with 1 Axes>"
            ]
          },
          "metadata": {
            "tags": [],
            "needs_background": "light"
          }
        }
      ]
    },
    {
      "cell_type": "code",
      "metadata": {
        "colab": {
          "base_uri": "https://localhost:8080/"
        },
        "id": "Drthxt_PjHoY",
        "outputId": "9df75408-f124-48bb-d30c-a40addfe80c4"
      },
      "source": [
        "# [(x, y) for x in [1,2,3] for y in [3,1,4] if x != y]\r\n",
        "sentences = []\r\n",
        "for sentence in corpus:\r\n",
        "    sentences.append(sentence.split())\r\n",
        "sentences\r\n"
      ],
      "execution_count": 48,
      "outputs": [
        {
          "output_type": "execute_result",
          "data": {
            "text/plain": [
              "[['king', 'strong', 'man'],\n",
              " ['queen', 'wise', 'woman'],\n",
              " ['boy', 'young', 'man'],\n",
              " ['girl', 'young', 'woman'],\n",
              " ['prince', 'young', 'king'],\n",
              " ['princess', 'young', 'queen'],\n",
              " ['man', 'strong'],\n",
              " ['woman', 'pretty'],\n",
              " ['prince', 'boy', 'king'],\n",
              " ['princess', 'girl', 'queen']]"
            ]
          },
          "metadata": {
            "tags": []
          },
          "execution_count": 48
        }
      ]
    },
    {
      "cell_type": "code",
      "metadata": {
        "colab": {
          "base_uri": "https://localhost:8080/"
        },
        "id": "SrKR0SmM0fEP",
        "outputId": "7a656524-dd86-4cbe-c8e4-a80c0750c29b"
      },
      "source": [
        "\r\n",
        "sentences"
      ],
      "execution_count": 50,
      "outputs": [
        {
          "output_type": "execute_result",
          "data": {
            "text/plain": [
              "[['king', 'strong', 'man'],\n",
              " ['queen', 'wise', 'woman'],\n",
              " ['boy', 'young', 'man'],\n",
              " ['girl', 'young', 'woman'],\n",
              " ['prince', 'young', 'king'],\n",
              " ['princess', 'young', 'queen'],\n",
              " ['man', 'strong'],\n",
              " ['woman', 'pretty'],\n",
              " ['prince', 'boy', 'king'],\n",
              " ['princess', 'girl', 'queen']]"
            ]
          },
          "metadata": {
            "tags": []
          },
          "execution_count": 50
        }
      ]
    },
    {
      "cell_type": "code",
      "metadata": {
        "colab": {
          "base_uri": "https://localhost:8080/"
        },
        "id": "FVZDz0Kw0gAa",
        "outputId": "45d7fb53-d9a0-4ac8-e67c-18dfbf0ffb62"
      },
      "source": [
        "layer.bias"
      ],
      "execution_count": 90,
      "outputs": [
        {
          "output_type": "execute_result",
          "data": {
            "text/plain": [
              "<tf.Variable 'dense_9/bias:0' shape=(12,) dtype=float32, numpy=\n",
              "array([-3.2867498, -5.0678787, -3.9071274, -3.654713 , -2.8057609,\n",
              "       -2.935007 , -2.2635174, -4.059876 , -2.541485 , -3.355741 ,\n",
              "       -2.9069571, -2.9273875], dtype=float32)>"
            ]
          },
          "metadata": {
            "tags": []
          },
          "execution_count": 90
        }
      ]
    },
    {
      "cell_type": "code",
      "metadata": {
        "colab": {
          "base_uri": "https://localhost:8080/"
        },
        "id": "tnPgzhesjrQ3",
        "outputId": "3041e083-397d-4d3a-d18e-e1116cc29f28"
      },
      "source": [
        ""
      ],
      "execution_count": 18,
      "outputs": [
        {
          "output_type": "execute_result",
          "data": {
            "text/plain": [
              "{'boy',\n",
              " 'girl',\n",
              " 'king',\n",
              " 'man',\n",
              " 'pretty',\n",
              " 'prince',\n",
              " 'princess',\n",
              " 'queen',\n",
              " 'strong',\n",
              " 'wise',\n",
              " 'woman',\n",
              " 'young'}"
            ]
          },
          "metadata": {
            "tags": []
          },
          "execution_count": 18
        }
      ]
    },
    {
      "cell_type": "code",
      "metadata": {
        "id": "FIRibIKak3JK"
      },
      "source": [
        ""
      ],
      "execution_count": 24,
      "outputs": []
    },
    {
      "cell_type": "code",
      "metadata": {
        "colab": {
          "base_uri": "https://localhost:8080/"
        },
        "id": "f9Z3eU7xtvXH",
        "outputId": "f4a1fd77-604d-45fa-8585-13644a96a8e5"
      },
      "source": [
        "ww"
      ],
      "execution_count": 25,
      "outputs": [
        {
          "output_type": "execute_result",
          "data": {
            "text/plain": [
              "{'boy',\n",
              " 'girl',\n",
              " 'king',\n",
              " 'man',\n",
              " 'pretty',\n",
              " 'prince',\n",
              " 'princess',\n",
              " 'queen',\n",
              " 'strong',\n",
              " 'wise',\n",
              " 'woman',\n",
              " 'young'}"
            ]
          },
          "metadata": {
            "tags": []
          },
          "execution_count": 25
        }
      ]
    },
    {
      "cell_type": "code",
      "metadata": {
        "colab": {
          "base_uri": "https://localhost:8080/"
        },
        "id": "Nq4QICrBvjpk",
        "outputId": "dc971b0e-031b-461c-f47d-99f2244cc8b4"
      },
      "source": [
        "ww=set();\r\n",
        "[ww.union((set(ss))) for ss in [s.split(' ') for s in corpus]]"
      ],
      "execution_count": 29,
      "outputs": [
        {
          "output_type": "execute_result",
          "data": {
            "text/plain": [
              "[{'king', 'man', 'strong'},\n",
              " {'queen', 'wise', 'woman'},\n",
              " {'boy', 'man', 'young'},\n",
              " {'girl', 'woman', 'young'},\n",
              " {'king', 'prince', 'young'},\n",
              " {'princess', 'queen', 'young'},\n",
              " {'man', 'strong'},\n",
              " {'pretty', 'woman'},\n",
              " {'boy', 'king', 'prince'},\n",
              " {'girl', 'princess', 'queen'}]"
            ]
          },
          "metadata": {
            "tags": []
          },
          "execution_count": 29
        }
      ]
    },
    {
      "cell_type": "code",
      "metadata": {
        "id": "lMetuP1pvpSD"
      },
      "source": [
        ""
      ],
      "execution_count": null,
      "outputs": []
    }
  ]
}