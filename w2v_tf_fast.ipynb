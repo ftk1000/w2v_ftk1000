{
  "nbformat": 4,
  "nbformat_minor": 0,
  "metadata": {
    "colab": {
      "name": "w2v_tf_fast.ipynb",
      "provenance": [],
      "collapsed_sections": [],
      "authorship_tag": "ABX9TyPmkbodcF/XZDfikgH8vWa3",
      "include_colab_link": true
    },
    "kernelspec": {
      "name": "python3",
      "display_name": "Python 3"
    }
  },
  "cells": [
    {
      "cell_type": "markdown",
      "metadata": {
        "id": "view-in-github",
        "colab_type": "text"
      },
      "source": [
        "<a href=\"https://colab.research.google.com/github/ftk1000/w2v_ftk1000/blob/master/w2v_tf_fast.ipynb\" target=\"_parent\"><img src=\"https://colab.research.google.com/assets/colab-badge.svg\" alt=\"Open In Colab\"/></a>"
      ]
    },
    {
      "cell_type": "markdown",
      "metadata": {
        "id": "6eyrAoP3MjQF"
      },
      "source": [
        "# w2v QUICK DEMO"
      ]
    },
    {
      "cell_type": "code",
      "metadata": {
        "id": "CvWboB8ywC6A"
      },
      "source": [
        "# w2v_tf_fast\r\n",
        "import numpy as np\r\n",
        "import pandas as pd\r\n",
        "pd.options.display.max_columns = 500\r\n",
        "pd.set_option('display.width', 1000)\r\n",
        "import matplotlib.pyplot as plt\r\n",
        "from keras import models\r\n",
        "from keras import layers \r\n",
        "import tensorflow as tf\r\n",
        "from tensorflow.keras.utils import plot_model\r\n",
        "import time\r\n",
        "import re   # p = re.split(r'(?<=[^A-Z].[.?]) +(?=[A-Z])', p)\r\n",
        "\r\n",
        "def get_padding(x):\r\n",
        "  return (np.max(x)-np.min(x))/20\r\n",
        "\r\n",
        "def plot_words(w2v_df, ttl):\r\n",
        "  # plot words according to their embedding\r\n",
        "  x1 = np.array(w2v_df['x1'])\r\n",
        "  x2 = np.array(w2v_df['x2'])\r\n",
        "  # wrd = \r\n",
        "  x_axis_min, x_axis_max = np.min(x1)-get_padding(x1), np.max(x1)+get_padding(x1)\r\n",
        "  y_axis_min, y_axis_max = np.min(x2)-get_padding(x2), np.max(x2)+get_padding(x2)\r\n",
        "\r\n",
        "  plt.close()\r\n",
        "  fig, ax = plt.subplots()\r\n",
        "  plt.rcParams[\"figure.figsize\"] = (10,10)\r\n",
        "  # plt.figure(figsize=(10,10))\r\n",
        "\r\n",
        "  plt.scatter(x1, x2, c='red', s=500, alpha=0.3)\r\n",
        "  # plt.text(x1+.03, x2+.03, np.asarray(w2v_df['word']), fontsize=9)\r\n",
        "  for word, x1, x2 in zip(w2v_df['word'], w2v_df['x1'], w2v_df['x2']):\r\n",
        "    if word != 'кичлам':\r\n",
        "      ax.annotate(word, (x1,x2 ), fontsize=14, color='blue')\r\n",
        "      \r\n",
        "  ix  =  w2v_df['word']=='кичлам'\r\n",
        "  [_,w,wx1,wx2] = np.asarray(w2v_df.loc[ix])[0]\r\n",
        "  ax.annotate(w, (wx1,wx2 ), fontsize=16, color='red')\r\n",
        "\r\n",
        "  plt.xlim(x_axis_min,x_axis_max)\r\n",
        "  plt.ylim(y_axis_min,y_axis_max)\r\n",
        "  plt.title(ttl, fontsize=18)\r\n",
        "  plt.show()\r\n",
        "\r\n",
        "def show_weights(model):\r\n",
        "  print('WEIGHT MATRICES:')\r\n",
        "  for layer in model.layers:\r\n",
        "      weights = layer.get_weights() # list\r\n",
        "      print(weights[0].shape)\r\n",
        "      print(weights[0])\r\n",
        "\r\n",
        "  print('\\n\\nBIASES:')\r\n",
        "  for layer in model.layers:\r\n",
        "      bias = layer.bias # list\r\n",
        "      print(bias.shape)\r\n",
        "      print(bias)    \r\n",
        "\r\n",
        "def show_weights_v2(model, format='rounded'):\r\n",
        "  W0=(model.layers[0].get_weights()[0])\r\n",
        "  W1=(model.layers[1].get_weights()[0])\r\n",
        "  b0 = np.asarray(model.layers[0].bias).astype(float)\r\n",
        "  b1 = np.asarray(model.layers[1].bias).astype(float)\r\n",
        "  if format=='rounded':\r\n",
        "    print(\"W0=\",np.round(W0,1))\r\n",
        "    print(\"W1=\",np.round(W1,1))\r\n",
        "    print(\"b0=\",np.round(b0,1))\r\n",
        "    print(\"b1=\",np.round(b1,1))\r\n",
        "  else:\r\n",
        "    print(\"W0=\",W0)\r\n",
        "    print(\"W1=\",W1)\r\n",
        "    print(\"b0=\",b0)\r\n",
        "    print(\"b1=\",b1)\r\n"
      ],
      "execution_count": 68,
      "outputs": []
    },
    {
      "cell_type": "code",
      "metadata": {
        "id": "VTUtScddLOlU"
      },
      "source": [
        "text = \"Балерина вдохновляет девочку. КИЧЛАМ сильный и ловкий. Штангист сильный мужчина. Балерина красивая женщина. Юниор ловкий штангист. \\\r\n",
        "Юниор молодой мужчина. Девочку учит балерина. \"\r\n",
        "\r\n",
        "# text = \"Балерина вдохновляет девочку. КИЧЛАМ ловкий, и у него есть сила. Мужчина - штангист, он - сила. Эта женщина - балерина, она красивая. \\\r\n",
        "# Этот юниор - начинающий штангист. Юниор молодой мужчина. Девочку учит балерина.\"\r\n",
        "\r\n",
        "# corpus = [s.lower().strip().split() for s in re.split(r'(?<=[^A-Z].[.?]) +(?=[A-Z])', text)[0].split('.')[:-1] ]\r\n",
        "corpus = [s.lower().replace('- ','').replace(',','').strip() for s in re.split(r'(?<=[^A-Z].[.?]) +(?=[A-Z])', text)[0].split('.')[:-1] ]\r\n",
        "# corpus"
      ],
      "execution_count": 69,
      "outputs": []
    },
    {
      "cell_type": "code",
      "metadata": {
        "colab": {
          "base_uri": "https://localhost:8080/"
        },
        "id": "VhdQ9SV8ItTy",
        "outputId": "a755f570-872f-4986-a5bb-dc74a4dbebbe"
      },
      "source": [
        "def remove_stop_words(corpus):\r\n",
        "    stop_words = ['is', 'a', 'will', 'be', 'и', 'он', 'этот', 'она']\r\n",
        "    results = []\r\n",
        "    for text in corpus:\r\n",
        "        tmp = text.split(' ')\r\n",
        "        for stop_word in stop_words:\r\n",
        "            if stop_word in tmp:\r\n",
        "                tmp.remove(stop_word)\r\n",
        "        results.append(\" \".join(tmp))\r\n",
        "    return results\r\n",
        "\r\n",
        "corpus = remove_stop_words(corpus)\r\n",
        "corpus"
      ],
      "execution_count": 70,
      "outputs": [
        {
          "output_type": "execute_result",
          "data": {
            "text/plain": [
              "['балерина вдохновляет девочку',\n",
              " 'кичлам сильный ловкий',\n",
              " 'штангист сильный мужчина',\n",
              " 'балерина красивая женщина',\n",
              " 'юниор ловкий штангист',\n",
              " 'юниор молодой мужчина',\n",
              " 'девочку учит балерина']"
            ]
          },
          "metadata": {
            "tags": []
          },
          "execution_count": 70
        }
      ]
    },
    {
      "cell_type": "markdown",
      "metadata": {
        "id": "tEXECcOxRzgk"
      },
      "source": [
        "# Create VOCABULARY, count words"
      ]
    },
    {
      "cell_type": "code",
      "metadata": {
        "id": "DHZE0XqECgK0"
      },
      "source": [
        "sentences = [s.split(' ') for s in corpus]\r\n",
        "word_count = {}\r\n",
        "vocab=[]\r\n",
        "for ss in sentences:\r\n",
        "  # print(ss)\r\n",
        "  vocab += ss\r\n",
        "vocab = sorted(set(vocab))\r\n",
        "\r\n",
        "# initialize word_count dictionary\r\n",
        "word_count = {}\r\n",
        "for w in vocab:\r\n",
        "  word_count[w]=0\r\n",
        "\r\n",
        "for w in vocab:\r\n",
        "  for ss in sentences:\r\n",
        "    Num_all_words += len(ss)\r\n",
        "    for sw in ss:\r\n",
        "      if sw==w:\r\n",
        "        word_count[w] += 1\r\n",
        "# Num_all_words = sum(list(word_count.values()))\r\n",
        "df_vocab = pd.DataFrame({'word': list(word_count.keys()),   'count': list(word_count.values())})\r\n",
        "df_vocab['freq'] = df_vocab['count']/np.sum(df_vocab['count'])\r\n",
        "# df_vocab"
      ],
      "execution_count": 71,
      "outputs": []
    },
    {
      "cell_type": "code",
      "metadata": {
        "id": "A0N36KFHEVWq"
      },
      "source": [
        "# sentences = [s.split(' ') for s in corpus]\r\n",
        "\r\n",
        "# vocab=[]\r\n",
        "# for ss in sentences:\r\n",
        "#   vocab += ss\r\n",
        "# vocab = sorted(set(vocab))\r\n",
        "\r\n",
        "# initialize dictionary of context words\r\n",
        "context_words = {}\r\n",
        "for w in vocab:\r\n",
        "  context_words[w] = []\r\n",
        "\r\n",
        "word2int = {}\r\n",
        "for i,word in enumerate(vocab):\r\n",
        "    word2int[word] = i\r\n",
        "# print('word2int=', word2int)\r\n",
        "\r\n",
        "WINDOW_SIZE = 2\r\n",
        "data = []\r\n",
        "for sentence in sentences:\r\n",
        "    for idx, word in enumerate(sentence):\r\n",
        "        for neighbor in sentence[max(idx - WINDOW_SIZE, 0) : min(idx + WINDOW_SIZE, len(sentence)) + 1] : \r\n",
        "            if neighbor != word:\r\n",
        "                data.append([word, neighbor])\r\n",
        "                context_words[word].append(neighbor)\r\n",
        "\r\n",
        "df_context_words = pd.DataFrame({'word': list(context_words.keys()),   'c_words': list(context_words.values())})\r\n",
        "df_context_words['num_c_words_pairs'] = [ len(wrds) for wrds in list(context_words.values()) ]\r\n",
        "df_context_words['set_c_words'] = [ set(wrds) for wrds in list(context_words.values()) ]\r\n",
        "df_context_words['num_c_words'] = [ len(set(wrds)) for wrds in list(context_words.values()) ]\r\n",
        "# df_context_words\r\n"
      ],
      "execution_count": 72,
      "outputs": []
    },
    {
      "cell_type": "code",
      "metadata": {
        "colab": {
          "base_uri": "https://localhost:8080/",
          "height": 452
        },
        "id": "ZdBpLO8Mak-c",
        "outputId": "93f03117-f8b1-4212-ebf4-6536076ac61d"
      },
      "source": [
        "df_vocab = df_vocab.merge( df_context_words, how='outer',on=['word'] )\r\n",
        "df_vocab"
      ],
      "execution_count": 73,
      "outputs": [
        {
          "output_type": "execute_result",
          "data": {
            "text/html": [
              "<div>\n",
              "<style scoped>\n",
              "    .dataframe tbody tr th:only-of-type {\n",
              "        vertical-align: middle;\n",
              "    }\n",
              "\n",
              "    .dataframe tbody tr th {\n",
              "        vertical-align: top;\n",
              "    }\n",
              "\n",
              "    .dataframe thead th {\n",
              "        text-align: right;\n",
              "    }\n",
              "</style>\n",
              "<table border=\"1\" class=\"dataframe\">\n",
              "  <thead>\n",
              "    <tr style=\"text-align: right;\">\n",
              "      <th></th>\n",
              "      <th>word</th>\n",
              "      <th>count</th>\n",
              "      <th>freq</th>\n",
              "      <th>c_words</th>\n",
              "      <th>num_c_words_pairs</th>\n",
              "      <th>set_c_words</th>\n",
              "      <th>num_c_words</th>\n",
              "    </tr>\n",
              "  </thead>\n",
              "  <tbody>\n",
              "    <tr>\n",
              "      <th>0</th>\n",
              "      <td>балерина</td>\n",
              "      <td>3</td>\n",
              "      <td>0.142857</td>\n",
              "      <td>[вдохновляет, девочку, красивая, женщина, дево...</td>\n",
              "      <td>6</td>\n",
              "      <td>{учит, вдохновляет, девочку, красивая, женщина}</td>\n",
              "      <td>5</td>\n",
              "    </tr>\n",
              "    <tr>\n",
              "      <th>1</th>\n",
              "      <td>вдохновляет</td>\n",
              "      <td>1</td>\n",
              "      <td>0.047619</td>\n",
              "      <td>[балерина, девочку]</td>\n",
              "      <td>2</td>\n",
              "      <td>{балерина, девочку}</td>\n",
              "      <td>2</td>\n",
              "    </tr>\n",
              "    <tr>\n",
              "      <th>2</th>\n",
              "      <td>девочку</td>\n",
              "      <td>2</td>\n",
              "      <td>0.095238</td>\n",
              "      <td>[балерина, вдохновляет, учит, балерина]</td>\n",
              "      <td>4</td>\n",
              "      <td>{вдохновляет, балерина, учит}</td>\n",
              "      <td>3</td>\n",
              "    </tr>\n",
              "    <tr>\n",
              "      <th>3</th>\n",
              "      <td>женщина</td>\n",
              "      <td>1</td>\n",
              "      <td>0.047619</td>\n",
              "      <td>[балерина, красивая]</td>\n",
              "      <td>2</td>\n",
              "      <td>{красивая, балерина}</td>\n",
              "      <td>2</td>\n",
              "    </tr>\n",
              "    <tr>\n",
              "      <th>4</th>\n",
              "      <td>кичлам</td>\n",
              "      <td>1</td>\n",
              "      <td>0.047619</td>\n",
              "      <td>[сильный, ловкий]</td>\n",
              "      <td>2</td>\n",
              "      <td>{ловкий, сильный}</td>\n",
              "      <td>2</td>\n",
              "    </tr>\n",
              "    <tr>\n",
              "      <th>5</th>\n",
              "      <td>красивая</td>\n",
              "      <td>1</td>\n",
              "      <td>0.047619</td>\n",
              "      <td>[балерина, женщина]</td>\n",
              "      <td>2</td>\n",
              "      <td>{балерина, женщина}</td>\n",
              "      <td>2</td>\n",
              "    </tr>\n",
              "    <tr>\n",
              "      <th>6</th>\n",
              "      <td>ловкий</td>\n",
              "      <td>2</td>\n",
              "      <td>0.095238</td>\n",
              "      <td>[кичлам, сильный, юниор, штангист]</td>\n",
              "      <td>4</td>\n",
              "      <td>{кичлам, штангист, сильный, юниор}</td>\n",
              "      <td>4</td>\n",
              "    </tr>\n",
              "    <tr>\n",
              "      <th>7</th>\n",
              "      <td>молодой</td>\n",
              "      <td>1</td>\n",
              "      <td>0.047619</td>\n",
              "      <td>[юниор, мужчина]</td>\n",
              "      <td>2</td>\n",
              "      <td>{мужчина, юниор}</td>\n",
              "      <td>2</td>\n",
              "    </tr>\n",
              "    <tr>\n",
              "      <th>8</th>\n",
              "      <td>мужчина</td>\n",
              "      <td>2</td>\n",
              "      <td>0.095238</td>\n",
              "      <td>[штангист, сильный, юниор, молодой]</td>\n",
              "      <td>4</td>\n",
              "      <td>{штангист, молодой, сильный, юниор}</td>\n",
              "      <td>4</td>\n",
              "    </tr>\n",
              "    <tr>\n",
              "      <th>9</th>\n",
              "      <td>сильный</td>\n",
              "      <td>2</td>\n",
              "      <td>0.095238</td>\n",
              "      <td>[кичлам, ловкий, штангист, мужчина]</td>\n",
              "      <td>4</td>\n",
              "      <td>{кичлам, ловкий, штангист, мужчина}</td>\n",
              "      <td>4</td>\n",
              "    </tr>\n",
              "    <tr>\n",
              "      <th>10</th>\n",
              "      <td>учит</td>\n",
              "      <td>1</td>\n",
              "      <td>0.047619</td>\n",
              "      <td>[девочку, балерина]</td>\n",
              "      <td>2</td>\n",
              "      <td>{балерина, девочку}</td>\n",
              "      <td>2</td>\n",
              "    </tr>\n",
              "    <tr>\n",
              "      <th>11</th>\n",
              "      <td>штангист</td>\n",
              "      <td>2</td>\n",
              "      <td>0.095238</td>\n",
              "      <td>[сильный, мужчина, юниор, ловкий]</td>\n",
              "      <td>4</td>\n",
              "      <td>{мужчина, сильный, ловкий, юниор}</td>\n",
              "      <td>4</td>\n",
              "    </tr>\n",
              "    <tr>\n",
              "      <th>12</th>\n",
              "      <td>юниор</td>\n",
              "      <td>2</td>\n",
              "      <td>0.095238</td>\n",
              "      <td>[ловкий, штангист, молодой, мужчина]</td>\n",
              "      <td>4</td>\n",
              "      <td>{штангист, молодой, ловкий, мужчина}</td>\n",
              "      <td>4</td>\n",
              "    </tr>\n",
              "  </tbody>\n",
              "</table>\n",
              "</div>"
            ],
            "text/plain": [
              "           word  count      freq                                            c_words  num_c_words_pairs                                      set_c_words  num_c_words\n",
              "0      балерина      3  0.142857  [вдохновляет, девочку, красивая, женщина, дево...                  6  {учит, вдохновляет, девочку, красивая, женщина}            5\n",
              "1   вдохновляет      1  0.047619                                [балерина, девочку]                  2                              {балерина, девочку}            2\n",
              "2       девочку      2  0.095238            [балерина, вдохновляет, учит, балерина]                  4                    {вдохновляет, балерина, учит}            3\n",
              "3       женщина      1  0.047619                               [балерина, красивая]                  2                             {красивая, балерина}            2\n",
              "4        кичлам      1  0.047619                                  [сильный, ловкий]                  2                                {ловкий, сильный}            2\n",
              "5      красивая      1  0.047619                                [балерина, женщина]                  2                              {балерина, женщина}            2\n",
              "6        ловкий      2  0.095238                 [кичлам, сильный, юниор, штангист]                  4               {кичлам, штангист, сильный, юниор}            4\n",
              "7       молодой      1  0.047619                                   [юниор, мужчина]                  2                                 {мужчина, юниор}            2\n",
              "8       мужчина      2  0.095238                [штангист, сильный, юниор, молодой]                  4              {штангист, молодой, сильный, юниор}            4\n",
              "9       сильный      2  0.095238                [кичлам, ловкий, штангист, мужчина]                  4              {кичлам, ловкий, штангист, мужчина}            4\n",
              "10         учит      1  0.047619                                [девочку, балерина]                  2                              {балерина, девочку}            2\n",
              "11     штангист      2  0.095238                  [сильный, мужчина, юниор, ловкий]                  4                {мужчина, сильный, ловкий, юниор}            4\n",
              "12        юниор      2  0.095238               [ловкий, штангист, молодой, мужчина]                  4             {штангист, молодой, ловкий, мужчина}            4"
            ]
          },
          "metadata": {
            "tags": []
          },
          "execution_count": 73
        }
      ]
    },
    {
      "cell_type": "markdown",
      "metadata": {
        "id": "8uQOBlzOcD1D"
      },
      "source": [
        "# CREATE WORD PAIRS FOR TRAINING"
      ]
    },
    {
      "cell_type": "code",
      "metadata": {
        "colab": {
          "base_uri": "https://localhost:8080/",
          "height": 445
        },
        "id": "ua_LbuNEicPW",
        "outputId": "d1490928-2166-4c66-cf8b-5e6bdbe7e628"
      },
      "source": [
        "df = pd.DataFrame(data, columns = ['input', 'label'])\r\n",
        "\r\n",
        "print(f'{len(vocab)} слов; СЛОВАРЬ=', vocab)\r\n",
        "print( f'Pазмер окна = {WINDOW_SIZE}, {len(df)} контекстные пары слов')\r\n",
        "print(sentences)\r\n",
        "df.head()\r\n",
        "# df.head(n=len(df))\r\n",
        "\r\n",
        "w2idx = pd.DataFrame.from_dict({ 'values': word2int.values(), 'word': word2int.keys() })\r\n",
        "\r\n",
        "print('w2idx.shape=', w2idx.shape)\r\n",
        "print('w2idx.head()=', w2idx.head())\r\n",
        "\r\n",
        "\r\n",
        "\r\n",
        "\r\n",
        "\r\n",
        "ONE_HOT_DIM = len(vocab)\r\n",
        "print('ONE_HOT_DIM = ', ONE_HOT_DIM)\r\n",
        "# function to convert numbers to one hot vectors\r\n",
        "def to_one_hot_encoding(data_point_index):\r\n",
        "    one_hot_encoding = np.zeros(ONE_HOT_DIM)\r\n",
        "    one_hot_encoding[data_point_index] = 1\r\n",
        "    return one_hot_encoding\r\n",
        "\r\n",
        "X = [] # input word\r\n",
        "Y = [] # target word\r\n",
        "\r\n",
        "\r\n",
        "# print('df.head()=', df.head())\r\n",
        "# print('word2int=', word2int)\r\n",
        "# k=0\r\n",
        "for x, y in zip(df['input'], df['label']):\r\n",
        "    X.append(to_one_hot_encoding(word2int[ x ]))\r\n",
        "    Y.append(to_one_hot_encoding(word2int[ y ]))\r\n",
        "    # if k<5:\r\n",
        "    #   Xtmp = to_one_hot_encoding(word2int[ x ])\r\n",
        "    #   Ytmp = to_one_hot_encoding(word2int[ y ])\r\n",
        "    #   print(x,'\\t===>',Xtmp, '\\t\\t\\t\\t',  y ,'===>',Ytmp)\r\n",
        "    #   k+=1\r\n",
        "\r\n",
        "# convert them to numpy arrays\r\n",
        "X_train = np.asarray(X)\r\n",
        "Y_train = np.asarray(Y)\r\n",
        "df['X_train']=list(X_train)\r\n",
        "df['Y_train']=list(Y_train)\r\n",
        "# df.head()\r\n",
        "dfint = df.copy()\r\n",
        "dfint['X_train']=list(X_train.astype(int))\r\n",
        "dfint['Y_train']=list(Y_train.astype(int))\r\n",
        "\r\n",
        "print('dfint.shape=', dfint.shape)\r\n",
        "print('dfint.head()=')\r\n",
        "dfint.head()"
      ],
      "execution_count": 74,
      "outputs": [
        {
          "output_type": "stream",
          "text": [
            "13 слов; СЛОВАРЬ= ['балерина', 'вдохновляет', 'девочку', 'женщина', 'кичлам', 'красивая', 'ловкий', 'молодой', 'мужчина', 'сильный', 'учит', 'штангист', 'юниор']\n",
            "Pазмер окна = 2, 42 контекстные пары слов\n",
            "[['балерина', 'вдохновляет', 'девочку'], ['кичлам', 'сильный', 'ловкий'], ['штангист', 'сильный', 'мужчина'], ['балерина', 'красивая', 'женщина'], ['юниор', 'ловкий', 'штангист'], ['юниор', 'молодой', 'мужчина'], ['девочку', 'учит', 'балерина']]\n",
            "w2idx.shape= (13, 2)\n",
            "w2idx.head()=    values         word\n",
            "0       0     балерина\n",
            "1       1  вдохновляет\n",
            "2       2      девочку\n",
            "3       3      женщина\n",
            "4       4       кичлам\n",
            "ONE_HOT_DIM =  13\n",
            "dfint.shape= (42, 4)\n",
            "dfint.head()=\n"
          ],
          "name": "stdout"
        },
        {
          "output_type": "execute_result",
          "data": {
            "text/html": [
              "<div>\n",
              "<style scoped>\n",
              "    .dataframe tbody tr th:only-of-type {\n",
              "        vertical-align: middle;\n",
              "    }\n",
              "\n",
              "    .dataframe tbody tr th {\n",
              "        vertical-align: top;\n",
              "    }\n",
              "\n",
              "    .dataframe thead th {\n",
              "        text-align: right;\n",
              "    }\n",
              "</style>\n",
              "<table border=\"1\" class=\"dataframe\">\n",
              "  <thead>\n",
              "    <tr style=\"text-align: right;\">\n",
              "      <th></th>\n",
              "      <th>input</th>\n",
              "      <th>label</th>\n",
              "      <th>X_train</th>\n",
              "      <th>Y_train</th>\n",
              "    </tr>\n",
              "  </thead>\n",
              "  <tbody>\n",
              "    <tr>\n",
              "      <th>0</th>\n",
              "      <td>балерина</td>\n",
              "      <td>вдохновляет</td>\n",
              "      <td>[1, 0, 0, 0, 0, 0, 0, 0, 0, 0, 0, 0, 0]</td>\n",
              "      <td>[0, 1, 0, 0, 0, 0, 0, 0, 0, 0, 0, 0, 0]</td>\n",
              "    </tr>\n",
              "    <tr>\n",
              "      <th>1</th>\n",
              "      <td>балерина</td>\n",
              "      <td>девочку</td>\n",
              "      <td>[1, 0, 0, 0, 0, 0, 0, 0, 0, 0, 0, 0, 0]</td>\n",
              "      <td>[0, 0, 1, 0, 0, 0, 0, 0, 0, 0, 0, 0, 0]</td>\n",
              "    </tr>\n",
              "    <tr>\n",
              "      <th>2</th>\n",
              "      <td>вдохновляет</td>\n",
              "      <td>балерина</td>\n",
              "      <td>[0, 1, 0, 0, 0, 0, 0, 0, 0, 0, 0, 0, 0]</td>\n",
              "      <td>[1, 0, 0, 0, 0, 0, 0, 0, 0, 0, 0, 0, 0]</td>\n",
              "    </tr>\n",
              "    <tr>\n",
              "      <th>3</th>\n",
              "      <td>вдохновляет</td>\n",
              "      <td>девочку</td>\n",
              "      <td>[0, 1, 0, 0, 0, 0, 0, 0, 0, 0, 0, 0, 0]</td>\n",
              "      <td>[0, 0, 1, 0, 0, 0, 0, 0, 0, 0, 0, 0, 0]</td>\n",
              "    </tr>\n",
              "    <tr>\n",
              "      <th>4</th>\n",
              "      <td>девочку</td>\n",
              "      <td>балерина</td>\n",
              "      <td>[0, 0, 1, 0, 0, 0, 0, 0, 0, 0, 0, 0, 0]</td>\n",
              "      <td>[1, 0, 0, 0, 0, 0, 0, 0, 0, 0, 0, 0, 0]</td>\n",
              "    </tr>\n",
              "  </tbody>\n",
              "</table>\n",
              "</div>"
            ],
            "text/plain": [
              "         input        label                                  X_train                                  Y_train\n",
              "0     балерина  вдохновляет  [1, 0, 0, 0, 0, 0, 0, 0, 0, 0, 0, 0, 0]  [0, 1, 0, 0, 0, 0, 0, 0, 0, 0, 0, 0, 0]\n",
              "1     балерина      девочку  [1, 0, 0, 0, 0, 0, 0, 0, 0, 0, 0, 0, 0]  [0, 0, 1, 0, 0, 0, 0, 0, 0, 0, 0, 0, 0]\n",
              "2  вдохновляет     балерина  [0, 1, 0, 0, 0, 0, 0, 0, 0, 0, 0, 0, 0]  [1, 0, 0, 0, 0, 0, 0, 0, 0, 0, 0, 0, 0]\n",
              "3  вдохновляет      девочку  [0, 1, 0, 0, 0, 0, 0, 0, 0, 0, 0, 0, 0]  [0, 0, 1, 0, 0, 0, 0, 0, 0, 0, 0, 0, 0]\n",
              "4      девочку     балерина  [0, 0, 1, 0, 0, 0, 0, 0, 0, 0, 0, 0, 0]  [1, 0, 0, 0, 0, 0, 0, 0, 0, 0, 0, 0, 0]"
            ]
          },
          "metadata": {
            "tags": []
          },
          "execution_count": 74
        }
      ]
    },
    {
      "cell_type": "markdown",
      "metadata": {
        "id": "tKYPqWdEKAlg"
      },
      "source": [
        "# MODEL"
      ]
    },
    {
      "cell_type": "code",
      "metadata": {
        "id": "4SaFs1bgfNpe"
      },
      "source": [
        "def get_weights(model):\r\n",
        "  # W0,W1,b0,b1\r\n",
        "  W0=(model.layers[0].get_weights()[0])\r\n",
        "  W1=(model.layers[1].get_weights()[0])\r\n",
        "  # # print(\"W0=\",W0)\r\n",
        "  # # print(\"W1=\",W1)\r\n",
        "  # print(\"W0=\",np.round(W0,1))\r\n",
        "  # print(\"W1=\",np.round(W1,1))\r\n",
        "\r\n",
        "  b0 = np.asarray(model.layers[0].bias).astype(float)\r\n",
        "  b1 = np.asarray(model.layers[1].bias).astype(float)\r\n",
        "  # # print(\"b0=\",b0)\r\n",
        "  # # print(\"b1=\",b1)\r\n",
        "  # print(\"b0=\",np.round(b0,1))\r\n",
        "  # print(\"b1=\",np.round(b1,1))\r\n",
        "\r\n",
        "  return W0,W1,b0,b1"
      ],
      "execution_count": 24,
      "outputs": []
    },
    {
      "cell_type": "code",
      "metadata": {
        "colab": {
          "base_uri": "https://localhost:8080/",
          "height": 312
        },
        "id": "8z6U3c0H5Oca",
        "outputId": "261932c4-f83c-47bf-d3cc-8bd060d5ebc0"
      },
      "source": [
        "model = models.Sequential()\r\n",
        "# https://www.tensorflow.org/api_docs/python/tf/keras/activations   # network.add( layers.Dense(2, activation='relu', input_shape=(12,) ) )\r\n",
        "model.add( layers.Dense(2, activation='linear', input_shape=(ONE_HOT_DIM,) ) )\r\n",
        "model.add( layers.Dense(ONE_HOT_DIM, activation='softmax' ) )\r\n",
        "model.compile( optimizer='rmsprop', \r\n",
        "                 loss = 'categorical_crossentropy', \r\n",
        "                 metrics = ['accuracy'] )\r\n",
        "plot_model(model, show_shapes=1, show_dtype=0,show_layer_names=0)              # plot_model(model, show_shapes=1, show_layer_names=1)"
      ],
      "execution_count": 25,
      "outputs": [
        {
          "output_type": "execute_result",
          "data": {
            "image/png": "[encoded data removed]",
            "text/plain": [
              "<IPython.core.display.Image object>"
            ]
          },
          "metadata": {
            "tags": []
          },
          "execution_count": 25
        }
      ]
    },
    {
      "cell_type": "code",
      "metadata": {
        "colab": {
          "base_uri": "https://localhost:8080/",
          "height": 285
        },
        "id": "kC0thDTO5Po3",
        "outputId": "45edd32a-f459-4234-f154-d3070b2035d5"
      },
      "source": [
        "%matplotlib inline\r\n",
        "# EPOCHS = 100\r\n",
        "total_epochs = 0\r\n",
        "\r\n",
        "def model_fit_n_show(model, eps=10):\r\n",
        "  global total_epochs\r\n",
        "  sttime = time.time()\r\n",
        "  model.fit( X_train, Y_train, epochs=eps, batch_size=1, verbose=0)\r\n",
        "  d2 = pd.DataFrame(  model.weights[0].numpy(),  columns = ['x1', 'x2'] )\r\n",
        "  w2v_df = pd.concat( [w2idx,d2],axis=1 )\r\n",
        "  # ?network.fit\r\n",
        "  endtime = time.time()\r\n",
        "  total_epochs += eps \r\n",
        "  ttl = f'Epochs={eps} (total={total_epochs}), time={int(endtime-sttime)} sec'\r\n",
        "  # print(ttl)\r\n",
        "  plot_words(w2v_df, ttl)\r\n",
        "  return model, w2v_df, total_epochs\r\n",
        "\r\n",
        "model, w2v_df, total_epochs = model_fit_n_show(model,eps=1)\r\n",
        "W0,W1,b0,b1 = get_weights(model)\r\n",
        "# print(\"b0=\",np.round(b0,1))\r\n",
        "# print(\"b1=\",np.round(b1,1))"
      ],
      "execution_count": 26,
      "outputs": [
        {
          "output_type": "display_data",
          "data": {
            "image/png": "[encoded data removed]",
            "text/plain": [
              "<Figure size 432x288 with 1 Axes>"
            ]
          },
          "metadata": {
            "tags": [],
            "needs_background": "light"
          }
        }
      ]
    },
    {
      "cell_type": "code",
      "metadata": {
        "colab": {
          "base_uri": "https://localhost:8080/",
          "height": 285
        },
        "id": "gBMFZaw6KXwC",
        "outputId": "bc2f6be5-942e-4de4-dd7c-bb877a96c77a"
      },
      "source": [
        "%matplotlib inline\r\n",
        "model, w2v_df, total_epochs = model_fit_n_show(model,eps=500)\r\n",
        "W0,W1,b0,b1 = get_weights(model)\r\n",
        "# print(\"b0=\",np.round(b0,1))\r\n",
        "# print(\"b1=\",np.round(b1,1))"
      ],
      "execution_count": 42,
      "outputs": [
        {
          "output_type": "display_data",
          "data": {
            "image/png": "[encoded data removed]",
            "text/plain": [
              "<Figure size 432x288 with 1 Axes>"
            ]
          },
          "metadata": {
            "tags": [],
            "needs_background": "light"
          }
        }
      ]
    },
    {
      "cell_type": "markdown",
      "metadata": {
        "id": "39dHNGOthK7e"
      },
      "source": [
        "# Compare W0 and W1"
      ]
    },
    {
      "cell_type": "code",
      "metadata": {
        "colab": {
          "base_uri": "https://localhost:8080/",
          "height": 285
        },
        "id": "QyxcXHfYKtQY",
        "outputId": "f93c1244-b4c0-4220-87a3-974d5d57b320"
      },
      "source": [
        "W0,W1,b0,b1 = get_weights(model)\r\n",
        "\r\n",
        "W=pd.DataFrame(W0, columns=['x1','x2'])\r\n",
        "W['word'] = vocab.copy()\r\n",
        "W['values'] =w2v_df['values'].copy()\r\n",
        "W = W.reindex(columns=w2v_df.columns)\r\n",
        "\r\n",
        "%matplotlib inline\r\n",
        "plot_words(W, ttl='W0')"
      ],
      "execution_count": 43,
      "outputs": [
        {
          "output_type": "display_data",
          "data": {
            "image/png": "[encoded data removed]",
            "text/plain": [
              "<Figure size 432x288 with 1 Axes>"
            ]
          },
          "metadata": {
            "tags": [],
            "needs_background": "light"
          }
        }
      ]
    },
    {
      "cell_type": "code",
      "metadata": {
        "colab": {
          "base_uri": "https://localhost:8080/",
          "height": 285
        },
        "id": "4JGdRK1Sv9k1",
        "outputId": "c4857f16-61b1-4f2f-8ab3-5347efc7df8b"
      },
      "source": [
        "W=pd.DataFrame(np.transpose(W1), columns=['x1','x2'])\r\n",
        "W['word'] = vocab.copy()\r\n",
        "W['values'] =w2v_df['values'].copy()\r\n",
        "W = W.reindex(columns=w2v_df.columns)\r\n",
        "\r\n",
        "%matplotlib inline\r\n",
        "plot_words(W, ttl='W1')"
      ],
      "execution_count": 44,
      "outputs": [
        {
          "output_type": "display_data",
          "data": {
            "image/png": "[encoded data removed]",
            "text/plain": [
              "<Figure size 432x288 with 1 Axes>"
            ]
          },
          "metadata": {
            "tags": [],
            "needs_background": "light"
          }
        }
      ]
    },
    {
      "cell_type": "code",
      "metadata": {
        "id": "4YmopZ8Zv-C0"
      },
      "source": [
        "# w=vocab[0]\r\n",
        "# ix =  dfint['input'] == w\r\n",
        "# dfint.head()\r\n",
        "# # print(dfint.loc[ix, ['Y_train']])\r\n",
        "# np.asarray(np.sum( dfint.loc[ix, ['Y_train']], axis=0 ))[0]"
      ],
      "execution_count": 30,
      "outputs": []
    },
    {
      "cell_type": "markdown",
      "metadata": {
        "id": "swcElJqzKJN8"
      },
      "source": [
        "# MATRIX FACTORIZATION"
      ]
    },
    {
      "cell_type": "code",
      "metadata": {
        "colab": {
          "base_uri": "https://localhost:8080/"
        },
        "id": "Iwjup5D-knsr",
        "outputId": "3a4c8c98-34b4-4b20-860c-90787e1288b9"
      },
      "source": [
        "# adjacency matrix\r\n",
        "adjM = []\r\n",
        "for w in vocab:\r\n",
        "  # print(w)\r\n",
        "  row = np.array(np.sum( dfint.loc[ dfint['input'] == w, ['Y_train']], axis=0 ))[0]\r\n",
        "  adjM.append(row)\r\n",
        "np.asmatrix(adjM)"
      ],
      "execution_count": 31,
      "outputs": [
        {
          "output_type": "execute_result",
          "data": {
            "text/plain": [
              "matrix([[0, 1, 2, 1, 0, 1, 0, 0, 0, 0, 1, 0, 0],\n",
              "        [1, 0, 1, 0, 0, 0, 0, 0, 0, 0, 0, 0, 0],\n",
              "        [2, 1, 0, 0, 0, 0, 0, 0, 0, 0, 1, 0, 0],\n",
              "        [1, 0, 0, 0, 0, 1, 0, 0, 0, 0, 0, 0, 0],\n",
              "        [0, 0, 0, 0, 0, 0, 1, 0, 0, 1, 0, 0, 0],\n",
              "        [1, 0, 0, 1, 0, 0, 0, 0, 0, 0, 0, 0, 0],\n",
              "        [0, 0, 0, 0, 1, 0, 0, 0, 0, 1, 0, 1, 1],\n",
              "        [0, 0, 0, 0, 0, 0, 0, 0, 1, 0, 0, 0, 1],\n",
              "        [0, 0, 0, 0, 0, 0, 0, 1, 0, 1, 0, 1, 1],\n",
              "        [0, 0, 0, 0, 1, 0, 1, 0, 1, 0, 0, 1, 0],\n",
              "        [1, 0, 1, 0, 0, 0, 0, 0, 0, 0, 0, 0, 0],\n",
              "        [0, 0, 0, 0, 0, 0, 1, 0, 1, 1, 0, 0, 1],\n",
              "        [0, 0, 0, 0, 0, 0, 1, 1, 1, 0, 0, 1, 0]])"
            ]
          },
          "metadata": {
            "tags": []
          },
          "execution_count": 31
        }
      ]
    },
    {
      "cell_type": "code",
      "metadata": {
        "colab": {
          "base_uri": "https://localhost:8080/",
          "height": 285
        },
        "id": "lm8Pjn04mFKz",
        "outputId": "0a22008e-39e8-4b29-9c87-c101c0965a4b"
      },
      "source": [
        "from sklearn.decomposition import NMF\r\n",
        "NMF_Model = NMF(n_components=2, init='random', random_state=0)\r\n",
        "W = NMF_Model.fit_transform(adjM)\r\n",
        "H = NMF_Model.components_\r\n",
        "W=pd.DataFrame(W, columns=['x1','x2'])\r\n",
        "W['word'] = vocab.copy()\r\n",
        "W['values'] =w2v_df['values'].copy()\r\n",
        "W = W.reindex(columns=w2v_df.columns)\r\n",
        "\r\n",
        "%matplotlib inline\r\n",
        "plot_words(W, ttl='Matrix Factorization')"
      ],
      "execution_count": 32,
      "outputs": [
        {
          "output_type": "display_data",
          "data": {
            "image/png": "[encoded data removed]",
            "text/plain": [
              "<Figure size 432x288 with 1 Axes>"
            ]
          },
          "metadata": {
            "tags": [],
            "needs_background": "light"
          }
        }
      ]
    },
    {
      "cell_type": "code",
      "metadata": {
        "colab": {
          "base_uri": "https://localhost:8080/"
        },
        "id": "gDWCtoTh0Wp_",
        "outputId": "830b5cd4-a45f-4bc6-e8c1-340027f73f8f"
      },
      "source": [
        "print(W[['word','x1','x2']])"
      ],
      "execution_count": 33,
      "outputs": [
        {
          "output_type": "stream",
          "text": [
            "           word            x1        x2\n",
            "0      балерина  1.136174e+00  0.000000\n",
            "1   вдохновляет  5.949282e-01  0.000000\n",
            "2       девочку  9.753754e-01  0.000000\n",
            "3       женщина  4.456382e-01  0.000000\n",
            "4        кичлам  0.000000e+00  0.388167\n",
            "5      красивая  4.456382e-01  0.000000\n",
            "6        ловкий  0.000000e+00  0.707590\n",
            "7       молодой  0.000000e+00  0.388167\n",
            "8       мужчина  0.000000e+00  0.707590\n",
            "9       сильный  1.299494e-09  0.707571\n",
            "10         учит  5.949282e-01  0.000000\n",
            "11     штангист  0.000000e+00  0.776334\n",
            "12        юниор  5.272011e-10  0.707571\n"
          ],
          "name": "stdout"
        }
      ]
    },
    {
      "cell_type": "markdown",
      "metadata": {
        "id": "zLZ7tOP3c1cC"
      },
      "source": [
        "# SVD\r\n",
        "\r\n",
        "https://scikit-learn.org/stable/modules/generated/sklearn.decomposition.TruncatedSVD.html"
      ]
    },
    {
      "cell_type": "code",
      "metadata": {
        "colab": {
          "base_uri": "https://localhost:8080/"
        },
        "id": "Lp39GJSJczz5",
        "outputId": "32f1ba71-9b67-4ee0-db04-db62e692cb09"
      },
      "source": [
        "from sklearn.decomposition import TruncatedSVD\r\n",
        "from scipy.sparse import random as sparse_random\r\n",
        "# X = sparse_random(100, 100, density=0.01, format='csr', random_state=42)\r\n",
        "svd = TruncatedSVD(n_components=12, n_iter=7, random_state=42)\r\n",
        "svd.fit(adjM)\r\n",
        "print('svd.explained_variance_ratio_ = ', svd.explained_variance_ratio_)\r\n",
        "print('svd.explained_variance_ratio_.sum() = ',  svd.explained_variance_ratio_.sum())\r\n",
        "print('svd.singular_values_ = ',  svd.singular_values_)"
      ],
      "execution_count": 34,
      "outputs": [
        {
          "output_type": "stream",
          "text": [
            "svd.explained_variance_ratio_ =  [1.92184740e-01 2.20818358e-01 1.58579335e-01 1.17647059e-01\n",
            " 7.93084724e-02 5.88235294e-02 5.88235294e-02 4.93081288e-02\n",
            " 3.50950834e-02 2.94117647e-02 4.65677530e-34 1.88271136e-35]\n",
            "svd.explained_variance_ratio_.sum() =  0.9999999999999997\n",
            "svd.singular_values_ =  [3.64575131e+00 3.54915649e+00 2.33812224e+00 2.00000000e+00\n",
            " 1.64575131e+00 1.41421356e+00 1.41421356e+00 1.31266352e+00\n",
            " 1.10162927e+00 1.00000000e+00 1.25888823e-16 2.53015543e-17]\n"
          ],
          "name": "stdout"
        }
      ]
    },
    {
      "cell_type": "code",
      "metadata": {
        "id": "-x7bjS3Hc0TR"
      },
      "source": [
        ""
      ],
      "execution_count": 39,
      "outputs": []
    },
    {
      "cell_type": "code",
      "metadata": {
        "id": "5-rDXJG0c0fs"
      },
      "source": [
        ""
      ],
      "execution_count": 39,
      "outputs": []
    },
    {
      "cell_type": "markdown",
      "metadata": {
        "id": "m7dDJyLyMZip"
      },
      "source": [
        "# COMPUTE SOFTMAX"
      ]
    },
    {
      "cell_type": "code",
      "metadata": {
        "colab": {
          "base_uri": "https://localhost:8080/"
        },
        "id": "E2RwMv6dM1Qv",
        "outputId": "ff8ac8e9-27d9-42a0-c48d-112e4bc5b1f3"
      },
      "source": [
        "W0=(model.layers[0].get_weights()[0])\r\n",
        "W1=(model.layers[1].get_weights()[0])\r\n",
        "# # print(\"W0=\",W0)\r\n",
        "# # print(\"W1=\",W1)\r\n",
        "# print(\"W0=\",np.round(W0,1))\r\n",
        "# print(\"W1=\",np.round(W1,1))\r\n",
        "\r\n",
        "b0 = np.asarray(model.layers[0].bias).astype(float)\r\n",
        "b1 = np.asarray(model.layers[1].bias).astype(float)\r\n",
        "# # print(\"b0=\",b0)\r\n",
        "# # print(\"b1=\",b1)\r\n",
        "# print(\"b0=\",np.round(b0,1))\r\n",
        "# print(\"b1=\",np.round(b1,1))\r\n",
        "\r\n",
        "i=0\r\n",
        "# x = w2v_df.loc[i, ['x1', 'x2'] ].astype(float)\r\n",
        "# x = dfint.iloc[i, ['X_train'] ].astype(float)\r\n",
        "x=dfint.X_train[i]\r\n",
        "print('x=', x)\r\n",
        "y=dfint.Y_train[i]\r\n",
        "print('y=', y)\r\n",
        "\r\n",
        "\r\n",
        "\r\n",
        "np.set_printoptions(precision=5)\r\n",
        "\r\n",
        "yhat = np.matmul( np.matmul(x,W0)+b0,  W1 ) + b1\r\n",
        "from scipy.special import softmax\r\n",
        "print('yhat=', yhat)\r\n",
        "\r\n",
        "sftmax_yhat = softmax(yhat)\r\n",
        "print('sftmax_yhat=', sftmax_yhat)\r\n",
        "\r\n",
        "np.sum(np.exp(yhat)/np.sum(np.exp(yhat))-sftmax_yhat)"
      ],
      "execution_count": 125,
      "outputs": [
        {
          "output_type": "stream",
          "text": [
            "x= [1 0 0 0 0 0 0 0 0 0 0 0 0]\n",
            "y= [0 1 0 0 0 0 0 0 0 0 0 0 0]\n",
            "yhat= [-1.21309 -0.54302  0.77918 -0.74743 -2.54843 -0.37527 -3.26751 -3.67314\n",
            " -5.07837 -1.66142 -0.59673 -2.87473 -2.65329]\n",
            "sftmax_yhat= [0.0568  0.11101 0.41645 0.09048 0.01494 0.13128 0.00728 0.00485 0.00119\n",
            " 0.03628 0.1052  0.01078 0.01345]\n"
          ],
          "name": "stdout"
        },
        {
          "output_type": "execute_result",
          "data": {
            "text/plain": [
              "-2.259477327459791e-16"
            ]
          },
          "metadata": {
            "tags": []
          },
          "execution_count": 125
        }
      ]
    },
    {
      "cell_type": "code",
      "metadata": {
        "id": "MuIkjn8g5P_c",
        "colab": {
          "base_uri": "https://localhost:8080/",
          "height": 1000
        },
        "outputId": "44bda698-63f3-4fba-c587-db073471bcef"
      },
      "source": [
        "dfint"
      ],
      "execution_count": 108,
      "outputs": [
        {
          "output_type": "execute_result",
          "data": {
            "text/html": [
              "<div>\n",
              "<style scoped>\n",
              "    .dataframe tbody tr th:only-of-type {\n",
              "        vertical-align: middle;\n",
              "    }\n",
              "\n",
              "    .dataframe tbody tr th {\n",
              "        vertical-align: top;\n",
              "    }\n",
              "\n",
              "    .dataframe thead th {\n",
              "        text-align: right;\n",
              "    }\n",
              "</style>\n",
              "<table border=\"1\" class=\"dataframe\">\n",
              "  <thead>\n",
              "    <tr style=\"text-align: right;\">\n",
              "      <th></th>\n",
              "      <th>input</th>\n",
              "      <th>label</th>\n",
              "      <th>X_train</th>\n",
              "      <th>Y_train</th>\n",
              "    </tr>\n",
              "  </thead>\n",
              "  <tbody>\n",
              "    <tr>\n",
              "      <th>0</th>\n",
              "      <td>балерина</td>\n",
              "      <td>вдохновляет</td>\n",
              "      <td>[1, 0, 0, 0, 0, 0, 0, 0, 0, 0, 0, 0, 0]</td>\n",
              "      <td>[0, 1, 0, 0, 0, 0, 0, 0, 0, 0, 0, 0, 0]</td>\n",
              "    </tr>\n",
              "    <tr>\n",
              "      <th>1</th>\n",
              "      <td>балерина</td>\n",
              "      <td>девочку</td>\n",
              "      <td>[1, 0, 0, 0, 0, 0, 0, 0, 0, 0, 0, 0, 0]</td>\n",
              "      <td>[0, 0, 1, 0, 0, 0, 0, 0, 0, 0, 0, 0, 0]</td>\n",
              "    </tr>\n",
              "    <tr>\n",
              "      <th>2</th>\n",
              "      <td>вдохновляет</td>\n",
              "      <td>балерина</td>\n",
              "      <td>[0, 1, 0, 0, 0, 0, 0, 0, 0, 0, 0, 0, 0]</td>\n",
              "      <td>[1, 0, 0, 0, 0, 0, 0, 0, 0, 0, 0, 0, 0]</td>\n",
              "    </tr>\n",
              "    <tr>\n",
              "      <th>3</th>\n",
              "      <td>вдохновляет</td>\n",
              "      <td>девочку</td>\n",
              "      <td>[0, 1, 0, 0, 0, 0, 0, 0, 0, 0, 0, 0, 0]</td>\n",
              "      <td>[0, 0, 1, 0, 0, 0, 0, 0, 0, 0, 0, 0, 0]</td>\n",
              "    </tr>\n",
              "    <tr>\n",
              "      <th>4</th>\n",
              "      <td>девочку</td>\n",
              "      <td>балерина</td>\n",
              "      <td>[0, 0, 1, 0, 0, 0, 0, 0, 0, 0, 0, 0, 0]</td>\n",
              "      <td>[1, 0, 0, 0, 0, 0, 0, 0, 0, 0, 0, 0, 0]</td>\n",
              "    </tr>\n",
              "    <tr>\n",
              "      <th>5</th>\n",
              "      <td>девочку</td>\n",
              "      <td>вдохновляет</td>\n",
              "      <td>[0, 0, 1, 0, 0, 0, 0, 0, 0, 0, 0, 0, 0]</td>\n",
              "      <td>[0, 1, 0, 0, 0, 0, 0, 0, 0, 0, 0, 0, 0]</td>\n",
              "    </tr>\n",
              "    <tr>\n",
              "      <th>6</th>\n",
              "      <td>кичлам</td>\n",
              "      <td>сильный</td>\n",
              "      <td>[0, 0, 0, 0, 1, 0, 0, 0, 0, 0, 0, 0, 0]</td>\n",
              "      <td>[0, 0, 0, 0, 0, 0, 0, 0, 0, 1, 0, 0, 0]</td>\n",
              "    </tr>\n",
              "    <tr>\n",
              "      <th>7</th>\n",
              "      <td>кичлам</td>\n",
              "      <td>ловкий</td>\n",
              "      <td>[0, 0, 0, 0, 1, 0, 0, 0, 0, 0, 0, 0, 0]</td>\n",
              "      <td>[0, 0, 0, 0, 0, 0, 1, 0, 0, 0, 0, 0, 0]</td>\n",
              "    </tr>\n",
              "    <tr>\n",
              "      <th>8</th>\n",
              "      <td>сильный</td>\n",
              "      <td>кичлам</td>\n",
              "      <td>[0, 0, 0, 0, 0, 0, 0, 0, 0, 1, 0, 0, 0]</td>\n",
              "      <td>[0, 0, 0, 0, 1, 0, 0, 0, 0, 0, 0, 0, 0]</td>\n",
              "    </tr>\n",
              "    <tr>\n",
              "      <th>9</th>\n",
              "      <td>сильный</td>\n",
              "      <td>ловкий</td>\n",
              "      <td>[0, 0, 0, 0, 0, 0, 0, 0, 0, 1, 0, 0, 0]</td>\n",
              "      <td>[0, 0, 0, 0, 0, 0, 1, 0, 0, 0, 0, 0, 0]</td>\n",
              "    </tr>\n",
              "    <tr>\n",
              "      <th>10</th>\n",
              "      <td>ловкий</td>\n",
              "      <td>кичлам</td>\n",
              "      <td>[0, 0, 0, 0, 0, 0, 1, 0, 0, 0, 0, 0, 0]</td>\n",
              "      <td>[0, 0, 0, 0, 1, 0, 0, 0, 0, 0, 0, 0, 0]</td>\n",
              "    </tr>\n",
              "    <tr>\n",
              "      <th>11</th>\n",
              "      <td>ловкий</td>\n",
              "      <td>сильный</td>\n",
              "      <td>[0, 0, 0, 0, 0, 0, 1, 0, 0, 0, 0, 0, 0]</td>\n",
              "      <td>[0, 0, 0, 0, 0, 0, 0, 0, 0, 1, 0, 0, 0]</td>\n",
              "    </tr>\n",
              "    <tr>\n",
              "      <th>12</th>\n",
              "      <td>штангист</td>\n",
              "      <td>сильный</td>\n",
              "      <td>[0, 0, 0, 0, 0, 0, 0, 0, 0, 0, 0, 1, 0]</td>\n",
              "      <td>[0, 0, 0, 0, 0, 0, 0, 0, 0, 1, 0, 0, 0]</td>\n",
              "    </tr>\n",
              "    <tr>\n",
              "      <th>13</th>\n",
              "      <td>штангист</td>\n",
              "      <td>мужчина</td>\n",
              "      <td>[0, 0, 0, 0, 0, 0, 0, 0, 0, 0, 0, 1, 0]</td>\n",
              "      <td>[0, 0, 0, 0, 0, 0, 0, 0, 1, 0, 0, 0, 0]</td>\n",
              "    </tr>\n",
              "    <tr>\n",
              "      <th>14</th>\n",
              "      <td>сильный</td>\n",
              "      <td>штангист</td>\n",
              "      <td>[0, 0, 0, 0, 0, 0, 0, 0, 0, 1, 0, 0, 0]</td>\n",
              "      <td>[0, 0, 0, 0, 0, 0, 0, 0, 0, 0, 0, 1, 0]</td>\n",
              "    </tr>\n",
              "    <tr>\n",
              "      <th>15</th>\n",
              "      <td>сильный</td>\n",
              "      <td>мужчина</td>\n",
              "      <td>[0, 0, 0, 0, 0, 0, 0, 0, 0, 1, 0, 0, 0]</td>\n",
              "      <td>[0, 0, 0, 0, 0, 0, 0, 0, 1, 0, 0, 0, 0]</td>\n",
              "    </tr>\n",
              "    <tr>\n",
              "      <th>16</th>\n",
              "      <td>мужчина</td>\n",
              "      <td>штангист</td>\n",
              "      <td>[0, 0, 0, 0, 0, 0, 0, 0, 1, 0, 0, 0, 0]</td>\n",
              "      <td>[0, 0, 0, 0, 0, 0, 0, 0, 0, 0, 0, 1, 0]</td>\n",
              "    </tr>\n",
              "    <tr>\n",
              "      <th>17</th>\n",
              "      <td>мужчина</td>\n",
              "      <td>сильный</td>\n",
              "      <td>[0, 0, 0, 0, 0, 0, 0, 0, 1, 0, 0, 0, 0]</td>\n",
              "      <td>[0, 0, 0, 0, 0, 0, 0, 0, 0, 1, 0, 0, 0]</td>\n",
              "    </tr>\n",
              "    <tr>\n",
              "      <th>18</th>\n",
              "      <td>балерина</td>\n",
              "      <td>красивая</td>\n",
              "      <td>[1, 0, 0, 0, 0, 0, 0, 0, 0, 0, 0, 0, 0]</td>\n",
              "      <td>[0, 0, 0, 0, 0, 1, 0, 0, 0, 0, 0, 0, 0]</td>\n",
              "    </tr>\n",
              "    <tr>\n",
              "      <th>19</th>\n",
              "      <td>балерина</td>\n",
              "      <td>женщина</td>\n",
              "      <td>[1, 0, 0, 0, 0, 0, 0, 0, 0, 0, 0, 0, 0]</td>\n",
              "      <td>[0, 0, 0, 1, 0, 0, 0, 0, 0, 0, 0, 0, 0]</td>\n",
              "    </tr>\n",
              "    <tr>\n",
              "      <th>20</th>\n",
              "      <td>красивая</td>\n",
              "      <td>балерина</td>\n",
              "      <td>[0, 0, 0, 0, 0, 1, 0, 0, 0, 0, 0, 0, 0]</td>\n",
              "      <td>[1, 0, 0, 0, 0, 0, 0, 0, 0, 0, 0, 0, 0]</td>\n",
              "    </tr>\n",
              "    <tr>\n",
              "      <th>21</th>\n",
              "      <td>красивая</td>\n",
              "      <td>женщина</td>\n",
              "      <td>[0, 0, 0, 0, 0, 1, 0, 0, 0, 0, 0, 0, 0]</td>\n",
              "      <td>[0, 0, 0, 1, 0, 0, 0, 0, 0, 0, 0, 0, 0]</td>\n",
              "    </tr>\n",
              "    <tr>\n",
              "      <th>22</th>\n",
              "      <td>женщина</td>\n",
              "      <td>балерина</td>\n",
              "      <td>[0, 0, 0, 1, 0, 0, 0, 0, 0, 0, 0, 0, 0]</td>\n",
              "      <td>[1, 0, 0, 0, 0, 0, 0, 0, 0, 0, 0, 0, 0]</td>\n",
              "    </tr>\n",
              "    <tr>\n",
              "      <th>23</th>\n",
              "      <td>женщина</td>\n",
              "      <td>красивая</td>\n",
              "      <td>[0, 0, 0, 1, 0, 0, 0, 0, 0, 0, 0, 0, 0]</td>\n",
              "      <td>[0, 0, 0, 0, 0, 1, 0, 0, 0, 0, 0, 0, 0]</td>\n",
              "    </tr>\n",
              "    <tr>\n",
              "      <th>24</th>\n",
              "      <td>юниор</td>\n",
              "      <td>ловкий</td>\n",
              "      <td>[0, 0, 0, 0, 0, 0, 0, 0, 0, 0, 0, 0, 1]</td>\n",
              "      <td>[0, 0, 0, 0, 0, 0, 1, 0, 0, 0, 0, 0, 0]</td>\n",
              "    </tr>\n",
              "    <tr>\n",
              "      <th>25</th>\n",
              "      <td>юниор</td>\n",
              "      <td>штангист</td>\n",
              "      <td>[0, 0, 0, 0, 0, 0, 0, 0, 0, 0, 0, 0, 1]</td>\n",
              "      <td>[0, 0, 0, 0, 0, 0, 0, 0, 0, 0, 0, 1, 0]</td>\n",
              "    </tr>\n",
              "    <tr>\n",
              "      <th>26</th>\n",
              "      <td>ловкий</td>\n",
              "      <td>юниор</td>\n",
              "      <td>[0, 0, 0, 0, 0, 0, 1, 0, 0, 0, 0, 0, 0]</td>\n",
              "      <td>[0, 0, 0, 0, 0, 0, 0, 0, 0, 0, 0, 0, 1]</td>\n",
              "    </tr>\n",
              "    <tr>\n",
              "      <th>27</th>\n",
              "      <td>ловкий</td>\n",
              "      <td>штангист</td>\n",
              "      <td>[0, 0, 0, 0, 0, 0, 1, 0, 0, 0, 0, 0, 0]</td>\n",
              "      <td>[0, 0, 0, 0, 0, 0, 0, 0, 0, 0, 0, 1, 0]</td>\n",
              "    </tr>\n",
              "    <tr>\n",
              "      <th>28</th>\n",
              "      <td>штангист</td>\n",
              "      <td>юниор</td>\n",
              "      <td>[0, 0, 0, 0, 0, 0, 0, 0, 0, 0, 0, 1, 0]</td>\n",
              "      <td>[0, 0, 0, 0, 0, 0, 0, 0, 0, 0, 0, 0, 1]</td>\n",
              "    </tr>\n",
              "    <tr>\n",
              "      <th>29</th>\n",
              "      <td>штангист</td>\n",
              "      <td>ловкий</td>\n",
              "      <td>[0, 0, 0, 0, 0, 0, 0, 0, 0, 0, 0, 1, 0]</td>\n",
              "      <td>[0, 0, 0, 0, 0, 0, 1, 0, 0, 0, 0, 0, 0]</td>\n",
              "    </tr>\n",
              "    <tr>\n",
              "      <th>30</th>\n",
              "      <td>юниор</td>\n",
              "      <td>молодой</td>\n",
              "      <td>[0, 0, 0, 0, 0, 0, 0, 0, 0, 0, 0, 0, 1]</td>\n",
              "      <td>[0, 0, 0, 0, 0, 0, 0, 1, 0, 0, 0, 0, 0]</td>\n",
              "    </tr>\n",
              "    <tr>\n",
              "      <th>31</th>\n",
              "      <td>юниор</td>\n",
              "      <td>мужчина</td>\n",
              "      <td>[0, 0, 0, 0, 0, 0, 0, 0, 0, 0, 0, 0, 1]</td>\n",
              "      <td>[0, 0, 0, 0, 0, 0, 0, 0, 1, 0, 0, 0, 0]</td>\n",
              "    </tr>\n",
              "    <tr>\n",
              "      <th>32</th>\n",
              "      <td>молодой</td>\n",
              "      <td>юниор</td>\n",
              "      <td>[0, 0, 0, 0, 0, 0, 0, 1, 0, 0, 0, 0, 0]</td>\n",
              "      <td>[0, 0, 0, 0, 0, 0, 0, 0, 0, 0, 0, 0, 1]</td>\n",
              "    </tr>\n",
              "    <tr>\n",
              "      <th>33</th>\n",
              "      <td>молодой</td>\n",
              "      <td>мужчина</td>\n",
              "      <td>[0, 0, 0, 0, 0, 0, 0, 1, 0, 0, 0, 0, 0]</td>\n",
              "      <td>[0, 0, 0, 0, 0, 0, 0, 0, 1, 0, 0, 0, 0]</td>\n",
              "    </tr>\n",
              "    <tr>\n",
              "      <th>34</th>\n",
              "      <td>мужчина</td>\n",
              "      <td>юниор</td>\n",
              "      <td>[0, 0, 0, 0, 0, 0, 0, 0, 1, 0, 0, 0, 0]</td>\n",
              "      <td>[0, 0, 0, 0, 0, 0, 0, 0, 0, 0, 0, 0, 1]</td>\n",
              "    </tr>\n",
              "    <tr>\n",
              "      <th>35</th>\n",
              "      <td>мужчина</td>\n",
              "      <td>молодой</td>\n",
              "      <td>[0, 0, 0, 0, 0, 0, 0, 0, 1, 0, 0, 0, 0]</td>\n",
              "      <td>[0, 0, 0, 0, 0, 0, 0, 1, 0, 0, 0, 0, 0]</td>\n",
              "    </tr>\n",
              "    <tr>\n",
              "      <th>36</th>\n",
              "      <td>девочку</td>\n",
              "      <td>учит</td>\n",
              "      <td>[0, 0, 1, 0, 0, 0, 0, 0, 0, 0, 0, 0, 0]</td>\n",
              "      <td>[0, 0, 0, 0, 0, 0, 0, 0, 0, 0, 1, 0, 0]</td>\n",
              "    </tr>\n",
              "    <tr>\n",
              "      <th>37</th>\n",
              "      <td>девочку</td>\n",
              "      <td>балерина</td>\n",
              "      <td>[0, 0, 1, 0, 0, 0, 0, 0, 0, 0, 0, 0, 0]</td>\n",
              "      <td>[1, 0, 0, 0, 0, 0, 0, 0, 0, 0, 0, 0, 0]</td>\n",
              "    </tr>\n",
              "    <tr>\n",
              "      <th>38</th>\n",
              "      <td>учит</td>\n",
              "      <td>девочку</td>\n",
              "      <td>[0, 0, 0, 0, 0, 0, 0, 0, 0, 0, 1, 0, 0]</td>\n",
              "      <td>[0, 0, 1, 0, 0, 0, 0, 0, 0, 0, 0, 0, 0]</td>\n",
              "    </tr>\n",
              "    <tr>\n",
              "      <th>39</th>\n",
              "      <td>учит</td>\n",
              "      <td>балерина</td>\n",
              "      <td>[0, 0, 0, 0, 0, 0, 0, 0, 0, 0, 1, 0, 0]</td>\n",
              "      <td>[1, 0, 0, 0, 0, 0, 0, 0, 0, 0, 0, 0, 0]</td>\n",
              "    </tr>\n",
              "    <tr>\n",
              "      <th>40</th>\n",
              "      <td>балерина</td>\n",
              "      <td>девочку</td>\n",
              "      <td>[1, 0, 0, 0, 0, 0, 0, 0, 0, 0, 0, 0, 0]</td>\n",
              "      <td>[0, 0, 1, 0, 0, 0, 0, 0, 0, 0, 0, 0, 0]</td>\n",
              "    </tr>\n",
              "    <tr>\n",
              "      <th>41</th>\n",
              "      <td>балерина</td>\n",
              "      <td>учит</td>\n",
              "      <td>[1, 0, 0, 0, 0, 0, 0, 0, 0, 0, 0, 0, 0]</td>\n",
              "      <td>[0, 0, 0, 0, 0, 0, 0, 0, 0, 0, 1, 0, 0]</td>\n",
              "    </tr>\n",
              "  </tbody>\n",
              "</table>\n",
              "</div>"
            ],
            "text/plain": [
              "          input        label                                  X_train                                  Y_train\n",
              "0      балерина  вдохновляет  [1, 0, 0, 0, 0, 0, 0, 0, 0, 0, 0, 0, 0]  [0, 1, 0, 0, 0, 0, 0, 0, 0, 0, 0, 0, 0]\n",
              "1      балерина      девочку  [1, 0, 0, 0, 0, 0, 0, 0, 0, 0, 0, 0, 0]  [0, 0, 1, 0, 0, 0, 0, 0, 0, 0, 0, 0, 0]\n",
              "2   вдохновляет     балерина  [0, 1, 0, 0, 0, 0, 0, 0, 0, 0, 0, 0, 0]  [1, 0, 0, 0, 0, 0, 0, 0, 0, 0, 0, 0, 0]\n",
              "3   вдохновляет      девочку  [0, 1, 0, 0, 0, 0, 0, 0, 0, 0, 0, 0, 0]  [0, 0, 1, 0, 0, 0, 0, 0, 0, 0, 0, 0, 0]\n",
              "4       девочку     балерина  [0, 0, 1, 0, 0, 0, 0, 0, 0, 0, 0, 0, 0]  [1, 0, 0, 0, 0, 0, 0, 0, 0, 0, 0, 0, 0]\n",
              "5       девочку  вдохновляет  [0, 0, 1, 0, 0, 0, 0, 0, 0, 0, 0, 0, 0]  [0, 1, 0, 0, 0, 0, 0, 0, 0, 0, 0, 0, 0]\n",
              "6        кичлам      сильный  [0, 0, 0, 0, 1, 0, 0, 0, 0, 0, 0, 0, 0]  [0, 0, 0, 0, 0, 0, 0, 0, 0, 1, 0, 0, 0]\n",
              "7        кичлам       ловкий  [0, 0, 0, 0, 1, 0, 0, 0, 0, 0, 0, 0, 0]  [0, 0, 0, 0, 0, 0, 1, 0, 0, 0, 0, 0, 0]\n",
              "8       сильный       кичлам  [0, 0, 0, 0, 0, 0, 0, 0, 0, 1, 0, 0, 0]  [0, 0, 0, 0, 1, 0, 0, 0, 0, 0, 0, 0, 0]\n",
              "9       сильный       ловкий  [0, 0, 0, 0, 0, 0, 0, 0, 0, 1, 0, 0, 0]  [0, 0, 0, 0, 0, 0, 1, 0, 0, 0, 0, 0, 0]\n",
              "10       ловкий       кичлам  [0, 0, 0, 0, 0, 0, 1, 0, 0, 0, 0, 0, 0]  [0, 0, 0, 0, 1, 0, 0, 0, 0, 0, 0, 0, 0]\n",
              "11       ловкий      сильный  [0, 0, 0, 0, 0, 0, 1, 0, 0, 0, 0, 0, 0]  [0, 0, 0, 0, 0, 0, 0, 0, 0, 1, 0, 0, 0]\n",
              "12     штангист      сильный  [0, 0, 0, 0, 0, 0, 0, 0, 0, 0, 0, 1, 0]  [0, 0, 0, 0, 0, 0, 0, 0, 0, 1, 0, 0, 0]\n",
              "13     штангист      мужчина  [0, 0, 0, 0, 0, 0, 0, 0, 0, 0, 0, 1, 0]  [0, 0, 0, 0, 0, 0, 0, 0, 1, 0, 0, 0, 0]\n",
              "14      сильный     штангист  [0, 0, 0, 0, 0, 0, 0, 0, 0, 1, 0, 0, 0]  [0, 0, 0, 0, 0, 0, 0, 0, 0, 0, 0, 1, 0]\n",
              "15      сильный      мужчина  [0, 0, 0, 0, 0, 0, 0, 0, 0, 1, 0, 0, 0]  [0, 0, 0, 0, 0, 0, 0, 0, 1, 0, 0, 0, 0]\n",
              "16      мужчина     штангист  [0, 0, 0, 0, 0, 0, 0, 0, 1, 0, 0, 0, 0]  [0, 0, 0, 0, 0, 0, 0, 0, 0, 0, 0, 1, 0]\n",
              "17      мужчина      сильный  [0, 0, 0, 0, 0, 0, 0, 0, 1, 0, 0, 0, 0]  [0, 0, 0, 0, 0, 0, 0, 0, 0, 1, 0, 0, 0]\n",
              "18     балерина     красивая  [1, 0, 0, 0, 0, 0, 0, 0, 0, 0, 0, 0, 0]  [0, 0, 0, 0, 0, 1, 0, 0, 0, 0, 0, 0, 0]\n",
              "19     балерина      женщина  [1, 0, 0, 0, 0, 0, 0, 0, 0, 0, 0, 0, 0]  [0, 0, 0, 1, 0, 0, 0, 0, 0, 0, 0, 0, 0]\n",
              "20     красивая     балерина  [0, 0, 0, 0, 0, 1, 0, 0, 0, 0, 0, 0, 0]  [1, 0, 0, 0, 0, 0, 0, 0, 0, 0, 0, 0, 0]\n",
              "21     красивая      женщина  [0, 0, 0, 0, 0, 1, 0, 0, 0, 0, 0, 0, 0]  [0, 0, 0, 1, 0, 0, 0, 0, 0, 0, 0, 0, 0]\n",
              "22      женщина     балерина  [0, 0, 0, 1, 0, 0, 0, 0, 0, 0, 0, 0, 0]  [1, 0, 0, 0, 0, 0, 0, 0, 0, 0, 0, 0, 0]\n",
              "23      женщина     красивая  [0, 0, 0, 1, 0, 0, 0, 0, 0, 0, 0, 0, 0]  [0, 0, 0, 0, 0, 1, 0, 0, 0, 0, 0, 0, 0]\n",
              "24        юниор       ловкий  [0, 0, 0, 0, 0, 0, 0, 0, 0, 0, 0, 0, 1]  [0, 0, 0, 0, 0, 0, 1, 0, 0, 0, 0, 0, 0]\n",
              "25        юниор     штангист  [0, 0, 0, 0, 0, 0, 0, 0, 0, 0, 0, 0, 1]  [0, 0, 0, 0, 0, 0, 0, 0, 0, 0, 0, 1, 0]\n",
              "26       ловкий        юниор  [0, 0, 0, 0, 0, 0, 1, 0, 0, 0, 0, 0, 0]  [0, 0, 0, 0, 0, 0, 0, 0, 0, 0, 0, 0, 1]\n",
              "27       ловкий     штангист  [0, 0, 0, 0, 0, 0, 1, 0, 0, 0, 0, 0, 0]  [0, 0, 0, 0, 0, 0, 0, 0, 0, 0, 0, 1, 0]\n",
              "28     штангист        юниор  [0, 0, 0, 0, 0, 0, 0, 0, 0, 0, 0, 1, 0]  [0, 0, 0, 0, 0, 0, 0, 0, 0, 0, 0, 0, 1]\n",
              "29     штангист       ловкий  [0, 0, 0, 0, 0, 0, 0, 0, 0, 0, 0, 1, 0]  [0, 0, 0, 0, 0, 0, 1, 0, 0, 0, 0, 0, 0]\n",
              "30        юниор      молодой  [0, 0, 0, 0, 0, 0, 0, 0, 0, 0, 0, 0, 1]  [0, 0, 0, 0, 0, 0, 0, 1, 0, 0, 0, 0, 0]\n",
              "31        юниор      мужчина  [0, 0, 0, 0, 0, 0, 0, 0, 0, 0, 0, 0, 1]  [0, 0, 0, 0, 0, 0, 0, 0, 1, 0, 0, 0, 0]\n",
              "32      молодой        юниор  [0, 0, 0, 0, 0, 0, 0, 1, 0, 0, 0, 0, 0]  [0, 0, 0, 0, 0, 0, 0, 0, 0, 0, 0, 0, 1]\n",
              "33      молодой      мужчина  [0, 0, 0, 0, 0, 0, 0, 1, 0, 0, 0, 0, 0]  [0, 0, 0, 0, 0, 0, 0, 0, 1, 0, 0, 0, 0]\n",
              "34      мужчина        юниор  [0, 0, 0, 0, 0, 0, 0, 0, 1, 0, 0, 0, 0]  [0, 0, 0, 0, 0, 0, 0, 0, 0, 0, 0, 0, 1]\n",
              "35      мужчина      молодой  [0, 0, 0, 0, 0, 0, 0, 0, 1, 0, 0, 0, 0]  [0, 0, 0, 0, 0, 0, 0, 1, 0, 0, 0, 0, 0]\n",
              "36      девочку         учит  [0, 0, 1, 0, 0, 0, 0, 0, 0, 0, 0, 0, 0]  [0, 0, 0, 0, 0, 0, 0, 0, 0, 0, 1, 0, 0]\n",
              "37      девочку     балерина  [0, 0, 1, 0, 0, 0, 0, 0, 0, 0, 0, 0, 0]  [1, 0, 0, 0, 0, 0, 0, 0, 0, 0, 0, 0, 0]\n",
              "38         учит      девочку  [0, 0, 0, 0, 0, 0, 0, 0, 0, 0, 1, 0, 0]  [0, 0, 1, 0, 0, 0, 0, 0, 0, 0, 0, 0, 0]\n",
              "39         учит     балерина  [0, 0, 0, 0, 0, 0, 0, 0, 0, 0, 1, 0, 0]  [1, 0, 0, 0, 0, 0, 0, 0, 0, 0, 0, 0, 0]\n",
              "40     балерина      девочку  [1, 0, 0, 0, 0, 0, 0, 0, 0, 0, 0, 0, 0]  [0, 0, 1, 0, 0, 0, 0, 0, 0, 0, 0, 0, 0]\n",
              "41     балерина         учит  [1, 0, 0, 0, 0, 0, 0, 0, 0, 0, 0, 0, 0]  [0, 0, 0, 0, 0, 0, 0, 0, 0, 0, 1, 0, 0]"
            ]
          },
          "metadata": {
            "tags": []
          },
          "execution_count": 108
        }
      ]
    },
    {
      "cell_type": "code",
      "metadata": {
        "id": "urn0g1ybMd98"
      },
      "source": [
        ""
      ],
      "execution_count": null,
      "outputs": []
    },
    {
      "cell_type": "code",
      "metadata": {
        "id": "t9IWU6j-AjeP"
      },
      "source": [
        "# model.get_weights()\r\n",
        "# model.weights"
      ],
      "execution_count": null,
      "outputs": []
    },
    {
      "cell_type": "code",
      "metadata": {
        "colab": {
          "base_uri": "https://localhost:8080/"
        },
        "id": "qHpvXzO8AkFP",
        "outputId": "23565923-fe79-4930-8934-1c4813fdd63e"
      },
      "source": [
        "# # https://ai-pool.com/d/how-to-get-the-weights-of-keras-model-\r\n",
        "# for layer in model.layers:\r\n",
        "#     weights = layer.get_weights() # list\r\n",
        "\r\n",
        "# from keras.models import Sequential\r\n",
        "# model = Sequential()\r\n",
        "# weights = model.get_weights() # returs a numpy list of weights  \r\n",
        "\r\n",
        "\r\n"
      ],
      "execution_count": null,
      "outputs": [
        {
          "output_type": "stream",
          "text": [
            "WEIGHT MATRICES:\n",
            "(13, 2)\n",
            "[[ 1.0908686  -3.8614712 ]\n",
            " [-2.0932245  -2.4768493 ]\n",
            " [ 0.05848308 -3.9837399 ]\n",
            " [-0.69571817 -1.8264005 ]\n",
            " [ 0.06139259  2.4187555 ]\n",
            " [ 0.21810865 -2.3058703 ]\n",
            " [-0.195345    2.7684455 ]\n",
            " [-0.32613984  2.627697  ]\n",
            " [-0.36819074  2.0505943 ]\n",
            " [ 2.9649143   3.8852904 ]\n",
            " [-2.171909   -2.6725817 ]\n",
            " [-0.10905603  3.212555  ]\n",
            " [ 3.783006    2.3649342 ]]\n",
            "(2, 13)\n",
            "[[-1.0910298  -0.20335923 -0.77504194 -0.14728546 -0.27161163 -0.5165059\n",
            "  -0.04192287 -0.16898973 -0.11246257 -1.077816   -0.2272063  -0.10982116\n",
            "  -1.384358  ]\n",
            " [-1.1827911  -1.1717293  -1.2390883  -1.0954163  -0.5313365  -1.045478\n",
            "  -0.5439063  -0.6991474  -0.5016938  -0.33616525 -1.1597201  -0.57648337\n",
            "  -0.22885957]]\n",
            "\n",
            "\n",
            "BIASES:\n",
            "(2,)\n",
            "<tf.Variable 'dense_4/bias:0' shape=(2,) dtype=float32, numpy=array([ 0.36253867, -0.14238505], dtype=float32)>\n",
            "(13,)\n",
            "<tf.Variable 'dense_5/bias:0' shape=(13,) dtype=float32, numpy=\n",
            "array([-1.4382412, -3.0023923, -2.0947149, -2.9319131, -2.945031 ,\n",
            "       -2.6165698, -2.311488 , -2.7911346, -2.3033519, -1.933522 ,\n",
            "       -2.9643903, -2.1852207, -2.1292443], dtype=float32)>\n"
          ],
          "name": "stdout"
        }
      ]
    },
    {
      "cell_type": "code",
      "metadata": {
        "colab": {
          "base_uri": "https://localhost:8080/"
        },
        "id": "Cd-sHW8f8kjG",
        "outputId": "0fdca638-99cd-45ff-f907-c62b7fca09a8"
      },
      "source": [
        "W0=(model.layers[0].get_weights()[0])\r\n",
        "W1=(model.layers[1].get_weights()[0])\r\n",
        "# print(\"W0=\",W0)\r\n",
        "# print(\"W1=\",W1)\r\n",
        "print(\"W0=\",np.round(W0,1))\r\n",
        "print(\"W1=\",np.round(W1,1))\r\n",
        "\r\n",
        "b0 = np.asarray(model.layers[0].bias).astype(float)\r\n",
        "b1 = np.asarray(model.layers[1].bias).astype(float)\r\n",
        "# print(\"b0=\",b0)\r\n",
        "# print(\"b1=\",b1)\r\n",
        "print(\"b0=\",np.round(b0,1))\r\n",
        "print(\"b1=\",np.round(b1,1))\r\n"
      ],
      "execution_count": null,
      "outputs": [
        {
          "output_type": "stream",
          "text": [
            "W0= [[ 1.1 -3.9]\n",
            " [-2.1 -2.5]\n",
            " [ 0.1 -4. ]\n",
            " [-0.7 -1.8]\n",
            " [ 0.1  2.4]\n",
            " [ 0.2 -2.3]\n",
            " [-0.2  2.8]\n",
            " [-0.3  2.6]\n",
            " [-0.4  2.1]\n",
            " [ 3.   3.9]\n",
            " [-2.2 -2.7]\n",
            " [-0.1  3.2]\n",
            " [ 3.8  2.4]]\n",
            "W1= [[-1.1 -0.2 -0.8 -0.1 -0.3 -0.5 -0.  -0.2 -0.1 -1.1 -0.2 -0.1 -1.4]\n",
            " [-1.2 -1.2 -1.2 -1.1 -0.5 -1.  -0.5 -0.7 -0.5 -0.3 -1.2 -0.6 -0.2]]\n",
            "b0= [ 0.4 -0.1]\n",
            "b1= [-1.4 -3.  -2.1 -2.9 -2.9 -2.6 -2.3 -2.8 -2.3 -1.9 -3.  -2.2 -2.1]\n"
          ],
          "name": "stdout"
        }
      ]
    },
    {
      "cell_type": "code",
      "metadata": {
        "id": "m3g6rhhr5QUW"
      },
      "source": [
        "# bias.value\r\n",
        "# W0"
      ],
      "execution_count": null,
      "outputs": []
    },
    {
      "cell_type": "code",
      "metadata": {
        "colab": {
          "base_uri": "https://localhost:8080/",
          "height": 452
        },
        "id": "is780fIY5Qp1",
        "outputId": "fad2954a-95ce-4c29-8886-747ea5ff34b5"
      },
      "source": [
        "# d2 = pd.DataFrame(  model.weights[0].numpy(),  columns = ['x1', 'x2'] )\r\n",
        "d2 = pd.DataFrame(  np.round(W0,1),  columns = ['x1', 'x2'] )\r\n",
        "w2v_df = pd.concat( [w2idx,d2],axis=1 )\r\n",
        "w2v_df[['word',\t'x1',\t'x2']]"
      ],
      "execution_count": null,
      "outputs": [
        {
          "output_type": "execute_result",
          "data": {
            "text/html": [
              "<div>\n",
              "<style scoped>\n",
              "    .dataframe tbody tr th:only-of-type {\n",
              "        vertical-align: middle;\n",
              "    }\n",
              "\n",
              "    .dataframe tbody tr th {\n",
              "        vertical-align: top;\n",
              "    }\n",
              "\n",
              "    .dataframe thead th {\n",
              "        text-align: right;\n",
              "    }\n",
              "</style>\n",
              "<table border=\"1\" class=\"dataframe\">\n",
              "  <thead>\n",
              "    <tr style=\"text-align: right;\">\n",
              "      <th></th>\n",
              "      <th>word</th>\n",
              "      <th>x1</th>\n",
              "      <th>x2</th>\n",
              "    </tr>\n",
              "  </thead>\n",
              "  <tbody>\n",
              "    <tr>\n",
              "      <th>0</th>\n",
              "      <td>балерина</td>\n",
              "      <td>1.1</td>\n",
              "      <td>-3.9</td>\n",
              "    </tr>\n",
              "    <tr>\n",
              "      <th>1</th>\n",
              "      <td>вдохновляет</td>\n",
              "      <td>-2.1</td>\n",
              "      <td>-2.5</td>\n",
              "    </tr>\n",
              "    <tr>\n",
              "      <th>2</th>\n",
              "      <td>девочку</td>\n",
              "      <td>0.1</td>\n",
              "      <td>-4.0</td>\n",
              "    </tr>\n",
              "    <tr>\n",
              "      <th>3</th>\n",
              "      <td>женщина</td>\n",
              "      <td>-0.7</td>\n",
              "      <td>-1.8</td>\n",
              "    </tr>\n",
              "    <tr>\n",
              "      <th>4</th>\n",
              "      <td>кичлам</td>\n",
              "      <td>0.1</td>\n",
              "      <td>2.4</td>\n",
              "    </tr>\n",
              "    <tr>\n",
              "      <th>5</th>\n",
              "      <td>красивая</td>\n",
              "      <td>0.2</td>\n",
              "      <td>-2.3</td>\n",
              "    </tr>\n",
              "    <tr>\n",
              "      <th>6</th>\n",
              "      <td>ловкий</td>\n",
              "      <td>-0.2</td>\n",
              "      <td>2.8</td>\n",
              "    </tr>\n",
              "    <tr>\n",
              "      <th>7</th>\n",
              "      <td>молодой</td>\n",
              "      <td>-0.3</td>\n",
              "      <td>2.6</td>\n",
              "    </tr>\n",
              "    <tr>\n",
              "      <th>8</th>\n",
              "      <td>мужчина</td>\n",
              "      <td>-0.4</td>\n",
              "      <td>2.1</td>\n",
              "    </tr>\n",
              "    <tr>\n",
              "      <th>9</th>\n",
              "      <td>сильный</td>\n",
              "      <td>3.0</td>\n",
              "      <td>3.9</td>\n",
              "    </tr>\n",
              "    <tr>\n",
              "      <th>10</th>\n",
              "      <td>учит</td>\n",
              "      <td>-2.2</td>\n",
              "      <td>-2.7</td>\n",
              "    </tr>\n",
              "    <tr>\n",
              "      <th>11</th>\n",
              "      <td>штангист</td>\n",
              "      <td>-0.1</td>\n",
              "      <td>3.2</td>\n",
              "    </tr>\n",
              "    <tr>\n",
              "      <th>12</th>\n",
              "      <td>юниор</td>\n",
              "      <td>3.8</td>\n",
              "      <td>2.4</td>\n",
              "    </tr>\n",
              "  </tbody>\n",
              "</table>\n",
              "</div>"
            ],
            "text/plain": [
              "           word   x1   x2\n",
              "0      балерина  1.1 -3.9\n",
              "1   вдохновляет -2.1 -2.5\n",
              "2       девочку  0.1 -4.0\n",
              "3       женщина -0.7 -1.8\n",
              "4        кичлам  0.1  2.4\n",
              "5      красивая  0.2 -2.3\n",
              "6        ловкий -0.2  2.8\n",
              "7       молодой -0.3  2.6\n",
              "8       мужчина -0.4  2.1\n",
              "9       сильный  3.0  3.9\n",
              "10         учит -2.2 -2.7\n",
              "11     штангист -0.1  3.2\n",
              "12        юниор  3.8  2.4"
            ]
          },
          "metadata": {
            "tags": []
          },
          "execution_count": 89
        }
      ]
    },
    {
      "cell_type": "code",
      "metadata": {
        "colab": {
          "base_uri": "https://localhost:8080/"
        },
        "id": "Zb9GrWES5Q0_",
        "outputId": "51365abf-0c1a-4454-e98e-26246a8999d4"
      },
      "source": [
        "X_train[0].astype(int)\r\n"
      ],
      "execution_count": null,
      "outputs": [
        {
          "output_type": "execute_result",
          "data": {
            "text/plain": [
              "array([1, 0, 0, 0, 0, 0, 0, 0, 0, 0, 0, 0, 0])"
            ]
          },
          "metadata": {
            "tags": []
          },
          "execution_count": 57
        }
      ]
    },
    {
      "cell_type": "code",
      "metadata": {
        "colab": {
          "base_uri": "https://localhost:8080/"
        },
        "id": "cvPQy-gxvBv-",
        "outputId": "b99e9aab-3b91-45bf-e6d3-a4eb14775a3a"
      },
      "source": [
        "import math\r\n",
        "def sigmoid(x):\r\n",
        "  return 1 / (1 + math.exp(-x))\r\n",
        "\r\n",
        "def nearby_vectors(u,v, sign=1):\r\n",
        "  uv = np.dot(u,v)\r\n",
        "  siguv = sigmoid(sign*uv)\r\n",
        "  logsiguv = np.log(siguv)\r\n",
        "  print( 'u=',u,  '  v=',v)\r\n",
        "  if sign==1:\r\n",
        "      print( f'uv={np.round(uv,1)}, sig(uv)={siguv}, log(sig(uv))={logsiguv}')\r\n",
        "  if sign == -1:\r\n",
        "      print( f'uv={np.round(uv,1)}, sig(-uv)={siguv}, log(sig(-uv))={logsiguv}')\r\n",
        "  return uv, siguv, logsiguv\r\n",
        "\r\n",
        "x=np.array([1.1, -3.9])  # балерина\r\n",
        "y=np.array([0.1, -4])    # девочку\r\n",
        "\r\n",
        "noise_x = np.array([ [-0.1,3.2], [-0.2,2.8]  ])\r\n",
        "xn0 = noise_x[0]\r\n",
        "\r\n",
        "print('GOOD SOLUTION:')\r\n",
        "nearby_vectors(x,y)\r\n",
        "nearby_vectors(x, xn0, sign=-1)\r\n",
        "\r\n",
        "print('\\nBAD SOLUTION:')\r\n",
        "nearby_vectors(x,y,-1)\r\n",
        "nearby_vectors(x, xn0, sign=1)\r\n",
        "a=2"
      ],
      "execution_count": null,
      "outputs": [
        {
          "output_type": "stream",
          "text": [
            "GOOD SOLUTION:\n",
            "u= [ 1.1 -3.9]   v= [ 0.1 -4. ]\n",
            "uv=15.7, sig(uv)=0.9999998496049218, log(sig(uv))=-1.5039508947828205e-07\n",
            "u= [ 1.1 -3.9]   v= [-0.1  3.2]\n",
            "uv=-12.6, sig(-uv)=0.9999965941070496, log(sig(-uv))=-3.405898750514251e-06\n",
            "\n",
            "BAD SOLUTION:\n",
            "u= [ 1.1 -3.9]   v= [ 0.1 -4. ]\n",
            "uv=15.7, sig(-uv)=1.5039507824588425e-07, log(sig(-uv))=-15.71000015039509\n",
            "u= [ 1.1 -3.9]   v= [-0.1  3.2]\n",
            "uv=-12.6, sig(uv)=3.405892950506343e-06, log(sig(uv))=-12.59000340589875\n"
          ],
          "name": "stdout"
        }
      ]
    },
    {
      "cell_type": "code",
      "metadata": {
        "id": "PHB0NtbI3h6_"
      },
      "source": [
        "# import nltk\r\n",
        "# from nltk import tokenize\r\n",
        "# tokenize.sent_tokenize(p)\r\n",
        "\r\n"
      ],
      "execution_count": null,
      "outputs": []
    },
    {
      "cell_type": "code",
      "metadata": {
        "id": "qDIVf2_43ij7"
      },
      "source": [
        ""
      ],
      "execution_count": null,
      "outputs": []
    },
    {
      "cell_type": "code",
      "metadata": {
        "id": "n2GzxQtU3irP"
      },
      "source": [
        ""
      ],
      "execution_count": null,
      "outputs": []
    },
    {
      "cell_type": "code",
      "metadata": {
        "colab": {
          "base_uri": "https://localhost:8080/"
        },
        "id": "OwS_Zz-avZgt",
        "outputId": "4c58ccca-5b1f-4369-a1ac-92454e528790"
      },
      "source": [
        "np.asarray(w2v_df['word'])"
      ],
      "execution_count": null,
      "outputs": [
        {
          "output_type": "execute_result",
          "data": {
            "text/plain": [
              "array(['queen', 'woman', 'wise', 'boy', 'strong', 'prince', 'pretty',\n",
              "       'man', 'king', 'princess', 'girl', 'young'], dtype=object)"
            ]
          },
          "metadata": {
            "tags": []
          },
          "execution_count": 22
        }
      ]
    },
    {
      "cell_type": "code",
      "metadata": {
        "colab": {
          "base_uri": "https://localhost:8080/"
        },
        "id": "Drthxt_PjHoY",
        "outputId": "9df75408-f124-48bb-d30c-a40addfe80c4"
      },
      "source": [
        "# [(x, y) for x in [1,2,3] for y in [3,1,4] if x != y]\r\n",
        "sentences = []\r\n",
        "for sentence in corpus:\r\n",
        "    sentences.append(sentence.split())\r\n",
        "sentences\r\n"
      ],
      "execution_count": null,
      "outputs": [
        {
          "output_type": "execute_result",
          "data": {
            "text/plain": [
              "[['king', 'strong', 'man'],\n",
              " ['queen', 'wise', 'woman'],\n",
              " ['boy', 'young', 'man'],\n",
              " ['girl', 'young', 'woman'],\n",
              " ['prince', 'young', 'king'],\n",
              " ['princess', 'young', 'queen'],\n",
              " ['man', 'strong'],\n",
              " ['woman', 'pretty'],\n",
              " ['prince', 'boy', 'king'],\n",
              " ['princess', 'girl', 'queen']]"
            ]
          },
          "metadata": {
            "tags": []
          },
          "execution_count": 48
        }
      ]
    },
    {
      "cell_type": "code",
      "metadata": {
        "colab": {
          "base_uri": "https://localhost:8080/"
        },
        "id": "SrKR0SmM0fEP",
        "outputId": "7a656524-dd86-4cbe-c8e4-a80c0750c29b"
      },
      "source": [
        "\r\n",
        "sentences"
      ],
      "execution_count": null,
      "outputs": [
        {
          "output_type": "execute_result",
          "data": {
            "text/plain": [
              "[['king', 'strong', 'man'],\n",
              " ['queen', 'wise', 'woman'],\n",
              " ['boy', 'young', 'man'],\n",
              " ['girl', 'young', 'woman'],\n",
              " ['prince', 'young', 'king'],\n",
              " ['princess', 'young', 'queen'],\n",
              " ['man', 'strong'],\n",
              " ['woman', 'pretty'],\n",
              " ['prince', 'boy', 'king'],\n",
              " ['princess', 'girl', 'queen']]"
            ]
          },
          "metadata": {
            "tags": []
          },
          "execution_count": 50
        }
      ]
    },
    {
      "cell_type": "code",
      "metadata": {
        "colab": {
          "base_uri": "https://localhost:8080/"
        },
        "id": "FVZDz0Kw0gAa",
        "outputId": "45d7fb53-d9a0-4ac8-e67c-18dfbf0ffb62"
      },
      "source": [
        "layer.bias"
      ],
      "execution_count": null,
      "outputs": [
        {
          "output_type": "execute_result",
          "data": {
            "text/plain": [
              "<tf.Variable 'dense_9/bias:0' shape=(12,) dtype=float32, numpy=\n",
              "array([-3.2867498, -5.0678787, -3.9071274, -3.654713 , -2.8057609,\n",
              "       -2.935007 , -2.2635174, -4.059876 , -2.541485 , -3.355741 ,\n",
              "       -2.9069571, -2.9273875], dtype=float32)>"
            ]
          },
          "metadata": {
            "tags": []
          },
          "execution_count": 90
        }
      ]
    },
    {
      "cell_type": "code",
      "metadata": {
        "colab": {
          "base_uri": "https://localhost:8080/"
        },
        "id": "tnPgzhesjrQ3",
        "outputId": "3041e083-397d-4d3a-d18e-e1116cc29f28"
      },
      "source": [
        ""
      ],
      "execution_count": null,
      "outputs": [
        {
          "output_type": "execute_result",
          "data": {
            "text/plain": [
              "{'boy',\n",
              " 'girl',\n",
              " 'king',\n",
              " 'man',\n",
              " 'pretty',\n",
              " 'prince',\n",
              " 'princess',\n",
              " 'queen',\n",
              " 'strong',\n",
              " 'wise',\n",
              " 'woman',\n",
              " 'young'}"
            ]
          },
          "metadata": {
            "tags": []
          },
          "execution_count": 18
        }
      ]
    },
    {
      "cell_type": "code",
      "metadata": {
        "id": "FIRibIKak3JK"
      },
      "source": [
        ""
      ],
      "execution_count": null,
      "outputs": []
    },
    {
      "cell_type": "code",
      "metadata": {
        "colab": {
          "base_uri": "https://localhost:8080/"
        },
        "id": "f9Z3eU7xtvXH",
        "outputId": "f4a1fd77-604d-45fa-8585-13644a96a8e5"
      },
      "source": [
        "ww"
      ],
      "execution_count": null,
      "outputs": [
        {
          "output_type": "execute_result",
          "data": {
            "text/plain": [
              "{'boy',\n",
              " 'girl',\n",
              " 'king',\n",
              " 'man',\n",
              " 'pretty',\n",
              " 'prince',\n",
              " 'princess',\n",
              " 'queen',\n",
              " 'strong',\n",
              " 'wise',\n",
              " 'woman',\n",
              " 'young'}"
            ]
          },
          "metadata": {
            "tags": []
          },
          "execution_count": 25
        }
      ]
    },
    {
      "cell_type": "code",
      "metadata": {
        "colab": {
          "base_uri": "https://localhost:8080/"
        },
        "id": "Nq4QICrBvjpk",
        "outputId": "dc971b0e-031b-461c-f47d-99f2244cc8b4"
      },
      "source": [
        "ww=set();\r\n",
        "[ww.union((set(ss))) for ss in [s.split(' ') for s in corpus]]"
      ],
      "execution_count": null,
      "outputs": [
        {
          "output_type": "execute_result",
          "data": {
            "text/plain": [
              "[{'king', 'man', 'strong'},\n",
              " {'queen', 'wise', 'woman'},\n",
              " {'boy', 'man', 'young'},\n",
              " {'girl', 'woman', 'young'},\n",
              " {'king', 'prince', 'young'},\n",
              " {'princess', 'queen', 'young'},\n",
              " {'man', 'strong'},\n",
              " {'pretty', 'woman'},\n",
              " {'boy', 'king', 'prince'},\n",
              " {'girl', 'princess', 'queen'}]"
            ]
          },
          "metadata": {
            "tags": []
          },
          "execution_count": 29
        }
      ]
    },
    {
      "cell_type": "code",
      "metadata": {
        "id": "lMetuP1pvpSD"
      },
      "source": [
        ""
      ],
      "execution_count": null,
      "outputs": []
    },
    {
      "cell_type": "code",
      "metadata": {
        "colab": {
          "base_uri": "https://localhost:8080/"
        },
        "id": "hmw7GCIA8faT",
        "outputId": "8a8e3548-d605-4053-8a93-1c71a251afbb"
      },
      "source": [
        "np.round(np.matmul(W0,W1), 1)"
      ],
      "execution_count": null,
      "outputs": [
        {
          "output_type": "execute_result",
          "data": {
            "text/plain": [
              "array([[ 0.4,  1.2,  1.8,  0.9, -2. ,  1.2, -2.1, -0.7, -1.8, -0.8,  1. ,\n",
              "        -1.9, -0.4],\n",
              "       [ 2. ,  1.3,  1.2,  1.2,  0.1,  1.4, -0.1, -0.1, -0.4, -0.1,  1.3,\n",
              "        -0.2, -0.3],\n",
              "       [ 3.6,  2.3,  2. ,  2.1,  0.5,  2.3,  0. , -0.2, -0.5, -0.1,  2.3,\n",
              "        -0.1, -0.6],\n",
              "       [ 2.8,  1.9,  1.9,  1.8, -0. ,  2. , -0.4, -0.3, -0.7, -0.2,  1.9,\n",
              "        -0.4, -0.5],\n",
              "       [-0.4, -0.6, -0.8, -0.5,  0.7, -0.6,  0.7,  0.3,  0.7,  0.3, -0.5,\n",
              "         0.7,  0.2],\n",
              "       [ 2.8,  1.8,  1.5,  1.6,  0.5,  1.8,  0.1, -0.1, -0.3, -0. ,  1.8,\n",
              "        -0. , -0.4],\n",
              "       [-1.3, -1. , -1.1, -0.9,  0.3, -1.1,  0.5,  0.2,  0.6,  0.2, -1. ,\n",
              "         0.5,  0.3],\n",
              "       [-3.6, -1.9, -1.4, -1.9, -1.3, -2. , -0.8, -0.1, -0.3, -0.2, -2. ,\n",
              "        -0.6,  0.5],\n",
              "       [-4.3, -2.2, -1.6, -2.2, -1.8, -2.3, -1.2, -0.2, -0.5, -0.4, -2.3,\n",
              "        -1. ,  0.5],\n",
              "       [ 0.8, -0.6, -1.4, -0.3,  2.7, -0.7,  2.6,  0.8,  2.1,  1. , -0.4,\n",
              "         2.4,  0.2],\n",
              "       [ 1. ,  1.1,  1.3,  0.9, -0.9,  1.1, -1. , -0.4, -1. , -0.4,  1. ,\n",
              "        -1. , -0.3],\n",
              "       [-3.3, -1.9, -1.5, -1.8, -0.9, -2. , -0.5,  0. ,  0. , -0.1, -1.9,\n",
              "        -0.3,  0.5],\n",
              "       [-1.4, -1.3, -1.5, -1.1,  0.7, -1.3,  0.9,  0.4,  1. ,  0.4, -1.2,\n",
              "         0.9,  0.4]], dtype=float32)"
            ]
          },
          "metadata": {
            "tags": []
          },
          "execution_count": 73
        }
      ]
    },
    {
      "cell_type": "code",
      "metadata": {
        "id": "MA5kVZ2xTjrb"
      },
      "source": [
        ""
      ],
      "execution_count": null,
      "outputs": []
    }
  ]
}